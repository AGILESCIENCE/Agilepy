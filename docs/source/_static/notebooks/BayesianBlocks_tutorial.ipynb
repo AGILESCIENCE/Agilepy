{
 "cells": [
  {
   "cell_type": "markdown",
   "id": "2ccafd61",
   "metadata": {},
   "source": [
    "# Bayesian Blocks Analysis on a Light Curve"
   ]
  },
  {
   "cell_type": "markdown",
   "id": "db86c49f",
   "metadata": {},
   "source": [
    "General description of the algorithm and notebook"
   ]
  },
  {
   "cell_type": "markdown",
   "id": "a98b7740",
   "metadata": {},
   "source": [
    "### Bayesian Blocks on Aperture Photometry Light Curves\n",
    "Description of data format"
   ]
  },
  {
   "cell_type": "code",
   "execution_count": null,
   "id": "fd18d94f",
   "metadata": {},
   "outputs": [],
   "source": []
  },
  {
   "cell_type": "markdown",
   "id": "2323c031",
   "metadata": {},
   "source": [
    "### Bayesian Blocks on Maximum Likelihood Light Curves\n",
    "Description of data format"
   ]
  },
  {
   "cell_type": "code",
   "execution_count": null,
   "id": "d90bd7b9",
   "metadata": {},
   "outputs": [],
   "source": []
  },
  {
   "cell_type": "markdown",
   "id": "b09335e1",
   "metadata": {},
   "source": [
    "### Bayesian Blocks on Photon Lists\n",
    "Description of data format"
   ]
  },
  {
   "cell_type": "code",
   "execution_count": null,
   "id": "1ae93057",
   "metadata": {},
   "outputs": [],
   "source": []
  }
 ],
 "metadata": {
  "language_info": {
   "name": "python"
  }
 },
 "nbformat": 4,
 "nbformat_minor": 5
}
