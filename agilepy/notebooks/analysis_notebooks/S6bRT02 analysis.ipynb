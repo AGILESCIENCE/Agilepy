{
 "cells": [
  {
   "cell_type": "markdown",
   "metadata": {},
   "source": [
    "# S6bRT02 analysis"
   ]
  },
  {
   "cell_type": "code",
   "execution_count": 1,
   "metadata": {},
   "outputs": [],
   "source": [
    "from agilepy.api.AGAnalysis import AGAnalysis"
   ]
  },
  {
   "cell_type": "code",
   "execution_count": 2,
   "metadata": {},
   "outputs": [],
   "source": [
    "from os.path import expandvars\n",
    "from pathlib import Path\n",
    "import shutil"
   ]
  },
  {
   "cell_type": "code",
   "execution_count": 3,
   "metadata": {},
   "outputs": [],
   "source": [
    "%matplotlib notebook"
   ]
  },
  {
   "cell_type": "markdown",
   "metadata": {},
   "source": [
    "## Analysis name"
   ]
  },
  {
   "cell_type": "code",
   "execution_count": 4,
   "metadata": {},
   "outputs": [
    {
     "name": "stdout",
     "output_type": "stream",
     "text": [
      "Analysis: baroncelli_200302_S6bRT02\n"
     ]
    }
   ],
   "source": [
    "user = \"baroncelli\"\n",
    "analysisdate = \"200302\"\n",
    "sourceName = \"S6bRT02\"\n",
    "analysisname = user+\"_\"+analysisdate+\"_\"+sourceName\n",
    "print(\"Analysis:\",analysisname)"
   ]
  },
  {
   "cell_type": "markdown",
   "metadata": {},
   "source": [
    "## Output directory"
   ]
  },
  {
   "cell_type": "code",
   "execution_count": 5,
   "metadata": {},
   "outputs": [
    {
     "name": "stdout",
     "output_type": "stream",
     "text": [
      "Output directory: /home/rt/agilepy_analysis/baroncelli_200302_S6bRT02/single_source\n"
     ]
    }
   ],
   "source": [
    "outDir = expandvars(f\"$HOME/agilepy_analysis/{analysisname}/single_source\")\n",
    "\n",
    "if Path(outDir).exists():\n",
    "    print(\"Deleting\",outDir)\n",
    "    shutil.rmtree(outDir)\n",
    "else:\n",
    "    print(\"Output directory:\",outDir)"
   ]
  },
  {
   "cell_type": "markdown",
   "metadata": {},
   "source": [
    "## Configuration "
   ]
  },
  {
   "cell_type": "code",
   "execution_count": 6,
   "metadata": {},
   "outputs": [],
   "source": [
    "tmin = 58908.45 # 2020-02-05 00:00:00.000\n",
    "tmax = 58910.45 # 2020-02-07 00:00:00.000\n",
    "timetype = \"MJD\" # \"MJD\" OR \"TT\"\n",
    "glon = 330.59\n",
    "glat = 0.06"
   ]
  },
  {
   "cell_type": "code",
   "execution_count": 7,
   "metadata": {},
   "outputs": [],
   "source": [
    "config = \"\"\"\n",
    "input:\n",
    "  evtfile: /AGILE_PROC3/FM3.119_ASDC2/INDEX/EVT.index\n",
    "  logfile: /AGILE_PROC3/DATA_ASDC2/INDEX/LOG.log.index\n",
    "\n",
    "output:\n",
    "  outdir: %s\n",
    "  filenameprefix: %s_product\n",
    "  logfilenameprefix: %s_log\n",
    "  verboselvl: 1\n",
    "\n",
    "selection:\n",
    "  tmin: %f\n",
    "  tmax: %f\n",
    "  timetype: %s\n",
    "  glon: %f\n",
    "  glat: %f\n",
    "  fovradmax: 60\n",
    "  albedorad: 80\n",
    "  proj: ARC\n",
    "  \n",
    "maps:\n",
    "  mapsize: 40\n",
    "  spectralindex: 2.1\n",
    "  timestep: 160\n",
    "  binsize: 0.25\n",
    "  energybins:\n",
    "    - 100, 10000\n",
    "  fovbinnumber: 1\n",
    "  \n",
    "\n",
    "model:\n",
    "  modelfile: null\n",
    "  galmode: 1\n",
    "  isomode: 1\n",
    "  galcoeff: null\n",
    "  isocoeff: null\n",
    "  emin_sources: 100\n",
    "  emax_sources: 10000\n",
    "\n",
    "\n",
    "mle:\n",
    "  ranal: 10\n",
    "  ulcl: 2\n",
    "  loccl: 95\n",
    "  expratioevaluation: yes\n",
    "  expratio_minthr: 0\n",
    "  expratio_maxthr: 15\n",
    "  expratio_size: 10  \n",
    "  \n",
    "\"\"\"%(outDir, analysisname, analysisname, tmin, tmax, timetype, glon, glat)\n",
    "\n",
    "with open(\"./agilepy_conf.yaml\", \"w\") as cf:\n",
    "    cf.write(config)"
   ]
  },
  {
   "cell_type": "markdown",
   "metadata": {},
   "source": [
    "## Obtaining the AGAnalysis object"
   ]
  },
  {
   "cell_type": "code",
   "execution_count": 8,
   "metadata": {},
   "outputs": [
    {
     "name": "stdout",
     "output_type": "stream",
     "text": [
      "2020-03-07 18:41:45,876 [INFO    ] [AgilepyLogger] File and Console loggers are active. Log file: /home/rt/agilepy_analysis/baroncelli_200302_S6bRT02/single_source/logs/baroncelli_200302_S6bRT02_log_20200307-184145.log\n"
     ]
    }
   ],
   "source": [
    "ag = AGAnalysis(\"./agilepy_conf.yaml\")"
   ]
  },
  {
   "cell_type": "markdown",
   "metadata": {},
   "source": [
    "# Single source analysis"
   ]
  },
  {
   "cell_type": "code",
   "execution_count": 9,
   "metadata": {},
   "outputs": [],
   "source": [
    "newSourceDict = {\n",
    "    \"glon\" : 330.59,\n",
    "    \"glat\": 0.06,\n",
    "    \"spectrumType\" : \"PowerLaw\",\n",
    "    \"flux\": 10e-08,\n",
    "    \"index\": 2.1\n",
    "}\n",
    "\n",
    "s = ag.addSource(\"S6bRT02\", newSourceDict)"
   ]
  },
  {
   "cell_type": "code",
   "execution_count": 10,
   "metadata": {},
   "outputs": [
    {
     "data": {
      "text/plain": [
       "[<agilepy.utils.SourceModel.Source at 0x7f1c7c74ab90>]"
      ]
     },
     "execution_count": 10,
     "metadata": {},
     "output_type": "execute_result"
    }
   ],
   "source": [
    "ag.freeSources('name==\"S6bRT02\"', \"flux\", True)\n",
    "ag.freeSources('name==\"S6bRT02\"', \"pos\", True)"
   ]
  },
  {
   "cell_type": "code",
   "execution_count": 11,
   "metadata": {},
   "outputs": [
    {
     "name": "stdout",
     "output_type": "stream",
     "text": [
      "\n",
      "-----------------------------------------------------------\n",
      "Source name: S6bRT02 (PointSource)\n",
      "  * Position:\n",
      "\t- start_pos: (330.59, 0.06)\n",
      "\t- dist from (l,b): 0.0\n",
      "  * Spectrum: (PowerLaw)\n",
      "\t- flux: 1e-07\n",
      "\t- index: 2.1\n",
      "  * Free params: flux pos\n",
      "-----------------------------------------------------------\n"
     ]
    }
   ],
   "source": [
    "print(s)"
   ]
  },
  {
   "cell_type": "code",
   "execution_count": null,
   "metadata": {},
   "outputs": [
    {
     "name": "stdout",
     "output_type": "stream",
     "text": [
      "2020-03-07 18:42:46,021 [INFO    ] [AGAnalysis] tmin: 508848480.000000 tmax: 510058080.000000 type: TT\n",
      "2020-03-07 18:42:46,024 [INFO    ] [CtsMapGenerator] Science tool called!\n",
      "2020-03-07 18:42:54,240 [INFO    ] [AGAnalysis] Science tool ctsMapGenerator produced:\n",
      " ['/home/rt/agilepy_analysis/baroncelli_200302_S6bRT02/single_source/calcBkg/maps/calcBkg_EMIN00100_EMAX10000_01.cts.gz']\n",
      "2020-03-07 18:42:54,242 [INFO    ] [ExpMapGenerator] Science tool called!\n"
     ]
    }
   ],
   "source": [
    "ag.calcBkg(sourceName = \"S6bRT02\")\n",
    "#ag.setOptions(galcoeff=[0.710442], isocoeff=[8.14032])"
   ]
  },
  {
   "cell_type": "code",
   "execution_count": null,
   "metadata": {},
   "outputs": [],
   "source": [
    "ag.printOptions(\"model\")"
   ]
  },
  {
   "cell_type": "code",
   "execution_count": null,
   "metadata": {},
   "outputs": [],
   "source": [
    "ag.generateMaps()"
   ]
  },
  {
   "cell_type": "code",
   "execution_count": null,
   "metadata": {
    "scrolled": false
   },
   "outputs": [],
   "source": [
    "ag.displayCtsSkyMaps(smooth=True, sigma=2)"
   ]
  },
  {
   "cell_type": "code",
   "execution_count": null,
   "metadata": {},
   "outputs": [],
   "source": [
    "ag.displayExpSkyMaps(smooth=True)"
   ]
  },
  {
   "cell_type": "code",
   "execution_count": null,
   "metadata": {},
   "outputs": [],
   "source": [
    "ag.displayGasSkyMaps(smooth=True)"
   ]
  },
  {
   "cell_type": "code",
   "execution_count": null,
   "metadata": {},
   "outputs": [],
   "source": [
    "ag.mle()"
   ]
  },
  {
   "cell_type": "code",
   "execution_count": null,
   "metadata": {},
   "outputs": [],
   "source": [
    "ag.selectSources(\"sqrtTS > 0\")"
   ]
  },
  {
   "cell_type": "code",
   "execution_count": null,
   "metadata": {},
   "outputs": [],
   "source": [
    "ag.destroy()"
   ]
  },
  {
   "cell_type": "markdown",
   "metadata": {},
   "source": [
    "# CAT2 analysis"
   ]
  },
  {
   "cell_type": "markdown",
   "metadata": {},
   "source": [
    "## Directories"
   ]
  },
  {
   "cell_type": "code",
   "execution_count": null,
   "metadata": {},
   "outputs": [],
   "source": [
    "outDir = expandvars(f\"$HOME/agilepy_analysis/{analysisname}/cat2\")\n",
    "\n",
    "if Path(outDir).exists():\n",
    "    print(\"Deleting\",outDir)\n",
    "    shutil.rmtree(outDir)\n",
    "else:\n",
    "    print(\"Output directory:\",outDir)"
   ]
  },
  {
   "cell_type": "markdown",
   "metadata": {},
   "source": [
    "## Configuration"
   ]
  },
  {
   "cell_type": "code",
   "execution_count": null,
   "metadata": {},
   "outputs": [],
   "source": [
    "config = \"\"\"\n",
    "input:\n",
    "  evtfile: /AGILE_PROC3/FM3.119_ASDC2/INDEX/EVT.index\n",
    "  logfile: /AGILE_PROC3/DATA_ASDC2/INDEX/LOG.log.index\n",
    "\n",
    "output:\n",
    "  outdir: %s\n",
    "  filenameprefix: %s_product\n",
    "  logfilenameprefix: %s_log\n",
    "  verboselvl: 1\n",
    "\n",
    "selection:\n",
    "  tmin: %f\n",
    "  tmax: %f\n",
    "  timetype: %s\n",
    "  glon: %f\n",
    "  glat: %f\n",
    "  fovradmax: 60\n",
    "  albedorad: 80\n",
    "  proj: ARC\n",
    "  \n",
    "maps:\n",
    "  mapsize: 40\n",
    "  spectralindex: 2.1\n",
    "  timestep: 160\n",
    "  binsize: 0.25\n",
    "  energybins:\n",
    "    - 100, 10000\n",
    "  fovbinnumber: 1\n",
    "  \n",
    "\n",
    "model:\n",
    "  modelfile: null\n",
    "  galmode: 1\n",
    "  isomode: 1\n",
    "  galcoeff: null\n",
    "  isocoeff: null\n",
    "  emin_sources: 100\n",
    "  emax_sources: 10000\n",
    "\n",
    "\n",
    "mle:\n",
    "  ranal: 10\n",
    "  ulcl: 2\n",
    "  loccl: 95\n",
    "  expratioevaluation: yes\n",
    "  expratio_minthr: 0\n",
    "  expratio_maxthr: 15\n",
    "  expratio_size: 10  \n",
    "  \n",
    "\"\"\"%(outDir, analysisname, analysisname, tmin, tmax, timetype, glon, glat)\n",
    "\n",
    "with open(\"./agilepy_conf.yaml\", \"w\") as cf:\n",
    "    cf.write(config)"
   ]
  },
  {
   "cell_type": "code",
   "execution_count": null,
   "metadata": {},
   "outputs": [],
   "source": [
    "ag = AGAnalysis(\"./agilepy_conf.yaml\")"
   ]
  },
  {
   "cell_type": "code",
   "execution_count": null,
   "metadata": {},
   "outputs": [],
   "source": [
    "loaded_sources = ag.loadSourcesFromCAT2(rangeDist = (0, 20))"
   ]
  },
  {
   "cell_type": "code",
   "execution_count": null,
   "metadata": {},
   "outputs": [],
   "source": [
    "newSourceDict = {\n",
    "    \"glon\" : 330.59,\n",
    "    \"glat\": 0.06,\n",
    "    \"spectrumType\" : \"PowerLaw\",\n",
    "    \"flux\": 10e-08,\n",
    "    \"index\": 2.1\n",
    "}\n",
    "\n",
    "s = ag.addSource(\"S6bRT02\", newSourceDict)"
   ]
  },
  {
   "cell_type": "code",
   "execution_count": null,
   "metadata": {},
   "outputs": [],
   "source": [
    "len(ag.getSources())"
   ]
  },
  {
   "cell_type": "code",
   "execution_count": null,
   "metadata": {},
   "outputs": [],
   "source": [
    "ag.calcBkg(sourceName = \"S6bRT02\")\n",
    "# ag.setOptions(galcoeff=[0.64703], isocoeff=[8.33367])"
   ]
  },
  {
   "cell_type": "code",
   "execution_count": null,
   "metadata": {},
   "outputs": [],
   "source": [
    "ag.printOptions(\"model\")"
   ]
  },
  {
   "cell_type": "code",
   "execution_count": null,
   "metadata": {},
   "outputs": [],
   "source": [
    "ag.generateMaps()"
   ]
  },
  {
   "cell_type": "code",
   "execution_count": null,
   "metadata": {},
   "outputs": [],
   "source": [
    "ag.displayCtsSkyMaps(smooth=True, sigma = 3)"
   ]
  },
  {
   "cell_type": "code",
   "execution_count": null,
   "metadata": {},
   "outputs": [],
   "source": [
    "ag.freeSources('name==\"S6bRT02\"', \"flux\", True)\n",
    "ag.freeSources('name==\"S6bRT02\"', \"pos\", True)"
   ]
  },
  {
   "cell_type": "code",
   "execution_count": null,
   "metadata": {},
   "outputs": [],
   "source": [
    "ag.mle()"
   ]
  },
  {
   "cell_type": "code",
   "execution_count": null,
   "metadata": {},
   "outputs": [],
   "source": [
    "ag.selectSources(\"sqrtTS > 0\")"
   ]
  },
  {
   "cell_type": "code",
   "execution_count": null,
   "metadata": {},
   "outputs": [],
   "source": [
    "deleted = ag.deleteSources(\"dist >= 4\")"
   ]
  },
  {
   "cell_type": "code",
   "execution_count": null,
   "metadata": {},
   "outputs": [],
   "source": [
    "ag.selectSources(\"sqrtTS >= 0\")"
   ]
  },
  {
   "cell_type": "code",
   "execution_count": null,
   "metadata": {},
   "outputs": [],
   "source": [
    "ag.mle()"
   ]
  },
  {
   "cell_type": "code",
   "execution_count": null,
   "metadata": {},
   "outputs": [],
   "source": [
    "ag.selectSources(\"sqrtTS > 0\")"
   ]
  },
  {
   "cell_type": "code",
   "execution_count": null,
   "metadata": {},
   "outputs": [],
   "source": []
  }
 ],
 "metadata": {
  "kernelspec": {
   "display_name": "Python 3",
   "language": "python",
   "name": "python3"
  },
  "language_info": {
   "codemirror_mode": {
    "name": "ipython",
    "version": 3
   },
   "file_extension": ".py",
   "mimetype": "text/x-python",
   "name": "python",
   "nbconvert_exporter": "python",
   "pygments_lexer": "ipython3",
   "version": "3.7.6"
  }
 },
 "nbformat": 4,
 "nbformat_minor": 4
}
