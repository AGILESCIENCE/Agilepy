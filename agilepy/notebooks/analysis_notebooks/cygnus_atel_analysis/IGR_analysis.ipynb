{
 "cells": [
  {
   "cell_type": "markdown",
   "metadata": {},
   "source": [
    "# IGRJ17354-3255 analysis notebook\n",
    "\n",
    "## Prerequisities: in order to run this notebook you need the AGILE data."
   ]
  },
  {
   "cell_type": "markdown",
   "metadata": {},
   "source": [
    "Hypothesis: there is a probable flare from IGRJ17354-3255"
   ]
  },
  {
   "cell_type": "code",
   "execution_count": null,
   "metadata": {},
   "outputs": [],
   "source": [
    "from agilepy.api.AGAnalysis import AGAnalysis"
   ]
  },
  {
   "cell_type": "code",
   "execution_count": null,
   "metadata": {},
   "outputs": [],
   "source": [
    "# Interactive plots\n",
    "%matplotlib widget"
   ]
  },
  {
   "cell_type": "markdown",
   "metadata": {},
   "source": [
    "## Creating a configuration file"
   ]
  },
  {
   "cell_type": "code",
   "execution_count": null,
   "metadata": {},
   "outputs": [],
   "source": [
    "confFilePath = \"./agilepy_conf.yaml\""
   ]
  },
  {
   "cell_type": "code",
   "execution_count": null,
   "metadata": {},
   "outputs": [],
   "source": [
    "AGAnalysis.getConfiguration(\n",
    "    confFilePath = confFilePath,\n",
    "    userName = \"bulgarelli\",\n",
    "    sourceName = \"IGRJ17354-3255\",\n",
    "    tmin = 54935.0,\n",
    "    tmax = 54936.0,\n",
    "    timetype = \"MJD\",\n",
    "    glon = 355.447,\n",
    "    glat = -0.2689,\n",
    "    outputDir = \"$HOME/agilepy_analysis\",\n",
    "    verboselvl = 1\n",
    ")"
   ]
  },
  {
   "cell_type": "markdown",
   "metadata": {},
   "source": [
    "## Obtaining the AGAnalysis object"
   ]
  },
  {
   "cell_type": "code",
   "execution_count": null,
   "metadata": {},
   "outputs": [],
   "source": [
    "ag = AGAnalysis(confFilePath)"
   ]
  },
  {
   "cell_type": "markdown",
   "metadata": {},
   "source": [
    "## Loading sources from file"
   ]
  },
  {
   "cell_type": "code",
   "execution_count": null,
   "metadata": {},
   "outputs": [],
   "source": [
    "sources_hypotesis = \"\"\"\n",
    "1.0e-7 355.447 -0.2689 2.1 3 2.0 IGRJ17354-3255 0 0 0 0 0.5 5 20 10000 0 100\n",
    "27.3758e-08 358.261 0.33283 1.97409 0 2 _2AGLJ1740-3013 0 0 0 0 0.5 5 20 10000 0 100\n",
    "29.3456e-08 359.602 -1.02271 1.74671 0 2 _2AGLJ1748-2950 0 0 0 0 0.5 5 20 10000 0 100\n",
    "8.47e-08 356.302 0.0327337 2.1526 0 2 _2AGLJ1737-3206 0 0 0 0 0.5 5 20 10000 0 100\n",
    "16.62e-08 356.336 0.965636 2.44606 0 2 _2AGLJ1733-3130 0 0 0 0 0.5 5 20 10000 0 100\n",
    "76.0913e-08 0.403804 0.106506 2.11796 0 2 _2AGLJ1746-2832 0 0 0 0 0.5 4 20 10000 0 100\n",
    "40.4164e-08 358.209 -0.575988 1.96482 0 2 _2AGLJ1744-3045 0 0 0 0 0.5 5 20 10000 0 100\n",
    "24.2448e-08 359.668 -0.275217 1.48822 0 2 _2AGLJ1746-2921 0 0 0 0 0.5 5 20 10000 0 100\n",
    "15.9499e-08 357.243 -1.97684 2.08084 0 2 _2AGLJ1747-3232 0 0 0 0 0.5 5 20 10000 0 100\n",
    "19.0329e-08 359.489 1.47047 2.48467 0 2 _2AGLJ1739-2837 0 0 0 0 0.5 5 20 10000 0 100\n",
    "12.9014e-08 348.686 -0.983661 1.95694 0 2 _2AGLJ1720-3859 0 0 0 0 0.5 5 20 10000 0 100\n",
    "11.2613e-08 2.00348 1.93424 2.67621 0 2 _2AGLJ1743-2613c 0 0 0 0 0.5 5 20 10000 0 100\n",
    "9.23926e-08 348.489 0.203703 2.20201 0 2 _2AGLJ1715-3815 0 0 0 0 0.5 5 20 10000 0 100\n",
    "7.54666e-08 353.287 2.04444 2.34544 0 2 _2AGLJ1720-3328 0 0 0 0 0.5 5 20 10000 0 100\n",
    "13.6782e-08 352.505 -8.41342 2.1963 0 2 _2AGLJ1803-3935 0 0 0 0 0.5 5 20 10000 0 100\n",
    "9.56232e-08 3.06185 -0.350146 2.67102 0 2 _2AGLJ1754-2626 0 0 0 0 0.5 5 20 10000 0 100\n",
    "14.9696e-08 3.90962 1.57396 2.35098 0 2 _2AGLJ1749-2448 0 0 0 0 0.5 5 20 10000 0 100\n",
    "35.79e-08 6.16978 -0.067694 3.37991 0 2 _2AGLJ1801-2334 0 3 2935.07 0.682363 1 4 500 3000 0.1 3\n",
    "153.979e-08 343.114 -2.70768 1.51389 0 2 _2AGLJ1710-4429 0 1 3025.17 0 0.5 5 20 10000 0 100\n",
    "17.6313e-08 8.30279 0.11776 2.1 0 2 _2AGLJ1804-2153 0 0 0 0 0.5 5 20 10000 0 100\n",
    "41.0098e-08 7.31668 -2.09534 1.79832 0 2 _2AGLJ1810-2339 0 0 0 0 0.5 5 20 10000 0 100\n",
    "10.0495e-08 6.5727 4.591 1.82719 0 2 _2AGLJ1743-2051 0 0 0 0 0.5 3 20 10000 0 100\n",
    "\"\"\"\n",
    "\n",
    "sourceFile = \"./sources.txt\"\n",
    "\n",
    "with open(sourceFile, \"w\") as sf:\n",
    "    sf.write(sources_hypotesis)"
   ]
  },
  {
   "cell_type": "code",
   "execution_count": null,
   "metadata": {},
   "outputs": [],
   "source": [
    "sources = ag.loadSourcesFromFile(sourceFile)"
   ]
  },
  {
   "cell_type": "code",
   "execution_count": null,
   "metadata": {},
   "outputs": [],
   "source": [
    "loaded_sources = ag.loadSourcesFromCatalog(\"2AGL\", rangeDist = (0, 1), show=True)"
   ]
  },
  {
   "cell_type": "code",
   "execution_count": null,
   "metadata": {},
   "outputs": [],
   "source": [
    "for s  in loaded_sources:\n",
    "    print(s)"
   ]
  },
  {
   "cell_type": "markdown",
   "metadata": {},
   "source": [
    "## Estimation of isotropic and galactic background coefficients"
   ]
  },
  {
   "cell_type": "code",
   "execution_count": null,
   "metadata": {},
   "outputs": [],
   "source": [
    "galBkg, isoBkg, maplistfile = ag.calcBkg('IGRJ17354-3255', galcoeff = [0.7], pastTimeWindow = 14)"
   ]
  },
  {
   "cell_type": "code",
   "execution_count": null,
   "metadata": {},
   "outputs": [],
   "source": [
    "print(isoBkg)"
   ]
  },
  {
   "cell_type": "code",
   "execution_count": null,
   "metadata": {},
   "outputs": [],
   "source": [
    "!cat $maplistfile"
   ]
  },
  {
   "cell_type": "markdown",
   "metadata": {},
   "source": [
    "## Map generation"
   ]
  },
  {
   "cell_type": "code",
   "execution_count": null,
   "metadata": {},
   "outputs": [],
   "source": [
    "ag.printOptions(\"maps\")"
   ]
  },
  {
   "cell_type": "code",
   "execution_count": null,
   "metadata": {},
   "outputs": [],
   "source": [
    "maplistfile = ag.generateMaps()"
   ]
  },
  {
   "cell_type": "code",
   "execution_count": null,
   "metadata": {},
   "outputs": [],
   "source": [
    "!cat $maplistfile"
   ]
  },
  {
   "cell_type": "markdown",
   "metadata": {},
   "source": [
    "## Displaying the sky maps"
   ]
  },
  {
   "cell_type": "code",
   "execution_count": null,
   "metadata": {
    "scrolled": false
   },
   "outputs": [],
   "source": [
    "ag.displayCtsSkyMaps(smooth=3, catalogRegions=\"2AGL\")"
   ]
  },
  {
   "cell_type": "code",
   "execution_count": null,
   "metadata": {},
   "outputs": [],
   "source": [
    "ag.displayExpSkyMaps()"
   ]
  },
  {
   "cell_type": "code",
   "execution_count": null,
   "metadata": {},
   "outputs": [],
   "source": [
    "ag.displayGasSkyMaps()"
   ]
  },
  {
   "cell_type": "markdown",
   "metadata": {},
   "source": [
    "## Maximum likelihood analysis"
   ]
  },
  {
   "cell_type": "code",
   "execution_count": null,
   "metadata": {},
   "outputs": [],
   "source": [
    "ss = ag.selectSources('name == \"IGRJ17354-3255\"', show=True)"
   ]
  },
  {
   "cell_type": "code",
   "execution_count": null,
   "metadata": {},
   "outputs": [],
   "source": [
    "ag.mle()"
   ]
  },
  {
   "cell_type": "code",
   "execution_count": null,
   "metadata": {},
   "outputs": [],
   "source": [
    "sources = ag.selectSources(\"sqrtTS > 0\", show=True)"
   ]
  },
  {
   "cell_type": "markdown",
   "metadata": {},
   "source": [
    "## Light curve"
   ]
  },
  {
   "cell_type": "code",
   "execution_count": null,
   "metadata": {},
   "outputs": [],
   "source": [
    "lightCurveData = ag.lightCurve(\"IGRJ17354-3255\", binsize=86400)"
   ]
  },
  {
   "cell_type": "code",
   "execution_count": null,
   "metadata": {},
   "outputs": [],
   "source": [
    "cat $lightCurveData"
   ]
  },
  {
   "cell_type": "code",
   "execution_count": null,
   "metadata": {},
   "outputs": [],
   "source": [
    "ag.displayLightCurve()"
   ]
  },
  {
   "cell_type": "markdown",
   "metadata": {},
   "source": [
    "## Cleaning up"
   ]
  },
  {
   "cell_type": "code",
   "execution_count": null,
   "metadata": {},
   "outputs": [],
   "source": [
    "ag.deleteAnalysisDir()"
   ]
  }
 ],
 "metadata": {
  "kernelspec": {
   "display_name": "Python 3",
   "language": "python",
   "name": "python3"
  },
  "language_info": {
   "codemirror_mode": {
    "name": "ipython",
    "version": 3
   },
   "file_extension": ".py",
   "mimetype": "text/x-python",
   "name": "python",
   "nbconvert_exporter": "python",
   "pygments_lexer": "ipython3",
   "version": "3.7.6"
  }
 },
 "nbformat": 4,
 "nbformat_minor": 4
}
