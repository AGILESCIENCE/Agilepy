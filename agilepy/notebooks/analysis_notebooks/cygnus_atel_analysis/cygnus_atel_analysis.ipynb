{
 "cells": [
  {
   "cell_type": "markdown",
   "metadata": {},
   "source": [
    "# Cygnus X-3 analysis notebook\n",
    "\n",
    "## Prerequisities: in order to run this notebook you need the AGILE data."
   ]
  },
  {
   "cell_type": "markdown",
   "metadata": {},
   "source": [
    "Hypothesis: there is a probable flare from Cygnus X-3. Check http://www.astronomerstelegram.org/?read=13458"
   ]
  },
  {
   "cell_type": "code",
   "execution_count": null,
   "metadata": {},
   "outputs": [],
   "source": [
    "from agilepy.api.AGAnalysis import AGAnalysis"
   ]
  },
  {
   "cell_type": "code",
   "execution_count": null,
   "metadata": {},
   "outputs": [],
   "source": [
    "%matplotlib notebook"
   ]
  },
  {
   "cell_type": "markdown",
   "metadata": {},
   "source": [
    "## Analysis name"
   ]
  },
  {
   "cell_type": "code",
   "execution_count": null,
   "metadata": {},
   "outputs": [],
   "source": [
    "user = \"bulgarelli\"\n",
    "sourceName = \"CYGX3\"\n",
    "analysisname = user+\"_\"+sourceName"
   ]
  },
  {
   "cell_type": "code",
   "execution_count": null,
   "metadata": {},
   "outputs": [],
   "source": [
    "print(\"Analysis name:\",analysisname)"
   ]
  },
  {
   "cell_type": "markdown",
   "metadata": {},
   "source": [
    "## Configuration"
   ]
  },
  {
   "cell_type": "code",
   "execution_count": null,
   "metadata": {},
   "outputs": [],
   "source": [
    "tmin = 58884.0 # 2020-02-05 00:00:00.000\n",
    "tmax = 58886.0 # 2020-02-07 00:00:00.000\n",
    "timetype = \"MJD\"\n",
    "glon = 79.8\n",
    "glat = 0.7\n",
    "outDir = f\"$HOME/agilepy_analysis/{analysisname}\""
   ]
  },
  {
   "cell_type": "code",
   "execution_count": null,
   "metadata": {},
   "outputs": [],
   "source": [
    "config = \"\"\"\n",
    "input:\n",
    "  evtfile: /AGILE_PROC3/FM3.119_ASDC2/INDEX/EVT.index\n",
    "  logfile: /AGILE_PROC3/DATA_ASDC2/INDEX/LOG.log.index\n",
    "\n",
    "output:\n",
    "  outdir: %s\n",
    "  filenameprefix: cygnus_atel_analysis\n",
    "  logfilenameprefix: cygnus_atel_analysis_log\n",
    "  verboselvl: 1\n",
    "\n",
    "model:\n",
    "  galcoeff: -1\n",
    "  isocoeff: -1\n",
    "\n",
    "maps:\n",
    "  binsize: 0.25\n",
    "\n",
    "selection:\n",
    "  tmin: %f\n",
    "  tmax: %f\n",
    "  timetype: %s\n",
    "  glon: %f\n",
    "  glat: %f\n",
    "\n",
    "mle:\n",
    "  loccl: 95\n",
    "\"\"\"%(outDir, tmin, tmax, timetype, glon, glat)\n",
    "\n",
    "with open(\"./agilepy_conf.yaml\", \"w\") as cf:\n",
    "    cf.write(config)  "
   ]
  },
  {
   "cell_type": "markdown",
   "metadata": {},
   "source": [
    "## Obtaining the AGAnalysis object"
   ]
  },
  {
   "cell_type": "code",
   "execution_count": null,
   "metadata": {},
   "outputs": [],
   "source": [
    "ag = AGAnalysis(\"./agilepy_conf.yaml\")"
   ]
  },
  {
   "cell_type": "markdown",
   "metadata": {},
   "source": [
    "## Loading sources from file"
   ]
  },
  {
   "cell_type": "code",
   "execution_count": null,
   "metadata": {},
   "outputs": [],
   "source": [
    "sources_hypotesis = \"\"\"\n",
    "15.7017e-08 80.3286 1.12047 2.16619 0 2 _2AGLJ2032+4135 0 0 0 0 0.5 5 20 10000 0 100\n",
    "16.9737e-08 79.3 0.55 2.1 3 2 CYGX3 0 0 0 0 0.5 5 20 10000 0 100\n",
    "119.303e-08 78.2375 2.12298 1.75823 0 2 _2AGLJ2021+4029 0 1 3307.63 0 0.5 5 20 10000 0 100\n",
    "\"\"\"\n",
    "\n",
    "sourceFile = \"./sources.txt\"\n",
    "\n",
    "with open(sourceFile, \"w\") as sf:\n",
    "    sf.write(sources_hypotesis)"
   ]
  },
  {
   "cell_type": "code",
   "execution_count": null,
   "metadata": {},
   "outputs": [],
   "source": [
    "sources = ag.loadSourcesFromFile(sourceFile)"
   ]
  },
  {
   "cell_type": "code",
   "execution_count": null,
   "metadata": {},
   "outputs": [],
   "source": [
    "for s in sources:\n",
    "    print(s)"
   ]
  },
  {
   "cell_type": "markdown",
   "metadata": {},
   "source": [
    "## Estimation of isotropic and galactic background coefficients"
   ]
  },
  {
   "cell_type": "code",
   "execution_count": null,
   "metadata": {},
   "outputs": [],
   "source": [
    "galBkg, isoBkg, maplistfile = ag.calcBkg('CYGX3', galcoeff = None, pastTimeWindow = 14)"
   ]
  },
  {
   "cell_type": "code",
   "execution_count": null,
   "metadata": {},
   "outputs": [],
   "source": [
    "!cat $maplistfile"
   ]
  },
  {
   "cell_type": "markdown",
   "metadata": {},
   "source": [
    "## Map generation"
   ]
  },
  {
   "cell_type": "code",
   "execution_count": null,
   "metadata": {},
   "outputs": [],
   "source": [
    "ag.printOptions(\"maps\")"
   ]
  },
  {
   "cell_type": "code",
   "execution_count": null,
   "metadata": {},
   "outputs": [],
   "source": [
    "maplistfile = ag.generateMaps()"
   ]
  },
  {
   "cell_type": "code",
   "execution_count": null,
   "metadata": {},
   "outputs": [],
   "source": [
    "!cat $maplistfile"
   ]
  },
  {
   "cell_type": "markdown",
   "metadata": {},
   "source": [
    "## Displaying the sky maps"
   ]
  },
  {
   "cell_type": "code",
   "execution_count": null,
   "metadata": {
    "scrolled": false
   },
   "outputs": [],
   "source": [
    "ag.displayCtsSkyMaps(smooth=3)"
   ]
  },
  {
   "cell_type": "code",
   "execution_count": null,
   "metadata": {},
   "outputs": [],
   "source": [
    "ag.displayExpSkyMaps()"
   ]
  },
  {
   "cell_type": "code",
   "execution_count": null,
   "metadata": {},
   "outputs": [],
   "source": [
    "ag.displayGasSkyMaps()"
   ]
  },
  {
   "cell_type": "markdown",
   "metadata": {},
   "source": [
    "## Maximum likelihood analysis"
   ]
  },
  {
   "cell_type": "code",
   "execution_count": null,
   "metadata": {},
   "outputs": [],
   "source": [
    "cygx3 = ag.selectSources('name == \"CYGX3\"').pop()"
   ]
  },
  {
   "cell_type": "code",
   "execution_count": null,
   "metadata": {},
   "outputs": [],
   "source": [
    "ag.mle()"
   ]
  },
  {
   "cell_type": "code",
   "execution_count": null,
   "metadata": {},
   "outputs": [],
   "source": [
    "sources = ag.selectSources(\"sqrtTS > 0\")"
   ]
  },
  {
   "cell_type": "code",
   "execution_count": null,
   "metadata": {},
   "outputs": [],
   "source": [
    "if ag.updateSourcePosition(\"CYGX3\"):\n",
    "    print(\"Source position updated\")\n",
    "    print(cygx3)"
   ]
  },
  {
   "cell_type": "code",
   "execution_count": null,
   "metadata": {},
   "outputs": [],
   "source": [
    "ag.mle()"
   ]
  },
  {
   "cell_type": "code",
   "execution_count": null,
   "metadata": {},
   "outputs": [],
   "source": [
    "sources = ag.selectSources(\"sqrtTS > 0\")"
   ]
  },
  {
   "cell_type": "code",
   "execution_count": null,
   "metadata": {},
   "outputs": [],
   "source": [
    "sources = ag.freeSources('name == \"CYGX3\"', \"pos\", False)"
   ]
  },
  {
   "cell_type": "code",
   "execution_count": null,
   "metadata": {},
   "outputs": [],
   "source": [
    "ag.mle()"
   ]
  },
  {
   "cell_type": "code",
   "execution_count": null,
   "metadata": {},
   "outputs": [],
   "source": [
    "sources = ag.selectSources(\"sqrtTS > 0\")"
   ]
  }
 ],
 "metadata": {
  "kernelspec": {
   "display_name": "Python 3",
   "language": "python",
   "name": "python3"
  },
  "language_info": {
   "codemirror_mode": {
    "name": "ipython",
    "version": 3
   },
   "file_extension": ".py",
   "mimetype": "text/x-python",
   "name": "python",
   "nbconvert_exporter": "python",
   "pygments_lexer": "ipython3",
   "version": "3.7.6"
  }
 },
 "nbformat": 4,
 "nbformat_minor": 4
}
