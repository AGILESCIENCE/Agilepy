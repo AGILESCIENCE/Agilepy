{
 "cells": [
  {
   "cell_type": "markdown",
   "source": [
    "# OJ 287 analysis"
   ],
   "metadata": {}
  },
  {
   "cell_type": "code",
   "execution_count": null,
   "source": [
    "from agilepy.api.AGAnalysis import AGAnalysis"
   ],
   "outputs": [],
   "metadata": {}
  },
  {
   "cell_type": "code",
   "execution_count": null,
   "source": [
    "#Interactive plots\n",
    "%matplotlib widget"
   ],
   "outputs": [],
   "metadata": {}
  },
  {
   "cell_type": "markdown",
   "source": [
    "## Creating a configuration file"
   ],
   "metadata": {}
  },
  {
   "cell_type": "code",
   "execution_count": null,
   "source": [
    "confFilePath = \"./agilepy_conf.yaml\""
   ],
   "outputs": [],
   "metadata": {}
  },
  {
   "cell_type": "code",
   "execution_count": null,
   "source": [
    "AGAnalysis.getConfiguration(\n",
    "    confFilePath = confFilePath,\n",
    "    evtfile=None,\n",
    "    logfile=None,\n",
    "    userName = \"baroncelli\",\n",
    "    sourceName = \"OJ287\",\n",
    "    tmin = 58930,\n",
    "    tmax = 58936.33078703,\n",
    "    timetype = \"MJD\",\n",
    "    glon = 206.8121188769472,\n",
    "    glat = 35.8208923457401,\n",
    "    outputDir = \"$HOME/agilepy_analysis\",\n",
    "    verboselvl = 1,\n",
    "    userestapi=True,\n",
    "    datapath=\"$HOME/agile_dataset\"\n",
    ")"
   ],
   "outputs": [],
   "metadata": {}
  },
  {
   "cell_type": "markdown",
   "source": [
    "## Obtaining the AGAnalysis object"
   ],
   "metadata": {}
  },
  {
   "cell_type": "code",
   "execution_count": null,
   "source": [
    "ag = AGAnalysis(confFilePath)"
   ],
   "outputs": [],
   "metadata": {}
  },
  {
   "cell_type": "markdown",
   "source": [
    "## Adding the source"
   ],
   "metadata": {}
  },
  {
   "cell_type": "code",
   "execution_count": null,
   "source": [
    "newSourceDict = {\n",
    "    \"glon\" : 206.8121188769472,\n",
    "    \"glat\": 35.8208923457401,\n",
    "    \"spectrumType\" : \"PowerLaw\",\n",
    "    \"flux\": 1.69737e-07,\n",
    "    \"index\": 2.1\n",
    "}\n",
    "\n",
    "s = ag.addSource(\"OJ287\", newSourceDict)\n",
    "\n",
    "print(s)"
   ],
   "outputs": [],
   "metadata": {}
  },
  {
   "cell_type": "markdown",
   "source": [
    "## Light curve analysis"
   ],
   "metadata": {}
  },
  {
   "cell_type": "code",
   "execution_count": null,
   "source": [
    "ag.generateMaps()"
   ],
   "outputs": [],
   "metadata": {}
  },
  {
   "cell_type": "code",
   "execution_count": null,
   "source": [
    "ag.freeSources('name == \"OJ287\"', \"flux\", True, show=True)"
   ],
   "outputs": [],
   "metadata": {}
  },
  {
   "cell_type": "code",
   "execution_count": null,
   "source": [
    "lightCurveData = ag.lightCurveMLE(\"OJ287\", tmin=58930 , tmax=58936.33078703, binsize=10800)"
   ],
   "outputs": [],
   "metadata": {}
  },
  {
   "cell_type": "code",
   "execution_count": null,
   "source": [
    "cat $lightCurveData"
   ],
   "outputs": [],
   "metadata": {}
  },
  {
   "cell_type": "code",
   "execution_count": null,
   "source": [
    "ag.displayLightCurve(\"mle\")"
   ],
   "outputs": [],
   "metadata": {}
  },
  {
   "cell_type": "markdown",
   "source": [
    "## Cleaning up"
   ],
   "metadata": {}
  },
  {
   "cell_type": "code",
   "execution_count": null,
   "source": [
    "ag.deleteAnalysisDir()"
   ],
   "outputs": [],
   "metadata": {}
  },
  {
   "cell_type": "code",
   "execution_count": null,
   "source": [],
   "outputs": [],
   "metadata": {}
  }
 ],
 "metadata": {
  "kernelspec": {
   "name": "python3",
   "display_name": "Python 3.7.6 64-bit ('agilepydev': conda)"
  },
  "language_info": {
   "codemirror_mode": {
    "name": "ipython",
    "version": 3
   },
   "file_extension": ".py",
   "mimetype": "text/x-python",
   "name": "python",
   "nbconvert_exporter": "python",
   "pygments_lexer": "ipython3",
   "version": "3.7.6"
  },
  "interpreter": {
   "hash": "5409c3e1903da67ab09041681933e7197a2db2605a48cadadc102950adcdd616"
  }
 },
 "nbformat": 4,
 "nbformat_minor": 4
}