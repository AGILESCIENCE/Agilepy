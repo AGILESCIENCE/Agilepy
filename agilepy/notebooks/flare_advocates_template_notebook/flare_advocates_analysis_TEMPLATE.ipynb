{
 "cells": [
  {
   "cell_type": "markdown",
   "metadata": {},
   "source": [
    "# Flare advocates analysis notebook\n",
    "## Prerequisities: in order to run this notebook you need the AGILE data."
   ]
  },
  {
   "cell_type": "code",
   "execution_count": null,
   "metadata": {},
   "outputs": [],
   "source": [
    "from agilepy.api.AGAnalysis import AGAnalysis"
   ]
  },
  {
   "cell_type": "code",
   "execution_count": null,
   "metadata": {},
   "outputs": [],
   "source": [
    "%matplotlib notebook"
   ]
  },
  {
   "cell_type": "markdown",
   "metadata": {},
   "source": [
    "## Analysis name"
   ]
  },
  {
   "cell_type": "code",
   "execution_count": null,
   "metadata": {},
   "outputs": [],
   "source": [
    "user = \"bulgarelli\"\n",
    "sourceName = \"sourceXXX\"\n",
    "analysisname = user+\"_\"+sourceName"
   ]
  },
  {
   "cell_type": "code",
   "execution_count": null,
   "metadata": {},
   "outputs": [],
   "source": [
    "print(\"Analysis:\",analysisname)"
   ]
  },
  {
   "cell_type": "markdown",
   "metadata": {},
   "source": [
    "## Configuration "
   ]
  },
  {
   "cell_type": "code",
   "execution_count": null,
   "metadata": {},
   "outputs": [],
   "source": [
    "tmin = 58884.0 # 2020-02-05 00:00:00.000\n",
    "tmax = 58886.0 # 2020-02-07 00:00:00.000\n",
    "timetype = \"MJD\" # \"MJD\" OR \"TT\"\n",
    "glon = 79.8\n",
    "glat = 0.7\n",
    "outDir = f\"$HOME/agilepy_analysis/{analysisname}/output\""
   ]
  },
  {
   "cell_type": "code",
   "execution_count": null,
   "metadata": {},
   "outputs": [],
   "source": [
    "config = \"\"\"\n",
    "input:\n",
    "  evtfile: /AGILE_PROC3/FM3.119_ASDC2/INDEX/EVT.index\n",
    "  logfile: /AGILE_PROC3/DATA_ASDC2/INDEX/LOG.log.index\n",
    "\n",
    "output:\n",
    "  outdir: %s\n",
    "  filenameprefix: %s_product\n",
    "  logfilenameprefix: %s_log\n",
    "  verboselvl: 1\n",
    "\n",
    "selection:\n",
    "  tmin: %f\n",
    "  tmax: %f\n",
    "  timetype: %s\n",
    "  glon: %f\n",
    "  glat: %f\n",
    "  fovradmax: 60\n",
    "  albedorad: 80\n",
    "  proj: ARC\n",
    "  \n",
    "maps:\n",
    "  mapsize: 40\n",
    "  spectralindex: 2.1\n",
    "  timestep: 160\n",
    "  binsize: 0.25\n",
    "  energybins:\n",
    "    - 100, 10000\n",
    "  fovbinnumber: 1\n",
    "  \n",
    "\n",
    "model:\n",
    "  modelfile: null\n",
    "  galmode: 1\n",
    "  isomode: 1\n",
    "  galcoeff: null\n",
    "  isocoeff: null\n",
    "  emin_sources: 100\n",
    "  emax_sources: 10000\n",
    "\n",
    "\n",
    "mle:\n",
    "  ranal: 10\n",
    "  ulcl: 2\n",
    "  loccl: 95\n",
    "  expratioevaluation: yes\n",
    "  expratio_minthr: 0\n",
    "  expratio_maxthr: 15\n",
    "  expratio_size: 10  \n",
    "  \n",
    "\"\"\"%(outDir, analysisname, analysisname, tmin, tmax, timetype, glon, glat)\n",
    "\n",
    "with open(\"./agilepy_conf.yaml\", \"w\") as cf:\n",
    "    cf.write(config)"
   ]
  },
  {
   "cell_type": "markdown",
   "metadata": {},
   "source": [
    "## Obtaining the AGAnalysis object"
   ]
  },
  {
   "cell_type": "code",
   "execution_count": null,
   "metadata": {},
   "outputs": [],
   "source": [
    "ag = AGAnalysis(\"./agilepy_conf.yaml\")"
   ]
  },
  {
   "cell_type": "markdown",
   "metadata": {},
   "source": [
    "## Sources hypothesis"
   ]
  },
  {
   "cell_type": "code",
   "execution_count": null,
   "metadata": {},
   "outputs": [],
   "source": [
    "sources = ag.loadSourcesFromCatalog(\"2AGL\", rangeDist = (0, 10))"
   ]
  },
  {
   "cell_type": "code",
   "execution_count": null,
   "metadata": {},
   "outputs": [],
   "source": [
    "for s in sources:\n",
    "    print(s)"
   ]
  },
  {
   "cell_type": "markdown",
   "metadata": {},
   "source": [
    "## Adding a source at runtime"
   ]
  },
  {
   "cell_type": "code",
   "execution_count": null,
   "metadata": {},
   "outputs": [],
   "source": [
    "newSourceDict = {\n",
    "    \"glon\" : 79.3,\n",
    "    \"glat\": 0.554,\n",
    "    \"spectrumType\" : \"PowerLaw\",\n",
    "    \"flux\": 1.69737e-07,\n",
    "    \"index\": 2.1\n",
    "}\n",
    "\n",
    "s = ag.addSource(\"CYGX3\", newSourceDict)\n",
    "\n",
    "print(s)"
   ]
  },
  {
   "cell_type": "markdown",
   "metadata": {},
   "source": [
    "## Deleting sources\n",
    "Selection params = [name, dist, flux, sqrtts]"
   ]
  },
  {
   "cell_type": "code",
   "execution_count": null,
   "metadata": {},
   "outputs": [],
   "source": [
    "deletedSources = ag.deleteSources('dist >= 3')"
   ]
  },
  {
   "cell_type": "markdown",
   "metadata": {},
   "source": [
    "## Selecting sources"
   ]
  },
  {
   "cell_type": "code",
   "execution_count": null,
   "metadata": {},
   "outputs": [],
   "source": [
    "sources = ag.selectSources(\"flux > 0\")"
   ]
  },
  {
   "cell_type": "markdown",
   "metadata": {},
   "source": [
    "## Free a source's parameter\n",
    "Freeable params = [flux, index, index1, index2, cutoffEnergy, pivotEnergy, curvature, index2]"
   ]
  },
  {
   "cell_type": "code",
   "execution_count": null,
   "metadata": {},
   "outputs": [],
   "source": [
    "affectedSources = ag.freeSources(\"flux > 0\", \"cutoffEnergy\", True)"
   ]
  },
  {
   "cell_type": "markdown",
   "metadata": {},
   "source": [
    "In this example, only one source is affected: the one with spectrum type \"PLExpCutoff\" (it is the only spectrum type that has the \"cutoffEnergy\" parameter)"
   ]
  },
  {
   "cell_type": "code",
   "execution_count": null,
   "metadata": {},
   "outputs": [],
   "source": [
    "for source in affectedSources:\n",
    "    print(source)"
   ]
  },
  {
   "cell_type": "markdown",
   "metadata": {},
   "source": [
    "## Analysis"
   ]
  },
  {
   "cell_type": "code",
   "execution_count": null,
   "metadata": {},
   "outputs": [],
   "source": [
    "ag.generateMaps()"
   ]
  },
  {
   "cell_type": "code",
   "execution_count": null,
   "metadata": {
    "scrolled": false
   },
   "outputs": [],
   "source": [
    "ag.displayCtsSkyMaps(smooth=3, catalogRegions=\"2AGL\", catalogRegionsColor=\"green\")"
   ]
  },
  {
   "cell_type": "code",
   "execution_count": null,
   "metadata": {},
   "outputs": [],
   "source": [
    "ag.displayExpSkyMaps()"
   ]
  },
  {
   "cell_type": "code",
   "execution_count": null,
   "metadata": {},
   "outputs": [],
   "source": [
    "ag.displayGasSkyMaps()"
   ]
  },
  {
   "cell_type": "code",
   "execution_count": null,
   "metadata": {},
   "outputs": [],
   "source": [
    "ag.calcBkg(\"CYGX3\", galcoeff = None, pastTimeWindow = 14)"
   ]
  },
  {
   "cell_type": "code",
   "execution_count": null,
   "metadata": {},
   "outputs": [],
   "source": [
    "ag.mle()"
   ]
  },
  {
   "cell_type": "code",
   "execution_count": null,
   "metadata": {},
   "outputs": [],
   "source": [
    "ag.selectSources(\"sqrtTS > 0\")"
   ]
  }
 ],
 "metadata": {
  "kernelspec": {
   "display_name": "Python 3",
   "language": "python",
   "name": "python3"
  },
  "language_info": {
   "codemirror_mode": {
    "name": "ipython",
    "version": 3
   },
   "file_extension": ".py",
   "mimetype": "text/x-python",
   "name": "python",
   "nbconvert_exporter": "python",
   "pygments_lexer": "ipython3",
   "version": "3.7.6"
  }
 },
 "nbformat": 4,
 "nbformat_minor": 4
}
