{
 "cells": [
  {
   "cell_type": "markdown",
   "metadata": {},
   "source": [
    "# Agilepy quickstart notebook"
   ]
  },
  {
   "cell_type": "markdown",
   "metadata": {},
   "source": [
    "This notebook will show you how to use the Agilepy library."
   ]
  },
  {
   "cell_type": "markdown",
   "metadata": {},
   "source": [
    "## The output directory must deleted first"
   ]
  },
  {
   "cell_type": "markdown",
   "metadata": {},
   "source": [
    "The path to the output directory is defined in the configuration file (more on that later)."
   ]
  },
  {
   "cell_type": "code",
   "execution_count": 1,
   "metadata": {},
   "outputs": [],
   "source": [
    "import os\n",
    "from pathlib import Path\n",
    "from shutil import rmtree"
   ]
  },
  {
   "cell_type": "code",
   "execution_count": 2,
   "metadata": {},
   "outputs": [],
   "source": [
    "outDir = Path(os.environ[\"AGILE\"]).joinpath( Path(\"agilepy-test-data/unittesting-output/jupyter/\") )\n",
    "\n",
    "if outDir.exists() and outDir.is_dir():\n",
    "    print(\"Removing\",outDir)\n",
    "    rmtree(outDir)"
   ]
  },
  {
   "cell_type": "code",
   "execution_count": 3,
   "metadata": {},
   "outputs": [],
   "source": [
    "def readFile(filepath):\n",
    "    with open(filepath, \"r\") as f:\n",
    "        return f.readlines()"
   ]
  },
  {
   "cell_type": "markdown",
   "metadata": {},
   "source": [
    "## Using the API class"
   ]
  },
  {
   "cell_type": "markdown",
   "metadata": {},
   "source": [
    "We need to import the class in our scope"
   ]
  },
  {
   "cell_type": "code",
   "execution_count": 4,
   "metadata": {},
   "outputs": [],
   "source": [
    "from agilepy.api.AGAnalysis import AGAnalysis"
   ]
  },
  {
   "cell_type": "markdown",
   "metadata": {},
   "source": [
    "The constructor need two files:\n",
    "* a configuration file (yaml)\n",
    "* a file containing a list of sources (xml format, or AGILE txt format)\n",
    "\n",
    "For this tutorial, we already wrote them. If you want to look at all the possible configuration options, check the [Agilepy's documentation](https://agilepy.readthedocs.io/en/latest/manual/configuration_file.html).\n",
    "\n",
    "Run the next cell to read the minimal configuration file we wrote:"
   ]
  },
  {
   "cell_type": "code",
   "execution_count": 5,
   "metadata": {},
   "outputs": [
    {
     "name": "stdout",
     "output_type": "stream",
     "text": [
      "input:\n",
      "  evtfile: $AGILE/agilepy-test-data/evt_index/agile_proc3_fm3.119_asdc2_EVT.index\n",
      "  logfile: $AGILE/agilepy-test-data/log_index/agile_proc3_data_asdc2_LOG.log.index\n",
      "\n",
      "output:\n",
      "  outdir: $AGILE/agilepy-test-data/unittesting-output/jupyter\n",
      "  filenameprefix: quickstart\n",
      "  logfilenameprefix: quickstart\n",
      "  verboselvl: 1\n",
      "\n",
      "selection:\n",
      "  tmin: 456361778\n",
      "  tmax: 456537945\n",
      "  timetype: TT\n",
      "  glon: 80\n",
      "  glat: 0\n",
      "\n"
     ]
    }
   ],
   "source": [
    "with open(\"./config_file.yaml\") as f:\n",
    "    print(f.read())"
   ]
  },
  {
   "cell_type": "markdown",
   "metadata": {},
   "source": [
    "Run the next cell to read the xml file containing the descriptions of two sources:"
   ]
  },
  {
   "cell_type": "code",
   "execution_count": 6,
   "metadata": {},
   "outputs": [
    {
     "name": "stdout",
     "output_type": "stream",
     "text": [
      "<?xml version=\"1.0\" ?>\n",
      "<source_library title=\"source library\">\n",
      "\n",
      "  <source name=\"2AGLJ2021+4029\" type=\"PointSource\">\n",
      "    <spectrum type=\"PLExpCutoff\">\n",
      "      <parameter name=\"flux\" free=\"1\"  value=\"119.3e-08\"/>\n",
      "      <parameter name=\"index\" free=\"0\" scale=\"-1.0\" value=\"1.75\" min=\"0.5\" max=\"5\"/>\n",
      "      <parameter name=\"cutoffEnergy\" free=\"0\" value=\"3307.63\" min=\"20\" max=\"10000\"/>\n",
      "    </spectrum>\n",
      "    <spatialModel type=\"PointSource\" locationLimit=\"0\">\n",
      "      <parameter name=\"pos\" value=\"(78.2375, 2.12298)\" free=\"0\" />\n",
      "    </spatialModel>\n",
      "  </source>\n",
      "\n",
      "  <source name=\"2AGLJ2021+3654\" type=\"PointSource\">\n",
      "    <spectrum type=\"PLExpCutoff\">\n",
      "      <parameter name=\"flux\" free=\"1\"  value=\"70.89e-08\"/>\n",
      "      <parameter name=\"index\" free=\"0\" scale=\"-1.0\" value=\"1.38\" min=\"0.5\" max=\"5\"/>\n",
      "      <parameter name=\"cutoffEnergy\" free=\"0\" value=\"960.59\" min=\"20\" max=\"10000\"/>\n",
      "    </spectrum>\n",
      "    <spatialModel type=\"PointSource\" locationLimit=\"0\">\n",
      "      <parameter name=\"pos\" value=\"(75.2562, 0.151831)\" free=\"0\" />\n",
      "    </spatialModel>\n",
      "  </source>\n",
      "\n",
      "</source_library>\n",
      "\n"
     ]
    }
   ],
   "source": [
    "with open(\"./sources.xml\") as f:\n",
    "    print(f.read())"
   ]
  },
  {
   "cell_type": "markdown",
   "metadata": {},
   "source": [
    "## Calling the constructor"
   ]
  },
  {
   "cell_type": "markdown",
   "metadata": {},
   "source": [
    "You need to instantiate the class if you want to use it. \n",
    "\n",
    "The [constructor](https://agilepy.readthedocs.io/en/latest/api/analysis_api.html#api.AGAnalysis.AGAnalysis) will setup a console logger which verbosity is defined by the *'verboselvl'* configuration option. A file logger is activated as well and its verbosity is always set to the maximum value.\n",
    "\n",
    "The user-defined configuration options will override the default ones. A validation step is then performed: in case of wrong/malformed configuration options an Exception will be raised.  \n",
    "\n",
    "All the sources present in *sources.xml* are loaded in-memory inside an object of class *SourcesLibrary* which is a member of the *AGAnalysis* class. "
   ]
  },
  {
   "cell_type": "code",
   "execution_count": 7,
   "metadata": {},
   "outputs": [
    {
     "name": "stdout",
     "output_type": "stream",
     "text": [
      "2020-02-26 17:52:43,694 [INFO    ] [AgilepyLogger] File and Console loggers are active. Log file: /home/rt/.conda/envs/agilepy/agiletools/agilepy-test-data/unittesting-output/jupyter/logs/quickstart_20200226-175243.log\n",
      "2020-02-26 17:52:43,697 [INFO    ] [PlottingUtils] Plot configuration: 'standard'. fig_width_pt: 426.791340 fontsize:9.000000\n"
     ]
    }
   ],
   "source": [
    "ag = AGAnalysis(\"./config_file.yaml\", \"./sources.xml\")"
   ]
  },
  {
   "cell_type": "markdown",
   "metadata": {},
   "source": [
    "## Managing the sources "
   ]
  },
  {
   "cell_type": "markdown",
   "metadata": {},
   "source": [
    "### Loading the sources into the SourcesLibrary\n",
    "\n",
    "You can load other sources after the AGAnalysis object initialization, with the [loadSource(sourcesFilepath)](https://agilepy.readthedocs.io/en/latest/api/analysis_api.html#api.AGAnalysis.AGAnalysis.loadSource) method. \n",
    "\n",
    "This method let you to specify a rangeDist argument to filter out the sources which distance from (glon, glat) is not in the rangeDist interval. "
   ]
  },
  {
   "cell_type": "code",
   "execution_count": 8,
   "metadata": {},
   "outputs": [
    {
     "name": "stdout",
     "output_type": "stream",
     "text": [
      "2020-02-26 17:52:49,216 [WARNING ] [SourcesLibrary] The source 2AGLJ2021+4029 already exists. The 'sourceObject' will not be added to the SourcesLibrary.\n",
      "2020-02-26 17:52:49,218 [WARNING ] [SourcesLibrary] The source 2AGLJ2021+3654 already exists. The 'sourceObject' will not be added to the SourcesLibrary.\n"
     ]
    },
    {
     "data": {
      "text/plain": [
       "[]"
      ]
     },
     "execution_count": 8,
     "metadata": {},
     "output_type": "execute_result"
    }
   ],
   "source": [
    "ag.loadSources(\"./sources.xml\", rangeDist = (0, 20))"
   ]
  },
  {
   "cell_type": "markdown",
   "metadata": {},
   "source": [
    "### Getting the available catalogs\n",
    "You can also get the available AGILE catalogs with the [getSupportedCatalogs()](https://agilepy.readthedocs.io/en/latest/api/analysis_api.html#api.AGAnalysis.AGAnalysis.getSupportedCatalogs) method."
   ]
  },
  {
   "cell_type": "code",
   "execution_count": 9,
   "metadata": {},
   "outputs": [
    {
     "data": {
      "text/plain": [
       "['/home/rt/.conda/envs/agilepy/agiletools/catalogs/2AGL.multi']"
      ]
     },
     "execution_count": 9,
     "metadata": {},
     "output_type": "execute_result"
    }
   ],
   "source": [
    "catalogs = ag.getSupportedCatalogs()\n",
    "catalogs"
   ]
  },
  {
   "cell_type": "markdown",
   "metadata": {},
   "source": [
    "### Converting a catalog from .txt format to .xml format \n",
    "If you want to work with the more convenient xml format, you can convert the source file from the txt format to the xml format, using the [convertCatalogToXml()](https://agilepy.readthedocs.io/en/latest/api/analysis_api.html#api.AGAnalysis.AGAnalysis.convertCatalogToXml) method."
   ]
  },
  {
   "cell_type": "code",
   "execution_count": 10,
   "metadata": {},
   "outputs": [
    {
     "name": "stdout",
     "output_type": "stream",
     "text": [
      "2020-02-26 17:52:54,950 [INFO    ] [SourcesLibrary] File /home/rt/.conda/envs/agilepy/agiletools/catalogs/2AGL.xml has been produced\n"
     ]
    },
    {
     "data": {
      "text/plain": [
       "'/home/rt/.conda/envs/agilepy/agiletools/catalogs/2AGL.xml'"
      ]
     },
     "execution_count": 10,
     "metadata": {},
     "output_type": "execute_result"
    }
   ],
   "source": [
    "ag.convertCatalogToXml(catalogs[0])"
   ]
  },
  {
   "cell_type": "markdown",
   "metadata": {},
   "source": [
    "## Generating maps"
   ]
  },
  {
   "cell_type": "markdown",
   "metadata": {},
   "source": [
    "You can use the [generateMaps()](https://agilepy.readthedocs.io/en/latest/api/analysis_api.html#api.AGAnalysis.AGAnalysis.generateMaps) method to produce one or more sky maps of 4 different types (counts, exposure, gas and int) using the AGILE data. The method's behaviour is controlled by several configuration options. Check the [*'map'* section of the documentation](https://agilepy.readthedocs.io/en/latest/manual/configuration_file.html#maps) for more.\n",
    "\n",
    "The method will return a maplist file, which format is [described here](https://agilepy.readthedocs.io/en/latest/manual/products.html#maplist-file). "
   ]
  },
  {
   "cell_type": "code",
   "execution_count": 11,
   "metadata": {},
   "outputs": [
    {
     "name": "stdout",
     "output_type": "stream",
     "text": [
      "2020-02-26 17:53:00,061 [INFO    ] [CtsMapGenerator] Science tool called!\n",
      "2020-02-26 17:53:01,639 [INFO    ] [AGAnalysis] Science tool ctsMapGenerator produced ['/home/rt/.conda/envs/agilepy/agiletools/agilepy-test-data/unittesting-output/jupyter/maps/quickstart_EMIN00100_EMAX10000_01.cts.gz']\n",
      "2020-02-26 17:53:01,641 [INFO    ] [ExpMapGenerator] Science tool called!\n",
      "2020-02-26 17:53:11,399 [INFO    ] [AGAnalysis] Science tool expMapGenerator produced ['/home/rt/.conda/envs/agilepy/agiletools/agilepy-test-data/unittesting-output/jupyter/maps/quickstart_EMIN00100_EMAX10000_01.exp.gz']\n",
      "2020-02-26 17:53:11,402 [INFO    ] [GasMapGenerator] Science tool called!\n",
      "2020-02-26 17:53:12,781 [INFO    ] [AGAnalysis] Science tool gasMapGenerator produced ['/home/rt/.conda/envs/agilepy/agiletools/agilepy-test-data/unittesting-output/jupyter/maps/quickstart_EMIN00100_EMAX10000_01.gas.gz']\n",
      "2020-02-26 17:53:12,783 [INFO    ] [IntMapGenerator] Science tool called!\n",
      "2020-02-26 17:53:13,419 [INFO    ] [AGAnalysis] Science tool intMapGenerator produced ['/home/rt/.conda/envs/agilepy/agiletools/agilepy-test-data/unittesting-output/jupyter/maps/quickstart_EMIN00100_EMAX10000_01.int.gz']\n",
      "2020-02-26 17:53:13,421 [INFO    ] [AGAnalysis] Maplist file created in /home/rt/.conda/envs/agilepy/agiletools/agilepy-test-data/unittesting-output/jupyter/quickstart.maplist4\n",
      "2020-02-26 17:53:13,422 [INFO    ] [AGAnalysis] Took 13.362218 seconds.\n"
     ]
    }
   ],
   "source": [
    "mapfilepath = ag.generateMaps()"
   ]
  },
  {
   "cell_type": "markdown",
   "metadata": {},
   "source": [
    "Let's print the content of the mapfile:"
   ]
  },
  {
   "cell_type": "code",
   "execution_count": 12,
   "metadata": {},
   "outputs": [
    {
     "name": "stdout",
     "output_type": "stream",
     "text": [
      "/home/rt/.conda/envs/agilepy/agiletools/agilepy-test-data/unittesting-output/jupyter/maps/quickstart_EMIN00100_EMAX10000_01.cts.gz /home/rt/.conda/envs/agilepy/agiletools/agilepy-test-data/unittesting-output/jupyter/maps/quickstart_EMIN00100_EMAX10000_01.exp.gz /home/rt/.conda/envs/agilepy/agiletools/agilepy-test-data/unittesting-output/jupyter/maps/quickstart_EMIN00100_EMAX10000_01.gas.gz 30 -1 -1\n",
      "\n"
     ]
    }
   ],
   "source": [
    "with open(mapfilepath) as f:\n",
    "    print(f.read())"
   ]
  },
  {
   "cell_type": "markdown",
   "metadata": {},
   "source": [
    "### Parsing the mapfile"
   ]
  },
  {
   "cell_type": "code",
   "execution_count": 13,
   "metadata": {},
   "outputs": [],
   "source": [
    "maps = ag.getSkyMaps()"
   ]
  },
  {
   "cell_type": "code",
   "execution_count": 14,
   "metadata": {},
   "outputs": [
    {
     "name": "stdout",
     "output_type": "stream",
     "text": [
      "Number of rows: 1\n"
     ]
    }
   ],
   "source": [
    "print(\"Number of rows:\",len(maps))"
   ]
  },
  {
   "cell_type": "code",
   "execution_count": 15,
   "metadata": {},
   "outputs": [
    {
     "data": {
      "text/plain": [
       "'/home/rt/.conda/envs/agilepy/agiletools/agilepy-test-data/unittesting-output/jupyter/maps/quickstart_EMIN00100_EMAX10000_01.cts.gz'"
      ]
     },
     "execution_count": 15,
     "metadata": {},
     "output_type": "execute_result"
    }
   ],
   "source": [
    "ctsMap = maps[0][0]\n",
    "ctsMap"
   ]
  },
  {
   "cell_type": "code",
   "execution_count": 16,
   "metadata": {},
   "outputs": [
    {
     "data": {
      "text/plain": [
       "'/home/rt/.conda/envs/agilepy/agiletools/agilepy-test-data/unittesting-output/jupyter/maps/quickstart_EMIN00100_EMAX10000_01.exp.gz'"
      ]
     },
     "execution_count": 16,
     "metadata": {},
     "output_type": "execute_result"
    }
   ],
   "source": [
    "expMap = maps[0][1]\n",
    "expMap"
   ]
  },
  {
   "cell_type": "code",
   "execution_count": 17,
   "metadata": {},
   "outputs": [
    {
     "data": {
      "text/plain": [
       "'/home/rt/.conda/envs/agilepy/agiletools/agilepy-test-data/unittesting-output/jupyter/maps/quickstart_EMIN00100_EMAX10000_01.gas.gz'"
      ]
     },
     "execution_count": 17,
     "metadata": {},
     "output_type": "execute_result"
    }
   ],
   "source": [
    "gasMap = maps[0][2]\n",
    "gasMap"
   ]
  },
  {
   "cell_type": "markdown",
   "metadata": {},
   "source": [
    "## Starting an maximum likelyhood estimation analysis"
   ]
  },
  {
   "cell_type": "markdown",
   "metadata": {},
   "source": [
    "Again, the behaviour of this analysis can be configured by sevaral configuration options. Check the [*'mle'* section of the documentation](https://agilepy.readthedocs.io/en/latest/manual/configuration_file.html#mle) for more.\n",
    "\n",
    "The [mle()](https://agilepy.readthedocs.io/en/latest/api/analysis_api.html#api.AGAnalysis.AGAnalysis.mle) performs a maximum likelyhood estimation analysis and it produces one or more files with the '*.source*' extension. The '*.source*' files have a fixed format described [here](https://agilepy.readthedocs.io/en/latest/manual/products.html#source-file).\n",
    "\n",
    "The mle analysis output is also saved inside the corresponding sources in the *SourcesLibrary* object. "
   ]
  },
  {
   "cell_type": "code",
   "execution_count": 18,
   "metadata": {},
   "outputs": [
    {
     "name": "stdout",
     "output_type": "stream",
     "text": [
      "2020-02-26 17:54:17,366 [INFO    ] [SourcesLibrary] File /home/rt/.conda/envs/agilepy/agiletools/agilepy-test-data/unittesting-output/jupyter/sourceLibrary00000.txt has been produced\n",
      "2020-02-26 17:54:17,368 [INFO    ] [Multi] Science tool called!\n",
      "2020-02-26 17:54:20,387 [INFO    ] [AGAnalysis] AG_multi produced: ['/home/rt/.conda/envs/agilepy/agiletools/agilepy-test-data/unittesting-output/jupyter/mle/quickstart0000_2AGLJ2021+4029.source', '/home/rt/.conda/envs/agilepy/agiletools/agilepy-test-data/unittesting-output/jupyter/mle/quickstart0000_2AGLJ2021+3654.source']\n",
      "2020-02-26 17:54:20,392 [INFO    ] [AGAnalysis] Took 3.027477 seconds.\n"
     ]
    }
   ],
   "source": [
    "source_files = ag.mle()"
   ]
  },
  {
   "cell_type": "code",
   "execution_count": 19,
   "metadata": {},
   "outputs": [
    {
     "name": "stdout",
     "output_type": "stream",
     "text": [
      "/home/rt/.conda/envs/agilepy/agiletools/agilepy-test-data/unittesting-output/jupyter/mle/quickstart0000_2AGLJ2021+4029.source\n",
      "/home/rt/.conda/envs/agilepy/agiletools/agilepy-test-data/unittesting-output/jupyter/mle/quickstart0000_2AGLJ2021+3654.source\n"
     ]
    }
   ],
   "source": [
    "for sf in source_files:\n",
    "    print(sf)"
   ]
  },
  {
   "cell_type": "code",
   "execution_count": 22,
   "metadata": {},
   "outputs": [
    {
     "name": "stdout",
     "output_type": "stream",
     "text": [
      "\n",
      "-----------------------------------------------------------\n",
      "Source name: 2AGLJ2021+4029 (PointSource) => sqrt(ts): 1.72593\n",
      "  * Position:\n",
      "\t- start_pos: (78.2375, 2.12298)\n",
      "  * Spectrum: (PLExpCutoff)\n",
      "\t- flux: 1.193e-06\n",
      "\t- index: 1.75\n",
      "\t- cutoffEnergy: 3307.63\n",
      "  * Free params: flux\n",
      "  * Multi analysis:\n",
      "\t- flux: 9.68426e-07 +- 6.75116e-07\n",
      "\t- upper limit: 2.56733e-06\n",
      "\t- ergLog: 1.56513e-10 +- 1.0911e-10\n",
      "\t- galCoeff: [0.471781]\n",
      "\t- isoCoeff: [10.2321]\n",
      "-----------------------------------------------------------\n",
      "\n",
      "-----------------------------------------------------------\n",
      "Source name: 2AGLJ2021+3654 (PointSource) => sqrt(ts): 1.17321\n",
      "  * Position:\n",
      "\t- start_pos: (75.2562, 0.151831)\n",
      "  * Spectrum: (PLExpCutoff)\n",
      "\t- flux: 7.089e-07\n",
      "\t- index: 1.38\n",
      "\t- cutoffEnergy: 960.59\n",
      "  * Free params: flux\n",
      "  * Multi analysis:\n",
      "\t- flux: 5.23926e-07 +- 5.19933e-07\n",
      "\t- upper limit: 1.79627e-06\n",
      "\t- ergLog: 8.46749e-11 +- 8.40296e-11\n",
      "\t- galCoeff: [0.549708]\n",
      "\t- isoCoeff: [8.66681]\n",
      "-----------------------------------------------------------\n"
     ]
    }
   ],
   "source": [
    "sources = ag.selectSources(\"sqrtTS > 0\")"
   ]
  },
  {
   "cell_type": "markdown",
   "metadata": {},
   "source": [
    "## Generating a light curve\n",
    "The [lightCurve()](https://agilepy.readthedocs.io/en/latest/api/analysis_api.html#api.AGAnalysis.AGAnalysis.lightCurve) method will generate a csv file containing the data for a light curve plot."
   ]
  },
  {
   "cell_type": "code",
   "execution_count": 23,
   "metadata": {},
   "outputs": [
    {
     "name": "stdout",
     "output_type": "stream",
     "text": [
      "2020-02-26 17:56:21,148 [INFO    ] [AGAnalysis] Number of processes: 1, Number of bins per process 3\n",
      "2020-02-26 17:56:21,150 [INFO    ] [CtsMapGenerator] Science tool called!\n",
      "2020-02-26 17:56:22,190 [INFO    ] [AGAnalysis] Science tool ctsMapGenerator produced ['/home/rt/.conda/envs/agilepy/agiletools/agilepy-test-data/unittesting-output/jupyter/lc/bin_456361778_456448178/maps/lc_analysis_EMIN00100_EMAX10000_01.cts.gz']\n",
      "2020-02-26 17:56:22,192 [INFO    ] [ExpMapGenerator] Science tool called!\n",
      "2020-02-26 17:56:27,486 [INFO    ] [AGAnalysis] Science tool expMapGenerator produced ['/home/rt/.conda/envs/agilepy/agiletools/agilepy-test-data/unittesting-output/jupyter/lc/bin_456361778_456448178/maps/lc_analysis_EMIN00100_EMAX10000_01.exp.gz']\n",
      "2020-02-26 17:56:27,488 [INFO    ] [GasMapGenerator] Science tool called!\n",
      "2020-02-26 17:56:28,906 [INFO    ] [AGAnalysis] Science tool gasMapGenerator produced ['/home/rt/.conda/envs/agilepy/agiletools/agilepy-test-data/unittesting-output/jupyter/lc/bin_456361778_456448178/maps/lc_analysis_EMIN00100_EMAX10000_01.gas.gz']\n",
      "2020-02-26 17:56:28,908 [INFO    ] [IntMapGenerator] Science tool called!\n",
      "2020-02-26 17:56:29,544 [INFO    ] [AGAnalysis] Science tool intMapGenerator produced ['/home/rt/.conda/envs/agilepy/agiletools/agilepy-test-data/unittesting-output/jupyter/lc/bin_456361778_456448178/maps/lc_analysis_EMIN00100_EMAX10000_01.int.gz']\n",
      "2020-02-26 17:56:29,547 [INFO    ] [AGAnalysis] Maplist file created in /home/rt/.conda/envs/agilepy/agiletools/agilepy-test-data/unittesting-output/jupyter/lc/bin_456361778_456448178/lc_analysis.maplist4\n",
      "2020-02-26 17:56:29,548 [INFO    ] [AGAnalysis] Took 8.398194 seconds.\n",
      "2020-02-26 17:56:29,550 [INFO    ] [SourcesLibrary] File /home/rt/.conda/envs/agilepy/agiletools/agilepy-test-data/unittesting-output/jupyter/sourceLibrary00000.txt has been produced\n",
      "2020-02-26 17:56:29,552 [INFO    ] [Multi] Science tool called!\n",
      "2020-02-26 17:56:32,489 [INFO    ] [AGAnalysis] AG_multi produced: ['/home/rt/.conda/envs/agilepy/agiletools/agilepy-test-data/unittesting-output/jupyter/lc/bin_456361778_456448178/mle/lc_analysis0000_2AGLJ2021+4029.source', '/home/rt/.conda/envs/agilepy/agiletools/agilepy-test-data/unittesting-output/jupyter/lc/bin_456361778_456448178/mle/lc_analysis0000_2AGLJ2021+3654.source']\n",
      "2020-02-26 17:56:32,491 [INFO    ] [AGAnalysis] Took 2.941909 seconds.\n",
      "2020-02-26 17:56:32,493 [INFO    ] [CtsMapGenerator] Science tool called!\n",
      "2020-02-26 17:56:33,728 [INFO    ] [AGAnalysis] Science tool ctsMapGenerator produced ['/home/rt/.conda/envs/agilepy/agiletools/agilepy-test-data/unittesting-output/jupyter/lc/bin_456448178_456534578/maps/lc_analysis_EMIN00100_EMAX10000_01.cts.gz']\n",
      "2020-02-26 17:56:33,730 [INFO    ] [ExpMapGenerator] Science tool called!\n",
      "2020-02-26 17:56:38,817 [INFO    ] [AGAnalysis] Science tool expMapGenerator produced ['/home/rt/.conda/envs/agilepy/agiletools/agilepy-test-data/unittesting-output/jupyter/lc/bin_456448178_456534578/maps/lc_analysis_EMIN00100_EMAX10000_01.exp.gz']\n",
      "2020-02-26 17:56:38,819 [INFO    ] [GasMapGenerator] Science tool called!\n",
      "2020-02-26 17:56:40,200 [INFO    ] [AGAnalysis] Science tool gasMapGenerator produced ['/home/rt/.conda/envs/agilepy/agiletools/agilepy-test-data/unittesting-output/jupyter/lc/bin_456448178_456534578/maps/lc_analysis_EMIN00100_EMAX10000_01.gas.gz']\n",
      "2020-02-26 17:56:40,202 [INFO    ] [IntMapGenerator] Science tool called!\n",
      "2020-02-26 17:56:40,783 [INFO    ] [AGAnalysis] Science tool intMapGenerator produced ['/home/rt/.conda/envs/agilepy/agiletools/agilepy-test-data/unittesting-output/jupyter/lc/bin_456448178_456534578/maps/lc_analysis_EMIN00100_EMAX10000_01.int.gz']\n",
      "2020-02-26 17:56:40,785 [INFO    ] [AGAnalysis] Maplist file created in /home/rt/.conda/envs/agilepy/agiletools/agilepy-test-data/unittesting-output/jupyter/lc/bin_456448178_456534578/lc_analysis.maplist4\n",
      "2020-02-26 17:56:40,786 [INFO    ] [AGAnalysis] Took 8.293479 seconds.\n",
      "2020-02-26 17:56:40,788 [INFO    ] [SourcesLibrary] File /home/rt/.conda/envs/agilepy/agiletools/agilepy-test-data/unittesting-output/jupyter/sourceLibrary00000.txt has been produced\n",
      "2020-02-26 17:56:40,789 [INFO    ] [Multi] Science tool called!\n",
      "2020-02-26 17:56:43,682 [INFO    ] [AGAnalysis] AG_multi produced: ['/home/rt/.conda/envs/agilepy/agiletools/agilepy-test-data/unittesting-output/jupyter/lc/bin_456448178_456534578/mle/lc_analysis0000_2AGLJ2021+4029.source', '/home/rt/.conda/envs/agilepy/agiletools/agilepy-test-data/unittesting-output/jupyter/lc/bin_456448178_456534578/mle/lc_analysis0000_2AGLJ2021+3654.source']\n",
      "2020-02-26 17:56:43,684 [INFO    ] [AGAnalysis] Took 2.897308 seconds.\n",
      "2020-02-26 17:56:43,686 [INFO    ] [CtsMapGenerator] Science tool called!\n",
      "2020-02-26 17:56:44,085 [INFO    ] [AGAnalysis] Science tool ctsMapGenerator produced ['/home/rt/.conda/envs/agilepy/agiletools/agilepy-test-data/unittesting-output/jupyter/lc/bin_456534578_456620978/maps/lc_analysis_EMIN00100_EMAX10000_01.cts.gz']\n",
      "2020-02-26 17:56:44,087 [INFO    ] [ExpMapGenerator] Science tool called!\n",
      "2020-02-26 17:56:44,962 [INFO    ] [AGAnalysis] Science tool expMapGenerator produced ['/home/rt/.conda/envs/agilepy/agiletools/agilepy-test-data/unittesting-output/jupyter/lc/bin_456534578_456620978/maps/lc_analysis_EMIN00100_EMAX10000_01.exp.gz']\n",
      "2020-02-26 17:56:44,964 [INFO    ] [GasMapGenerator] Science tool called!\n",
      "2020-02-26 17:56:46,532 [INFO    ] [AGAnalysis] Science tool gasMapGenerator produced ['/home/rt/.conda/envs/agilepy/agiletools/agilepy-test-data/unittesting-output/jupyter/lc/bin_456534578_456620978/maps/lc_analysis_EMIN00100_EMAX10000_01.gas.gz']\n",
      "2020-02-26 17:56:46,534 [INFO    ] [IntMapGenerator] Science tool called!\n",
      "2020-02-26 17:56:47,176 [INFO    ] [AGAnalysis] Science tool intMapGenerator produced ['/home/rt/.conda/envs/agilepy/agiletools/agilepy-test-data/unittesting-output/jupyter/lc/bin_456534578_456620978/maps/lc_analysis_EMIN00100_EMAX10000_01.int.gz']\n",
      "2020-02-26 17:56:47,179 [INFO    ] [AGAnalysis] Maplist file created in /home/rt/.conda/envs/agilepy/agiletools/agilepy-test-data/unittesting-output/jupyter/lc/bin_456534578_456620978/lc_analysis.maplist4\n",
      "2020-02-26 17:56:47,180 [INFO    ] [AGAnalysis] Took 3.494117 seconds.\n",
      "2020-02-26 17:56:47,182 [INFO    ] [SourcesLibrary] File /home/rt/.conda/envs/agilepy/agiletools/agilepy-test-data/unittesting-output/jupyter/sourceLibrary00000.txt has been produced\n",
      "2020-02-26 17:56:47,183 [INFO    ] [Multi] Science tool called!\n",
      "2020-02-26 17:56:50,065 [INFO    ] [AGAnalysis] AG_multi produced: ['/home/rt/.conda/envs/agilepy/agiletools/agilepy-test-data/unittesting-output/jupyter/lc/bin_456534578_456620978/mle/lc_analysis0000_2AGLJ2021+4029.source', '/home/rt/.conda/envs/agilepy/agiletools/agilepy-test-data/unittesting-output/jupyter/lc/bin_456534578_456620978/mle/lc_analysis0000_2AGLJ2021+3654.source']\n",
      "2020-02-26 17:56:50,067 [INFO    ] [AGAnalysis] Took 2.886763 seconds.\n",
      "t_start t_end sqrt_ts flux flux_err flux_ul\n",
      "456361778.0 456448178.0 0.526542 0.526542 7.65885e-07 2.35674e-06\n",
      "456448178.0 456534578.0 1.13063 1.13063 7.46566e-07 2.64912e-06\n",
      "456534578.0 456620978.0 0.0 0.0 2.31656e-06 9.2693e-06\n",
      "\n",
      "2020-02-26 17:56:50,072 [INFO    ] [AGAnalysis] Light curve created in /home/rt/.conda/envs/agilepy/agiletools/agilepy-test-data/unittesting-output/jupyter/lc/light_curve_456361778_456620978.txt\n",
      "2020-02-26 17:56:50,073 [INFO    ] [AGAnalysis] Took 28.924867 seconds.\n"
     ]
    }
   ],
   "source": [
    "lightCurveDataFile = ag.lightCurve(\"2AGLJ2021+3654\", binsize = 86400, processes=1)"
   ]
  },
  {
   "cell_type": "markdown",
   "metadata": {},
   "source": [
    "Let's inspect the output file:"
   ]
  },
  {
   "cell_type": "code",
   "execution_count": 24,
   "metadata": {},
   "outputs": [
    {
     "name": "stdout",
     "output_type": "stream",
     "text": [
      "t_start t_end sqrt_ts flux flux_err flux_ul\n",
      "456361778.0 456448178.0 0.526542 0.526542 7.65885e-07 2.35674e-06\n",
      "456448178.0 456534578.0 1.13063 1.13063 7.46566e-07 2.64912e-06\n",
      "456534578.0 456620978.0 0.0 0.0 2.31656e-06 9.2693e-06\n",
      "\n"
     ]
    }
   ],
   "source": [
    "with open(lightCurveDataFile) as lcd:\n",
    "    file_contents = lcd.read()\n",
    "print(file_contents)"
   ]
  },
  {
   "cell_type": "markdown",
   "metadata": {},
   "source": [
    "## Interacting with the SourcesLibrary"
   ]
  },
  {
   "cell_type": "markdown",
   "metadata": {},
   "source": [
    "You can interact with the SourcesLibrary throught the *AGAnalysis* class that provides you three useful methods."
   ]
  },
  {
   "cell_type": "markdown",
   "metadata": {},
   "source": [
    "### Get all the sources\n",
    "You can obtain a list of all the sources with [getSources()](https://agilepy.readthedocs.io/en/latest/api/analysis_api.html#api.AGAnalysis.AGAnalysis.getSources)."
   ]
  },
  {
   "cell_type": "code",
   "execution_count": 22,
   "metadata": {},
   "outputs": [],
   "source": [
    "sources = ag.getSources()"
   ]
  },
  {
   "cell_type": "code",
   "execution_count": 23,
   "metadata": {},
   "outputs": [
    {
     "data": {
      "text/plain": [
       "2"
      ]
     },
     "execution_count": 23,
     "metadata": {},
     "output_type": "execute_result"
    }
   ],
   "source": [
    "len(sources)"
   ]
  },
  {
   "cell_type": "code",
   "execution_count": 24,
   "metadata": {},
   "outputs": [
    {
     "name": "stdout",
     "output_type": "stream",
     "text": [
      "\n",
      "-----------------------------------------------------------\n",
      "Source name: 2AGLJ2021+4029 (PointSource) => sqrt(ts): 1.72593\n",
      "  * Position:\n",
      "\t- start_pos: (78.2375, 2.12298)\n",
      "  * Spectrum: (PLExpCutoff)\n",
      "\t- flux: 1.193e-06\n",
      "\t- index: 1.75\n",
      "\t- cutoffEnergy: 3307.63\n",
      "  * Free params: flux\n",
      "  * Multi analysis:\n",
      "\t- flux: 9.68426e-07 +- 6.75116e-07\n",
      "\t- upper limit: 2.56733e-06\n",
      "\t- ergLog: 1.56513e-10 +- 1.0911e-10\n",
      "\t- galCoeff: [0.471781]\n",
      "\t- isoCoeff: [10.2321]\n",
      "-----------------------------------------------------------\n",
      "\n",
      "-----------------------------------------------------------\n",
      "Source name: 2AGLJ2021+3654 (PointSource) => sqrt(ts): 1.17321\n",
      "  * Position:\n",
      "\t- start_pos: (75.2562, 0.151831)\n",
      "  * Spectrum: (PLExpCutoff)\n",
      "\t- flux: 7.089e-07\n",
      "\t- index: 1.38\n",
      "\t- cutoffEnergy: 960.59\n",
      "  * Free params: flux\n",
      "  * Multi analysis:\n",
      "\t- flux: 5.23926e-07 +- 5.19933e-07\n",
      "\t- upper limit: 1.79627e-06\n",
      "\t- ergLog: 8.46749e-11 +- 8.40296e-11\n",
      "\t- galCoeff: [0.549708]\n",
      "\t- isoCoeff: [8.66681]\n",
      "-----------------------------------------------------------\n"
     ]
    }
   ],
   "source": [
    "for source in sources:\n",
    "    print(source)"
   ]
  },
  {
   "cell_type": "markdown",
   "metadata": {},
   "source": [
    "### Selecting sources"
   ]
  },
  {
   "cell_type": "markdown",
   "metadata": {},
   "source": [
    "You can perform a query with [selectSources(selection)](https://agilepy.readthedocs.io/en/latest/api/analysis_api.html#api.AGAnalysis.AGAnalysis.selectSources).\n",
    "\n",
    "The sources can be selected with the '*selection*' argument, supporting either lambda functions and boolean expression strings.\n",
    "\n",
    "The selection criteria can be expressed using the following Source class’s parameters:\n",
    "\n",
    "* name: the unique code identifying the source.\n",
    "* dist: the distance of the source from the center of the maps.\n",
    "* flux: the flux value.\n",
    "* sqrtTS: the radix square of the ts.\n",
    "\n",
    "The *sqrtTS* selection parameter can be used only after a call to mle()."
   ]
  },
  {
   "cell_type": "markdown",
   "metadata": {},
   "source": [
    "#### Lamba selection"
   ]
  },
  {
   "cell_type": "code",
   "execution_count": 25,
   "metadata": {},
   "outputs": [
    {
     "name": "stdout",
     "output_type": "stream",
     "text": [
      "\n",
      "-----------------------------------------------------------\n",
      "Source name: 2AGLJ2021+4029 (PointSource) => sqrt(ts): 1.72593\n",
      "  * Position:\n",
      "\t- start_pos: (78.2375, 2.12298)\n",
      "  * Spectrum: (PLExpCutoff)\n",
      "\t- flux: 1.193e-06\n",
      "\t- index: 1.75\n",
      "\t- cutoffEnergy: 3307.63\n",
      "  * Free params: flux\n",
      "  * Multi analysis:\n",
      "\t- flux: 9.68426e-07 +- 6.75116e-07\n",
      "\t- upper limit: 2.56733e-06\n",
      "\t- ergLog: 1.56513e-10 +- 1.0911e-10\n",
      "\t- galCoeff: [0.471781]\n",
      "\t- isoCoeff: [10.2321]\n",
      "-----------------------------------------------------------\n"
     ]
    }
   ],
   "source": [
    "sources = ag.selectSources(lambda name, dist, flux : name == \"2AGLJ2021+4029\" and dist > 2.5 and flux > 0)"
   ]
  },
  {
   "cell_type": "code",
   "execution_count": 26,
   "metadata": {},
   "outputs": [
    {
     "name": "stdout",
     "output_type": "stream",
     "text": [
      "\n",
      "-----------------------------------------------------------\n",
      "Source name: 2AGLJ2021+4029 (PointSource) => sqrt(ts): 1.72593\n",
      "  * Position:\n",
      "\t- start_pos: (78.2375, 2.12298)\n",
      "  * Spectrum: (PLExpCutoff)\n",
      "\t- flux: 1.193e-06\n",
      "\t- index: 1.75\n",
      "\t- cutoffEnergy: 3307.63\n",
      "  * Free params: flux\n",
      "  * Multi analysis:\n",
      "\t- flux: 9.68426e-07 +- 6.75116e-07\n",
      "\t- upper limit: 2.56733e-06\n",
      "\t- ergLog: 1.56513e-10 +- 1.0911e-10\n",
      "\t- galCoeff: [0.471781]\n",
      "\t- isoCoeff: [10.2321]\n",
      "-----------------------------------------------------------\n"
     ]
    }
   ],
   "source": [
    "for source in sources:\n",
    "    print(source)"
   ]
  },
  {
   "cell_type": "markdown",
   "metadata": {},
   "source": [
    "#### Boolean string selection"
   ]
  },
  {
   "cell_type": "code",
   "execution_count": 27,
   "metadata": {},
   "outputs": [
    {
     "name": "stdout",
     "output_type": "stream",
     "text": [
      "\n",
      "-----------------------------------------------------------\n",
      "Source name: 2AGLJ2021+4029 (PointSource) => sqrt(ts): 1.72593\n",
      "  * Position:\n",
      "\t- start_pos: (78.2375, 2.12298)\n",
      "  * Spectrum: (PLExpCutoff)\n",
      "\t- flux: 1.193e-06\n",
      "\t- index: 1.75\n",
      "\t- cutoffEnergy: 3307.63\n",
      "  * Free params: flux\n",
      "  * Multi analysis:\n",
      "\t- flux: 9.68426e-07 +- 6.75116e-07\n",
      "\t- upper limit: 2.56733e-06\n",
      "\t- ergLog: 1.56513e-10 +- 1.0911e-10\n",
      "\t- galCoeff: [0.471781]\n",
      "\t- isoCoeff: [10.2321]\n",
      "-----------------------------------------------------------\n"
     ]
    }
   ],
   "source": [
    "sources = ag.selectSources('name == \"2AGLJ2021+4029\" AND dist > 0 AND flux > 0')"
   ]
  },
  {
   "cell_type": "code",
   "execution_count": 28,
   "metadata": {},
   "outputs": [
    {
     "name": "stdout",
     "output_type": "stream",
     "text": [
      "\n",
      "-----------------------------------------------------------\n",
      "Source name: 2AGLJ2021+4029 (PointSource) => sqrt(ts): 1.72593\n",
      "  * Position:\n",
      "\t- start_pos: (78.2375, 2.12298)\n",
      "  * Spectrum: (PLExpCutoff)\n",
      "\t- flux: 1.193e-06\n",
      "\t- index: 1.75\n",
      "\t- cutoffEnergy: 3307.63\n",
      "  * Free params: flux\n",
      "  * Multi analysis:\n",
      "\t- flux: 9.68426e-07 +- 6.75116e-07\n",
      "\t- upper limit: 2.56733e-06\n",
      "\t- ergLog: 1.56513e-10 +- 1.0911e-10\n",
      "\t- galCoeff: [0.471781]\n",
      "\t- isoCoeff: [10.2321]\n",
      "-----------------------------------------------------------\n"
     ]
    }
   ],
   "source": [
    "for source in sources:\n",
    "    print(source)"
   ]
  },
  {
   "cell_type": "markdown",
   "metadata": {},
   "source": [
    "### Free or Fix sources parameters"
   ]
  },
  {
   "cell_type": "markdown",
   "metadata": {},
   "source": [
    "You can let some of the source parameters free to vary: in order to decide which parameters are free to vary and which parameters are fixed you can use the [freeSources(selection, parameterName, free)](https://agilepy.readthedocs.io/en/latest/api/analysis_api.html#api.AGAnalysis.AGAnalysis.freeSources) method.\n",
    "\n",
    "The sources can be selected with the '*selection*' argument.\n",
    "\n",
    "The '*parameterName*' argument is the name of the parameter you want to fix or let free to vary.\n",
    "\n",
    "The '*free*' argument is a boolean:\n",
    "* True: the parameter will be free to vary\n",
    "* False: the parameter will be fixed.\n",
    "\n",
    "The method returns the list of sources affected by the update."
   ]
  },
  {
   "cell_type": "code",
   "execution_count": 29,
   "metadata": {},
   "outputs": [
    {
     "name": "stdout",
     "output_type": "stream",
     "text": [
      "\n",
      "-----------------------------------------------------------\n",
      "Source name: 2AGLJ2021+4029 (PointSource) => sqrt(ts): 1.72593\n",
      "  * Position:\n",
      "\t- start_pos: (78.2375, 2.12298)\n",
      "  * Spectrum: (PLExpCutoff)\n",
      "\t- flux: 1.193e-06\n",
      "\t- index: 1.75\n",
      "\t- cutoffEnergy: 3307.63\n",
      "  * Free params: flux\n",
      "  * Multi analysis:\n",
      "\t- flux: 9.68426e-07 +- 6.75116e-07\n",
      "\t- upper limit: 2.56733e-06\n",
      "\t- ergLog: 1.56513e-10 +- 1.0911e-10\n",
      "\t- galCoeff: [0.471781]\n",
      "\t- isoCoeff: [10.2321]\n",
      "-----------------------------------------------------------\n"
     ]
    }
   ],
   "source": [
    "sources = ag.freeSources('name == \"2AGLJ2021+4029\" AND dist > 0 AND flux > 0', \"flux\", False)"
   ]
  },
  {
   "cell_type": "code",
   "execution_count": 30,
   "metadata": {},
   "outputs": [
    {
     "name": "stdout",
     "output_type": "stream",
     "text": [
      "\n",
      "-----------------------------------------------------------\n",
      "Source name: 2AGLJ2021+4029 (PointSource) => sqrt(ts): 1.72593\n",
      "  * Position:\n",
      "\t- start_pos: (78.2375, 2.12298)\n",
      "  * Spectrum: (PLExpCutoff)\n",
      "\t- flux: 1.193e-06\n",
      "\t- index: 1.75\n",
      "\t- cutoffEnergy: 3307.63\n",
      "  * Free params: \n",
      "  * Multi analysis:\n",
      "\t- flux: 9.68426e-07 +- 6.75116e-07\n",
      "\t- upper limit: 2.56733e-06\n",
      "\t- ergLog: 1.56513e-10 +- 1.0911e-10\n",
      "\t- galCoeff: [0.471781]\n",
      "\t- isoCoeff: [10.2321]\n",
      "-----------------------------------------------------------\n"
     ]
    }
   ],
   "source": [
    "print(sources[0])"
   ]
  },
  {
   "cell_type": "code",
   "execution_count": 31,
   "metadata": {},
   "outputs": [
    {
     "name": "stdout",
     "output_type": "stream",
     "text": [
      "\n",
      "-----------------------------------------------------------\n",
      "Source name: 2AGLJ2021+4029 (PointSource) => sqrt(ts): 1.72593\n",
      "  * Position:\n",
      "\t- start_pos: (78.2375, 2.12298)\n",
      "  * Spectrum: (PLExpCutoff)\n",
      "\t- flux: 1.193e-06\n",
      "\t- index: 1.75\n",
      "\t- cutoffEnergy: 3307.63\n",
      "  * Free params: \n",
      "  * Multi analysis:\n",
      "\t- flux: 9.68426e-07 +- 6.75116e-07\n",
      "\t- upper limit: 2.56733e-06\n",
      "\t- ergLog: 1.56513e-10 +- 1.0911e-10\n",
      "\t- galCoeff: [0.471781]\n",
      "\t- isoCoeff: [10.2321]\n",
      "-----------------------------------------------------------\n"
     ]
    }
   ],
   "source": [
    "sources = ag.freeSources('name == \"2AGLJ2021+4029\" AND dist > 0 AND flux > 0', \"pos\", True)"
   ]
  },
  {
   "cell_type": "code",
   "execution_count": 32,
   "metadata": {},
   "outputs": [
    {
     "name": "stdout",
     "output_type": "stream",
     "text": [
      "\n",
      "-----------------------------------------------------------\n",
      "Source name: 2AGLJ2021+4029 (PointSource) => sqrt(ts): 1.72593\n",
      "  * Position:\n",
      "\t- start_pos: (78.2375, 2.12298)\n",
      "  * Spectrum: (PLExpCutoff)\n",
      "\t- flux: 1.193e-06\n",
      "\t- index: 1.75\n",
      "\t- cutoffEnergy: 3307.63\n",
      "  * Free params: pos\n",
      "  * Multi analysis:\n",
      "\t- flux: 9.68426e-07 +- 6.75116e-07\n",
      "\t- upper limit: 2.56733e-06\n",
      "\t- ergLog: 1.56513e-10 +- 1.0911e-10\n",
      "\t- galCoeff: [0.471781]\n",
      "\t- isoCoeff: [10.2321]\n",
      "\t- L_peak: 78.2375\n",
      "\t- B_peak: 2.12298\n",
      "\t- distFromStartPos: 8.53774e-07\n",
      "\t- L: -1.0\n",
      "\t- B: -1.0\n",
      "\t- distFromStartPos: -1.0\n",
      "\t- r: -1.0\n",
      "\t- a: -1.0\n",
      "\t- b: -1.0\n",
      "\t- phi: -1.0\n",
      "-----------------------------------------------------------\n"
     ]
    }
   ],
   "source": [
    "print(sources[0])"
   ]
  },
  {
   "cell_type": "markdown",
   "metadata": {},
   "source": [
    "### Deleting sources"
   ]
  },
  {
   "cell_type": "markdown",
   "metadata": {},
   "source": [
    "You can delete sources with [deleteSources(selection)](https://agilepy.readthedocs.io/en/latest/api/analysis_api.html#api.AGAnalysis.AGAnalysis.deleteSources).\n",
    "\n",
    "The method returns the list of deleted sources."
   ]
  },
  {
   "cell_type": "code",
   "execution_count": null,
   "metadata": {},
   "outputs": [],
   "source": [
    "deletedSources = ag.deleteSources('flux > 0')"
   ]
  },
  {
   "cell_type": "code",
   "execution_count": null,
   "metadata": {},
   "outputs": [],
   "source": [
    "for s in deletedSources:\n",
    "    print(s)"
   ]
  },
  {
   "cell_type": "markdown",
   "metadata": {},
   "source": [
    "We can check that the sources are deleted."
   ]
  },
  {
   "cell_type": "code",
   "execution_count": null,
   "metadata": {},
   "outputs": [],
   "source": [
    "sources = ag.getSources()"
   ]
  },
  {
   "cell_type": "code",
   "execution_count": null,
   "metadata": {},
   "outputs": [],
   "source": [
    "len(sources)"
   ]
  },
  {
   "cell_type": "markdown",
   "metadata": {},
   "source": [
    "### Adding a source\n",
    "You can add a new source with [addSource(sourceName, sourceDict)](https://agilepy.readthedocs.io/en/latest/api/analysis_api.html#api.AGAnalysis.AGAnalysis.addSource).\n",
    "\n",
    "You have to pass a dictionary containing the source's data."
   ]
  },
  {
   "cell_type": "code",
   "execution_count": null,
   "metadata": {},
   "outputs": [],
   "source": [
    "newSourceDict = {\n",
    "    \"glon\" : 6.16978,\n",
    "    \"glat\": -0.0676943,\n",
    "    \"spectrumType\" : \"LogParabola\",\n",
    "    \"flux\": 35.79e-08,\n",
    "    \"curvature\": 0.682363\n",
    "}\n",
    "if ag.addSource(\"2AGLJ1801-2334\", newSourceDict):\n",
    "    print(\"Source loaded\")"
   ]
  },
  {
   "cell_type": "code",
   "execution_count": null,
   "metadata": {},
   "outputs": [],
   "source": [
    "if not ag.addSource(\"2AGLJ1801-2334\", newSourceDict):\n",
    "    print(\"Source NOT loaded, it is already present in the Sources Library\")"
   ]
  },
  {
   "cell_type": "markdown",
   "metadata": {},
   "source": [
    "## Updating the configuration options"
   ]
  },
  {
   "cell_type": "markdown",
   "metadata": {},
   "source": [
    "You can update the configuration options using the [setOptions(**kwargs)](https://agilepy.readthedocs.io/en/latest/api/analysis_api.html#api.AGAnalysis.AGAnalysis.setOptions) method."
   ]
  },
  {
   "cell_type": "code",
   "execution_count": null,
   "metadata": {},
   "outputs": [],
   "source": [
    "ag.setOptions(binsize=0.6, mapsize=60, energybins=[[100, 1000], [1000, 3000]])"
   ]
  },
  {
   "cell_type": "markdown",
   "metadata": {},
   "source": [
    "You can print on the console the configuration options values with the printOptions(section) method.\n",
    "\n",
    "The section argument is optional but you can use to print a subset of the options."
   ]
  },
  {
   "cell_type": "code",
   "execution_count": null,
   "metadata": {},
   "outputs": [],
   "source": [
    "ag.printOptions(\"maps\")"
   ]
  },
  {
   "cell_type": "markdown",
   "metadata": {},
   "source": [
    "## Displaying the sky maps"
   ]
  },
  {
   "cell_type": "markdown",
   "metadata": {},
   "source": [
    "You can display the sky maps using the [displaySkyMap()]() method."
   ]
  },
  {
   "cell_type": "code",
   "execution_count": null,
   "metadata": {},
   "outputs": [],
   "source": [
    "%matplotlib notebook"
   ]
  },
  {
   "cell_type": "code",
   "execution_count": null,
   "metadata": {},
   "outputs": [],
   "source": [
    "ag.displaySkyMap(ctsMap, smooth=False)"
   ]
  },
  {
   "cell_type": "markdown",
   "metadata": {},
   "source": [
    "You can also smooth the image"
   ]
  },
  {
   "cell_type": "code",
   "execution_count": null,
   "metadata": {},
   "outputs": [],
   "source": [
    "ag.displaySkyMap(ctsMap, smooth=True, sigma=5)"
   ]
  },
  {
   "cell_type": "markdown",
   "metadata": {},
   "source": [
    "Finally you can save it on disk"
   ]
  },
  {
   "cell_type": "code",
   "execution_count": null,
   "metadata": {},
   "outputs": [],
   "source": [
    "outputfile = ag.displaySkyMap(expMap, smooth=True, sigma=5, saveImage=True)\n",
    "print(outputfile,\"saved.\")"
   ]
  },
  {
   "cell_type": "code",
   "execution_count": null,
   "metadata": {},
   "outputs": [],
   "source": []
  }
 ],
 "metadata": {
  "kernelspec": {
   "display_name": "Python 3",
   "language": "python",
   "name": "python3"
  },
  "language_info": {
   "codemirror_mode": {
    "name": "ipython",
    "version": 3
   },
   "file_extension": ".py",
   "mimetype": "text/x-python",
   "name": "python",
   "nbconvert_exporter": "python",
   "pygments_lexer": "ipython3",
   "version": "3.7.6"
  }
 },
 "nbformat": 4,
 "nbformat_minor": 4
}
