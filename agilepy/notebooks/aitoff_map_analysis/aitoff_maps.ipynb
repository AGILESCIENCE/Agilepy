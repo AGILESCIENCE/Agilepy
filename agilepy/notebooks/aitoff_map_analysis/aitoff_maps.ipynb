{
 "cells": [
  {
   "cell_type": "markdown",
   "metadata": {},
   "source": [
    "# AITOFF maps"
   ]
  },
  {
   "cell_type": "code",
   "execution_count": null,
   "metadata": {},
   "outputs": [],
   "source": [
    "from agilepy.api.AGAnalysis import AGAnalysis"
   ]
  },
  {
   "cell_type": "code",
   "execution_count": null,
   "metadata": {},
   "outputs": [],
   "source": [
    "from os.path import join, expandvars\n",
    "import shutil\n",
    "from pathlib import Path"
   ]
  },
  {
   "cell_type": "markdown",
   "metadata": {},
   "source": [
    "## Output directory"
   ]
  },
  {
   "cell_type": "code",
   "execution_count": null,
   "metadata": {},
   "outputs": [],
   "source": [
    "outputFolder = Path(expandvars(\"$HOME/agilepy_analysis/cygnus_aitoff/output\"))\n",
    "\n",
    "if Path(outputFolder).exists():\n",
    "    print(\"Deleting\",outputFolder)\n",
    "    rmtree(outputFolder)"
   ]
  },
  {
   "cell_type": "markdown",
   "metadata": {},
   "source": [
    "## Configuration file"
   ]
  },
  {
   "cell_type": "code",
   "execution_count": null,
   "metadata": {},
   "outputs": [],
   "source": [
    "config = \"\"\"\n",
    "input:\n",
    "  evtfile: /AGILE_PROC3/FM3.119_ASDC2/INDEX/EVT.index\n",
    "  logfile: /AGILE_PROC3/DATA_ASDC2/INDEX/LOG.log.index\n",
    "\n",
    "output:\n",
    "  outdir: %s\n",
    "  filenameprefix: science_api_tutorial\n",
    "  logfilenameprefix: science_api_tutorial_log\n",
    "  verboselvl: 1\n",
    "\n",
    "maps:\n",
    "  binsize: 1\n",
    "  expstep: 2\n",
    "  mapsize: 360\n",
    "  \n",
    "selection:\n",
    "  tmin: 58884.0\n",
    "  tmax: 58886.0\n",
    "  timetype: MJD\n",
    "  glon: 0\n",
    "  glat: 0\n",
    "  proj: AIT  \n",
    "  fovradmax: 50\n",
    "  albedorad: 80\n",
    "  \n",
    "\"\"\"%(outputFolder)\n",
    "\n",
    "sources_hypotesis = \"\"\"\n",
    "15.7017e-08 80.3286 1.12047 2.16619 0 2 _2AGLJ2032+4135 0 0 0 0 0.5 5 20 10000 0 100\n",
    "16.9737e-08 79.3 0.55 2.1 3 2 CYGX3 0 0 0 0 0.5 5 20 10000 0 100\n",
    "119.303e-08 78.2375 2.12298 1.75823 0 2 _2AGLJ2021+4029 0 1 3307.63 0 0.5 5 20 10000 0 100\n",
    "\"\"\"\n",
    "\n",
    "with open(\"./agilepy_conf.yaml\", \"w\") as cf:\n",
    "    cf.write(config)\n",
    "    \n",
    "with open(\"./sources.txt\", \"w\") as sf:\n",
    "    sf.write(sources_hypotesis)"
   ]
  },
  {
   "cell_type": "markdown",
   "metadata": {},
   "source": [
    "## Starting the analysis"
   ]
  },
  {
   "cell_type": "code",
   "execution_count": null,
   "metadata": {},
   "outputs": [],
   "source": [
    "aga = AGAnalysis(\"./agilepy_conf.yaml\", \"./sources.txt\")"
   ]
  },
  {
   "cell_type": "code",
   "execution_count": null,
   "metadata": {},
   "outputs": [],
   "source": [
    "#isoBkg, galBkg = aga.calcBkg('CYGX3')\n",
    "#print(\"iso:\",isoBkg)\n",
    "#print(\"gal:\",galBkg)"
   ]
  },
  {
   "cell_type": "code",
   "execution_count": null,
   "metadata": {},
   "outputs": [],
   "source": [
    "maplistfile = aga.generateMaps()"
   ]
  },
  {
   "cell_type": "code",
   "execution_count": null,
   "metadata": {},
   "outputs": [],
   "source": [
    "maps = aga.getSkyMaps()\n",
    "maps"
   ]
  },
  {
   "cell_type": "code",
   "execution_count": null,
   "metadata": {},
   "outputs": [],
   "source": [
    "cts_map = maps[0][0]\n",
    "exp_map = maps[0][1]"
   ]
  },
  {
   "cell_type": "code",
   "execution_count": null,
   "metadata": {},
   "outputs": [],
   "source": [
    "%matplotlib notebook"
   ]
  },
  {
   "cell_type": "code",
   "execution_count": null,
   "metadata": {},
   "outputs": [],
   "source": [
    "aga.displaySkyMap(cts_map)"
   ]
  },
  {
   "cell_type": "code",
   "execution_count": null,
   "metadata": {
    "scrolled": false
   },
   "outputs": [],
   "source": [
    "aga.displaySkyMap(cts_map, smooth=2)"
   ]
  },
  {
   "cell_type": "code",
   "execution_count": null,
   "metadata": {},
   "outputs": [],
   "source": [
    "aga.displaySkyMap(exp_map)"
   ]
  },
  {
   "cell_type": "code",
   "execution_count": null,
   "metadata": {},
   "outputs": [],
   "source": []
  }
 ],
 "metadata": {
  "kernelspec": {
   "display_name": "Python 3",
   "language": "python",
   "name": "python3"
  },
  "language_info": {
   "codemirror_mode": {
    "name": "ipython",
    "version": 3
   },
   "file_extension": ".py",
   "mimetype": "text/x-python",
   "name": "python",
   "nbconvert_exporter": "python",
   "pygments_lexer": "ipython3",
   "version": "3.7.6"
  }
 },
 "nbformat": 4,
 "nbformat_minor": 4
}
