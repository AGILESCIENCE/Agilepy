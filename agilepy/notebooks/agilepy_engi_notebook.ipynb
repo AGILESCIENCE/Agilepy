{
 "cells": [
  {
   "cell_type": "markdown",
   "metadata": {},
   "source": [
    "# Agilepy engineering API"
   ]
  },
  {
   "cell_type": "code",
   "execution_count": null,
   "metadata": {},
   "outputs": [],
   "source": [
    "import os\n",
    "from pathlib import Path\n",
    "from shutil import rmtree"
   ]
  },
  {
   "cell_type": "code",
   "execution_count": null,
   "metadata": {},
   "outputs": [],
   "source": [
    "outDir = Path(os.environ[\"AGILE\"]).joinpath( Path(\"agilepy-test-data/unittesting-output/jupyter/\") )\n",
    "\n",
    "if outDir.exists() and outDir.is_dir():\n",
    "    print(\"Removing\",outDir)\n",
    "    rmtree(outDir)"
   ]
  },
  {
   "cell_type": "code",
   "execution_count": null,
   "metadata": {},
   "outputs": [],
   "source": [
    "from agilepy.api.AGEng import AGEng"
   ]
  },
  {
   "cell_type": "code",
   "execution_count": null,
   "metadata": {},
   "outputs": [],
   "source": [
    "agEng = AGEng(\"./config_file.yaml\")"
   ]
  },
  {
   "cell_type": "code",
   "execution_count": null,
   "metadata": {},
   "outputs": [],
   "source": [
    "agEng.config.printOptions(\"plotting\")"
   ]
  },
  {
   "cell_type": "code",
   "execution_count": null,
   "metadata": {},
   "outputs": [],
   "source": [
    "%matplotlib notebook"
   ]
  },
  {
   "cell_type": "code",
   "execution_count": null,
   "metadata": {},
   "outputs": [],
   "source": [
    "src_x=129.7\n",
    "src_y=3.7\n",
    "ref=\"gal\"\n",
    "zmax=60\n",
    "step=10\n",
    "logfilesIndex=None\n",
    "computeHistogram=True\n",
    "writeFiles=True\n",
    "saveImage=True\n",
    "formatExt=\"png\"\n",
    "title=\"Visibility plot 184075134 - 184275134\""
   ]
  },
  {
   "cell_type": "code",
   "execution_count": null,
   "metadata": {
    "scrolled": false
   },
   "outputs": [],
   "source": [
    "plot = agEng.visibilityPlot(456384273, 459426294, src_x, src_y, ref, zmax, step, computeHistogram, writeFiles, logfilesIndex, saveImage, formatExt, title)"
   ]
  }
 ],
 "metadata": {
  "kernelspec": {
   "display_name": "Python 3",
   "language": "python",
   "name": "python3"
  },
  "language_info": {
   "codemirror_mode": {
    "name": "ipython",
    "version": 3
   },
   "file_extension": ".py",
   "mimetype": "text/x-python",
   "name": "python",
   "nbconvert_exporter": "python",
   "pygments_lexer": "ipython3",
   "version": "3.7.6"
  }
 },
 "nbformat": 4,
 "nbformat_minor": 4
}
