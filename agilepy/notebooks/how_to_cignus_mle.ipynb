{
 "cells": [
  {
   "cell_type": "markdown",
   "metadata": {},
   "source": [
    "# Maximum likelyhood estimation analysis "
   ]
  },
  {
   "cell_type": "markdown",
   "metadata": {},
   "source": [
    "## Hypotesis\n",
    "There is a probable flare from Cygnus X-3."
   ]
  },
  {
   "cell_type": "markdown",
   "metadata": {},
   "source": [
    "## Data"
   ]
  },
  {
   "cell_type": "code",
   "execution_count": 5,
   "metadata": {},
   "outputs": [],
   "source": [
    "tmin=\"2020-02-05T00:01:07\"\n",
    "tmax=\"2020-02-07T00:01:07\"\n",
    "l=79.8\n",
    "b=0.7\n",
    "sources_hypotesis = \"\"\"\n",
    "15.7017e-08 80.3286 1.12047 2.16619 0 2 _2AGLJ2032+4135 0.0 0 0 0 0.5 5 20 10000 0 100\n",
    "16.9737e-08 79.9247 0.661449 1.99734 0 2 CYGX3 0.0 0 0 0 0.5 5 20 10000 0 100\n",
    "119.303e-08 78.2375 2.12298 1.75823 3 2 _2AGLJ2021+4029 0.0 1 3307.63 0 0.5 5 20 10000 0 100\n",
    "8.30805e-08 76.5566 1.03365 2.60908 0 2 _2AGLJ2020+3824 0.0 0 0 0 0.5 5 20 10000 0 100\n",
    "9.97261e-08 81.9171 3.0854 1.92501 0 2 _2AGLJ2029+4403 0.0 0 0 0 0.5 5 20 10000 0 100\n",
    "\"\"\"\n",
    "data_archive=\"ASDC_PROC2\""
   ]
  },
  {
   "cell_type": "markdown",
   "metadata": {},
   "source": [
    "The tmin and tmax ISO datas can be converted to MJD or TT with the following web tool: https://tools.ssdc.asi.it/conversionTools"
   ]
  },
  {
   "cell_type": "code",
   "execution_count": 7,
   "metadata": {},
   "outputs": [],
   "source": [
    "tmin_mjd=58884.00077546\n",
    "tmax_mjd=58884.00077546"
   ]
  },
  {
   "cell_type": "markdown",
   "metadata": {},
   "source": [
    "## Configuration file"
   ]
  },
  {
   "cell_type": "code",
   "execution_count": 6,
   "metadata": {},
   "outputs": [],
   "source": [
    "conf_file = \"\"\"\n",
    "input:\n",
    "  evtfile: /ASDC_PROC2/FM3.119_2/INDEX/EVT.index\n",
    "  logfile: /ASDC_PROC2/DATA_2/INDEX/LOG.log.index\n",
    "\n",
    "output:\n",
    "  outdir: $AGILE/agilepy-test-data/unittesting-output/utils/logs\n",
    "  filenameprefix: testcase\n",
    "  logfilenameprefix: testcase\n",
    "  verboselvl: 2\n",
    "\n",
    "selection:\n",
    "  tmin: %f\n",
    "  tmax: %f\n",
    "  timetype: MJD\n",
    "  glon: %f\n",
    "  glat: %f\n",
    "\"\"\".format(tmin_mjd, tmax_mjd, l, b)"
   ]
  },
  {
   "cell_type": "code",
   "execution_count": null,
   "metadata": {},
   "outputs": [],
   "source": []
  }
 ],
 "metadata": {
  "kernelspec": {
   "display_name": "Python 3",
   "language": "python",
   "name": "python3"
  },
  "language_info": {
   "codemirror_mode": {
    "name": "ipython",
    "version": 3
   },
   "file_extension": ".py",
   "mimetype": "text/x-python",
   "name": "python",
   "nbconvert_exporter": "python",
   "pygments_lexer": "ipython3",
   "version": "3.7.6"
  }
 },
 "nbformat": 4,
 "nbformat_minor": 4
}
