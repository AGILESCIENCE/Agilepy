{
 "cells": [
  {
   "cell_type": "markdown",
   "metadata": {},
   "source": [
    "# Maximum likelyhood estimation analysis "
   ]
  },
  {
   "cell_type": "markdown",
   "metadata": {},
   "source": [
    "## Hypotesis\n",
    "There is a probable flare from Cygnus X-3."
   ]
  },
  {
   "cell_type": "code",
   "execution_count": null,
   "metadata": {},
   "outputs": [],
   "source": [
    "from os.path import join\n",
    "import shutil\n",
    "from agilepy.api.AGAnalysis import AGAnalysis\n",
    "from pathlib import Path"
   ]
  },
  {
   "cell_type": "markdown",
   "metadata": {},
   "source": [
    "## Data"
   ]
  },
  {
   "cell_type": "code",
   "execution_count": null,
   "metadata": {},
   "outputs": [],
   "source": [
    "tmin=\"2020-02-05T00:01:07\"\n",
    "tmax=\"2020-02-07T00:01:07\"\n",
    "l=79.8\n",
    "b=0.7\n",
    "sources_hypotesis = \"\"\"\n",
    "15.7017e-08 80.3286 1.12047 2.16619 0 2 _2AGLJ2032+4135 0.0 0 0 0 0.5 5 20 10000 0 100\n",
    "16.9737e-08 79.9247 0.661449 1.99734 0 2 CYGX3 0.0 0 0 0 0.5 5 20 10000 0 100\n",
    "119.303e-08 78.2375 2.12298 1.75823 3 2 _2AGLJ2021+4029 0.0 1 3307.63 0 0.5 5 20 10000 0 100\n",
    "8.30805e-08 76.5566 1.03365 2.60908 0 2 _2AGLJ2020+3824 0.0 0 0 0 0.5 5 20 10000 0 100\n",
    "9.97261e-08 81.9171 3.0854 1.92501 0 2 _2AGLJ2029+4403 0.0 0 0 0 0.5 5 20 10000 0 100\n",
    "\"\"\"\n",
    "log_index=\"/AGILE_PROC3/DATA_ASDC2/INDEX/LOG.log.index\"\n",
    "evt_index=\"/AGILE_PROC3/FM3.119_ASDC2/INDEX/EVT.index\"\n",
    "\n",
    "out_dir=\"$AGILE/agilepy_analysis/cignus/output\"\n",
    "\n",
    "if Path(out_dir).exists():\n",
    "    shutil.rmtree(out_dir)\n",
    "\n",
    "work_dir=\"$AGILE/agilepy_analysis/cignus/conf\"\n",
    "Path(work_dir).mkdir(parents=True, exist_ok=True)"
   ]
  },
  {
   "cell_type": "markdown",
   "metadata": {},
   "source": [
    "The tmin and tmax ISO datas can be converted to MJD or TT with the following web tool: https://tools.ssdc.asi.it/conversionTools"
   ]
  },
  {
   "cell_type": "code",
   "execution_count": null,
   "metadata": {},
   "outputs": [],
   "source": [
    "tmin_mjd=58884.00077546\n",
    "tmax_mjd=58886.00077546"
   ]
  },
  {
   "cell_type": "markdown",
   "metadata": {},
   "source": [
    "## Configuration file"
   ]
  },
  {
   "cell_type": "code",
   "execution_count": null,
   "metadata": {},
   "outputs": [],
   "source": [
    "conf_file_path = join(work_dir,\"agilepy_conf.yaml\")"
   ]
  },
  {
   "cell_type": "code",
   "execution_count": null,
   "metadata": {},
   "outputs": [],
   "source": [
    "conf_file = \"\"\"\n",
    "input:\n",
    "  evtfile: %s\n",
    "  logfile: %s\n",
    "\n",
    "output:\n",
    "  outdir: %s\n",
    "  filenameprefix: cignus_analysis\n",
    "  logfilenameprefix: cignus_analysis\n",
    "  verboselvl: 1\n",
    "\n",
    "selection:\n",
    "  tmin: %f\n",
    "  tmax: %f\n",
    "  timetype: MJD\n",
    "  glon: %f\n",
    "  glat: %f\n",
    "\"\"\"%(evt_index, log_index, out_dir, tmin_mjd, tmax_mjd, l, b)"
   ]
  },
  {
   "cell_type": "code",
   "execution_count": null,
   "metadata": {},
   "outputs": [],
   "source": [
    "with open(conf_file_path , \"w\") as cf:\n",
    "    cf.write(conf_file)"
   ]
  },
  {
   "cell_type": "markdown",
   "metadata": {},
   "source": [
    "## Sources file"
   ]
  },
  {
   "cell_type": "code",
   "execution_count": null,
   "metadata": {},
   "outputs": [],
   "source": [
    "sources_file_path = join(work_dir,\"sources.txt\")"
   ]
  },
  {
   "cell_type": "code",
   "execution_count": null,
   "metadata": {},
   "outputs": [],
   "source": [
    "with open(sources_file_path, \"w\") as sf:\n",
    "    sf.write(sources_hypotesis)"
   ]
  },
  {
   "cell_type": "markdown",
   "metadata": {},
   "source": [
    "## Starting the analysis"
   ]
  },
  {
   "cell_type": "code",
   "execution_count": null,
   "metadata": {},
   "outputs": [],
   "source": [
    "aga = AGAnalysis(conf_file_path, sources_file_path)"
   ]
  },
  {
   "cell_type": "code",
   "execution_count": null,
   "metadata": {},
   "outputs": [],
   "source": [
    "maplistfile = aga.generateMaps()"
   ]
  },
  {
   "cell_type": "code",
   "execution_count": null,
   "metadata": {},
   "outputs": [],
   "source": [
    "with open(maplistfile, \"r\") as mlf:\n",
    "    mlf_content = mlf.readlines()"
   ]
  },
  {
   "cell_type": "code",
   "execution_count": null,
   "metadata": {},
   "outputs": [],
   "source": [
    "mlf_content = mlf_content[0].split(\" \")"
   ]
  },
  {
   "cell_type": "code",
   "execution_count": null,
   "metadata": {},
   "outputs": [],
   "source": [
    "cts_map = mlf_content[0]\n",
    "exp_map = mlf_content[1]"
   ]
  },
  {
   "cell_type": "code",
   "execution_count": null,
   "metadata": {},
   "outputs": [],
   "source": [
    "%matplotlib notebook"
   ]
  },
  {
   "cell_type": "code",
   "execution_count": null,
   "metadata": {},
   "outputs": [],
   "source": [
    "aga.displaySkyMap(cts_map)"
   ]
  },
  {
   "cell_type": "code",
   "execution_count": null,
   "metadata": {
    "scrolled": false
   },
   "outputs": [],
   "source": [
    "aga.displaySkyMap(cts_map, smooth=3)"
   ]
  },
  {
   "cell_type": "code",
   "execution_count": null,
   "metadata": {},
   "outputs": [],
   "source": [
    "aga.displaySkyMap(exp_map)"
   ]
  },
  {
   "cell_type": "code",
   "execution_count": null,
   "metadata": {},
   "outputs": [],
   "source": [
    "aga.mle(maplistfile)"
   ]
  },
  {
   "cell_type": "code",
   "execution_count": null,
   "metadata": {},
   "outputs": [],
   "source": [
    "sources = aga.selectSources(\"flux > 0\")"
   ]
  },
  {
   "cell_type": "code",
   "execution_count": null,
   "metadata": {},
   "outputs": [],
   "source": [
    "for s in sources:\n",
    "    print(s)"
   ]
  },
  {
   "cell_type": "code",
   "execution_count": null,
   "metadata": {},
   "outputs": [],
   "source": []
  }
 ],
 "metadata": {
  "kernelspec": {
   "display_name": "Python 3",
   "language": "python",
   "name": "python3"
  },
  "language_info": {
   "codemirror_mode": {
    "name": "ipython",
    "version": 3
   },
   "file_extension": ".py",
   "mimetype": "text/x-python",
   "name": "python",
   "nbconvert_exporter": "python",
   "pygments_lexer": "ipython3",
   "version": "3.7.6"
  }
 },
 "nbformat": 4,
 "nbformat_minor": 4
}
