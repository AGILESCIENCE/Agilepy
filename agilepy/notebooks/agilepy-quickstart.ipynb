{
 "cells": [
  {
   "cell_type": "markdown",
   "metadata": {},
   "source": [
    "# Agilepy quickstart notebook"
   ]
  },
  {
   "cell_type": "markdown",
   "metadata": {},
   "source": [
    "This notebook will show you how to use the Agilepy library."
   ]
  },
  {
   "cell_type": "markdown",
   "metadata": {},
   "source": [
    "## The output directory must deleted first"
   ]
  },
  {
   "cell_type": "markdown",
   "metadata": {},
   "source": [
    "The path to the output directory is defined in the configuration file (more on that later)."
   ]
  },
  {
   "cell_type": "code",
   "execution_count": 1,
   "metadata": {},
   "outputs": [],
   "source": [
    "import os\n",
    "from pathlib import Path\n",
    "from shutil import rmtree"
   ]
  },
  {
   "cell_type": "code",
   "execution_count": 2,
   "metadata": {},
   "outputs": [
    {
     "name": "stdout",
     "output_type": "stream",
     "text": [
      "Removing /opt/anaconda3/envs/agilepy/agiletools/agilepy-test-data/unittesting-output/jupyter\n"
     ]
    }
   ],
   "source": [
    "outDir = Path(os.environ[\"AGILE\"]).joinpath( Path(\"agilepy-test-data/unittesting-output/jupyter/\") )\n",
    "\n",
    "if outDir.exists() and outDir.is_dir():\n",
    "    print(\"Removing\",outDir)\n",
    "    rmtree(outDir)"
   ]
  },
  {
   "cell_type": "code",
   "execution_count": 3,
   "metadata": {},
   "outputs": [],
   "source": [
    "def readFile(filepath):\n",
    "    with open(filepath, \"r\") as f:\n",
    "        return f.readlines()"
   ]
  },
  {
   "cell_type": "markdown",
   "metadata": {},
   "source": [
    "## Using the API class"
   ]
  },
  {
   "cell_type": "markdown",
   "metadata": {},
   "source": [
    "We need to import the class in our scope"
   ]
  },
  {
   "cell_type": "code",
   "execution_count": 4,
   "metadata": {},
   "outputs": [],
   "source": [
    "from agilepy.api.AGAnalysis import AGAnalysis"
   ]
  },
  {
   "cell_type": "markdown",
   "metadata": {},
   "source": [
    "The constructor need two files:\n",
    "* a configuration file (yaml)\n",
    "* a file containing a list of sources (xml)\n",
    "\n",
    "For this tutorial, we already wrote them. If you want to look at all the possible configuration options, check the [Agilepy's documentation](https://agilepy.readthedocs.io/en/latest/manual/configuration_file.html).\n",
    "\n",
    "Run the next cell to read the minimal configuration file we wrote:"
   ]
  },
  {
   "cell_type": "code",
   "execution_count": 5,
   "metadata": {},
   "outputs": [
    {
     "name": "stdout",
     "output_type": "stream",
     "text": [
      "input:\n",
      "  evtfile: $AGILE/agilepy-test-data/evt_index/agile_proc3_fm3.119_asdc2_EVT.index\n",
      "  logfile: $AGILE/agilepy-test-data/log_index/agile_proc3_data_asdc2_LOG.log.index\n",
      "\n",
      "output:\n",
      "  outdir: $AGILE/agilepy-test-data/unittesting-output/jupyter\n",
      "  filenameprefix: quickstart\n",
      "  logfilenameprefix: quickstart\n",
      "  verboselvl: 1\n",
      "\n",
      "selection:\n",
      "  tmin: 456361778\n",
      "  tmax: 456537945\n",
      "  timetype: TT\n",
      "  glon: 80\n",
      "  glat: 0\n",
      "\n"
     ]
    }
   ],
   "source": [
    "with open(\"./config_file.yaml\") as f:\n",
    "    print(f.read())"
   ]
  },
  {
   "cell_type": "markdown",
   "metadata": {},
   "source": [
    "Run the next cell to read the xml file containing the descriptions of two sources:"
   ]
  },
  {
   "cell_type": "code",
   "execution_count": 6,
   "metadata": {},
   "outputs": [
    {
     "name": "stdout",
     "output_type": "stream",
     "text": [
      "<?xml version=\"1.0\" ?>\n",
      "<source_library title=\"source library\">\n",
      "\n",
      "  <source name=\"2AGLJ2021+4029\" type=\"PointSource\">\n",
      "    <spectrum type=\"PLExpCutoff\">\n",
      "      <parameter name=\"Flux\" free=\"1\"  value=\"119.3e-08\"/>\n",
      "      <parameter name=\"Index\" free=\"0\" scale=\"-1.0\" value=\"1.75\" min=\"0.5\" max=\"5\"/>\n",
      "      <parameter name=\"CutoffEnergy\" free=\"0\" value=\"3307.63\" min=\"20\" max=\"10000\"/>\n",
      "    </spectrum>\n",
      "    <spatialModel type=\"PointSource\" location_limit=\"0\" free=\"0\">\n",
      "      <parameter name=\"GLON\" value=\"78.2375\" />\n",
      "      <parameter name=\"GLAT\" value=\"2.12298\" />\n",
      "    </spatialModel>\n",
      "  </source>\n",
      "\n",
      "  <source name=\"2AGLJ2021+3654\" type=\"PointSource\">\n",
      "    <spectrum type=\"PLExpCutoff\">\n",
      "      <parameter name=\"Flux\" free=\"1\"  value=\"70.89e-08\"/>\n",
      "      <parameter name=\"Index\" free=\"0\" scale=\"-1.0\" value=\"1.38\" min=\"0.5\" max=\"5\"/>\n",
      "      <parameter name=\"CutoffEnergy\" free=\"0\" value=\"960.59\" min=\"20\" max=\"10000\"/>\n",
      "    </spectrum>\n",
      "    <spatialModel type=\"PointSource\" location_limit=\"0\" free=\"0\">\n",
      "      <parameter name=\"GLON\" value=\"75.2562\" />\n",
      "      <parameter name=\"GLAT\" value=\"0.151831\" />\n",
      "    </spatialModel>\n",
      "  </source>\n",
      "  \n",
      "</source_library>\n",
      "\n"
     ]
    }
   ],
   "source": [
    "with open(\"./sources.xml\") as f:\n",
    "    print(f.read())"
   ]
  },
  {
   "cell_type": "markdown",
   "metadata": {},
   "source": [
    "## Calling the constructor"
   ]
  },
  {
   "cell_type": "markdown",
   "metadata": {},
   "source": [
    "You need to instantiate the class if you want to use it. \n",
    "\n",
    "The [constructor](https://agilepy.readthedocs.io/en/latest/api/analysis_api.html#api.AGAnalysis.AGAnalysis) will setup a console logger which verbosity is defined by the *'verboselvl'* configuration option. A file logger is activated as well and its verbosity is always set to the maximum value.\n",
    "\n",
    "The user-defined configuration options will override the default ones. A validation step is then performed: in case of wrong/malformed configuration options an Exception will be raised.  \n",
    "\n",
    "All the sources present in *sources.xml* are loaded in-memory inside an object of class *SourcesLibrary* which is a member of the *AGAnalysis* class. "
   ]
  },
  {
   "cell_type": "code",
   "execution_count": 7,
   "metadata": {},
   "outputs": [
    {
     "name": "stdout",
     "output_type": "stream",
     "text": [
      "2020-01-31 21:05:14,108 [INFO    ] [AgilepyLogger] File and Console loggers are active. Log file: /opt/anaconda3/envs/agilepy/agiletools/agilepy-test-data/unittesting-output/jupyter/quickstart_20200131-210514.log\n"
     ]
    }
   ],
   "source": [
    "ag = AGAnalysis(\"./config_file.yaml\", \"./sources.xml\")"
   ]
  },
  {
   "cell_type": "markdown",
   "metadata": {},
   "source": [
    "## Generating maps"
   ]
  },
  {
   "cell_type": "markdown",
   "metadata": {},
   "source": [
    "You can use the [generateMaps()](https://agilepy.readthedocs.io/en/latest/api/analysis_api.html#api.AGAnalysis.AGAnalysis.generateMaps) method to produce one or more sky maps of 4 different types (counts, exposure, gas and int) using the AGILE data. The method's behaviour is controlled by several configuration options. Check the [*'map'* section of the documentation](https://agilepy.readthedocs.io/en/latest/manual/configuration_file.html#maps) for more.\n",
    "\n",
    "The method will return a maplist file, which format is [described here](https://agilepy.readthedocs.io/en/latest/manual/products.html#maplist-file). "
   ]
  },
  {
   "cell_type": "code",
   "execution_count": 8,
   "metadata": {},
   "outputs": [
    {
     "name": "stdout",
     "output_type": "stream",
     "text": [
      "2020-01-31 21:05:14,113 [INFO    ] [CtsMapGenerator] Science tool called!\n",
      "2020-01-31 21:05:15,016 [INFO    ] [AGAnalysis] Science tool ctsMapGenerator produced ['/opt/anaconda3/envs/agilepy/agiletools/agilepy-test-data/unittesting-output/jupyter/maps/quickstart_EMIN00100_EMAX10000_01.cts.gz']\n",
      "2020-01-31 21:05:15,017 [INFO    ] [ExpMapGenerator] Science tool called!\n",
      "2020-01-31 21:05:20,296 [INFO    ] [AGAnalysis] Science tool expMapGenerator produced ['/opt/anaconda3/envs/agilepy/agiletools/agilepy-test-data/unittesting-output/jupyter/maps/quickstart_EMIN00100_EMAX10000_01.exp.gz']\n",
      "2020-01-31 21:05:20,297 [INFO    ] [GasMapGenerator] Science tool called!\n",
      "2020-01-31 21:05:20,994 [INFO    ] [AGAnalysis] Science tool gasMapGenerator produced ['/opt/anaconda3/envs/agilepy/agiletools/agilepy-test-data/unittesting-output/jupyter/maps/quickstart_EMIN00100_EMAX10000_01.gas.gz']\n",
      "2020-01-31 21:05:20,995 [INFO    ] [IntMapGenerator] Science tool called!\n",
      "2020-01-31 21:05:21,209 [INFO    ] [AGAnalysis] Science tool intMapGenerator produced ['/opt/anaconda3/envs/agilepy/agiletools/agilepy-test-data/unittesting-output/jupyter/maps/quickstart_EMIN00100_EMAX10000_01.int.gz']\n",
      "2020-01-31 21:05:21,210 [INFO    ] [AGAnalysis] Maplist file created in /opt/anaconda3/envs/agilepy/agiletools/agilepy-test-data/unittesting-output/jupyter/quickstart.maplist4\n"
     ]
    }
   ],
   "source": [
    "mapfilepath = ag.generateMaps()"
   ]
  },
  {
   "cell_type": "markdown",
   "metadata": {},
   "source": [
    "Let's print the content of the mapfile:"
   ]
  },
  {
   "cell_type": "code",
   "execution_count": 9,
   "metadata": {},
   "outputs": [
    {
     "name": "stdout",
     "output_type": "stream",
     "text": [
      "/opt/anaconda3/envs/agilepy/agiletools/agilepy-test-data/unittesting-output/jupyter/maps/quickstart_EMIN00100_EMAX10000_01.cts.gz /opt/anaconda3/envs/agilepy/agiletools/agilepy-test-data/unittesting-output/jupyter/maps/quickstart_EMIN00100_EMAX10000_01.exp.gz /opt/anaconda3/envs/agilepy/agiletools/agilepy-test-data/unittesting-output/jupyter/maps/quickstart_EMIN00100_EMAX10000_01.gas.gz 30 -1 -1\n",
      "\n"
     ]
    }
   ],
   "source": [
    "with open(mapfilepath) as f:\n",
    "    print(f.read())"
   ]
  },
  {
   "cell_type": "markdown",
   "metadata": {},
   "source": [
    "## Starting an maximum likelyhood estimation analysis"
   ]
  },
  {
   "cell_type": "markdown",
   "metadata": {},
   "source": [
    "Again, the behaviour of this analysis can be configured by sevaral configuration options. Check the [*'mle'* section of the documentation](https://agilepy.readthedocs.io/en/latest/manual/configuration_file.html#mle) for more.\n",
    "\n",
    "The [mle(mapfilepath)](https://agilepy.readthedocs.io/en/latest/api/analysis_api.html#api.AGAnalysis.AGAnalysis.mle) performs a maximum likelyhood estimation analysis and it produces one or more files with the '*.source*' extension. The '*.source*' files have a fixed format described [here](https://agilepy.readthedocs.io/en/latest/manual/products.html#source-file).\n",
    "\n",
    "The mle analysis output is also saved inside the corresponding sources in the *SourcesLibrary* object. "
   ]
  },
  {
   "cell_type": "code",
   "execution_count": 10,
   "metadata": {},
   "outputs": [
    {
     "name": "stdout",
     "output_type": "stream",
     "text": [
      "2020-01-31 21:05:21,221 [INFO    ] [Multi] Science tool called!\n",
      "2020-01-31 21:05:23,216 [INFO    ] [AGAnalysis] AG_multi produced: ['/opt/anaconda3/envs/agilepy/agiletools/agilepy-test-data/unittesting-output/jupyter/mle/quickstart0000_2AGLJ2021+4029.source', '/opt/anaconda3/envs/agilepy/agiletools/agilepy-test-data/unittesting-output/jupyter/mle/quickstart0000_2AGLJ2021+3654.source']\n"
     ]
    }
   ],
   "source": [
    "source_files = ag.mle(mapfilepath)"
   ]
  },
  {
   "cell_type": "code",
   "execution_count": 11,
   "metadata": {},
   "outputs": [
    {
     "name": "stdout",
     "output_type": "stream",
     "text": [
      "/opt/anaconda3/envs/agilepy/agiletools/agilepy-test-data/unittesting-output/jupyter/mle/quickstart0000_2AGLJ2021+4029.source\n",
      "/opt/anaconda3/envs/agilepy/agiletools/agilepy-test-data/unittesting-output/jupyter/mle/quickstart0000_2AGLJ2021+3654.source\n"
     ]
    }
   ],
   "source": [
    "for sf in source_files:\n",
    "    print(sf)"
   ]
  },
  {
   "cell_type": "markdown",
   "metadata": {},
   "source": [
    "## Interacting with the SourcesLibrary"
   ]
  },
  {
   "cell_type": "markdown",
   "metadata": {},
   "source": [
    "You can interact with the SourcesLibrary throught the *AGAnalysis* class that provides you three useful methods."
   ]
  },
  {
   "cell_type": "markdown",
   "metadata": {},
   "source": [
    "### Selecting sources"
   ]
  },
  {
   "cell_type": "markdown",
   "metadata": {},
   "source": [
    "You can perform a query with [selectSources(selection)](https://agilepy.readthedocs.io/en/latest/api/analysis_api.html#api.AGAnalysis.AGAnalysis.selectSources).\n",
    "\n",
    "The sources can be selected with the '*selection*' argument, supporting either lambda functions and boolean expression strings.\n",
    "\n",
    "The selection criteria can be expressed using the following Source class’s parameters:\n",
    "\n",
    "* Name: the unique code identifying the source.\n",
    "* Dist: the distance of the source from the center of the maps (generated with generateMaps())\n",
    "* Flux: the flux value.\n",
    "* SqrtTS: the radix square of the ts.\n",
    "\n",
    "The last *Dist*, *Flux* and *SqrtTS* selection parameters can be used only after a call to mle()."
   ]
  },
  {
   "cell_type": "code",
   "execution_count": 12,
   "metadata": {},
   "outputs": [],
   "source": [
    "sources = ag.selectSources(lambda Name, Dist, Flux : Name == \"2AGLJ2021+4029\" and Dist > 0 and Flux > 0)"
   ]
  },
  {
   "cell_type": "code",
   "execution_count": 13,
   "metadata": {},
   "outputs": [
    {
     "name": "stdout",
     "output_type": "stream",
     "text": [
      "----------------------------------------------------------------\n",
      "Source name: 2AGLJ2021+4029\n",
      "Source type: PointSource\n",
      " - Spectrum type: PLExpCutoff \n",
      "\tFlux=9.68426e-07 free=1\n",
      "\tIndex=1.75 free=0\n",
      "\tCutoffEnergy=3307.63 free=0\n",
      " - SpatialModel type: PointSource free: 0\n",
      "\tglon: 78.2375\n",
      "\tglat: 2.12298\n",
      " - MultiOutput\n",
      "\tstart_flux: 1.193e-06\n",
      "\tFlux: 9.68426e-07\n",
      "\tDist: 2.7589911224837333\n",
      "\tsqrt(TS): 1.72593\n",
      "----------------------------------------------------------------\n"
     ]
    }
   ],
   "source": [
    "for source in sources:\n",
    "    print(source)"
   ]
  },
  {
   "cell_type": "code",
   "execution_count": 14,
   "metadata": {},
   "outputs": [],
   "source": [
    "sources = ag.selectSources('Name == \"2AGLJ2021+4029\" AND Dist > 0 AND Flux > 0')"
   ]
  },
  {
   "cell_type": "code",
   "execution_count": 15,
   "metadata": {},
   "outputs": [
    {
     "name": "stdout",
     "output_type": "stream",
     "text": [
      "----------------------------------------------------------------\n",
      "Source name: 2AGLJ2021+4029\n",
      "Source type: PointSource\n",
      " - Spectrum type: PLExpCutoff \n",
      "\tFlux=9.68426e-07 free=1\n",
      "\tIndex=1.75 free=0\n",
      "\tCutoffEnergy=3307.63 free=0\n",
      " - SpatialModel type: PointSource free: 0\n",
      "\tglon: 78.2375\n",
      "\tglat: 2.12298\n",
      " - MultiOutput\n",
      "\tstart_flux: 1.193e-06\n",
      "\tFlux: 9.68426e-07\n",
      "\tDist: 2.7589911224837333\n",
      "\tsqrt(TS): 1.72593\n",
      "----------------------------------------------------------------\n"
     ]
    }
   ],
   "source": [
    "for source in sources:\n",
    "    print(source)"
   ]
  },
  {
   "cell_type": "markdown",
   "metadata": {},
   "source": [
    "### Free or Fix sources parameters"
   ]
  },
  {
   "cell_type": "markdown",
   "metadata": {},
   "source": [
    "You can let some of the source parameters free to vary: in order to decide which parameters are free to vary and which parameters are fixed you can use the [freeSources(selection, parameterName, free)](https://agilepy.readthedocs.io/en/latest/api/analysis_api.html#api.AGAnalysis.AGAnalysis.freeSources) method.\n",
    "\n",
    "The sources can be selected with the '*selection*' argument.\n",
    "\n",
    "The '*parameterName*' argument is the name of the parameter you want to fix or let free to vary.\n",
    "\n",
    "The '*free*' argument is a boolean:\n",
    "* True: the parameter will be free to vary\n",
    "* False: the parameter will be fixed.\n",
    "\n",
    "The method returns the list of sources affected by the update."
   ]
  },
  {
   "cell_type": "code",
   "execution_count": 16,
   "metadata": {},
   "outputs": [],
   "source": [
    "sources = ag.freeSources('Name == \"2AGLJ2021+4029\" AND Dist > 0 AND Flux > 0', \"Flux\", False)"
   ]
  },
  {
   "cell_type": "code",
   "execution_count": 17,
   "metadata": {},
   "outputs": [
    {
     "name": "stdout",
     "output_type": "stream",
     "text": [
      "----------------------------------------------------------------\n",
      "Source name: 2AGLJ2021+4029\n",
      "Source type: PointSource\n",
      " - Spectrum type: PLExpCutoff \n",
      "\tFlux=9.68426e-07 free=0\n",
      "\tIndex=1.75 free=0\n",
      "\tCutoffEnergy=3307.63 free=0\n",
      " - SpatialModel type: PointSource free: 0\n",
      "\tglon: 78.2375\n",
      "\tglat: 2.12298\n",
      " - MultiOutput\n",
      "\tstart_flux: 1.193e-06\n",
      "\tFlux: 9.68426e-07\n",
      "\tDist: 2.7589911224837333\n",
      "\tsqrt(TS): 1.72593\n",
      "----------------------------------------------------------------\n"
     ]
    }
   ],
   "source": [
    "print(sources[0])"
   ]
  },
  {
   "cell_type": "markdown",
   "metadata": {},
   "source": [
    "### Deleting sources"
   ]
  },
  {
   "cell_type": "markdown",
   "metadata": {},
   "source": [
    "You can delete sources with [deleteSources(selection)](https://agilepy.readthedocs.io/en/latest/api/analysis_api.html#api.AGAnalysis.AGAnalysis.deleteSources).\n",
    "\n",
    "The method returns the list of deleted sources."
   ]
  },
  {
   "cell_type": "code",
   "execution_count": 18,
   "metadata": {},
   "outputs": [],
   "source": [
    "deletedSources = ag.deleteSources('Name == \"2AGLJ2021+4029\" AND Dist > 0 AND Flux > 0')"
   ]
  },
  {
   "cell_type": "code",
   "execution_count": 19,
   "metadata": {},
   "outputs": [
    {
     "name": "stdout",
     "output_type": "stream",
     "text": [
      "----------------------------------------------------------------\n",
      "Source name: 2AGLJ2021+4029\n",
      "Source type: PointSource\n",
      " - Spectrum type: PLExpCutoff \n",
      "\tFlux=9.68426e-07 free=0\n",
      "\tIndex=1.75 free=0\n",
      "\tCutoffEnergy=3307.63 free=0\n",
      " - SpatialModel type: PointSource free: 0\n",
      "\tglon: 78.2375\n",
      "\tglat: 2.12298\n",
      " - MultiOutput\n",
      "\tstart_flux: 1.193e-06\n",
      "\tFlux: 9.68426e-07\n",
      "\tDist: 2.7589911224837333\n",
      "\tsqrt(TS): 1.72593\n",
      "----------------------------------------------------------------\n"
     ]
    }
   ],
   "source": [
    "print(deletedSources[0])"
   ]
  },
  {
   "cell_type": "markdown",
   "metadata": {},
   "source": [
    "We can check that the sources are deleted."
   ]
  },
  {
   "cell_type": "code",
   "execution_count": 20,
   "metadata": {},
   "outputs": [],
   "source": [
    "sources = ag.selectSources('Name == \"2AGLJ2021+4029\" AND Dist > 0 AND Flux > 0')"
   ]
  },
  {
   "cell_type": "code",
   "execution_count": 21,
   "metadata": {},
   "outputs": [
    {
     "data": {
      "text/plain": [
       "0"
      ]
     },
     "execution_count": 21,
     "metadata": {},
     "output_type": "execute_result"
    }
   ],
   "source": [
    "len(sources)"
   ]
  },
  {
   "cell_type": "markdown",
   "metadata": {},
   "source": [
    "## Updating the configuration options"
   ]
  },
  {
   "cell_type": "markdown",
   "metadata": {},
   "source": [
    "You can update the configuration options using the [setOptions(**kwargs)](https://agilepy.readthedocs.io/en/latest/api/analysis_api.html#api.AGAnalysis.AGAnalysis.setOptions) method."
   ]
  },
  {
   "cell_type": "code",
   "execution_count": 22,
   "metadata": {},
   "outputs": [],
   "source": [
    "ag.setOptions(binsize=0.6, mapsize=60, energybins=[[100, 1000], [1000, 3000]])"
   ]
  },
  {
   "cell_type": "markdown",
   "metadata": {},
   "source": [
    "You can print on the console the configuration options values with the printOptions(section) method.\n",
    "\n",
    "The section argument is optional but you can use to print a subset of the options."
   ]
  },
  {
   "cell_type": "code",
   "execution_count": 23,
   "metadata": {},
   "outputs": [
    {
     "name": "stdout",
     "output_type": "stream",
     "text": [
      "{ 'binsize': 0.6,\n",
      "  'energybins': [[100, 1000], [1000, 3000]],\n",
      "  'expstep': 10.0,\n",
      "  'fovbinnumber': 1,\n",
      "  'mapsize': 60,\n",
      "  'offaxisangle': 30,\n",
      "  'spectralindex': 2.1,\n",
      "  'timestep': 160,\n",
      "  'useEDPmatrixforEXP': True}\n"
     ]
    }
   ],
   "source": [
    "ag.printOptions(\"maps\")"
   ]
  },
  {
   "cell_type": "markdown",
   "metadata": {},
   "source": [
    "## Displaying the sky maps"
   ]
  },
  {
   "cell_type": "markdown",
   "metadata": {},
   "source": [
    "You can display the sky maps using the [displaySkyMap()]() method."
   ]
  },
  {
   "cell_type": "code",
   "execution_count": 32,
   "metadata": {},
   "outputs": [
    {
     "data": {
      "text/plain": [
       "'/opt/anaconda3/envs/agilepy/agiletools/agilepy-test-data/unittesting-output/jupyter/maps/quickstart_EMIN00100_EMAX10000_01.cts.gz'"
      ]
     },
     "execution_count": 32,
     "metadata": {},
     "output_type": "execute_result"
    }
   ],
   "source": [
    "with open(mapfilepath) as mlf:\n",
    "    lines = [l.strip() for l in mlf.readlines()]\n",
    "    \n",
    "ctsMap = lines[0].split(\" \")[0]\n",
    "expMap = lines[0].split(\" \")[1]\n",
    "\n",
    "expM"
   ]
  },
  {
   "cell_type": "code",
   "execution_count": 24,
   "metadata": {},
   "outputs": [
    {
     "ename": "SyntaxError",
     "evalue": "invalid syntax (<ipython-input-24-e64f42023f0d>, line 1)",
     "output_type": "error",
     "traceback": [
      "\u001b[0;36m  File \u001b[0;32m\"<ipython-input-24-e64f42023f0d>\"\u001b[0;36m, line \u001b[0;32m1\u001b[0m\n\u001b[0;31m    mapfilepath.\u001b[0m\n\u001b[0m                ^\u001b[0m\n\u001b[0;31mSyntaxError\u001b[0m\u001b[0;31m:\u001b[0m invalid syntax\n"
     ]
    }
   ],
   "source": [
    "\n",
    "ctsMap = \"/opt/anaconda2/envs/agilepy/agiletools/agilepy-test-data/unittesting-output/jupyter/maps/quickstart_EMIN00100_EMAX10000_01.cts.gz\"\n",
    "\n",
    "ag.displaySkyMap(ctsMap, smooth=False)"
   ]
  },
  {
   "cell_type": "markdown",
   "metadata": {},
   "source": [
    "You can also smooth the image"
   ]
  },
  {
   "cell_type": "code",
   "execution_count": null,
   "metadata": {},
   "outputs": [],
   "source": [
    "ag.displaySkyMap(ctsMap, smooth=True, sigma=5)"
   ]
  },
  {
   "cell_type": "markdown",
   "metadata": {},
   "source": [
    "Finally you can save it on disk"
   ]
  },
  {
   "cell_type": "code",
   "execution_count": null,
   "metadata": {},
   "outputs": [],
   "source": [
    "outputfile = ag.displaySkyMap(ctsMap, smooth=True, sigma=5, save_image=True)\n",
    "print(outputfile,\"saved.\")"
   ]
  },
  {
   "cell_type": "code",
   "execution_count": null,
   "metadata": {},
   "outputs": [],
   "source": []
  }
 ],
 "metadata": {
  "kernelspec": {
   "display_name": "Python 3",
   "language": "python",
   "name": "python3"
  },
  "language_info": {
   "codemirror_mode": {
    "name": "ipython",
    "version": 3
   },
   "file_extension": ".py",
   "mimetype": "text/x-python",
   "name": "python",
   "nbconvert_exporter": "python",
   "pygments_lexer": "ipython3",
   "version": "3.7.6"
  }
 },
 "nbformat": 4,
 "nbformat_minor": 4
}
