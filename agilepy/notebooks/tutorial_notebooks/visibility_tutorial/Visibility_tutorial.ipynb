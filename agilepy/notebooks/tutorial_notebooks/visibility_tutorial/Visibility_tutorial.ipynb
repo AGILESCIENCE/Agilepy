{
 "cells": [
  {
   "cell_type": "markdown",
   "metadata": {},
   "source": [
    "# Source Visibility with agilepy\n",
    "\n",
    "The AGILE satellite operated from April 23, 2007 to January 18, 2024 observing thousands of astrophysical sources.\n",
    "\n",
    "The AGILE spacecraft operated in \"pointing mode\" from the beginning of the mission to October 15, 2009, completing 101 observation blocks (OBs).\n",
    "The OBs usually consisted of predefined long exposures, drifting about 1 deg per day with respect to the initial boresight direction to obey solar panels constraints.\n",
    "\n",
    "In November 2009, the attitude control system was reconfigured, and scientific operations were performed \"spinning mode\" until the end of the mission.\n",
    "AGILE scanned ≈ 80% sky daily (exposure of ≈ 7 · 106 cm2 s) with an angular velocity of about 0.8 deg s−1, performing 200 passes per day on the same sky region.\n",
    "\n",
    "The visibility of a source thus depend on the off-axis angle with respect to the satellite pointing direction.\n",
    "\n",
    "The purpose of this notebook is to show how to use the class `AGVisibility` to determine the AGILE pointing direction and the offset of a source of interest.\n",
    "The class requires only the \"log files\", which are the AGILE spacecraft files, to perform its task.\n",
    "If a Fermi Spacecraft file is provided, the same operation can be performed on the file for comparison purposes.\n"
   ]
  },
  {
   "cell_type": "code",
   "execution_count": null,
   "metadata": {},
   "outputs": [],
   "source": [
    "# Import the relevant class\n",
    "from agilepy.api.AGVisibility import AGVisibility\n",
    "from agilepy.utils.AstroUtils import AstroUtils\n",
    "\n",
    "from astropy.coordinates import SkyCoord\n",
    "from astropy.time import Time"
   ]
  },
  {
   "cell_type": "markdown",
   "metadata": {},
   "source": [
    "## Setup\n",
    "\n",
    "This tutorial uses the available test dataset on blazar 3C 454.3, from 2010-11-13 to 2010-11-21 (MJD 55513-55521)."
   ]
  },
  {
   "cell_type": "code",
   "execution_count": null,
   "metadata": {},
   "outputs": [],
   "source": [
    "# Prepare the YAML Configuration File.\n",
    "# You can create it manually or use AGVisibility.getConfiguration()\n",
    "\n",
    "outputDir    = \"/home/flareadvocate/workspace/shared_dir/\"\n",
    "confFilePath = \"/home/flareadvocate/workspace/shared_dir/tutorial_visibility.yaml\"\n",
    "logFile      = \"$AGILE/agilepy-test-data/test_dataset_agn/LOG/LOG.index\"\n",
    "fermi_SCFile = \"$AGILE/agilepy-test-data/visibility/Fermi_test_SC00.fits\"\n",
    "\n",
    "AGVisibility.getConfiguration(\n",
    "    confFilePath=confFilePath,\n",
    "    # Output\n",
    "    outputDir=outputDir,\n",
    "    userName=\"my_name\",\n",
    "    sourceName=\"vis-source\",\n",
    "    verboselvl=0,\n",
    "    # Input\n",
    "    logFile=logFile,\n",
    "    fermiSpacecraftFile=fermi_SCFile,\n",
    "    # Selection\n",
    "    step=1,\n",
    "    timeType=\"tt\",\n",
    "    tmin=\"null\",\n",
    "    tmax=\"null\",\n",
    "    # Source\n",
    "    coord1=\"null\",\n",
    "    coord2=\"null\",\n",
    "    frame=\"icrs\",\n",
    ")"
   ]
  },
  {
   "cell_type": "markdown",
   "metadata": {},
   "source": [
    "The `YAML` file has the following sections and field:\n",
    "- `output`: common to all `agilepy` classes, sets the following output fields: `outdir`, `filenameprefix`, `sourcename`, `username`, `verboselvl`\n",
    "- `input`: input spacecraft files.\n",
    "    - `logFile`: path to the index file listing relevant AGILE log files to be extracted.\n",
    "    - `fermiSpacecraftFile`: the path to the Fermi spacecraft file. Optional.\n",
    "- `selection`: arguments that define the timing of the information extracted.\n",
    "    - `step`: time interval in seconds between two consecutive points in the resulting table. Minimum accepted value: 0.1.\n",
    "    - `timeType`: the time format of `tmin` and `tmax`. AGILE seconds can be expressed as `tt`.\n",
    "    - `tmin`: inferior observation time limit to analize. If not set, default value is TT = 104371200 (2007-04-23 00:00:00)\n",
    "    - `tmax`: superior observation time limit to analize. If not set, default value is TT = 632620800 (2024-01-18 00:00:00)\n",
    "- `source`: optional, include arguments to define the coordinates of the source used to compute the offset. The coordinates can also be set or changed when using the class. They are defined by:\n",
    "    - `frame`: reference frame for `astropy.coordinates.SkyCoord`\n",
    "    - `coord1`, `coord2`: source coordinates in degrees.\n"
   ]
  },
  {
   "cell_type": "code",
   "execution_count": null,
   "metadata": {},
   "outputs": [],
   "source": [
    "# Create the AGVisibility object\n",
    "ag_vis = AGVisibility(confFilePath)\n",
    "\n",
    "# Print Options\n",
    "ag_vis.printOptions()"
   ]
  },
  {
   "cell_type": "code",
   "execution_count": null,
   "metadata": {},
   "outputs": [],
   "source": [
    "# You can use the setOptions() method to change the configuration:\n",
    "\n",
    "# Set coordinates of 3C 454.3\n",
    "ag_vis.setOptions(coord1=343.496, coord2=16.151, frame='icrs')\n",
    "\n",
    "# Set time range appropriate for the test dataset\n",
    "ag_vis.setOptions(tmin=AstroUtils.convert_time_to_agile_seconds(Time(55513, format='mjd')),\n",
    "                  tmax=AstroUtils.convert_time_to_agile_seconds(Time(55521, format='mjd')),\n",
    "                  timetype=\"TT\"\n",
    "                  )\n",
    "\n",
    "# Check configuration\n",
    "ag_vis.printOptions()"
   ]
  },
  {
   "cell_type": "markdown",
   "metadata": {},
   "source": [
    "Note on time conversion: the `agilepy.utils.AstroUtils.AstroUtils` class offers utility functions for the conversion between AGILE seconds and other data formats, handled through the `astropy.time.Time` class."
   ]
  },
  {
   "cell_type": "code",
   "execution_count": null,
   "metadata": {},
   "outputs": [],
   "source": [
    "# Convert from AGILE seconds to astropy Time\n",
    "t_example = AstroUtils.convert_time_from_agile_seconds(104371200)\n",
    "display(f\"TT=104371200 corresponds to MJD {t_example.mjd}, ISO {t_example.iso}, UNIX {t_example.unix}\")\n",
    "\n",
    "# Convert from astropy Time to AGILE seconds\n",
    "t_example = AstroUtils.convert_time_to_agile_seconds(Time(54213, format='mjd'))\n",
    "display(f\"MJD=54213.0 corresponds to TT {t_example}\")\n"
   ]
  },
  {
   "cell_type": "markdown",
   "metadata": {},
   "source": [
    "## AGILE Visibility\n",
    "The AGILE pointing coordinates can be computed with `AGVisibility.computePointingDirection()`.\n",
    "The arguments of the function are taken by default from the configuration, or they can be overriden if provided explicitly as arguments of the method.\n",
    "\n",
    "The AGILE data is extracted from the columns `TIME`, `ATTITUDE_RA_Y`, `ATTITUDE_DEC_Y` of the log files and stored in an `astropy.table.Table`.\n",
    "\n",
    "The output columns provide the start and stop times of the bin analysed in TT and MJD, the AGILE pointing coordinates (Right Ascension and Declination) and the mean offset of the source in degrees in the bin.\n",
    "The distance between two consecutive bins is the `step` parameter.\n",
    "\n",
    "The table is saved by default in the agilepy output directory as a `.csv` file."
   ]
  },
  {
   "cell_type": "code",
   "execution_count": null,
   "metadata": {},
   "outputs": [],
   "source": [
    "agile_visibility_table = ag_vis.computePointingDirection(writeFiles=True)\n",
    "\n",
    "# Show\n",
    "display(agile_visibility_table)\n",
    "\n",
    "# Note: The table can also be accessed as a property of AGVisibility:\n",
    "# ag_vis.agileVisibility"
   ]
  },
  {
   "cell_type": "markdown",
   "metadata": {},
   "source": [
    "## Fermi Visibility\n",
    "\n",
    "The Fermi pointing coordinates can be computed with `AGVisibility.getFermiPointing()`.\n",
    "The arguments of the function are taken by default from the configuration, or they can be overriden if provided explicitly as arguments of the method.\n",
    "\n",
    "The Fermi data is extracted from the columns `START`, `STOP`, `RA_SCZ`, `DEC_SCZ` of the spacecraft file and stored in an `astropy.table.Table`.\n",
    "\n",
    "The output columns provide the start and stop times of the bin analysed in TT, MJD, Fermi MET seconds, the Fermi pointing coordinates (Right Ascension and Declination) and the mean offset of the source in degrees in the bin.\n",
    "\n",
    "The table is saved by default in the agilepy output directory as a `.csv` file."
   ]
  },
  {
   "cell_type": "code",
   "execution_count": null,
   "metadata": {},
   "outputs": [],
   "source": [
    "fermi_visibility_table = ag_vis.getFermiPointing(writeFiles=True)\n",
    "\n",
    "# Show the table, accessed as a property of AGVisibility:\n",
    "display(ag_vis.fermiVisibility)"
   ]
  },
  {
   "cell_type": "markdown",
   "metadata": {},
   "source": [
    "## Plot\n",
    "`AGVisibility` offers an utility function to plot the time series of the Offaxis angle.\n",
    "Parameters are:\n",
    "- `sourceCoordinates` (`astropy.coordinates.SkyCoord`): the coordinates of the source used to compute the offaxis angle, If None, the offaxis angle must already be computed in the visibility table.\n",
    "- `maxOffaxis` (`float`): maximum offaxis angle in degrees to be shown in the visibility plot.\n",
    "- `mjd_limits` (`tuple(float,float)`, optional): Plot limits in MJD.\n",
    "- `plotFermi` (`bool`): if `True`, plot the Fermi offaxis angle.\n",
    "- `plotHistogram` (`bool`): if `True`, plot the histogram of the offaxis angles.\n",
    "- `saveImage` (`bool`): if `True`, save the images in the output directory.\n",
    "- `showPositionPanels` (`bool`): if `True`, show the RA and DEC time series of the satellite direction."
   ]
  },
  {
   "cell_type": "code",
   "execution_count": null,
   "metadata": {},
   "outputs": [],
   "source": [
    "# Plot\n",
    "ag_vis.plotVisibility(mjd_limits=(55519, 55519.5), maxOffaxis=60,\n",
    "                      plotFermi=True, plotHistogram=True, saveImages=True,\n",
    "                      showPositionPanels=False\n",
    "                      )"
   ]
  },
  {
   "cell_type": "code",
   "execution_count": null,
   "metadata": {},
   "outputs": [],
   "source": []
  }
 ],
 "metadata": {
  "kernelspec": {
   "display_name": "Python 3",
   "language": "python",
   "name": "python3"
  },
  "language_info": {
   "codemirror_mode": {
    "name": "ipython",
    "version": 3
   },
   "file_extension": ".py",
   "mimetype": "text/x-python",
   "name": "python",
   "nbconvert_exporter": "python",
   "pygments_lexer": "ipython3",
   "version": "3.8.13"
  }
 },
 "nbformat": 4,
 "nbformat_minor": 4
}
