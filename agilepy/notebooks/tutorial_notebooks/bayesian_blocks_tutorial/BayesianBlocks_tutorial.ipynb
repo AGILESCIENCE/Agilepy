{
 "cells": [
  {
   "cell_type": "markdown",
   "id": "2ccafd61",
   "metadata": {},
   "source": [
    "# Bayesian Blocks Analysis on a Light Curve"
   ]
  },
  {
   "cell_type": "markdown",
   "id": "db86c49f",
   "metadata": {},
   "source": [
    "Bayesian Blocks, provide an adaptive, data-driven method for optimal segmentation of time series or event data.\n",
    "Instead of relying on fixed bin sizes, Bayesian Blocks dynamically determine change points in the data, dividing it into piecewise constant segments (blocks) that best represent the structure of the signal.\n",
    "We follow the formalization of [Scargle et al. (2013)](https://iopscience.iop.org/article/10.1088/0004-637X/764/2/167).\n",
    "\n",
    "Key features of the Bayesian Blocks algorithm include:\n",
    "- Model selection via Bayesian inference: The algorithm selects the most probable segmentation under a Bayesian framework, balancing goodness-of-fit with model complexity.\n",
    "- Applicability to different data modes: It works with event data (e.g., photon arrival times), regularly sampled time series, and point measurements with errors.\n",
    "- Non-parametric nature: The method does not assume a particular functional form for the signal, making it robust and flexible.\n",
    "\n"
   ]
  },
  {
   "cell_type": "markdown",
   "id": "f8c523dd",
   "metadata": {},
   "source": [
    "`Agilepy` implements a `AGBayesianBlocks` class that works with:\n",
    "- Binned data, i.e. Light Curves. Input data can be provided in 3 different formats: the agile [Aperture Photometry Light Curve](#Bayesian-Blocks-on-Aperture-Photometry-Light-Curves) format, the agile [Maximum Likelihood Light Curve](#Bayesian-Blocks-on-Maximum-Likelihood-Light-Curves) format, a *custom* light curve format.\n",
    "- [Unbinned](#Bayesian-Blocks-on-Photon-Lists) data, i.e. a list of arrival times of detected photons.\n",
    "\n",
    "The Bayesian Blocks algorithm has the following steps:\n",
    "1. Prepare a `YAML` configuration file for `AGBayesianBlocks`. You can do it manually or by using `AGBayesianBlocks.getConfiguration()`.\n",
    "2. Define a `AGBayesianBlocks` object, and load the data with `AGBayesianBlocks.selectEvents()`.\n",
    "3. Compute the Bayesian blocks with `AGBayesianBlocks.bayesianBlocks()`.\n",
    "\n",
    "Note: the custom light curve format is a text file with three columns: bin start time, bin stop times, flux.\n",
    "Columns do not need an header and must be separated by white spaces."
   ]
  },
  {
   "cell_type": "code",
   "execution_count": null,
   "id": "67b837c7",
   "metadata": {},
   "outputs": [],
   "source": [
    "# Import the relevant classes\n",
    "import agilepy\n",
    "\n",
    "from agilepy.api.AGBayesianBlocks import AGBayesianBlocks\n"
   ]
  },
  {
   "cell_type": "markdown",
   "id": "a98b7740",
   "metadata": {},
   "source": [
    "## Bayesian Blocks on Aperture Photometry Light Curves\n",
    "\n",
    "Aperture Photometry Light Curves can be obtained with `AGAnalysis.aperturePhotometry()`.\n",
    "\n",
    "They are text files with no header and 4 columns separated by white spaces: bin start time, bin stop time, on-source exposure, on-source counts."
   ]
  },
  {
   "cell_type": "code",
   "execution_count": null,
   "id": "fd18d94f",
   "metadata": {},
   "outputs": [],
   "source": [
    "# Prepare the Configuration File.\n",
    "# You can create it manually or use AGBayesianBlocks.getConfiguration\n",
    "\n",
    "outputDir_ap    = \"/home/flareadvocate/workspace/shared_dir/\"\n",
    "confFilePath_ap = \"/home/flareadvocate/workspace/shared_dir/tutorial_bb_ap.yaml\"\n",
    "\n",
    "AGBayesianBlocks.getConfiguration(confFilePath=confFilePath_ap,\n",
    "                                  outputDir=outputDir_ap,\n",
    "                                  userName=\"my-name\",\n",
    "                                  sourceName=\"bb-source\",\n",
    "                                  verboselvl=0,\n",
    "                                  filePath=\"$AGILE/agilepy-test-data/bayesian_blocks/3C454.3_2010flare_86400s.ap\",\n",
    "                                  fileMode=\"AGILE_AP\",\n",
    "                                  tstart=\"null\",\n",
    "                                  tstop=\"null\",\n",
    "                                  rateCorrection=0,\n",
    "                                  fitness=\"events\",\n",
    "                                  gamma=0.35,\n",
    "                                  p0=\"null\",\n",
    "                                  useerror=\"true\"\n",
    "                                  )"
   ]
  },
  {
   "cell_type": "markdown",
   "id": "70e2e9b8",
   "metadata": {},
   "source": [
    "The `YAML` file has the following sections and field:\n",
    "- `output`: common to all `agilepy` classes, sets the output fields\n",
    "- `selection`: include arguments used by `AGBayesianBlocks.selectEvents()` used to prepare the data:\n",
    "    - `filePath`: path to the input file\n",
    "    - `fileMode`: defines the input file format: `AGILE_AP`, `AGILE_MLE`, `CUSTOM_LC` (binned) or `AGILE_PH` (unbinned).\n",
    "    - `tstart`, `tstop`: start and stop times for data selection within the input file. For `AGILE_AP` and `AGILE_MLE` must be in `MJD` format, for `CUSTOM_LC`, `AGILE_PH` in the same time format of the times provided.\n",
    "    - `ratecorrection`: the Bayesian Blocks algorithm works with integers, so fluxes need a correction factor for a correct statistical treatment. If 0 (default), the correction factor is the mean exposure. If a float is provided it will be applied as a correction factor for the flux. If -1, the algorithm will work with counts instead of fluxes.\n",
    "- `bayesianblocks`: arguments used by `AGBayesianBlocks.bayesianBlocks()` to compute the blocks:\n",
    "    - `fitness`: set the type of algorithm. Possible values are `events` (binned light curve or unbinned event data), `measures` (sequence of flux measurements with Gaussian errors), `regular_events`(0/1 data measured regularly).\n",
    "    - `useerror`: boolean to include errors in the computation of the blocks.\n",
    "    - `gamma`, `p0`: arguments on the prior. `p0`, suggested for unbinned data, gives the false alarm probability to compute the prior. `gamma`, suggested for binned data, gives the slope of the prior on the number of bins.\n",
    "\n"
   ]
  },
  {
   "cell_type": "code",
   "execution_count": null,
   "id": "40a09b0d",
   "metadata": {},
   "outputs": [],
   "source": [
    "# Create the AGBayesianBlocks object\n",
    "ag_bb_ap = AGBayesianBlocks(confFilePath_ap)"
   ]
  },
  {
   "cell_type": "code",
   "execution_count": null,
   "id": "d5082023",
   "metadata": {},
   "outputs": [],
   "source": [
    "# You can Use the setOptions() method to change the configuration, e.g.:\n",
    "ag_bb_ap.setOptions(gamma=0.35)\n",
    "\n",
    "# Check configuration.\n",
    "ag_bb_ap.printOptions()\n"
   ]
  },
  {
   "cell_type": "code",
   "execution_count": null,
   "id": "d45f7b41",
   "metadata": {},
   "outputs": [],
   "source": [
    "# Select Events\n",
    "# If no argument is provided, they are read from the configuration file.\n",
    "ag_bb_ap.selectEvents()"
   ]
  },
  {
   "cell_type": "code",
   "execution_count": null,
   "id": "251c3822",
   "metadata": {},
   "outputs": [],
   "source": [
    "# You can Inspect the selected data with getDataIn()\n",
    "selected_events_ap = ag_bb_ap.getDataIn()"
   ]
  },
  {
   "cell_type": "code",
   "execution_count": null,
   "id": "773383b9",
   "metadata": {},
   "outputs": [],
   "source": [
    "# Print\n",
    "display(selected_events_ap)\n",
    "\n",
    "# Plot the Data\n",
    "ag_bb_ap.plotBayesianBlocks()"
   ]
  },
  {
   "cell_type": "code",
   "execution_count": null,
   "id": "848e4899",
   "metadata": {},
   "outputs": [],
   "source": [
    "# Compute Bayesian Blocks\n",
    "ag_bb_ap.bayesianBlocks()"
   ]
  },
  {
   "cell_type": "code",
   "execution_count": null,
   "id": "d388400a",
   "metadata": {},
   "outputs": [],
   "source": [
    "# You can Inspect the results with getDataout()\n",
    "blocks_computed_ap = ag_bb_ap.getDataOut()"
   ]
  },
  {
   "cell_type": "code",
   "execution_count": null,
   "id": "1144907c",
   "metadata": {},
   "outputs": [],
   "source": [
    "# Print\n",
    "display(blocks_computed_ap.keys())\n",
    "display(len(blocks_computed_ap['data_cells']))\n",
    "display(len(blocks_computed_ap['blockrate']))\n",
    "display(blocks_computed_ap['N_change_points'])\n",
    "\n",
    "display(blocks_computed_ap)\n"
   ]
  },
  {
   "cell_type": "code",
   "execution_count": null,
   "id": "788412f2",
   "metadata": {},
   "outputs": [],
   "source": [
    "# Plot\n",
    "ag_bb_ap.plotBayesianBlocks(saveImage=False, plotRate=True, plotDataCells=True)"
   ]
  },
  {
   "cell_type": "markdown",
   "id": "2323c031",
   "metadata": {},
   "source": [
    "## Bayesian Blocks on Maximum Likelihood Light Curves\n",
    "Maximum Likelihood Light Curves can be obtained with `AGAnalysis.lightCurve()`.\n",
    "\n",
    "They are text files with header and multiple columns separated by white spaces."
   ]
  },
  {
   "cell_type": "code",
   "execution_count": null,
   "id": "05aca194",
   "metadata": {},
   "outputs": [],
   "source": [
    "# Prepare the Configuration File.\n",
    "# You can create it manually or use AGBayesianBlocks.getConfiguration\n",
    "\n",
    "outputDir_mle    = \"/home/flareadvocate/workspace/shared_dir/\"\n",
    "confFilePath_mle = \"/home/flareadvocate/workspace/shared_dir/tutorial_bb_mle.yaml\"\n",
    "\n",
    "AGBayesianBlocks.getConfiguration(confFilePath=confFilePath_mle,\n",
    "                                  outputDir=outputDir_mle,\n",
    "                                  userName=\"my-name\",\n",
    "                                  sourceName=\"bb-source\",\n",
    "                                  verboselvl=0,\n",
    "                                  filePath=\"$AGILE/agilepy-test-data/bayesian_blocks/3C454.3_2010flare_86400s_lc_mle.txt\",\n",
    "                                  fileMode=\"AGILE_MLE\",\n",
    "                                  tstart=\"null\",\n",
    "                                  tstop=\"null\",\n",
    "                                  rateCorrection=0,\n",
    "                                  fitness=\"events\",\n",
    "                                  gamma=0.35,\n",
    "                                  p0=\"null\",\n",
    "                                  useerror=\"true\"\n",
    "                                  )"
   ]
  },
  {
   "cell_type": "code",
   "execution_count": null,
   "id": "19f8abe0",
   "metadata": {},
   "outputs": [],
   "source": [
    "# Create the AGBayesianBlocks object\n",
    "ag_bb_mle = AGBayesianBlocks(confFilePath_mle)\n",
    "\n",
    "# You can Use the setOptions() method to change the configuration, e.g.:\n",
    "# ag_bb_mle.setOptions(gamma=0.35)\n",
    "\n",
    "# Check configuration.\n",
    "ag_bb_mle.printOptions()\n"
   ]
  },
  {
   "cell_type": "code",
   "execution_count": null,
   "id": "0af3680c",
   "metadata": {},
   "outputs": [],
   "source": [
    "# Select Events\n",
    "ag_bb_mle.selectEvents()\n",
    "# Inspect\n",
    "selected_events_mle = ag_bb_mle.getDataIn()"
   ]
  },
  {
   "cell_type": "code",
   "execution_count": null,
   "id": "e51a629f",
   "metadata": {},
   "outputs": [],
   "source": [
    "# Compute Bayesian Blocks\n",
    "ag_bb_mle.bayesianBlocks()\n",
    "# Inspect\n",
    "blocks_computed_mle = ag_bb_mle.getDataOut()"
   ]
  },
  {
   "cell_type": "code",
   "execution_count": null,
   "id": "3381d58d",
   "metadata": {},
   "outputs": [],
   "source": [
    "# Print\n",
    "display(blocks_computed_mle['N_change_points'])\n",
    "\n",
    "# Plot\n",
    "ag_bb_mle.plotBayesianBlocks(saveImage=False, plotRate=True, plotDataCells=True)"
   ]
  },
  {
   "cell_type": "markdown",
   "id": "b09335e1",
   "metadata": {},
   "source": [
    "## Bayesian Blocks on Photon Lists\n",
    "Photon list files are text files separated by whitespaces where the first column is the photon arrival times.\n",
    "Please perform any other selection (e.g. position, energy, data quality) beforehand."
   ]
  },
  {
   "cell_type": "code",
   "execution_count": null,
   "id": "1ae93057",
   "metadata": {},
   "outputs": [],
   "source": [
    "# Prepare the Configuration File.\n",
    "# You can create it manually or use AGBayesianBlocks.getConfiguration\n",
    "\n",
    "outputDir_ph    = \"/home/flareadvocate/workspace/shared_dir/\"\n",
    "confFilePath_ph = \"/home/flareadvocate/workspace/shared_dir/tutorial_bb_ph.yaml\"\n",
    "filePath_ph = agilepy.__path__[0]+\"/testing/unittesting/api/data/test_data.ph\"\n",
    "\n",
    "AGBayesianBlocks.getConfiguration(confFilePath=confFilePath_ph,\n",
    "                                  outputDir=outputDir_ph,\n",
    "                                  userName=\"my-name\",\n",
    "                                  sourceName=\"bb-source\",\n",
    "                                  verboselvl=0,\n",
    "                                  filePath=filePath_ph,\n",
    "                                  fileMode=\"AGILE_PH\",\n",
    "                                  tstart=\"null\",\n",
    "                                  tstop=\"null\",\n",
    "                                  rateCorrection=0,\n",
    "                                  fitness=\"events\",\n",
    "                                  gamma=\"null\",\n",
    "                                  p0=0.5,\n",
    "                                  useerror=\"true\"\n",
    "                                  )\n"
   ]
  },
  {
   "cell_type": "code",
   "execution_count": null,
   "id": "99933da7",
   "metadata": {},
   "outputs": [],
   "source": [
    "# Create the AGBayesianBlocks object\n",
    "ag_bb_ph = AGBayesianBlocks(confFilePath_ph)\n",
    "\n",
    "# Check configuration.\n",
    "ag_bb_ph.printOptions()"
   ]
  },
  {
   "cell_type": "code",
   "execution_count": null,
   "id": "9c49e3b7",
   "metadata": {},
   "outputs": [],
   "source": [
    "# Select Events\n",
    "ag_bb_ph.selectEvents()\n",
    "\n",
    "# Inspect\n",
    "selected_events_ph = ag_bb_ph.getDataIn()"
   ]
  },
  {
   "cell_type": "code",
   "execution_count": null,
   "id": "a2a8d764",
   "metadata": {},
   "outputs": [],
   "source": [
    "# Compute Bayesian Blocks\n",
    "ag_bb_ph.bayesianBlocks()\n",
    "\n",
    "# Inspect\n",
    "blocks_computed_ph = ag_bb_ph.getDataOut()"
   ]
  },
  {
   "cell_type": "code",
   "execution_count": null,
   "id": "ef9cd16c",
   "metadata": {},
   "outputs": [],
   "source": [
    "# Print\n",
    "display(blocks_computed_ph['N_change_points'])\n",
    "\n",
    "# Plot\n",
    "ag_bb_ph.plotBayesianBlocks(saveImage=False, plotRate=True)"
   ]
  },
  {
   "cell_type": "code",
   "execution_count": null,
   "id": "a0f55240",
   "metadata": {},
   "outputs": [],
   "source": []
  }
 ],
 "metadata": {
  "kernelspec": {
   "display_name": "Python 3",
   "language": "python",
   "name": "python3"
  },
  "language_info": {
   "codemirror_mode": {
    "name": "ipython",
    "version": 3
   },
   "file_extension": ".py",
   "mimetype": "text/x-python",
   "name": "python",
   "nbconvert_exporter": "python",
   "pygments_lexer": "ipython3",
   "version": "3.8.13"
  }
 },
 "nbformat": 4,
 "nbformat_minor": 5
}
