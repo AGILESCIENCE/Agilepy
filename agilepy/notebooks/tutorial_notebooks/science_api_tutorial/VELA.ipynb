{
 "cells": [
  {
   "cell_type": "markdown",
   "source": [
    "# Agilepy science API tutorial - VELA Region analysis\n",
    "\n",
    "The purpose of this notebook is to show how to use the Agilepy scientific API. \n",
    "\n",
    "\n",
    "## The complete API documentation can be found [at this link](https://agilepy.readthedocs.io/en/latest/api/analysis_api.html)."
   ],
   "metadata": {}
  },
  {
   "cell_type": "markdown",
   "source": [
    "## Importing the library"
   ],
   "metadata": {}
  },
  {
   "cell_type": "code",
   "execution_count": 1,
   "source": [
    "from agilepy.api.AGAnalysis import AGAnalysis\n",
    "from tqdm.notebook import tqdm"
   ],
   "outputs": [],
   "metadata": {}
  },
  {
   "cell_type": "code",
   "execution_count": 2,
   "source": [
    "# Interactive plot\n",
    "#%matplotlib widget"
   ],
   "outputs": [],
   "metadata": {}
  },
  {
   "cell_type": "markdown",
   "source": [
    "## Creating a configuration file"
   ],
   "metadata": {}
  },
  {
   "cell_type": "code",
   "execution_count": 3,
   "source": [
    "confFilePath = \"$HOME/agilepy_conf.yaml\""
   ],
   "outputs": [],
   "metadata": {}
  },
  {
   "cell_type": "code",
   "execution_count": 4,
   "source": [
    "AGAnalysis.getConfiguration(\n",
    "    evtfile=\"$AGILE/agilepy-test-data/test_dataset_6.0/EVT/EVT.index\",\n",
    "    logfile=\"$AGILE/agilepy-test-data/test_dataset_6.0/LOG/LOG.index\",\n",
    "    confFilePath = confFilePath,\n",
    "    userName = \"user-xxx\",\n",
    "    sourceName = \"vela-xxx\",\n",
    "    tmin = 150000000,\n",
    "    tmax = 160000000,\n",
    "    timetype = \"TT\",\n",
    "    glon = 263.55,\n",
    "    glat = -2.78,\n",
    "    outputDir = \"$HOME/agilepy_analysis\",\n",
    "    verboselvl = 2\n",
    ")"
   ],
   "outputs": [],
   "metadata": {}
  },
  {
   "cell_type": "markdown",
   "source": [
    "## Initialization of the class"
   ],
   "metadata": {}
  },
  {
   "cell_type": "code",
   "execution_count": 5,
   "source": [
    "ag = AGAnalysis(confFilePath)"
   ],
   "outputs": [
    {
     "output_type": "stream",
     "name": "stdout",
     "text": [
      "2021-12-23 10:56:49,869 [INFO    ] [AgilepyLogger] File and Console loggers are active. Log file: /home/antonio/agilepy_analysis/user-xxx_vela-xxx_20211223-105649/logs/analysis_log.log\n"
     ]
    }
   ],
   "metadata": {}
  },
  {
   "cell_type": "code",
   "execution_count": 50,
   "source": [
    "!cat /home/antonio/agilepy_analysis/user-xxx_vela-xxx_20211223-105649/logs/analysis_log.log"
   ],
   "outputs": [
    {
     "output_type": "stream",
     "name": "stdout",
     "text": [
      "2021-12-23 10:56:49,869 [INFO    ] [AgilepyLogger] File and Console loggers are active. Log file: /home/antonio/agilepy_analysis/user-xxx_vela-xxx_20211223-105649/logs/analysis_log.log\n",
      "2021-12-23 10:56:50,275 [INFO    ] [SourcesLibrary] Loaded 9 sources. Total sources: 9\n",
      "2021-12-23 10:56:50,526 [DEBUG   ] [SourcesLibrary] userSelectionParams: ['flux'] selectionParamsValues: [1.80893e-07]\n",
      "2021-12-23 10:56:50,527 [DEBUG   ] [SourcesLibrary] userSelectionParams: ['flux'] selectionParamsValues: [1.54772e-07]\n",
      "2021-12-23 10:56:50,528 [DEBUG   ] [SourcesLibrary] userSelectionParams: ['flux'] selectionParamsValues: [1.64949e-07]\n",
      "2021-12-23 10:56:50,529 [DEBUG   ] [SourcesLibrary] userSelectionParams: ['flux'] selectionParamsValues: [3.14104e-07]\n",
      "2021-12-23 10:56:50,529 [DEBUG   ] [SourcesLibrary] userSelectionParams: ['flux'] selectionParamsValues: [2.64853e-07]\n",
      "2021-12-23 10:56:50,529 [DEBUG   ] [SourcesLibrary] userSelectionParams: ['flux'] selectionParamsValues: [1.91737e-07]\n",
      "2021-12-23 10:56:50,530 [DEBUG   ] [SourcesLibrary] userSelectionParams: ['flux'] selectionParamsValues: [2.72475e-07]\n",
      "2021-12-23 10:56:50,530 [DEBUG   ] [SourcesLibrary] userSelectionParams: ['flux'] selectionParamsValues: [9.69539e-06]\n",
      "2021-12-23 10:56:50,531 [DEBUG   ] [SourcesLibrary] userSelectionParams: ['flux'] selectionParamsValues: [1.38792e-07]\n",
      "2021-12-23 10:56:50,659 [DEBUG   ] [SourcesLibrary] userSelectionParams: ['name'] selectionParamsValues: ['2AGLJ1045-5954']\n",
      "2021-12-23 10:56:50,662 [DEBUG   ] [SourcesLibrary] userSelectionParams: ['name'] selectionParamsValues: ['2AGLJ1048-5836']\n",
      "2021-12-23 10:56:50,664 [DEBUG   ] [SourcesLibrary] userSelectionParams: ['name'] selectionParamsValues: ['2AGLJ1045-5735']\n",
      "2021-12-23 10:56:50,665 [DEBUG   ] [SourcesLibrary] userSelectionParams: ['name'] selectionParamsValues: ['2AGLJ1059-5233']\n",
      "2021-12-23 10:56:50,668 [DEBUG   ] [SourcesLibrary] userSelectionParams: ['name'] selectionParamsValues: ['2AGLJ1029-5834']\n",
      "2021-12-23 10:56:50,669 [DEBUG   ] [SourcesLibrary] userSelectionParams: ['name'] selectionParamsValues: ['2AGLJ1015-5852']\n",
      "2021-12-23 10:56:50,670 [DEBUG   ] [SourcesLibrary] userSelectionParams: ['name'] selectionParamsValues: ['2AGLJ1020-5752']\n",
      "2021-12-23 10:56:50,672 [DEBUG   ] [SourcesLibrary] userSelectionParams: ['name'] selectionParamsValues: ['2AGLJ0835-4514']\n",
      "2021-12-23 10:56:50,673 [DEBUG   ] [SourcesLibrary] userSelectionParams: ['name'] selectionParamsValues: ['2AGLJ1020-5906']\n",
      "2021-12-23 10:56:50,794 [DEBUG   ] [SourcesLibrary] userSelectionParams: ['flux', 'dist'] selectionParamsValues: [1.80893e-07, 24.215887883842015]\n",
      "2021-12-23 10:56:50,795 [DEBUG   ] [SourcesLibrary] userSelectionParams: ['flux', 'dist'] selectionParamsValues: [1.54772e-07, 24.077750235539487]\n",
      "2021-12-23 10:56:50,796 [DEBUG   ] [SourcesLibrary] userSelectionParams: ['flux', 'dist'] selectionParamsValues: [1.64949e-07, 23.460729370956138]\n",
      "2021-12-23 10:56:50,796 [DEBUG   ] [SourcesLibrary] userSelectionParams: ['flux', 'dist'] selectionParamsValues: [3.14104e-07, 24.418297040070474]\n",
      "2021-12-23 10:56:50,797 [DEBUG   ] [SourcesLibrary] userSelectionParams: ['flux', 'dist'] selectionParamsValues: [2.64853e-07, 21.76039561795526]\n",
      "2021-12-23 10:56:50,797 [DEBUG   ] [SourcesLibrary] userSelectionParams: ['flux', 'dist'] selectionParamsValues: [1.91737e-07, 20.398740000053394]\n",
      "2021-12-23 10:56:50,798 [DEBUG   ] [SourcesLibrary] userSelectionParams: ['flux', 'dist'] selectionParamsValues: [2.72475e-07, 20.50363152139993]\n",
      "2021-12-23 10:56:50,798 [DEBUG   ] [SourcesLibrary] userSelectionParams: ['flux', 'dist'] selectionParamsValues: [9.69539e-06, 0.0701589193644724]\n",
      "2021-12-23 10:56:50,798 [DEBUG   ] [SourcesLibrary] userSelectionParams: ['flux', 'dist'] selectionParamsValues: [1.38792e-07, 21.07941966847351]\n",
      "2021-12-23 10:56:50,929 [DEBUG   ] [SourcesLibrary] userSelectionParams: ['name'] selectionParamsValues: ['2AGLJ1045-5954']\n",
      "2021-12-23 10:56:50,930 [DEBUG   ] [SourcesLibrary] userSelectionParams: ['name'] selectionParamsValues: ['2AGLJ1048-5836']\n",
      "2021-12-23 10:56:50,930 [DEBUG   ] [SourcesLibrary] userSelectionParams: ['name'] selectionParamsValues: ['2AGLJ1045-5735']\n",
      "2021-12-23 10:56:50,931 [DEBUG   ] [SourcesLibrary] userSelectionParams: ['name'] selectionParamsValues: ['2AGLJ1059-5233']\n",
      "2021-12-23 10:56:50,932 [DEBUG   ] [SourcesLibrary] userSelectionParams: ['name'] selectionParamsValues: ['2AGLJ1029-5834']\n",
      "2021-12-23 10:56:50,932 [DEBUG   ] [SourcesLibrary] userSelectionParams: ['name'] selectionParamsValues: ['2AGLJ1015-5852']\n",
      "2021-12-23 10:56:50,933 [DEBUG   ] [SourcesLibrary] userSelectionParams: ['name'] selectionParamsValues: ['2AGLJ1020-5752']\n",
      "2021-12-23 10:56:50,934 [DEBUG   ] [SourcesLibrary] userSelectionParams: ['name'] selectionParamsValues: ['2AGLJ0835-4514']\n",
      "2021-12-23 10:56:50,934 [DEBUG   ] [SourcesLibrary] userSelectionParams: ['name'] selectionParamsValues: ['2AGLJ1020-5906']\n",
      "2021-12-23 10:56:51,067 [DEBUG   ] [SourcesLibrary] userSelectionParams: ['name'] selectionParamsValues: ['2AGLJ1045-5954']\n",
      "2021-12-23 10:56:51,069 [DEBUG   ] [SourcesLibrary] userSelectionParams: ['name'] selectionParamsValues: ['2AGLJ1048-5836']\n",
      "2021-12-23 10:56:51,070 [DEBUG   ] [SourcesLibrary] userSelectionParams: ['name'] selectionParamsValues: ['2AGLJ1045-5735']\n",
      "2021-12-23 10:56:51,072 [DEBUG   ] [SourcesLibrary] userSelectionParams: ['name'] selectionParamsValues: ['2AGLJ1059-5233']\n",
      "2021-12-23 10:56:51,073 [DEBUG   ] [SourcesLibrary] userSelectionParams: ['name'] selectionParamsValues: ['2AGLJ1029-5834']\n",
      "2021-12-23 10:56:51,074 [DEBUG   ] [SourcesLibrary] userSelectionParams: ['name'] selectionParamsValues: ['2AGLJ1015-5852']\n",
      "2021-12-23 10:56:51,074 [DEBUG   ] [SourcesLibrary] userSelectionParams: ['name'] selectionParamsValues: ['2AGLJ1020-5752']\n",
      "2021-12-23 10:56:51,075 [DEBUG   ] [SourcesLibrary] userSelectionParams: ['name'] selectionParamsValues: ['2AGLJ0835-4514']\n",
      "2021-12-23 10:56:51,076 [DEBUG   ] [SourcesLibrary] userSelectionParams: ['name'] selectionParamsValues: ['2AGLJ1020-5906']\n",
      "2021-12-23 10:56:51,191 [DEBUG   ] [SourcesLibrary] userSelectionParams: ['flux', 'dist'] selectionParamsValues: [1.80893e-07, 24.215887883842015]\n",
      "2021-12-23 10:56:51,192 [DEBUG   ] [SourcesLibrary] userSelectionParams: ['flux', 'dist'] selectionParamsValues: [1.54772e-07, 24.077750235539487]\n",
      "2021-12-23 10:56:51,193 [DEBUG   ] [SourcesLibrary] userSelectionParams: ['flux', 'dist'] selectionParamsValues: [1.64949e-07, 23.460729370956138]\n",
      "2021-12-23 10:56:51,193 [DEBUG   ] [SourcesLibrary] userSelectionParams: ['flux', 'dist'] selectionParamsValues: [3.14104e-07, 24.418297040070474]\n",
      "2021-12-23 10:56:51,194 [DEBUG   ] [SourcesLibrary] userSelectionParams: ['flux', 'dist'] selectionParamsValues: [2.64853e-07, 21.76039561795526]\n",
      "2021-12-23 10:56:51,195 [DEBUG   ] [SourcesLibrary] userSelectionParams: ['flux', 'dist'] selectionParamsValues: [1.91737e-07, 20.398740000053394]\n",
      "2021-12-23 10:56:51,195 [DEBUG   ] [SourcesLibrary] userSelectionParams: ['flux', 'dist'] selectionParamsValues: [2.72475e-07, 20.50363152139993]\n",
      "2021-12-23 10:56:51,196 [DEBUG   ] [SourcesLibrary] userSelectionParams: ['flux', 'dist'] selectionParamsValues: [9.69539e-06, 0.0701589193644724]\n",
      "2021-12-23 10:56:51,197 [DEBUG   ] [SourcesLibrary] userSelectionParams: ['flux', 'dist'] selectionParamsValues: [1.38792e-07, 21.07941966847351]\n",
      "2021-12-23 10:56:51,381 [DEBUG   ] [SourcesLibrary] userSelectionParams: ['name'] selectionParamsValues: ['2AGLJ1045-5954']\n",
      "2021-12-23 10:56:51,382 [DEBUG   ] [SourcesLibrary] userSelectionParams: ['name'] selectionParamsValues: ['2AGLJ1048-5836']\n",
      "2021-12-23 10:56:51,383 [DEBUG   ] [SourcesLibrary] userSelectionParams: ['name'] selectionParamsValues: ['2AGLJ1045-5735']\n",
      "2021-12-23 10:56:51,384 [DEBUG   ] [SourcesLibrary] userSelectionParams: ['name'] selectionParamsValues: ['2AGLJ1059-5233']\n",
      "2021-12-23 10:56:51,385 [DEBUG   ] [SourcesLibrary] userSelectionParams: ['name'] selectionParamsValues: ['2AGLJ1029-5834']\n",
      "2021-12-23 10:56:51,386 [DEBUG   ] [SourcesLibrary] userSelectionParams: ['name'] selectionParamsValues: ['2AGLJ1015-5852']\n",
      "2021-12-23 10:56:51,386 [DEBUG   ] [SourcesLibrary] userSelectionParams: ['name'] selectionParamsValues: ['2AGLJ1020-5752']\n",
      "2021-12-23 10:56:51,387 [DEBUG   ] [SourcesLibrary] userSelectionParams: ['name'] selectionParamsValues: ['2AGLJ0835-4514']\n",
      "2021-12-23 10:56:51,388 [DEBUG   ] [SourcesLibrary] userSelectionParams: ['name'] selectionParamsValues: ['2AGLJ1020-5906']\n",
      "2021-12-23 10:56:51,460 [DEBUG   ] [SourcesLibrary] userSelectionParams: ['name'] selectionParamsValues: ['2AGLJ1045-5954']\n",
      "2021-12-23 10:56:51,461 [DEBUG   ] [SourcesLibrary] userSelectionParams: ['name'] selectionParamsValues: ['2AGLJ1048-5836']\n",
      "2021-12-23 10:56:51,462 [DEBUG   ] [SourcesLibrary] userSelectionParams: ['name'] selectionParamsValues: ['2AGLJ1045-5735']\n",
      "2021-12-23 10:56:51,462 [DEBUG   ] [SourcesLibrary] userSelectionParams: ['name'] selectionParamsValues: ['2AGLJ1059-5233']\n",
      "2021-12-23 10:56:51,463 [DEBUG   ] [SourcesLibrary] userSelectionParams: ['name'] selectionParamsValues: ['2AGLJ1029-5834']\n",
      "2021-12-23 10:56:51,463 [DEBUG   ] [SourcesLibrary] userSelectionParams: ['name'] selectionParamsValues: ['2AGLJ1015-5852']\n",
      "2021-12-23 10:56:51,464 [DEBUG   ] [SourcesLibrary] userSelectionParams: ['name'] selectionParamsValues: ['2AGLJ1020-5752']\n",
      "2021-12-23 10:56:51,464 [DEBUG   ] [SourcesLibrary] userSelectionParams: ['name'] selectionParamsValues: ['2AGLJ0835-4514']\n",
      "2021-12-23 10:56:51,465 [DEBUG   ] [SourcesLibrary] userSelectionParams: ['name'] selectionParamsValues: ['2AGLJ1020-5906']\n",
      "2021-12-23 10:56:51,543 [DEBUG   ] [SourcesLibrary] userSelectionParams: ['flux', 'dist'] selectionParamsValues: [1.80893e-07, 24.215887883842015]\n",
      "2021-12-23 10:56:51,544 [DEBUG   ] [SourcesLibrary] userSelectionParams: ['flux', 'dist'] selectionParamsValues: [1.54772e-07, 24.077750235539487]\n",
      "2021-12-23 10:56:51,545 [DEBUG   ] [SourcesLibrary] userSelectionParams: ['flux', 'dist'] selectionParamsValues: [1.64949e-07, 23.460729370956138]\n",
      "2021-12-23 10:56:51,545 [DEBUG   ] [SourcesLibrary] userSelectionParams: ['flux', 'dist'] selectionParamsValues: [3.14104e-07, 24.418297040070474]\n",
      "2021-12-23 10:56:51,546 [DEBUG   ] [SourcesLibrary] userSelectionParams: ['flux', 'dist'] selectionParamsValues: [2.64853e-07, 21.76039561795526]\n",
      "2021-12-23 10:56:51,546 [DEBUG   ] [SourcesLibrary] userSelectionParams: ['flux', 'dist'] selectionParamsValues: [1.91737e-07, 20.398740000053394]\n",
      "2021-12-23 10:56:51,547 [DEBUG   ] [SourcesLibrary] userSelectionParams: ['flux', 'dist'] selectionParamsValues: [2.72475e-07, 20.50363152139993]\n",
      "2021-12-23 10:56:51,548 [DEBUG   ] [SourcesLibrary] userSelectionParams: ['flux', 'dist'] selectionParamsValues: [9.69539e-06, 0.0701589193644724]\n",
      "2021-12-23 10:56:51,548 [DEBUG   ] [SourcesLibrary] userSelectionParams: ['flux', 'dist'] selectionParamsValues: [1.38792e-07, 21.07941966847351]\n",
      "2021-12-23 10:56:51,601 [DEBUG   ] [SourcesLibrary] userSelectionParams: ['name'] selectionParamsValues: ['2AGLJ1045-5954']\n",
      "2021-12-23 10:56:51,603 [DEBUG   ] [SourcesLibrary] userSelectionParams: ['name'] selectionParamsValues: ['2AGLJ1048-5836']\n",
      "2021-12-23 10:56:51,604 [DEBUG   ] [SourcesLibrary] userSelectionParams: ['name'] selectionParamsValues: ['2AGLJ1045-5735']\n",
      "2021-12-23 10:56:51,604 [DEBUG   ] [SourcesLibrary] userSelectionParams: ['name'] selectionParamsValues: ['2AGLJ1059-5233']\n",
      "2021-12-23 10:56:51,605 [DEBUG   ] [SourcesLibrary] userSelectionParams: ['name'] selectionParamsValues: ['2AGLJ1029-5834']\n",
      "2021-12-23 10:56:51,605 [DEBUG   ] [SourcesLibrary] userSelectionParams: ['name'] selectionParamsValues: ['2AGLJ1015-5852']\n",
      "2021-12-23 10:56:51,606 [DEBUG   ] [SourcesLibrary] userSelectionParams: ['name'] selectionParamsValues: ['2AGLJ1020-5752']\n",
      "2021-12-23 10:56:51,606 [DEBUG   ] [SourcesLibrary] userSelectionParams: ['name'] selectionParamsValues: ['2AGLJ0835-4514']\n",
      "2021-12-23 10:56:51,607 [DEBUG   ] [SourcesLibrary] userSelectionParams: ['name'] selectionParamsValues: ['2AGLJ1020-5906']\n",
      "2021-12-23 10:56:51,607 [INFO    ] [SourcesLibrary] Deleted 1 sources.\n",
      "2021-12-23 10:56:51,753 [DEBUG   ] [SourcesLibrary] Loading source from a dictionary..\n",
      "2021-12-23 10:56:51,932 [WARNING ] [SourcesLibrary] The source NEWSOURCE already exists. The 'sourceObject' will not be added to the SourcesLibrary.\n",
      "2021-12-23 10:56:51,993 [DEBUG   ] [SourcesLibrary] userSelectionParams: ['name'] selectionParamsValues: ['2AGLJ1045-5954']\n",
      "2021-12-23 10:56:51,994 [DEBUG   ] [SourcesLibrary] userSelectionParams: ['name'] selectionParamsValues: ['2AGLJ1045-5735']\n",
      "2021-12-23 10:56:51,995 [DEBUG   ] [SourcesLibrary] userSelectionParams: ['name'] selectionParamsValues: ['2AGLJ1059-5233']\n",
      "2021-12-23 10:56:51,995 [DEBUG   ] [SourcesLibrary] userSelectionParams: ['name'] selectionParamsValues: ['2AGLJ1029-5834']\n",
      "2021-12-23 10:56:51,996 [DEBUG   ] [SourcesLibrary] userSelectionParams: ['name'] selectionParamsValues: ['2AGLJ1015-5852']\n",
      "2021-12-23 10:56:51,996 [DEBUG   ] [SourcesLibrary] userSelectionParams: ['name'] selectionParamsValues: ['2AGLJ1020-5752']\n",
      "2021-12-23 10:56:51,997 [DEBUG   ] [SourcesLibrary] userSelectionParams: ['name'] selectionParamsValues: ['2AGLJ0835-4514']\n",
      "2021-12-23 10:56:51,997 [DEBUG   ] [SourcesLibrary] userSelectionParams: ['name'] selectionParamsValues: ['2AGLJ1020-5906']\n",
      "2021-12-23 10:56:51,999 [DEBUG   ] [SourcesLibrary] userSelectionParams: ['name'] selectionParamsValues: ['NEWSOURCE']\n",
      "2021-12-23 10:56:52,000 [INFO    ] [SourcesLibrary] Deleted 1 sources.\n",
      "2021-12-23 10:56:52,128 [DEBUG   ] [SourcesLibrary] userSelectionParams: ['name'] selectionParamsValues: ['2AGLJ1045-5954']\n",
      "2021-12-23 10:56:52,129 [DEBUG   ] [SourcesLibrary] userSelectionParams: ['name'] selectionParamsValues: ['2AGLJ1045-5735']\n",
      "2021-12-23 10:56:52,131 [DEBUG   ] [SourcesLibrary] userSelectionParams: ['name'] selectionParamsValues: ['2AGLJ1059-5233']\n",
      "2021-12-23 10:56:52,132 [DEBUG   ] [SourcesLibrary] userSelectionParams: ['name'] selectionParamsValues: ['2AGLJ1029-5834']\n",
      "2021-12-23 10:56:52,133 [DEBUG   ] [SourcesLibrary] userSelectionParams: ['name'] selectionParamsValues: ['2AGLJ1015-5852']\n",
      "2021-12-23 10:56:52,135 [DEBUG   ] [SourcesLibrary] userSelectionParams: ['name'] selectionParamsValues: ['2AGLJ1020-5752']\n",
      "2021-12-23 10:56:52,136 [DEBUG   ] [SourcesLibrary] userSelectionParams: ['name'] selectionParamsValues: ['2AGLJ0835-4514']\n",
      "2021-12-23 10:56:52,137 [DEBUG   ] [SourcesLibrary] userSelectionParams: ['name'] selectionParamsValues: ['2AGLJ1020-5906']\n",
      "2021-12-23 10:56:52,342 [DEBUG   ] [SourcesLibrary] userSelectionParams: ['name'] selectionParamsValues: ['2AGLJ1045-5954']\n",
      "2021-12-23 10:56:52,345 [DEBUG   ] [SourcesLibrary] userSelectionParams: ['name'] selectionParamsValues: ['2AGLJ1045-5735']\n",
      "2021-12-23 10:56:52,347 [DEBUG   ] [SourcesLibrary] userSelectionParams: ['name'] selectionParamsValues: ['2AGLJ1059-5233']\n",
      "2021-12-23 10:56:52,350 [DEBUG   ] [SourcesLibrary] userSelectionParams: ['name'] selectionParamsValues: ['2AGLJ1029-5834']\n",
      "2021-12-23 10:56:52,352 [DEBUG   ] [SourcesLibrary] userSelectionParams: ['name'] selectionParamsValues: ['2AGLJ1015-5852']\n",
      "2021-12-23 10:56:52,354 [DEBUG   ] [SourcesLibrary] userSelectionParams: ['name'] selectionParamsValues: ['2AGLJ1020-5752']\n",
      "2021-12-23 10:56:52,356 [DEBUG   ] [SourcesLibrary] userSelectionParams: ['name'] selectionParamsValues: ['2AGLJ0835-4514']\n",
      "2021-12-23 10:56:52,358 [DEBUG   ] [SourcesLibrary] userSelectionParams: ['name'] selectionParamsValues: ['2AGLJ1020-5906']\n",
      "2021-12-23 10:56:52,434 [DEBUG   ] [SourcesLibrary] userSelectionParams: ['flux'] selectionParamsValues: [1.80893e-07]\n",
      "2021-12-23 10:56:52,439 [DEBUG   ] [SourcesLibrary] userSelectionParams: ['flux'] selectionParamsValues: [1.64949e-07]\n",
      "2021-12-23 10:56:52,441 [DEBUG   ] [SourcesLibrary] userSelectionParams: ['flux'] selectionParamsValues: [3.14104e-07]\n",
      "2021-12-23 10:56:52,445 [DEBUG   ] [SourcesLibrary] userSelectionParams: ['flux'] selectionParamsValues: [2.64853e-07]\n",
      "2021-12-23 10:56:52,447 [DEBUG   ] [SourcesLibrary] userSelectionParams: ['flux'] selectionParamsValues: [1.91737e-07]\n",
      "2021-12-23 10:56:52,451 [DEBUG   ] [SourcesLibrary] userSelectionParams: ['flux'] selectionParamsValues: [2.72475e-07]\n",
      "2021-12-23 10:56:52,456 [DEBUG   ] [SourcesLibrary] userSelectionParams: ['flux'] selectionParamsValues: [9.69539e-06]\n",
      "2021-12-23 10:56:52,458 [DEBUG   ] [SourcesLibrary] userSelectionParams: ['flux'] selectionParamsValues: [1.38792e-07]\n"
     ]
    }
   ],
   "metadata": {}
  },
  {
   "cell_type": "markdown",
   "source": [
    "## API: configuration file "
   ],
   "metadata": {}
  },
  {
   "cell_type": "markdown",
   "source": [
    "Print all options of the configuration file"
   ],
   "metadata": {}
  },
  {
   "cell_type": "code",
   "execution_count": 6,
   "source": [
    "ag.printOptions()"
   ],
   "outputs": [
    {
     "output_type": "stream",
     "name": "stdout",
     "text": [
      "{ 'ap': {'radius': 3, 'timeslot': 3600},\n",
      "  'input': { 'datapath': '$AGILE/agilepy_data',\n",
      "             'evtQfile': '$AGILE/agilepy_data/EVT.qfile',\n",
      "             'evtfile': '/home/antonio/anaconda3/envs/agilepydev/agiletools/agilepy-test-data/test_dataset_6.0/EVT/EVT.index',\n",
      "             'logQfile': '$AGILE/agilepy_data/LOG.qfile',\n",
      "             'logfile': '/home/antonio/anaconda3/envs/agilepydev/agiletools/agilepy-test-data/test_dataset_6.0/LOG/LOG.index'},\n",
      "  'maps': { 'binsize': 0.25,\n",
      "            'energybins': [[100, 10000]],\n",
      "            'expstep': 4.0,\n",
      "            'fovbinnumber': 1,\n",
      "            'mapsize': 40,\n",
      "            'offaxisangle': 30,\n",
      "            'proj': 'ARC',\n",
      "            'projtype': 'WCS',\n",
      "            'spectralindex': 2.1,\n",
      "            'timestep': 160,\n",
      "            'useEDPmatrixforEXP': False},\n",
      "  'mle': { 'contourpoints': 40,\n",
      "           'edpcorrection': 0.75,\n",
      "           'expratio_maxthr': 15,\n",
      "           'expratio_minthr': 0,\n",
      "           'expratio_size': 10,\n",
      "           'expratioevaluation': True,\n",
      "           'fluxcorrection': 0,\n",
      "           'integratortype': 1,\n",
      "           'loccl': 5.99147,\n",
      "           'mindefaulttolerance': 0.01,\n",
      "           'minimizeralg': 'Migrad',\n",
      "           'minimizerdefstrategy': 2,\n",
      "           'minimizertype': 'Minuit',\n",
      "           'ranal': 10,\n",
      "           'ulcl': 2},\n",
      "  'model': { 'emax_sources': 10000,\n",
      "             'emin_sources': 100,\n",
      "             'galcoeff': [-1],\n",
      "             'galmode': 1,\n",
      "             'galmode2': 0,\n",
      "             'galmode2fit': 0,\n",
      "             'isocoeff': [-1],\n",
      "             'isomode': 1,\n",
      "             'isomode2': 0,\n",
      "             'isomode2fit': 0,\n",
      "             'modelfile': None},\n",
      "  'output': { 'filenameprefix': 'analysis_product',\n",
      "              'logfilenameprefix': 'analysis_log',\n",
      "              'outdir': PosixPath('/home/antonio/agilepy_analysis/user-xxx_vela-xxx_20211223-105649'),\n",
      "              'sourcename': 'vela-xxx',\n",
      "              'username': 'user-xxx',\n",
      "              'verboselvl': 2},\n",
      "  'plotting': {'twocolumns': False},\n",
      "  'selection': { 'albedorad': 80,\n",
      "                 'bpointing': None,\n",
      "                 'dq': 0,\n",
      "                 'emax': 10000,\n",
      "                 'emin': 100,\n",
      "                 'filtercode': 5,\n",
      "                 'fovradmax': 60,\n",
      "                 'fovradmin': 0,\n",
      "                 'glat': -2.78,\n",
      "                 'glon': 263.550001,\n",
      "                 'lonpole': 180,\n",
      "                 'lpointing': None,\n",
      "                 'maplistgen': 'None',\n",
      "                 'phasecode': 18,\n",
      "                 'proj': 'ARC',\n",
      "                 'timelist': 'None',\n",
      "                 'timetype': 'TT',\n",
      "                 'tmax': 160000000,\n",
      "                 'tmin': 150000000}}\n"
     ]
    }
   ],
   "metadata": {}
  },
  {
   "cell_type": "markdown",
   "source": [
    "Print a single section of the yaml configuration file"
   ],
   "metadata": {}
  },
  {
   "cell_type": "code",
   "execution_count": 7,
   "source": [
    "ag.printOptions(\"maps\")"
   ],
   "outputs": [
    {
     "output_type": "stream",
     "name": "stdout",
     "text": [
      "{ 'binsize': 0.25,\n",
      "  'energybins': [[100, 10000]],\n",
      "  'expstep': 4.0,\n",
      "  'fovbinnumber': 1,\n",
      "  'mapsize': 40,\n",
      "  'offaxisangle': 30,\n",
      "  'proj': 'ARC',\n",
      "  'projtype': 'WCS',\n",
      "  'spectralindex': 2.1,\n",
      "  'timestep': 160,\n",
      "  'useEDPmatrixforEXP': False}\n"
     ]
    }
   ],
   "metadata": {}
  },
  {
   "cell_type": "markdown",
   "source": [
    "Print a single option"
   ],
   "metadata": {}
  },
  {
   "cell_type": "code",
   "execution_count": 8,
   "source": [
    "ag.getOption(\"energybins\")"
   ],
   "outputs": [
    {
     "output_type": "execute_result",
     "data": {
      "text/plain": [
       "[[100, 10000]]"
      ]
     },
     "metadata": {},
     "execution_count": 8
    }
   ],
   "metadata": {}
  },
  {
   "cell_type": "markdown",
   "source": [
    "Set some options"
   ],
   "metadata": {}
  },
  {
   "cell_type": "code",
   "execution_count": 9,
   "source": [
    "ag.setOptions(energybins=[[100,300], [300, 1000]], mapsize=50, binsize=0.4)"
   ],
   "outputs": [],
   "metadata": {}
  },
  {
   "cell_type": "code",
   "execution_count": 10,
   "source": [
    "ag.printOptions(\"maps\")"
   ],
   "outputs": [
    {
     "output_type": "stream",
     "name": "stdout",
     "text": [
      "{ 'binsize': 0.4,\n",
      "  'energybins': [[100, 300], [300, 1000]],\n",
      "  'expstep': 4.0,\n",
      "  'fovbinnumber': 1,\n",
      "  'mapsize': 50,\n",
      "  'offaxisangle': 30,\n",
      "  'proj': 'ARC',\n",
      "  'projtype': 'WCS',\n",
      "  'spectralindex': 2.1,\n",
      "  'timestep': 160,\n",
      "  'useEDPmatrixforEXP': False}\n"
     ]
    }
   ],
   "metadata": {}
  },
  {
   "cell_type": "markdown",
   "source": [
    "## API: interacting with the Sources Library"
   ],
   "metadata": {}
  },
  {
   "cell_type": "markdown",
   "source": [
    "### Loading the AGILE's second catalogue of gamma-ray sources"
   ],
   "metadata": {}
  },
  {
   "cell_type": "code",
   "execution_count": 11,
   "source": [
    "sources = ag.loadSourcesFromCatalog(\"2AGL\", rangeDist = (0, 25))"
   ],
   "outputs": [
    {
     "output_type": "stream",
     "name": "stdout",
     "text": [
      "2021-12-23 10:56:50,275 [INFO    ] [SourcesLibrary] Loaded 9 sources. Total sources: 9\n"
     ]
    }
   ],
   "metadata": {
    "scrolled": true
   }
  },
  {
   "cell_type": "code",
   "execution_count": 12,
   "source": [
    "type(sources[0])"
   ],
   "outputs": [
    {
     "output_type": "execute_result",
     "data": {
      "text/plain": [
       "agilepy.core.source.Source.PointSource"
      ]
     },
     "metadata": {},
     "execution_count": 12
    }
   ],
   "metadata": {}
  },
  {
   "cell_type": "code",
   "execution_count": 13,
   "source": [
    "for s in sources:\n",
    "    print(s)"
   ],
   "outputs": [
    {
     "output_type": "stream",
     "name": "stdout",
     "text": [
      "\n",
      "-----------------------------------------------------------\u001b[1m\n",
      " Source name: 2AGLJ1045-5954 (PointSource)\u001b[0m\n",
      "  * \u001b[1mSpectrum type\u001b[0m: PowerLaw\n",
      "  * \u001b[1mFree parameters\u001b[0m: none\n",
      "  * \u001b[1mInitial source parameters\u001b[0m:\n",
      "\t- flux (ph/cm2s): 1.8089e-07\n",
      "\t- index : 2.0414\n",
      "\t- Source position (l,b): (287.697, -0.788886)\n",
      "\t- Distance from map center (deg): 24.2159\n",
      "\n",
      "-----------------------------------------------------------\u001b[1m\n",
      " Source name: 2AGLJ1048-5836 (PointSource)\u001b[0m\n",
      "  * \u001b[1mSpectrum type\u001b[0m: PowerLaw\n",
      "  * \u001b[1mFree parameters\u001b[0m: none\n",
      "  * \u001b[1mInitial source parameters\u001b[0m:\n",
      "\t- flux (ph/cm2s): 1.5477e-07\n",
      "\t- index : 2.00039\n",
      "\t- Source position (l,b): (287.422, 0.423015)\n",
      "\t- Distance from map center (deg): 24.0778\n",
      "\n",
      "-----------------------------------------------------------\u001b[1m\n",
      " Source name: 2AGLJ1045-5735 (PointSource)\u001b[0m\n",
      "  * \u001b[1mSpectrum type\u001b[0m: PowerLaw\n",
      "  * \u001b[1mFree parameters\u001b[0m: none\n",
      "  * \u001b[1mInitial source parameters\u001b[0m:\n",
      "\t- flux (ph/cm2s): 1.6495e-07\n",
      "\t- index : 2.25973\n",
      "\t- Source position (l,b): (286.672, 1.23211)\n",
      "\t- Distance from map center (deg): 23.4607\n",
      "\n",
      "-----------------------------------------------------------\u001b[1m\n",
      " Source name: 2AGLJ1059-5233 (PointSource)\u001b[0m\n",
      "  * \u001b[1mSpectrum type\u001b[0m: PowerLaw\n",
      "  * \u001b[1mFree parameters\u001b[0m: none\n",
      "  * \u001b[1mInitial source parameters\u001b[0m:\n",
      "\t- flux (ph/cm2s): 3.1410e-07\n",
      "\t- index : 1.77974\n",
      "\t- Source position (l,b): (286.128, 6.61213)\n",
      "\t- Distance from map center (deg): 24.4183\n",
      "\n",
      "-----------------------------------------------------------\u001b[1m\n",
      " Source name: 2AGLJ1029-5834 (PointSource)\u001b[0m\n",
      "  * \u001b[1mSpectrum type\u001b[0m: PowerLaw\n",
      "  * \u001b[1mFree parameters\u001b[0m: none\n",
      "  * \u001b[1mInitial source parameters\u001b[0m:\n",
      "\t- flux (ph/cm2s): 2.6485e-07\n",
      "\t- index : 1.91101\n",
      "\t- Source position (l,b): (285.221, -0.689424)\n",
      "\t- Distance from map center (deg): 21.7604\n",
      "\n",
      "-----------------------------------------------------------\u001b[1m\n",
      " Source name: 2AGLJ1015-5852 (PointSource)\u001b[0m\n",
      "  * \u001b[1mSpectrum type\u001b[0m: PowerLaw\n",
      "  * \u001b[1mFree parameters\u001b[0m: none\n",
      "  * \u001b[1mInitial source parameters\u001b[0m:\n",
      "\t- flux (ph/cm2s): 1.9174e-07\n",
      "\t- index : 2.03933\n",
      "\t- Source position (l,b): (283.945, -1.85807)\n",
      "\t- Distance from map center (deg): 20.3987\n",
      "\n",
      "-----------------------------------------------------------\u001b[1m\n",
      " Source name: 2AGLJ1020-5752 (PointSource)\u001b[0m\n",
      "  * \u001b[1mSpectrum type\u001b[0m: PowerLaw\n",
      "  * \u001b[1mFree parameters\u001b[0m: none\n",
      "  * \u001b[1mInitial source parameters\u001b[0m:\n",
      "\t- flux (ph/cm2s): 2.7247e-07\n",
      "\t- index : 2.12932\n",
      "\t- Source position (l,b): (283.95, -0.621559)\n",
      "\t- Distance from map center (deg): 20.5036\n",
      "\n",
      "-----------------------------------------------------------\u001b[1m\n",
      " Source name: 2AGLJ0835-4514 (PointSource)\u001b[0m\n",
      "  * \u001b[1mSpectrum type\u001b[0m: PLSuperExpCutoff\n",
      "  * \u001b[1mFree parameters\u001b[0m: none\n",
      "  * \u001b[1mInitial source parameters\u001b[0m:\n",
      "\t- flux (ph/cm2s): 9.6954e-06\n",
      "\t- index1 : 1.71345\n",
      "\t- cutoffEnergy : 3913.06\n",
      "\t- index2 : 1.34774\n",
      "\t- Source position (l,b): (263.585, -2.84083)\n",
      "\t- Distance from map center (deg): 0.0702\n",
      "\n",
      "-----------------------------------------------------------\u001b[1m\n",
      " Source name: 2AGLJ1020-5906 (PointSource)\u001b[0m\n",
      "  * \u001b[1mSpectrum type\u001b[0m: PowerLaw\n",
      "  * \u001b[1mFree parameters\u001b[0m: none\n",
      "  * \u001b[1mInitial source parameters\u001b[0m:\n",
      "\t- flux (ph/cm2s): 1.3879e-07\n",
      "\t- index : 1.78216\n",
      "\t- Source position (l,b): (284.629, -1.89938)\n",
      "\t- Distance from map center (deg): 21.0794\n"
     ]
    }
   ],
   "metadata": {
    "scrolled": true
   }
  },
  {
   "cell_type": "markdown",
   "source": [
    "### Alternative solution: loading the sources from a custom AGILE .txt file\n",
    "The sources that are already present in the Sources Library will not be loaded twice."
   ],
   "metadata": {}
  },
  {
   "cell_type": "code",
   "execution_count": 14,
   "source": [
    "sources_hypotesis = \"\"\"\n",
    "969.539e-08 263.585 -2.84083 1.71345 0 2 2AGLJ0835-4514 0.0 2 3913.06 1.34774 0.5 5 20 10000 0 100\n",
    "10e-08 273.0 -1.1 2.1 1 2 NEWOURCE 0.0 0 0 0 0.5 5 20 10000 0 100\n",
    "\"\"\"\n",
    "with open(\"./sources_hyp.txt\", \"w\") as sf:\n",
    "    sf.write(sources_hypotesis)"
   ],
   "outputs": [],
   "metadata": {}
  },
  {
   "cell_type": "code",
   "execution_count": 15,
   "source": [
    "#sources = ag.loadSourcesFromFile(\"./sources_hyp.txt\", rangeDist = (0, 25))"
   ],
   "outputs": [],
   "metadata": {}
  },
  {
   "cell_type": "markdown",
   "source": [
    "### Selecting the sources\n",
    "The selection criteria can be expressed using the following Source class’s parameters:\n",
    "\n",
    "* name: the unique code identifying the source.\n",
    "* dist: the distance of the source from the center of the maps.\n",
    "* flux: the flux value.\n",
    "* sqrtTS: the radix square of the ts."
   ],
   "metadata": {}
  },
  {
   "cell_type": "code",
   "execution_count": 16,
   "source": [
    "selectedSources = ag.selectSources('flux > 0')"
   ],
   "outputs": [
    {
     "output_type": "stream",
     "name": "stdout",
     "text": [
      "2021-12-23 10:56:50,526 [DEBUG   ] [SourcesLibrary] userSelectionParams: ['flux'] selectionParamsValues: [1.80893e-07]\n",
      "2021-12-23 10:56:50,527 [DEBUG   ] [SourcesLibrary] userSelectionParams: ['flux'] selectionParamsValues: [1.54772e-07]\n",
      "2021-12-23 10:56:50,528 [DEBUG   ] [SourcesLibrary] userSelectionParams: ['flux'] selectionParamsValues: [1.64949e-07]\n",
      "2021-12-23 10:56:50,529 [DEBUG   ] [SourcesLibrary] userSelectionParams: ['flux'] selectionParamsValues: [3.14104e-07]\n",
      "2021-12-23 10:56:50,529 [DEBUG   ] [SourcesLibrary] userSelectionParams: ['flux'] selectionParamsValues: [2.64853e-07]\n",
      "2021-12-23 10:56:50,530 [DEBUG   ] [SourcesLibrary] userSelectionParams: ['flux'] selectionParamsValues: [1.91737e-07]\n",
      "2021-12-23 10:56:50,530 [DEBUG   ] [SourcesLibrary] userSelectionParams: ['flux'] selectionParamsValues: [2.72475e-07]\n",
      "2021-12-23 10:56:50,530 [DEBUG   ] [SourcesLibrary] userSelectionParams: ['flux'] selectionParamsValues: [9.69539e-06]\n",
      "2021-12-23 10:56:50,531 [DEBUG   ] [SourcesLibrary] userSelectionParams: ['flux'] selectionParamsValues: [1.38792e-07]\n"
     ]
    }
   ],
   "metadata": {}
  },
  {
   "cell_type": "code",
   "execution_count": 17,
   "source": [
    "len(selectedSources)"
   ],
   "outputs": [
    {
     "output_type": "execute_result",
     "data": {
      "text/plain": [
       "9"
      ]
     },
     "metadata": {},
     "execution_count": 17
    }
   ],
   "metadata": {}
  },
  {
   "cell_type": "code",
   "execution_count": 18,
   "source": [
    "selectedSources = ag.selectSources('name == \"2AGLJ0835-4514\"')"
   ],
   "outputs": [
    {
     "output_type": "stream",
     "name": "stdout",
     "text": [
      "2021-12-23 10:56:50,660 [DEBUG   ] [SourcesLibrary] userSelectionParams: ['name'] selectionParamsValues: ['2AGLJ1045-5954']\n",
      "2021-12-23 10:56:50,662 [DEBUG   ] [SourcesLibrary] userSelectionParams: ['name'] selectionParamsValues: ['2AGLJ1048-5836']\n",
      "2021-12-23 10:56:50,664 [DEBUG   ] [SourcesLibrary] userSelectionParams: ['name'] selectionParamsValues: ['2AGLJ1045-5735']\n",
      "2021-12-23 10:56:50,665 [DEBUG   ] [SourcesLibrary] userSelectionParams: ['name'] selectionParamsValues: ['2AGLJ1059-5233']\n",
      "2021-12-23 10:56:50,668 [DEBUG   ] [SourcesLibrary] userSelectionParams: ['name'] selectionParamsValues: ['2AGLJ1029-5834']\n",
      "2021-12-23 10:56:50,669 [DEBUG   ] [SourcesLibrary] userSelectionParams: ['name'] selectionParamsValues: ['2AGLJ1015-5852']\n",
      "2021-12-23 10:56:50,670 [DEBUG   ] [SourcesLibrary] userSelectionParams: ['name'] selectionParamsValues: ['2AGLJ1020-5752']\n",
      "2021-12-23 10:56:50,672 [DEBUG   ] [SourcesLibrary] userSelectionParams: ['name'] selectionParamsValues: ['2AGLJ0835-4514']\n",
      "2021-12-23 10:56:50,673 [DEBUG   ] [SourcesLibrary] userSelectionParams: ['name'] selectionParamsValues: ['2AGLJ1020-5906']\n"
     ]
    }
   ],
   "metadata": {}
  },
  {
   "cell_type": "code",
   "execution_count": 19,
   "source": [
    "len(selectedSources)\n",
    "for s in selectedSources:\n",
    "    print(s)"
   ],
   "outputs": [
    {
     "output_type": "stream",
     "name": "stdout",
     "text": [
      "\n",
      "-----------------------------------------------------------\u001b[1m\n",
      " Source name: 2AGLJ0835-4514 (PointSource)\u001b[0m\n",
      "  * \u001b[1mSpectrum type\u001b[0m: PLSuperExpCutoff\n",
      "  * \u001b[1mFree parameters\u001b[0m: none\n",
      "  * \u001b[1mInitial source parameters\u001b[0m:\n",
      "\t- flux (ph/cm2s): 9.6954e-06\n",
      "\t- index1 : 1.71345\n",
      "\t- cutoffEnergy : 3913.06\n",
      "\t- index2 : 1.34774\n",
      "\t- Source position (l,b): (263.585, -2.84083)\n",
      "\t- Distance from map center (deg): 0.0702\n"
     ]
    }
   ],
   "metadata": {}
  },
  {
   "cell_type": "code",
   "execution_count": 20,
   "source": [
    "selectedSources = ag.selectSources(\"flux > 0 AND dist <= 2\")"
   ],
   "outputs": [
    {
     "output_type": "stream",
     "name": "stdout",
     "text": [
      "2021-12-23 10:56:50,794 [DEBUG   ] [SourcesLibrary] userSelectionParams: ['flux', 'dist'] selectionParamsValues: [1.80893e-07, 24.215887883842015]\n",
      "2021-12-23 10:56:50,795 [DEBUG   ] [SourcesLibrary] userSelectionParams: ['flux', 'dist'] selectionParamsValues: [1.54772e-07, 24.077750235539487]\n",
      "2021-12-23 10:56:50,796 [DEBUG   ] [SourcesLibrary] userSelectionParams: ['flux', 'dist'] selectionParamsValues: [1.64949e-07, 23.460729370956138]\n",
      "2021-12-23 10:56:50,796 [DEBUG   ] [SourcesLibrary] userSelectionParams: ['flux', 'dist'] selectionParamsValues: [3.14104e-07, 24.418297040070474]\n",
      "2021-12-23 10:56:50,797 [DEBUG   ] [SourcesLibrary] userSelectionParams: ['flux', 'dist'] selectionParamsValues: [2.64853e-07, 21.76039561795526]\n",
      "2021-12-23 10:56:50,797 [DEBUG   ] [SourcesLibrary] userSelectionParams: ['flux', 'dist'] selectionParamsValues: [1.91737e-07, 20.398740000053394]\n",
      "2021-12-23 10:56:50,798 [DEBUG   ] [SourcesLibrary] userSelectionParams: ['flux', 'dist'] selectionParamsValues: [2.72475e-07, 20.50363152139993]\n",
      "2021-12-23 10:56:50,798 [DEBUG   ] [SourcesLibrary] userSelectionParams: ['flux', 'dist'] selectionParamsValues: [9.69539e-06, 0.0701589193644724]\n",
      "2021-12-23 10:56:50,799 [DEBUG   ] [SourcesLibrary] userSelectionParams: ['flux', 'dist'] selectionParamsValues: [1.38792e-07, 21.07941966847351]\n"
     ]
    }
   ],
   "metadata": {}
  },
  {
   "cell_type": "code",
   "execution_count": 21,
   "source": [
    "len(selectedSources)\n",
    "for s in selectedSources:\n",
    "    print(s)"
   ],
   "outputs": [
    {
     "output_type": "stream",
     "name": "stdout",
     "text": [
      "\n",
      "-----------------------------------------------------------\u001b[1m\n",
      " Source name: 2AGLJ0835-4514 (PointSource)\u001b[0m\n",
      "  * \u001b[1mSpectrum type\u001b[0m: PLSuperExpCutoff\n",
      "  * \u001b[1mFree parameters\u001b[0m: none\n",
      "  * \u001b[1mInitial source parameters\u001b[0m:\n",
      "\t- flux (ph/cm2s): 9.6954e-06\n",
      "\t- index1 : 1.71345\n",
      "\t- cutoffEnergy : 3913.06\n",
      "\t- index2 : 1.34774\n",
      "\t- Source position (l,b): (263.585, -2.84083)\n",
      "\t- Distance from map center (deg): 0.0702\n"
     ]
    }
   ],
   "metadata": {}
  },
  {
   "cell_type": "markdown",
   "source": [
    "### Free/Fix source parameters\n",
    "You can fix or free the following parametes:\n",
    "\n",
    "* flux\n",
    "* index\n",
    "* index1\n",
    "* index2\n",
    "* cutoffEnergy\n",
    "* pivotEnergy\n",
    "* curvature\n",
    "* index2\n",
    "* pos for the position of the source"
   ],
   "metadata": {}
  },
  {
   "cell_type": "code",
   "execution_count": 22,
   "source": [
    "_sources = ag.freeSources('name == \"2AGLJ0835-4514\"', \"flux\", True, show=True)"
   ],
   "outputs": [
    {
     "output_type": "stream",
     "name": "stdout",
     "text": [
      "2021-12-23 10:56:50,929 [DEBUG   ] [SourcesLibrary] userSelectionParams: ['name'] selectionParamsValues: ['2AGLJ1045-5954']\n",
      "2021-12-23 10:56:50,930 [DEBUG   ] [SourcesLibrary] userSelectionParams: ['name'] selectionParamsValues: ['2AGLJ1048-5836']\n",
      "2021-12-23 10:56:50,931 [DEBUG   ] [SourcesLibrary] userSelectionParams: ['name'] selectionParamsValues: ['2AGLJ1045-5735']\n",
      "2021-12-23 10:56:50,932 [DEBUG   ] [SourcesLibrary] userSelectionParams: ['name'] selectionParamsValues: ['2AGLJ1059-5233']\n",
      "2021-12-23 10:56:50,932 [DEBUG   ] [SourcesLibrary] userSelectionParams: ['name'] selectionParamsValues: ['2AGLJ1029-5834']\n",
      "2021-12-23 10:56:50,932 [DEBUG   ] [SourcesLibrary] userSelectionParams: ['name'] selectionParamsValues: ['2AGLJ1015-5852']\n",
      "2021-12-23 10:56:50,933 [DEBUG   ] [SourcesLibrary] userSelectionParams: ['name'] selectionParamsValues: ['2AGLJ1020-5752']\n",
      "2021-12-23 10:56:50,934 [DEBUG   ] [SourcesLibrary] userSelectionParams: ['name'] selectionParamsValues: ['2AGLJ0835-4514']\n",
      "2021-12-23 10:56:50,934 [DEBUG   ] [SourcesLibrary] userSelectionParams: ['name'] selectionParamsValues: ['2AGLJ1020-5906']\n",
      "\n",
      "-----------------------------------------------------------\u001b[1m\n",
      " Source name: 2AGLJ0835-4514 (PointSource)\u001b[0m\n",
      "  * \u001b[1mSpectrum type\u001b[0m: PLSuperExpCutoff\n",
      "  * \u001b[1mFree parameters\u001b[0m: flux\n",
      "  * \u001b[1mInitial source parameters\u001b[0m:\n",
      "\t- flux (ph/cm2s): 9.6954e-06\n",
      "\t- index1 : 1.71345\n",
      "\t- cutoffEnergy : 3913.06\n",
      "\t- index2 : 1.34774\n",
      "\t- Source position (l,b): (263.585, -2.84083)\n",
      "\t- Distance from map center (deg): 0.0702\n"
     ]
    }
   ],
   "metadata": {}
  },
  {
   "cell_type": "code",
   "execution_count": 23,
   "source": [
    "for s in _sources:\n",
    "    print(s)"
   ],
   "outputs": [
    {
     "output_type": "stream",
     "name": "stdout",
     "text": [
      "\n",
      "-----------------------------------------------------------\u001b[1m\n",
      " Source name: 2AGLJ0835-4514 (PointSource)\u001b[0m\n",
      "  * \u001b[1mSpectrum type\u001b[0m: PLSuperExpCutoff\n",
      "  * \u001b[1mFree parameters\u001b[0m: flux\n",
      "  * \u001b[1mInitial source parameters\u001b[0m:\n",
      "\t- flux (ph/cm2s): 9.6954e-06\n",
      "\t- index1 : 1.71345\n",
      "\t- cutoffEnergy : 3913.06\n",
      "\t- index2 : 1.34774\n",
      "\t- Source position (l,b): (263.585, -2.84083)\n",
      "\t- Distance from map center (deg): 0.0702\n"
     ]
    }
   ],
   "metadata": {}
  },
  {
   "cell_type": "code",
   "execution_count": 24,
   "source": [
    "_sources = ag.freeSources('name == \"2AGLJ0835-4514\"', \"index1\", True)"
   ],
   "outputs": [
    {
     "output_type": "stream",
     "name": "stdout",
     "text": [
      "2021-12-23 10:56:51,067 [DEBUG   ] [SourcesLibrary] userSelectionParams: ['name'] selectionParamsValues: ['2AGLJ1045-5954']\n",
      "2021-12-23 10:56:51,069 [DEBUG   ] [SourcesLibrary] userSelectionParams: ['name'] selectionParamsValues: ['2AGLJ1048-5836']\n",
      "2021-12-23 10:56:51,071 [DEBUG   ] [SourcesLibrary] userSelectionParams: ['name'] selectionParamsValues: ['2AGLJ1045-5735']\n",
      "2021-12-23 10:56:51,072 [DEBUG   ] [SourcesLibrary] userSelectionParams: ['name'] selectionParamsValues: ['2AGLJ1059-5233']\n",
      "2021-12-23 10:56:51,073 [DEBUG   ] [SourcesLibrary] userSelectionParams: ['name'] selectionParamsValues: ['2AGLJ1029-5834']\n",
      "2021-12-23 10:56:51,074 [DEBUG   ] [SourcesLibrary] userSelectionParams: ['name'] selectionParamsValues: ['2AGLJ1015-5852']\n",
      "2021-12-23 10:56:51,074 [DEBUG   ] [SourcesLibrary] userSelectionParams: ['name'] selectionParamsValues: ['2AGLJ1020-5752']\n",
      "2021-12-23 10:56:51,076 [DEBUG   ] [SourcesLibrary] userSelectionParams: ['name'] selectionParamsValues: ['2AGLJ0835-4514']\n",
      "2021-12-23 10:56:51,077 [DEBUG   ] [SourcesLibrary] userSelectionParams: ['name'] selectionParamsValues: ['2AGLJ1020-5906']\n"
     ]
    }
   ],
   "metadata": {}
  },
  {
   "cell_type": "code",
   "execution_count": 25,
   "source": [
    "for s in _sources:\n",
    "    print(s)"
   ],
   "outputs": [
    {
     "output_type": "stream",
     "name": "stdout",
     "text": [
      "\n",
      "-----------------------------------------------------------\u001b[1m\n",
      " Source name: 2AGLJ0835-4514 (PointSource)\u001b[0m\n",
      "  * \u001b[1mSpectrum type\u001b[0m: PLSuperExpCutoff\n",
      "  * \u001b[1mFree parameters\u001b[0m: flux index1\n",
      "  * \u001b[1mInitial source parameters\u001b[0m:\n",
      "\t- flux (ph/cm2s): 9.6954e-06\n",
      "\t- index1 : 1.71345\n",
      "\t- cutoffEnergy : 3913.06\n",
      "\t- index2 : 1.34774\n",
      "\t- Source position (l,b): (263.585, -2.84083)\n",
      "\t- Distance from map center (deg): 0.0702\n"
     ]
    }
   ],
   "metadata": {}
  },
  {
   "cell_type": "code",
   "execution_count": 26,
   "source": [
    "_sources = ag.freeSources(\"flux > 0 AND dist <= 2\", \"flux\", True)"
   ],
   "outputs": [
    {
     "output_type": "stream",
     "name": "stdout",
     "text": [
      "2021-12-23 10:56:51,191 [DEBUG   ] [SourcesLibrary] userSelectionParams: ['flux', 'dist'] selectionParamsValues: [1.80893e-07, 24.215887883842015]\n",
      "2021-12-23 10:56:51,192 [DEBUG   ] [SourcesLibrary] userSelectionParams: ['flux', 'dist'] selectionParamsValues: [1.54772e-07, 24.077750235539487]\n",
      "2021-12-23 10:56:51,193 [DEBUG   ] [SourcesLibrary] userSelectionParams: ['flux', 'dist'] selectionParamsValues: [1.64949e-07, 23.460729370956138]\n",
      "2021-12-23 10:56:51,194 [DEBUG   ] [SourcesLibrary] userSelectionParams: ['flux', 'dist'] selectionParamsValues: [3.14104e-07, 24.418297040070474]\n",
      "2021-12-23 10:56:51,194 [DEBUG   ] [SourcesLibrary] userSelectionParams: ['flux', 'dist'] selectionParamsValues: [2.64853e-07, 21.76039561795526]\n",
      "2021-12-23 10:56:51,195 [DEBUG   ] [SourcesLibrary] userSelectionParams: ['flux', 'dist'] selectionParamsValues: [1.91737e-07, 20.398740000053394]\n",
      "2021-12-23 10:56:51,196 [DEBUG   ] [SourcesLibrary] userSelectionParams: ['flux', 'dist'] selectionParamsValues: [2.72475e-07, 20.50363152139993]\n",
      "2021-12-23 10:56:51,196 [DEBUG   ] [SourcesLibrary] userSelectionParams: ['flux', 'dist'] selectionParamsValues: [9.69539e-06, 0.0701589193644724]\n",
      "2021-12-23 10:56:51,197 [DEBUG   ] [SourcesLibrary] userSelectionParams: ['flux', 'dist'] selectionParamsValues: [1.38792e-07, 21.07941966847351]\n"
     ]
    }
   ],
   "metadata": {}
  },
  {
   "cell_type": "code",
   "execution_count": 27,
   "source": [
    "#len is 0 because the flux is already free\n",
    "len(_sources)"
   ],
   "outputs": [
    {
     "output_type": "execute_result",
     "data": {
      "text/plain": [
       "0"
      ]
     },
     "metadata": {},
     "execution_count": 27
    }
   ],
   "metadata": {}
  },
  {
   "cell_type": "code",
   "execution_count": 28,
   "source": [
    "for s in _sources:\n",
    "    print(s)"
   ],
   "outputs": [],
   "metadata": {}
  },
  {
   "cell_type": "markdown",
   "source": [
    "Resetting the changes:"
   ],
   "metadata": {}
  },
  {
   "cell_type": "code",
   "execution_count": 29,
   "source": [
    "_sources = ag.freeSources('name == \"2AGLJ0835-4514\"', \"flux\", False)"
   ],
   "outputs": [
    {
     "output_type": "stream",
     "name": "stdout",
     "text": [
      "2021-12-23 10:56:51,381 [DEBUG   ] [SourcesLibrary] userSelectionParams: ['name'] selectionParamsValues: ['2AGLJ1045-5954']\n",
      "2021-12-23 10:56:51,382 [DEBUG   ] [SourcesLibrary] userSelectionParams: ['name'] selectionParamsValues: ['2AGLJ1048-5836']\n",
      "2021-12-23 10:56:51,383 [DEBUG   ] [SourcesLibrary] userSelectionParams: ['name'] selectionParamsValues: ['2AGLJ1045-5735']\n",
      "2021-12-23 10:56:51,384 [DEBUG   ] [SourcesLibrary] userSelectionParams: ['name'] selectionParamsValues: ['2AGLJ1059-5233']\n",
      "2021-12-23 10:56:51,385 [DEBUG   ] [SourcesLibrary] userSelectionParams: ['name'] selectionParamsValues: ['2AGLJ1029-5834']\n",
      "2021-12-23 10:56:51,386 [DEBUG   ] [SourcesLibrary] userSelectionParams: ['name'] selectionParamsValues: ['2AGLJ1015-5852']\n",
      "2021-12-23 10:56:51,387 [DEBUG   ] [SourcesLibrary] userSelectionParams: ['name'] selectionParamsValues: ['2AGLJ1020-5752']\n",
      "2021-12-23 10:56:51,387 [DEBUG   ] [SourcesLibrary] userSelectionParams: ['name'] selectionParamsValues: ['2AGLJ0835-4514']\n",
      "2021-12-23 10:56:51,388 [DEBUG   ] [SourcesLibrary] userSelectionParams: ['name'] selectionParamsValues: ['2AGLJ1020-5906']\n"
     ]
    }
   ],
   "metadata": {}
  },
  {
   "cell_type": "code",
   "execution_count": 30,
   "source": [
    "ag.freeSources('name == \"2AGLJ0835-4514\"', \"index1\", False)"
   ],
   "outputs": [
    {
     "output_type": "stream",
     "name": "stdout",
     "text": [
      "2021-12-23 10:56:51,461 [DEBUG   ] [SourcesLibrary] userSelectionParams: ['name'] selectionParamsValues: ['2AGLJ1045-5954']\n",
      "2021-12-23 10:56:51,462 [DEBUG   ] [SourcesLibrary] userSelectionParams: ['name'] selectionParamsValues: ['2AGLJ1048-5836']\n",
      "2021-12-23 10:56:51,462 [DEBUG   ] [SourcesLibrary] userSelectionParams: ['name'] selectionParamsValues: ['2AGLJ1045-5735']\n",
      "2021-12-23 10:56:51,463 [DEBUG   ] [SourcesLibrary] userSelectionParams: ['name'] selectionParamsValues: ['2AGLJ1059-5233']\n",
      "2021-12-23 10:56:51,463 [DEBUG   ] [SourcesLibrary] userSelectionParams: ['name'] selectionParamsValues: ['2AGLJ1029-5834']\n",
      "2021-12-23 10:56:51,463 [DEBUG   ] [SourcesLibrary] userSelectionParams: ['name'] selectionParamsValues: ['2AGLJ1015-5852']\n",
      "2021-12-23 10:56:51,464 [DEBUG   ] [SourcesLibrary] userSelectionParams: ['name'] selectionParamsValues: ['2AGLJ1020-5752']\n",
      "2021-12-23 10:56:51,464 [DEBUG   ] [SourcesLibrary] userSelectionParams: ['name'] selectionParamsValues: ['2AGLJ0835-4514']\n",
      "2021-12-23 10:56:51,465 [DEBUG   ] [SourcesLibrary] userSelectionParams: ['name'] selectionParamsValues: ['2AGLJ1020-5906']\n"
     ]
    },
    {
     "output_type": "execute_result",
     "data": {
      "text/plain": [
       "[<agilepy.core.source.Source.PointSource at 0x7f62d93e30d0>]"
      ]
     },
     "metadata": {},
     "execution_count": 30
    }
   ],
   "metadata": {}
  },
  {
   "cell_type": "code",
   "execution_count": 31,
   "source": [
    "ag.freeSources(\"flux > 0 AND dist <= 2\", \"flux\", False)"
   ],
   "outputs": [
    {
     "output_type": "stream",
     "name": "stdout",
     "text": [
      "2021-12-23 10:56:51,543 [DEBUG   ] [SourcesLibrary] userSelectionParams: ['flux', 'dist'] selectionParamsValues: [1.80893e-07, 24.215887883842015]\n",
      "2021-12-23 10:56:51,544 [DEBUG   ] [SourcesLibrary] userSelectionParams: ['flux', 'dist'] selectionParamsValues: [1.54772e-07, 24.077750235539487]\n",
      "2021-12-23 10:56:51,545 [DEBUG   ] [SourcesLibrary] userSelectionParams: ['flux', 'dist'] selectionParamsValues: [1.64949e-07, 23.460729370956138]\n",
      "2021-12-23 10:56:51,545 [DEBUG   ] [SourcesLibrary] userSelectionParams: ['flux', 'dist'] selectionParamsValues: [3.14104e-07, 24.418297040070474]\n",
      "2021-12-23 10:56:51,546 [DEBUG   ] [SourcesLibrary] userSelectionParams: ['flux', 'dist'] selectionParamsValues: [2.64853e-07, 21.76039561795526]\n",
      "2021-12-23 10:56:51,546 [DEBUG   ] [SourcesLibrary] userSelectionParams: ['flux', 'dist'] selectionParamsValues: [1.91737e-07, 20.398740000053394]\n",
      "2021-12-23 10:56:51,547 [DEBUG   ] [SourcesLibrary] userSelectionParams: ['flux', 'dist'] selectionParamsValues: [2.72475e-07, 20.50363152139993]\n",
      "2021-12-23 10:56:51,548 [DEBUG   ] [SourcesLibrary] userSelectionParams: ['flux', 'dist'] selectionParamsValues: [9.69539e-06, 0.0701589193644724]\n",
      "2021-12-23 10:56:51,548 [DEBUG   ] [SourcesLibrary] userSelectionParams: ['flux', 'dist'] selectionParamsValues: [1.38792e-07, 21.07941966847351]\n"
     ]
    },
    {
     "output_type": "execute_result",
     "data": {
      "text/plain": [
       "[]"
      ]
     },
     "metadata": {},
     "execution_count": 31
    }
   ],
   "metadata": {}
  },
  {
   "cell_type": "markdown",
   "source": [
    "### Deleting sources"
   ],
   "metadata": {}
  },
  {
   "cell_type": "code",
   "execution_count": 32,
   "source": [
    "deleted = ag.deleteSources('name == \"2AGLJ1048-5836\"').pop()\n",
    "print(deleted)"
   ],
   "outputs": [
    {
     "output_type": "stream",
     "name": "stdout",
     "text": [
      "2021-12-23 10:56:51,601 [DEBUG   ] [SourcesLibrary] userSelectionParams: ['name'] selectionParamsValues: ['2AGLJ1045-5954']\n",
      "2021-12-23 10:56:51,603 [DEBUG   ] [SourcesLibrary] userSelectionParams: ['name'] selectionParamsValues: ['2AGLJ1048-5836']\n",
      "2021-12-23 10:56:51,604 [DEBUG   ] [SourcesLibrary] userSelectionParams: ['name'] selectionParamsValues: ['2AGLJ1045-5735']\n",
      "2021-12-23 10:56:51,604 [DEBUG   ] [SourcesLibrary] userSelectionParams: ['name'] selectionParamsValues: ['2AGLJ1059-5233']\n",
      "2021-12-23 10:56:51,605 [DEBUG   ] [SourcesLibrary] userSelectionParams: ['name'] selectionParamsValues: ['2AGLJ1029-5834']\n",
      "2021-12-23 10:56:51,605 [DEBUG   ] [SourcesLibrary] userSelectionParams: ['name'] selectionParamsValues: ['2AGLJ1015-5852']\n",
      "2021-12-23 10:56:51,606 [DEBUG   ] [SourcesLibrary] userSelectionParams: ['name'] selectionParamsValues: ['2AGLJ1020-5752']\n",
      "2021-12-23 10:56:51,607 [DEBUG   ] [SourcesLibrary] userSelectionParams: ['name'] selectionParamsValues: ['2AGLJ0835-4514']\n",
      "2021-12-23 10:56:51,607 [DEBUG   ] [SourcesLibrary] userSelectionParams: ['name'] selectionParamsValues: ['2AGLJ1020-5906']\n",
      "2021-12-23 10:56:51,607 [INFO    ] [SourcesLibrary] Deleted 1 sources.\n",
      "\n",
      "-----------------------------------------------------------\u001b[1m\n",
      " Source name: 2AGLJ1048-5836 (PointSource)\u001b[0m\n",
      "  * \u001b[1mSpectrum type\u001b[0m: PowerLaw\n",
      "  * \u001b[1mFree parameters\u001b[0m: none\n",
      "  * \u001b[1mInitial source parameters\u001b[0m:\n",
      "\t- flux (ph/cm2s): 1.5477e-07\n",
      "\t- index : 2.00039\n",
      "\t- Source position (l,b): (287.422, 0.423015)\n",
      "\t- Distance from map center (deg): 24.0778\n"
     ]
    }
   ],
   "metadata": {}
  },
  {
   "cell_type": "code",
   "execution_count": 33,
   "source": [
    "len(ag.getSources())"
   ],
   "outputs": [
    {
     "output_type": "execute_result",
     "data": {
      "text/plain": [
       "8"
      ]
     },
     "metadata": {},
     "execution_count": 33
    }
   ],
   "metadata": {}
  },
  {
   "cell_type": "markdown",
   "source": [
    "### Adding a source"
   ],
   "metadata": {}
  },
  {
   "cell_type": "markdown",
   "source": [
    "Passing a dictionary:"
   ],
   "metadata": {}
  },
  {
   "cell_type": "code",
   "execution_count": 34,
   "source": [
    "newSourceDict = {\n",
    "    \"glon\" : 273.0,\n",
    "    \"glat\":  -1.1,\n",
    "    \"spectrumType\" : \"PowerLaw\",\n",
    "    \"flux\": 10e-08,\n",
    "    \"index\": 2.1\n",
    "}\n",
    "\n",
    "if ag.addSource(\"NEWSOURCE\", newSourceDict):\n",
    "    print(\"Source loaded\")"
   ],
   "outputs": [
    {
     "output_type": "stream",
     "name": "stdout",
     "text": [
      "2021-12-23 10:56:51,753 [DEBUG   ] [SourcesLibrary] Loading source from a dictionary..\n",
      "Source loaded\n"
     ]
    }
   ],
   "metadata": {}
  },
  {
   "cell_type": "code",
   "execution_count": 35,
   "source": [
    "len(ag.getSources())"
   ],
   "outputs": [
    {
     "output_type": "execute_result",
     "data": {
      "text/plain": [
       "9"
      ]
     },
     "metadata": {},
     "execution_count": 35
    }
   ],
   "metadata": {}
  },
  {
   "cell_type": "markdown",
   "source": [
    "Passing a Source object:"
   ],
   "metadata": {}
  },
  {
   "cell_type": "code",
   "execution_count": 36,
   "source": [
    "type(deleted)"
   ],
   "outputs": [
    {
     "output_type": "execute_result",
     "data": {
      "text/plain": [
       "agilepy.core.source.Source.PointSource"
      ]
     },
     "metadata": {},
     "execution_count": 36
    }
   ],
   "metadata": {}
  },
  {
   "cell_type": "code",
   "execution_count": 37,
   "source": [
    "if ag.addSource(\"NEWSOURCE\", deleted):\n",
    "    print(\"Source loaded\")\n",
    "else:\n",
    "    print(\"Source is already present in the SourcesLibrary\")"
   ],
   "outputs": [
    {
     "output_type": "stream",
     "name": "stdout",
     "text": [
      "2021-12-23 10:56:51,933 [WARNING ] [SourcesLibrary] The source NEWSOURCE already exists. The 'sourceObject' will not be added to the SourcesLibrary.\n",
      "Source is already present in the SourcesLibrary\n"
     ]
    }
   ],
   "metadata": {}
  },
  {
   "cell_type": "code",
   "execution_count": 38,
   "source": [
    "deletedSources = ag.deleteSources('name == \"NEWSOURCE\"')"
   ],
   "outputs": [
    {
     "output_type": "stream",
     "name": "stdout",
     "text": [
      "2021-12-23 10:56:51,993 [DEBUG   ] [SourcesLibrary] userSelectionParams: ['name'] selectionParamsValues: ['2AGLJ1045-5954']\n",
      "2021-12-23 10:56:51,994 [DEBUG   ] [SourcesLibrary] userSelectionParams: ['name'] selectionParamsValues: ['2AGLJ1045-5735']\n",
      "2021-12-23 10:56:51,995 [DEBUG   ] [SourcesLibrary] userSelectionParams: ['name'] selectionParamsValues: ['2AGLJ1059-5233']\n",
      "2021-12-23 10:56:51,995 [DEBUG   ] [SourcesLibrary] userSelectionParams: ['name'] selectionParamsValues: ['2AGLJ1029-5834']\n",
      "2021-12-23 10:56:51,996 [DEBUG   ] [SourcesLibrary] userSelectionParams: ['name'] selectionParamsValues: ['2AGLJ1015-5852']\n",
      "2021-12-23 10:56:51,996 [DEBUG   ] [SourcesLibrary] userSelectionParams: ['name'] selectionParamsValues: ['2AGLJ1020-5752']\n",
      "2021-12-23 10:56:51,997 [DEBUG   ] [SourcesLibrary] userSelectionParams: ['name'] selectionParamsValues: ['2AGLJ0835-4514']\n",
      "2021-12-23 10:56:51,997 [DEBUG   ] [SourcesLibrary] userSelectionParams: ['name'] selectionParamsValues: ['2AGLJ1020-5906']\n",
      "2021-12-23 10:56:51,999 [DEBUG   ] [SourcesLibrary] userSelectionParams: ['name'] selectionParamsValues: ['NEWSOURCE']\n",
      "2021-12-23 10:56:52,000 [INFO    ] [SourcesLibrary] Deleted 1 sources.\n"
     ]
    }
   ],
   "metadata": {}
  },
  {
   "cell_type": "code",
   "execution_count": 39,
   "source": [
    "len(ag.getSources())"
   ],
   "outputs": [
    {
     "output_type": "execute_result",
     "data": {
      "text/plain": [
       "8"
      ]
     },
     "metadata": {},
     "execution_count": 39
    }
   ],
   "metadata": {}
  },
  {
   "cell_type": "markdown",
   "source": [
    "## Update the value of a spectrum parameter of a source"
   ],
   "metadata": {}
  },
  {
   "cell_type": "code",
   "execution_count": 40,
   "source": [
    "sources = ag.selectSources('name == \"2AGLJ0835-4514\"')\n",
    "source = sources.pop()"
   ],
   "outputs": [
    {
     "output_type": "stream",
     "name": "stdout",
     "text": [
      "2021-12-23 10:56:52,128 [DEBUG   ] [SourcesLibrary] userSelectionParams: ['name'] selectionParamsValues: ['2AGLJ1045-5954']\n",
      "2021-12-23 10:56:52,129 [DEBUG   ] [SourcesLibrary] userSelectionParams: ['name'] selectionParamsValues: ['2AGLJ1045-5735']\n",
      "2021-12-23 10:56:52,131 [DEBUG   ] [SourcesLibrary] userSelectionParams: ['name'] selectionParamsValues: ['2AGLJ1059-5233']\n",
      "2021-12-23 10:56:52,132 [DEBUG   ] [SourcesLibrary] userSelectionParams: ['name'] selectionParamsValues: ['2AGLJ1029-5834']\n",
      "2021-12-23 10:56:52,134 [DEBUG   ] [SourcesLibrary] userSelectionParams: ['name'] selectionParamsValues: ['2AGLJ1015-5852']\n",
      "2021-12-23 10:56:52,135 [DEBUG   ] [SourcesLibrary] userSelectionParams: ['name'] selectionParamsValues: ['2AGLJ1020-5752']\n",
      "2021-12-23 10:56:52,136 [DEBUG   ] [SourcesLibrary] userSelectionParams: ['name'] selectionParamsValues: ['2AGLJ0835-4514']\n",
      "2021-12-23 10:56:52,137 [DEBUG   ] [SourcesLibrary] userSelectionParams: ['name'] selectionParamsValues: ['2AGLJ1020-5906']\n"
     ]
    }
   ],
   "metadata": {}
  },
  {
   "cell_type": "code",
   "execution_count": 41,
   "source": [
    "print(source.get(\"index2\"))"
   ],
   "outputs": [
    {
     "output_type": "stream",
     "name": "stdout",
     "text": [
      "{'name': 'index2', 'value': 1.34774, 'err': None, 'free': 0, 'min': 0.0, 'max': 100.0, 'scale': -1, 'datatype': 'float', 'um': ''}\n"
     ]
    }
   ],
   "metadata": {}
  },
  {
   "cell_type": "code",
   "execution_count": 42,
   "source": [
    "source.set(\"index2\", {\"value\":1.34774, \"min\":10})\n",
    "print(source)"
   ],
   "outputs": [
    {
     "output_type": "stream",
     "name": "stdout",
     "text": [
      "\n",
      "-----------------------------------------------------------\u001b[1m\n",
      " Source name: 2AGLJ0835-4514 (PointSource)\u001b[0m\n",
      "  * \u001b[1mSpectrum type\u001b[0m: PLSuperExpCutoff\n",
      "  * \u001b[1mFree parameters\u001b[0m: none\n",
      "  * \u001b[1mInitial source parameters\u001b[0m:\n",
      "\t- flux (ph/cm2s): 9.6954e-06\n",
      "\t- index1 : 1.71345\n",
      "\t- cutoffEnergy : 3913.06\n",
      "\t- index2 : 1.34774\n",
      "\t- Source position (l,b): (263.585, -2.84083)\n",
      "\t- Distance from map center (deg): 0.0702\n"
     ]
    }
   ],
   "metadata": {}
  },
  {
   "cell_type": "markdown",
   "source": [
    "## Fix the hypothesis for the analysis"
   ],
   "metadata": {}
  },
  {
   "cell_type": "markdown",
   "source": [
    "This method returns the selected sources affected by the change"
   ],
   "metadata": {}
  },
  {
   "cell_type": "code",
   "execution_count": 43,
   "source": [
    "sources = ag.freeSources('name == \"2AGLJ0835-4514\"', \"flux\", True, show=True)"
   ],
   "outputs": [
    {
     "output_type": "stream",
     "name": "stdout",
     "text": [
      "2021-12-23 10:56:52,343 [DEBUG   ] [SourcesLibrary] userSelectionParams: ['name'] selectionParamsValues: ['2AGLJ1045-5954']\n",
      "2021-12-23 10:56:52,345 [DEBUG   ] [SourcesLibrary] userSelectionParams: ['name'] selectionParamsValues: ['2AGLJ1045-5735']\n",
      "2021-12-23 10:56:52,348 [DEBUG   ] [SourcesLibrary] userSelectionParams: ['name'] selectionParamsValues: ['2AGLJ1059-5233']\n",
      "2021-12-23 10:56:52,350 [DEBUG   ] [SourcesLibrary] userSelectionParams: ['name'] selectionParamsValues: ['2AGLJ1029-5834']\n",
      "2021-12-23 10:56:52,352 [DEBUG   ] [SourcesLibrary] userSelectionParams: ['name'] selectionParamsValues: ['2AGLJ1015-5852']\n",
      "2021-12-23 10:56:52,354 [DEBUG   ] [SourcesLibrary] userSelectionParams: ['name'] selectionParamsValues: ['2AGLJ1020-5752']\n",
      "2021-12-23 10:56:52,356 [DEBUG   ] [SourcesLibrary] userSelectionParams: ['name'] selectionParamsValues: ['2AGLJ0835-4514']\n",
      "2021-12-23 10:56:52,359 [DEBUG   ] [SourcesLibrary] userSelectionParams: ['name'] selectionParamsValues: ['2AGLJ1020-5906']\n",
      "\n",
      "-----------------------------------------------------------\u001b[1m\n",
      " Source name: 2AGLJ0835-4514 (PointSource)\u001b[0m\n",
      "  * \u001b[1mSpectrum type\u001b[0m: PLSuperExpCutoff\n",
      "  * \u001b[1mFree parameters\u001b[0m: flux\n",
      "  * \u001b[1mInitial source parameters\u001b[0m:\n",
      "\t- flux (ph/cm2s): 9.6954e-06\n",
      "\t- index1 : 1.71345\n",
      "\t- cutoffEnergy : 3913.06\n",
      "\t- index2 : 1.34774\n",
      "\t- Source position (l,b): (263.585, -2.84083)\n",
      "\t- Distance from map center (deg): 0.0702\n"
     ]
    }
   ],
   "metadata": {}
  },
  {
   "cell_type": "markdown",
   "source": [
    "Final source hypothesis for the analysis"
   ],
   "metadata": {}
  },
  {
   "cell_type": "code",
   "execution_count": 44,
   "source": [
    "selectedSources = ag.selectSources('flux > 0')\n",
    "print(len(selectedSources))\n",
    "for s in selectedSources:\n",
    "    print(s)"
   ],
   "outputs": [
    {
     "output_type": "stream",
     "name": "stdout",
     "text": [
      "2021-12-23 10:56:52,434 [DEBUG   ] [SourcesLibrary] userSelectionParams: ['flux'] selectionParamsValues: [1.80893e-07]\n",
      "2021-12-23 10:56:52,439 [DEBUG   ] [SourcesLibrary] userSelectionParams: ['flux'] selectionParamsValues: [1.64949e-07]\n",
      "2021-12-23 10:56:52,441 [DEBUG   ] [SourcesLibrary] userSelectionParams: ['flux'] selectionParamsValues: [3.14104e-07]\n",
      "2021-12-23 10:56:52,445 [DEBUG   ] [SourcesLibrary] userSelectionParams: ['flux'] selectionParamsValues: [2.64853e-07]\n",
      "2021-12-23 10:56:52,447 [DEBUG   ] [SourcesLibrary] userSelectionParams: ['flux'] selectionParamsValues: [1.91737e-07]\n",
      "2021-12-23 10:56:52,452 [DEBUG   ] [SourcesLibrary] userSelectionParams: ['flux'] selectionParamsValues: [2.72475e-07]\n",
      "2021-12-23 10:56:52,456 [DEBUG   ] [SourcesLibrary] userSelectionParams: ['flux'] selectionParamsValues: [9.69539e-06]\n",
      "2021-12-23 10:56:52,458 [DEBUG   ] [SourcesLibrary] userSelectionParams: ['flux'] selectionParamsValues: [1.38792e-07]\n",
      "8\n",
      "\n",
      "-----------------------------------------------------------\u001b[1m\n",
      " Source name: 2AGLJ1045-5954 (PointSource)\u001b[0m\n",
      "  * \u001b[1mSpectrum type\u001b[0m: PowerLaw\n",
      "  * \u001b[1mFree parameters\u001b[0m: none\n",
      "  * \u001b[1mInitial source parameters\u001b[0m:\n",
      "\t- flux (ph/cm2s): 1.8089e-07\n",
      "\t- index : 2.0414\n",
      "\t- Source position (l,b): (287.697, -0.788886)\n",
      "\t- Distance from map center (deg): 24.2159\n",
      "\n",
      "-----------------------------------------------------------\u001b[1m\n",
      " Source name: 2AGLJ1045-5735 (PointSource)\u001b[0m\n",
      "  * \u001b[1mSpectrum type\u001b[0m: PowerLaw\n",
      "  * \u001b[1mFree parameters\u001b[0m: none\n",
      "  * \u001b[1mInitial source parameters\u001b[0m:\n",
      "\t- flux (ph/cm2s): 1.6495e-07\n",
      "\t- index : 2.25973\n",
      "\t- Source position (l,b): (286.672, 1.23211)\n",
      "\t- Distance from map center (deg): 23.4607\n",
      "\n",
      "-----------------------------------------------------------\u001b[1m\n",
      " Source name: 2AGLJ1059-5233 (PointSource)\u001b[0m\n",
      "  * \u001b[1mSpectrum type\u001b[0m: PowerLaw\n",
      "  * \u001b[1mFree parameters\u001b[0m: none\n",
      "  * \u001b[1mInitial source parameters\u001b[0m:\n",
      "\t- flux (ph/cm2s): 3.1410e-07\n",
      "\t- index : 1.77974\n",
      "\t- Source position (l,b): (286.128, 6.61213)\n",
      "\t- Distance from map center (deg): 24.4183\n",
      "\n",
      "-----------------------------------------------------------\u001b[1m\n",
      " Source name: 2AGLJ1029-5834 (PointSource)\u001b[0m\n",
      "  * \u001b[1mSpectrum type\u001b[0m: PowerLaw\n",
      "  * \u001b[1mFree parameters\u001b[0m: none\n",
      "  * \u001b[1mInitial source parameters\u001b[0m:\n",
      "\t- flux (ph/cm2s): 2.6485e-07\n",
      "\t- index : 1.91101\n",
      "\t- Source position (l,b): (285.221, -0.689424)\n",
      "\t- Distance from map center (deg): 21.7604\n",
      "\n",
      "-----------------------------------------------------------\u001b[1m\n",
      " Source name: 2AGLJ1015-5852 (PointSource)\u001b[0m\n",
      "  * \u001b[1mSpectrum type\u001b[0m: PowerLaw\n",
      "  * \u001b[1mFree parameters\u001b[0m: none\n",
      "  * \u001b[1mInitial source parameters\u001b[0m:\n",
      "\t- flux (ph/cm2s): 1.9174e-07\n",
      "\t- index : 2.03933\n",
      "\t- Source position (l,b): (283.945, -1.85807)\n",
      "\t- Distance from map center (deg): 20.3987\n",
      "\n",
      "-----------------------------------------------------------\u001b[1m\n",
      " Source name: 2AGLJ1020-5752 (PointSource)\u001b[0m\n",
      "  * \u001b[1mSpectrum type\u001b[0m: PowerLaw\n",
      "  * \u001b[1mFree parameters\u001b[0m: none\n",
      "  * \u001b[1mInitial source parameters\u001b[0m:\n",
      "\t- flux (ph/cm2s): 2.7247e-07\n",
      "\t- index : 2.12932\n",
      "\t- Source position (l,b): (283.95, -0.621559)\n",
      "\t- Distance from map center (deg): 20.5036\n",
      "\n",
      "-----------------------------------------------------------\u001b[1m\n",
      " Source name: 2AGLJ0835-4514 (PointSource)\u001b[0m\n",
      "  * \u001b[1mSpectrum type\u001b[0m: PLSuperExpCutoff\n",
      "  * \u001b[1mFree parameters\u001b[0m: flux\n",
      "  * \u001b[1mInitial source parameters\u001b[0m:\n",
      "\t- flux (ph/cm2s): 9.6954e-06\n",
      "\t- index1 : 1.71345\n",
      "\t- cutoffEnergy : 3913.06\n",
      "\t- index2 : 1.34774\n",
      "\t- Source position (l,b): (263.585, -2.84083)\n",
      "\t- Distance from map center (deg): 0.0702\n",
      "\n",
      "-----------------------------------------------------------\u001b[1m\n",
      " Source name: 2AGLJ1020-5906 (PointSource)\u001b[0m\n",
      "  * \u001b[1mSpectrum type\u001b[0m: PowerLaw\n",
      "  * \u001b[1mFree parameters\u001b[0m: none\n",
      "  * \u001b[1mInitial source parameters\u001b[0m:\n",
      "\t- flux (ph/cm2s): 1.3879e-07\n",
      "\t- index : 1.78216\n",
      "\t- Source position (l,b): (284.629, -1.89938)\n",
      "\t- Distance from map center (deg): 21.0794\n"
     ]
    }
   ],
   "metadata": {}
  },
  {
   "cell_type": "markdown",
   "source": [
    "## API: generate maps and perform maximum likelihood estimator analysis"
   ],
   "metadata": {}
  },
  {
   "cell_type": "markdown",
   "source": [
    "### Generating maps"
   ],
   "metadata": {}
  },
  {
   "cell_type": "code",
   "execution_count": 45,
   "source": [
    "ag.printOptions(\"maps\")"
   ],
   "outputs": [
    {
     "output_type": "stream",
     "name": "stdout",
     "text": [
      "{ 'binsize': 0.4,\n",
      "  'energybins': [[100, 300], [300, 1000]],\n",
      "  'expstep': 4.0,\n",
      "  'fovbinnumber': 1,\n",
      "  'mapsize': 50,\n",
      "  'offaxisangle': 30,\n",
      "  'proj': 'ARC',\n",
      "  'projtype': 'WCS',\n",
      "  'spectralindex': 2.1,\n",
      "  'timestep': 160,\n",
      "  'useEDPmatrixforEXP': False}\n"
     ]
    }
   ],
   "metadata": {}
  },
  {
   "cell_type": "code",
   "execution_count": 46,
   "source": [
    "maplistfile = ag.generateMaps()"
   ],
   "outputs": [
    {
     "output_type": "stream",
     "name": "stdout",
     "text": [
      "Generating maps..please wait.\n"
     ]
    },
    {
     "output_type": "error",
     "ename": "ImportError",
     "evalue": "IProgress not found. Please update jupyter and ipywidgets. See https://ipywidgets.readthedocs.io/en/stable/user_install.html",
     "traceback": [
      "\u001b[0;31m---------------------------------------------------------------------------\u001b[0m",
      "\u001b[0;31mImportError\u001b[0m                               Traceback (most recent call last)",
      "\u001b[0;32m/tmp/ipykernel_20328/886443504.py\u001b[0m in \u001b[0;36m<module>\u001b[0;34m\u001b[0m\n\u001b[0;32m----> 1\u001b[0;31m \u001b[0mmaplistfile\u001b[0m \u001b[0;34m=\u001b[0m \u001b[0mag\u001b[0m\u001b[0;34m.\u001b[0m\u001b[0mgenerateMaps\u001b[0m\u001b[0;34m(\u001b[0m\u001b[0;34m)\u001b[0m\u001b[0;34m\u001b[0m\u001b[0;34m\u001b[0m\u001b[0m\n\u001b[0m",
      "\u001b[0;32m~/Scrivania/repos/Agilepy/agilepy/api/AGAnalysis.py\u001b[0m in \u001b[0;36mgenerateMaps\u001b[0;34m(self, config, maplistObj, dqdmOff)\u001b[0m\n\u001b[1;32m    591\u001b[0m             \u001b[0mprint\u001b[0m\u001b[0;34m(\u001b[0m\u001b[0;34m\"Generating maps..please wait.\"\u001b[0m\u001b[0;34m)\u001b[0m\u001b[0;34m\u001b[0m\u001b[0;34m\u001b[0m\u001b[0m\n\u001b[1;32m    592\u001b[0m \u001b[0;34m\u001b[0m\u001b[0m\n\u001b[0;32m--> 593\u001b[0;31m         \u001b[0;32mfor\u001b[0m \u001b[0mstepi\u001b[0m \u001b[0;32min\u001b[0m \u001b[0mtrange\u001b[0m\u001b[0;34m(\u001b[0m\u001b[0;36m0\u001b[0m\u001b[0;34m,\u001b[0m \u001b[0mfovbinnumber\u001b[0m\u001b[0;34m,\u001b[0m \u001b[0mdesc\u001b[0m\u001b[0;34m=\u001b[0m\u001b[0;34mf\"Fov bins loop\"\u001b[0m\u001b[0;34m,\u001b[0m \u001b[0mdisable\u001b[0m\u001b[0;34m=\u001b[0m\u001b[0mdqdmOff\u001b[0m\u001b[0;34m,\u001b[0m \u001b[0mleave\u001b[0m\u001b[0;34m=\u001b[0m\u001b[0mdqdmOff\u001b[0m\u001b[0;34m)\u001b[0m\u001b[0;34m:\u001b[0m\u001b[0;34m\u001b[0m\u001b[0;34m\u001b[0m\u001b[0m\n\u001b[0m\u001b[1;32m    594\u001b[0m \u001b[0;34m\u001b[0m\u001b[0m\n\u001b[1;32m    595\u001b[0m             \u001b[0;32mif\u001b[0m \u001b[0mfovbinnumber\u001b[0m \u001b[0;34m==\u001b[0m \u001b[0;36m1\u001b[0m\u001b[0;34m:\u001b[0m\u001b[0;34m\u001b[0m\u001b[0;34m\u001b[0m\u001b[0m\n",
      "\u001b[0;32m~/anaconda3/envs/agilepydev/lib/python3.7/site-packages/tqdm/notebook.py\u001b[0m in \u001b[0;36mtnrange\u001b[0;34m(*args, **kwargs)\u001b[0m\n\u001b[1;32m    320\u001b[0m     \u001b[0mOn\u001b[0m \u001b[0mPython3\u001b[0m\u001b[0;34m+\u001b[0m\u001b[0;34m,\u001b[0m\u001b[0;31m \u001b[0m\u001b[0;31m`\u001b[0m\u001b[0mrange\u001b[0m\u001b[0;31m`\u001b[0m \u001b[0;32mis\u001b[0m \u001b[0mused\u001b[0m \u001b[0minstead\u001b[0m \u001b[0mof\u001b[0m\u001b[0;31m \u001b[0m\u001b[0;31m`\u001b[0m\u001b[0mxrange\u001b[0m\u001b[0;31m`\u001b[0m\u001b[0;34m.\u001b[0m\u001b[0;34m\u001b[0m\u001b[0;34m\u001b[0m\u001b[0m\n\u001b[1;32m    321\u001b[0m     \"\"\"\n\u001b[0;32m--> 322\u001b[0;31m     \u001b[0;32mreturn\u001b[0m \u001b[0mtqdm_notebook\u001b[0m\u001b[0;34m(\u001b[0m\u001b[0m_range\u001b[0m\u001b[0;34m(\u001b[0m\u001b[0;34m*\u001b[0m\u001b[0margs\u001b[0m\u001b[0;34m)\u001b[0m\u001b[0;34m,\u001b[0m \u001b[0;34m**\u001b[0m\u001b[0mkwargs\u001b[0m\u001b[0;34m)\u001b[0m\u001b[0;34m\u001b[0m\u001b[0;34m\u001b[0m\u001b[0m\n\u001b[0m\u001b[1;32m    323\u001b[0m \u001b[0;34m\u001b[0m\u001b[0m\n\u001b[1;32m    324\u001b[0m \u001b[0;34m\u001b[0m\u001b[0m\n",
      "\u001b[0;32m~/anaconda3/envs/agilepydev/lib/python3.7/site-packages/tqdm/notebook.py\u001b[0m in \u001b[0;36m__init__\u001b[0;34m(self, *args, **kwargs)\u001b[0m\n\u001b[1;32m    240\u001b[0m         \u001b[0munit_scale\u001b[0m \u001b[0;34m=\u001b[0m \u001b[0;36m1\u001b[0m \u001b[0;32mif\u001b[0m \u001b[0mself\u001b[0m\u001b[0;34m.\u001b[0m\u001b[0munit_scale\u001b[0m \u001b[0;32mis\u001b[0m \u001b[0;32mTrue\u001b[0m \u001b[0;32melse\u001b[0m \u001b[0mself\u001b[0m\u001b[0;34m.\u001b[0m\u001b[0munit_scale\u001b[0m \u001b[0;32mor\u001b[0m \u001b[0;36m1\u001b[0m\u001b[0;34m\u001b[0m\u001b[0;34m\u001b[0m\u001b[0m\n\u001b[1;32m    241\u001b[0m         \u001b[0mtotal\u001b[0m \u001b[0;34m=\u001b[0m \u001b[0mself\u001b[0m\u001b[0;34m.\u001b[0m\u001b[0mtotal\u001b[0m \u001b[0;34m*\u001b[0m \u001b[0munit_scale\u001b[0m \u001b[0;32mif\u001b[0m \u001b[0mself\u001b[0m\u001b[0;34m.\u001b[0m\u001b[0mtotal\u001b[0m \u001b[0;32melse\u001b[0m \u001b[0mself\u001b[0m\u001b[0;34m.\u001b[0m\u001b[0mtotal\u001b[0m\u001b[0;34m\u001b[0m\u001b[0;34m\u001b[0m\u001b[0m\n\u001b[0;32m--> 242\u001b[0;31m         \u001b[0mself\u001b[0m\u001b[0;34m.\u001b[0m\u001b[0mcontainer\u001b[0m \u001b[0;34m=\u001b[0m \u001b[0mself\u001b[0m\u001b[0;34m.\u001b[0m\u001b[0mstatus_printer\u001b[0m\u001b[0;34m(\u001b[0m\u001b[0mself\u001b[0m\u001b[0;34m.\u001b[0m\u001b[0mfp\u001b[0m\u001b[0;34m,\u001b[0m \u001b[0mtotal\u001b[0m\u001b[0;34m,\u001b[0m \u001b[0mself\u001b[0m\u001b[0;34m.\u001b[0m\u001b[0mdesc\u001b[0m\u001b[0;34m,\u001b[0m \u001b[0mself\u001b[0m\u001b[0;34m.\u001b[0m\u001b[0mncols\u001b[0m\u001b[0;34m)\u001b[0m\u001b[0;34m\u001b[0m\u001b[0;34m\u001b[0m\u001b[0m\n\u001b[0m\u001b[1;32m    243\u001b[0m         \u001b[0mself\u001b[0m\u001b[0;34m.\u001b[0m\u001b[0mcontainer\u001b[0m\u001b[0;34m.\u001b[0m\u001b[0mpbar\u001b[0m \u001b[0;34m=\u001b[0m \u001b[0mproxy\u001b[0m\u001b[0;34m(\u001b[0m\u001b[0mself\u001b[0m\u001b[0;34m)\u001b[0m\u001b[0;34m\u001b[0m\u001b[0;34m\u001b[0m\u001b[0m\n\u001b[1;32m    244\u001b[0m         \u001b[0mself\u001b[0m\u001b[0;34m.\u001b[0m\u001b[0mdisplayed\u001b[0m \u001b[0;34m=\u001b[0m \u001b[0;32mFalse\u001b[0m\u001b[0;34m\u001b[0m\u001b[0;34m\u001b[0m\u001b[0m\n",
      "\u001b[0;32m~/anaconda3/envs/agilepydev/lib/python3.7/site-packages/tqdm/notebook.py\u001b[0m in \u001b[0;36mstatus_printer\u001b[0;34m(_, total, desc, ncols)\u001b[0m\n\u001b[1;32m    114\u001b[0m         \u001b[0;32mif\u001b[0m \u001b[0mIProgress\u001b[0m \u001b[0;32mis\u001b[0m \u001b[0;32mNone\u001b[0m\u001b[0;34m:\u001b[0m  \u001b[0;31m# #187 #451 #558 #872\u001b[0m\u001b[0;34m\u001b[0m\u001b[0;34m\u001b[0m\u001b[0m\n\u001b[1;32m    115\u001b[0m             raise ImportError(\n\u001b[0;32m--> 116\u001b[0;31m                 \u001b[0;34m\"IProgress not found. Please update jupyter and ipywidgets.\"\u001b[0m\u001b[0;34m\u001b[0m\u001b[0;34m\u001b[0m\u001b[0m\n\u001b[0m\u001b[1;32m    117\u001b[0m                 \u001b[0;34m\" See https://ipywidgets.readthedocs.io/en/stable\"\u001b[0m\u001b[0;34m\u001b[0m\u001b[0;34m\u001b[0m\u001b[0m\n\u001b[1;32m    118\u001b[0m                 \"/user_install.html\")\n",
      "\u001b[0;31mImportError\u001b[0m: IProgress not found. Please update jupyter and ipywidgets. See https://ipywidgets.readthedocs.io/en/stable/user_install.html"
     ]
    }
   ],
   "metadata": {}
  },
  {
   "cell_type": "markdown",
   "source": [
    "### Displaying maps"
   ],
   "metadata": {}
  },
  {
   "cell_type": "markdown",
   "source": [
    "#### Single figure - multiple subplots\n",
    "\n",
    "- normType selects a normalization function for the data, possible valuses are {‘linear’, ‘sqrt’, ‘power’, log’, ‘asinh’}, default ‘linear’.\n",
    "- regFiles (list, optional) – A list containing region file(s) absolute path.\n",
    "- regFileColors (list, optional) – A list with a color for each region file, the length must be the same of regFiles.\n",
    "- catalogRegions (str, optional) – a catalog name. The regions that belongs to the catalog will be loaded. It defaults to None.\n",
    "- catalogRegionsColor (str, optional) – the color of the regions loaded from the catalog."
   ],
   "metadata": {}
  },
  {
   "cell_type": "code",
   "execution_count": null,
   "source": [
    "ag.displayCtsSkyMaps(smooth=2, regFiles=[\"$AGILE/catalogs/3EG_1.reg\"], regFileColors=[\"red\"], catalogRegions=\"2AGL\", catalogRegionsColor=\"blue\", normType=\"sqrt\")"
   ],
   "outputs": [],
   "metadata": {}
  },
  {
   "cell_type": "markdown",
   "source": [
    "#### Multiple figures - one subplot per figure"
   ],
   "metadata": {}
  },
  {
   "cell_type": "code",
   "execution_count": null,
   "source": [
    "ag.displayExpSkyMaps(singleMode = False)"
   ],
   "outputs": [],
   "metadata": {
    "scrolled": true
   }
  },
  {
   "cell_type": "code",
   "execution_count": null,
   "source": [
    "ag.displayGasSkyMaps()"
   ],
   "outputs": [],
   "metadata": {
    "scrolled": false
   }
  },
  {
   "cell_type": "markdown",
   "source": [
    "### Saving maps"
   ],
   "metadata": {}
  },
  {
   "cell_type": "code",
   "execution_count": null,
   "source": [
    "ag.displayCtsSkyMaps(smooth=3, saveImage=True)"
   ],
   "outputs": [],
   "metadata": {
    "scrolled": false
   }
  },
  {
   "cell_type": "markdown",
   "source": [
    "### Estimation of background coefficients\n",
    "You can use the [calcBkg()](https://agilepy.readthedocs.io/en/latest/api/analysis_api.html#api.AGAnalysis.AGAnalysis.calcBkg) method to estimate the background coefficients."
   ],
   "metadata": {}
  },
  {
   "cell_type": "code",
   "execution_count": null,
   "source": [
    "print(\"isocoeff: {} galcoeff: {}\".format(ag.getOption(\"isocoeff\"), ag.getOption(\"galcoeff\")))"
   ],
   "outputs": [],
   "metadata": {}
  },
  {
   "cell_type": "code",
   "execution_count": null,
   "source": [
    "isoBkg, galBkg, maplistfile = ag.calcBkg(\"2AGLJ0835-4514\", galcoeff = [0.7, 0.7], pastTimeWindow = 0)"
   ],
   "outputs": [],
   "metadata": {
    "scrolled": true
   }
  },
  {
   "cell_type": "code",
   "execution_count": null,
   "source": [
    "# calcBkg with pastTimeWindow = 14\n",
    "# ag.setOptions(galcoeff=[0.469176, 0.699403, 0.199108, 0.533379], isocoeff=[4.27314, 0.976644, 8.12386, 1.24627])"
   ],
   "outputs": [],
   "metadata": {}
  },
  {
   "cell_type": "code",
   "execution_count": null,
   "source": [
    "print(\"isocoeff: {} galcoeff: {}\".format(ag.getOption(\"isocoeff\"), ag.getOption(\"galcoeff\")))"
   ],
   "outputs": [],
   "metadata": {}
  },
  {
   "cell_type": "markdown",
   "source": [
    "### Maximum likelyhood analysis"
   ],
   "metadata": {}
  },
  {
   "cell_type": "code",
   "execution_count": null,
   "source": [
    "sourceFiles = ag.mle()"
   ],
   "outputs": [],
   "metadata": {}
  },
  {
   "cell_type": "code",
   "execution_count": null,
   "source": [
    "#print results\n",
    "sources = ag.selectSources(\"sqrtTS > 0\", show=True)\n",
    "print(len(sources))\n",
    "for s in sources:\n",
    "    print(s)"
   ],
   "outputs": [],
   "metadata": {}
  },
  {
   "cell_type": "markdown",
   "source": [
    "Free also position parameter"
   ],
   "metadata": {}
  },
  {
   "cell_type": "code",
   "execution_count": null,
   "source": [
    "ag.freeSources('name == \"2AGLJ0835-4514\"', \"pos\", True, show=True)"
   ],
   "outputs": [],
   "metadata": {}
  },
  {
   "cell_type": "code",
   "execution_count": null,
   "source": [
    "ag.mle()"
   ],
   "outputs": [],
   "metadata": {}
  },
  {
   "cell_type": "code",
   "execution_count": null,
   "source": [
    "#print results\n",
    "sources = ag.selectSources(\"sqrtTS > 0\")\n",
    "print(len(sources))\n",
    "for s in sources:\n",
    "    print(s)"
   ],
   "outputs": [],
   "metadata": {}
  },
  {
   "cell_type": "markdown",
   "source": [
    "Save the results of the analysis in a reg file."
   ],
   "metadata": {}
  },
  {
   "cell_type": "code",
   "execution_count": null,
   "source": [
    "regFile = ag.writeSourcesOnFile(\"source_regions\", \"reg\")"
   ],
   "outputs": [],
   "metadata": {}
  },
  {
   "cell_type": "code",
   "execution_count": null,
   "source": [
    "print(regFile)"
   ],
   "outputs": [],
   "metadata": {}
  },
  {
   "cell_type": "markdown",
   "source": [
    "Display the result of the analysis saved in a reg file."
   ],
   "metadata": {}
  },
  {
   "cell_type": "code",
   "execution_count": null,
   "source": [
    "ag.displayCtsSkyMaps(smooth=2, regFiles=[regFile], regFileColors=[\"red\"], catalogRegions=\"2AGL\", catalogRegionsColor=\"blue\")"
   ],
   "outputs": [],
   "metadata": {}
  },
  {
   "cell_type": "markdown",
   "source": [
    "## Light curve"
   ],
   "metadata": {}
  },
  {
   "cell_type": "markdown",
   "source": [
    "Fix the position and keep only flux free"
   ],
   "metadata": {}
  },
  {
   "cell_type": "code",
   "execution_count": null,
   "source": [
    "ag.freeSources('name == \"2AGLJ0835-4514\"', \"pos\", False, show=True)"
   ],
   "outputs": [],
   "metadata": {}
  },
  {
   "cell_type": "code",
   "execution_count": null,
   "source": [
    "lightCurveData = ag.lightCurveMLE(\"2AGLJ0835-4514\", binsize=86400)"
   ],
   "outputs": [],
   "metadata": {}
  },
  {
   "cell_type": "code",
   "execution_count": null,
   "source": [
    "! cat $lightCurveData"
   ],
   "outputs": [],
   "metadata": {}
  },
  {
   "cell_type": "code",
   "execution_count": null,
   "source": [
    "ag.displayLightCurve(\"mle\")"
   ],
   "outputs": [],
   "metadata": {}
  },
  {
   "cell_type": "markdown",
   "source": [
    "time_start_mjd time_end_mjd sqrt(ts) flux flux_err flux_ul gal gal_error iso iso_error l_peak b_peak dist_peak l b r ell_dist a b phi exposure ExpRatio counts counts_err Index Index_Err Par2 Par2_Err Par3 Par3_Err Erglog Erglog_Err Erglog_UL time_start_utc time_end_utc time_start_tt time_end_tt Fix index ULConfidenceLevel SrcLocConfLevel start_l start_b start_flux typefun par2 par3 galmode2 galmode2fit isomode2 isomode2fit edpcor fluxcor integratortype expratioEval expratio_minthr expratio_maxthr expratio_size Emin emax fovmin fovmax albedo binsize expstep phasecode"
   ],
   "metadata": {}
  },
  {
   "cell_type": "code",
   "execution_count": null,
   "source": [
    "ag.displayGenericColumns(lightCurveData, [\"exposure\"], um=[\"cm^2 s sr\"])"
   ],
   "outputs": [],
   "metadata": {}
  },
  {
   "cell_type": "markdown",
   "source": [
    "## Aperture Photometry"
   ],
   "metadata": {}
  },
  {
   "cell_type": "code",
   "execution_count": null,
   "source": [
    "#ap_file, _ = ag.aperturePhotometry()"
   ],
   "outputs": [],
   "metadata": {}
  },
  {
   "cell_type": "code",
   "execution_count": null,
   "source": [
    "#! cat $ap_file"
   ],
   "outputs": [],
   "metadata": {}
  },
  {
   "cell_type": "code",
   "execution_count": null,
   "source": [
    "#ag.displayLightCurve(\"ap\")"
   ],
   "outputs": [],
   "metadata": {}
  },
  {
   "cell_type": "markdown",
   "source": [
    "## Cleaning up"
   ],
   "metadata": {}
  },
  {
   "cell_type": "code",
   "execution_count": null,
   "source": [
    "ag.deleteAnalysisDir()"
   ],
   "outputs": [],
   "metadata": {}
  }
 ],
 "metadata": {
  "kernelspec": {
   "name": "python3",
   "display_name": "Python 3.7.6 64-bit ('agilepydev': conda)"
  },
  "language_info": {
   "codemirror_mode": {
    "name": "ipython",
    "version": 3
   },
   "file_extension": ".py",
   "mimetype": "text/x-python",
   "name": "python",
   "nbconvert_exporter": "python",
   "pygments_lexer": "ipython3",
   "version": "3.7.6"
  },
  "interpreter": {
   "hash": "5409c3e1903da67ab09041681933e7197a2db2605a48cadadc102950adcdd616"
  }
 },
 "nbformat": 4,
 "nbformat_minor": 4
}