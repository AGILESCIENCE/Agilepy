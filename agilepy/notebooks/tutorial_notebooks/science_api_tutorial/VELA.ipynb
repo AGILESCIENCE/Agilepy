{
 "cells": [
  {
   "cell_type": "markdown",
   "metadata": {},
   "source": [
    "# Agilepy science API tutorial - VELA Region analysis\n",
    "\n",
    "* The purpose of this notebook is to show how to use the Agilepy scientific API. \n",
    "\n",
    "\n",
    "## The complete API documentation can be found [at this link](https://agilepy.readthedocs.io/en/latest/api/analysis_api.html)."
   ]
  },
  {
   "cell_type": "markdown",
   "metadata": {},
   "source": [
    "## Importing the library"
   ]
  },
  {
   "cell_type": "code",
   "execution_count": 1,
   "metadata": {},
   "outputs": [],
   "source": [
    "from agilepy.api.AGAnalysis import AGAnalysis"
   ]
  },
  {
   "cell_type": "code",
   "execution_count": null,
   "metadata": {},
   "outputs": [],
   "source": [
    "# Interactive plot\n",
    "%matplotlib widget"
   ]
  },
  {
   "cell_type": "markdown",
   "metadata": {},
   "source": [
    "## Creating a configuration file"
   ]
  },
  {
   "cell_type": "code",
   "execution_count": 2,
   "metadata": {},
   "outputs": [],
   "source": [
    "confFilePath = \"$HOME/agilepy_conf.yaml\""
   ]
  },
  {
   "cell_type": "code",
   "execution_count": 3,
   "metadata": {},
   "outputs": [],
   "source": [
    "AGAnalysis.getConfiguration(\n",
    "    evtfile=\"$AGILE/agilepy-test-data/test_dataset_6.0/EVT/EVT.index\",\n",
    "    logfile=\"$AGILE/agilepy-test-data/test_dataset_6.0/LOG/LOG.index\",\n",
    "    confFilePath = confFilePath,\n",
    "    userName = \"user-xxx\",\n",
    "    sourceName = \"vela-xxx\",\n",
    "    tmin = 433857532,\n",
    "    tmax = 434289532,\n",
    "    timetype = \"TT\",\n",
    "    glon = 263.55,\n",
    "    glat = -2.78,\n",
    "    outputDir = \"$HOME/agilepy_analysis\",\n",
    "    verboselvl = 0\n",
    ")"
   ]
  },
  {
   "cell_type": "markdown",
   "metadata": {},
   "source": [
    "## Initialization of the class"
   ]
  },
  {
   "cell_type": "code",
   "execution_count": 4,
   "metadata": {},
   "outputs": [],
   "source": [
    "ag = AGAnalysis(confFilePath)"
   ]
  },
  {
   "cell_type": "markdown",
   "metadata": {},
   "source": [
    "## API: configuration file "
   ]
  },
  {
   "cell_type": "code",
   "execution_count": 5,
   "metadata": {},
   "outputs": [
    {
     "name": "stdout",
     "output_type": "stream",
     "text": [
      "{ 'ap': {'radius': 3, 'timeslot': 3600},\n",
      "  'input': { 'evtfile': '/Users/bulgarelli/opt/anaconda3/envs/agilepyenv/agiletools/agilepy-test-data/test_dataset_6.0/EVT/EVT.index',\n",
      "             'logfile': '/Users/bulgarelli/opt/anaconda3/envs/agilepyenv/agiletools/agilepy-test-data/test_dataset_6.0/LOG/LOG.index'},\n",
      "  'maps': { 'binsize': 0.25,\n",
      "            'energybins': [[100, 10000]],\n",
      "            'expstep': 4.0,\n",
      "            'fovbinnumber': 1,\n",
      "            'mapsize': 40,\n",
      "            'offaxisangle': 30,\n",
      "            'proj': 'ARC',\n",
      "            'projtype': 'WCS',\n",
      "            'spectralindex': 2.1,\n",
      "            'timestep': 160,\n",
      "            'useEDPmatrixforEXP': False},\n",
      "  'mle': { 'contourpoints': 40,\n",
      "           'edpcorrection': 0.75,\n",
      "           'expratio_maxthr': 15,\n",
      "           'expratio_minthr': 0,\n",
      "           'expratio_size': 10,\n",
      "           'expratioevaluation': True,\n",
      "           'fluxcorrection': 0,\n",
      "           'integratortype': 1,\n",
      "           'loccl': 5.99147,\n",
      "           'mindefaulttolerance': 0.01,\n",
      "           'minimizeralg': 'Migrad',\n",
      "           'minimizerdefstrategy': 2,\n",
      "           'minimizertype': 'Minuit',\n",
      "           'ranal': 10,\n",
      "           'ulcl': 2},\n",
      "  'model': { 'emax_sources': 10000,\n",
      "             'emin_sources': 100,\n",
      "             'galcoeff': [-1],\n",
      "             'galmode': 1,\n",
      "             'galmode2': 0,\n",
      "             'galmode2fit': 0,\n",
      "             'isocoeff': [-1],\n",
      "             'isomode': 1,\n",
      "             'isomode2': 0,\n",
      "             'isomode2fit': 0,\n",
      "             'modelfile': None},\n",
      "  'output': { 'filenameprefix': 'analysis_product',\n",
      "              'logfilenameprefix': 'analysis_log',\n",
      "              'outdir': PosixPath('/Users/bulgarelli/agilepy_analysis/vela-xxx_user-xxx_20210113-120454'),\n",
      "              'sourcename': 'user-xxx',\n",
      "              'username': 'vela-xxx',\n",
      "              'verboselvl': 0},\n",
      "  'plotting': {'twocolumns': False},\n",
      "  'selection': { 'albedorad': 80,\n",
      "                 'bpointing': None,\n",
      "                 'dq': 0,\n",
      "                 'emax': 10000,\n",
      "                 'emin': 100,\n",
      "                 'filtercode': 5,\n",
      "                 'fovradmax': 60,\n",
      "                 'fovradmin': 0,\n",
      "                 'glat': -2.78,\n",
      "                 'glon': 263.550001,\n",
      "                 'lonpole': 180,\n",
      "                 'lpointing': None,\n",
      "                 'maplistgen': 'None',\n",
      "                 'phasecode': 6,\n",
      "                 'proj': 'ARC',\n",
      "                 'timelist': 'None',\n",
      "                 'timetype': 'TT',\n",
      "                 'tmax': 434289532.0,\n",
      "                 'tmin': 433857532.0}}\n"
     ]
    }
   ],
   "source": [
    "#print all options of the configuration file\n",
    "ag.printOptions()"
   ]
  },
  {
   "cell_type": "code",
   "execution_count": 6,
   "metadata": {},
   "outputs": [
    {
     "name": "stdout",
     "output_type": "stream",
     "text": [
      "{ 'binsize': 0.25,\n",
      "  'energybins': [[100, 10000]],\n",
      "  'expstep': 4.0,\n",
      "  'fovbinnumber': 1,\n",
      "  'mapsize': 40,\n",
      "  'offaxisangle': 30,\n",
      "  'proj': 'ARC',\n",
      "  'projtype': 'WCS',\n",
      "  'spectralindex': 2.1,\n",
      "  'timestep': 160,\n",
      "  'useEDPmatrixforEXP': False}\n"
     ]
    }
   ],
   "source": [
    "#print a single section of the yaml configuration file\n",
    "ag.printOptions(\"maps\")"
   ]
  },
  {
   "cell_type": "code",
   "execution_count": 7,
   "metadata": {},
   "outputs": [
    {
     "data": {
      "text/plain": [
       "[[100, 10000]]"
      ]
     },
     "execution_count": 7,
     "metadata": {},
     "output_type": "execute_result"
    }
   ],
   "source": [
    "#print a single option\n",
    "ag.getOption(\"energybins\")"
   ]
  },
  {
   "cell_type": "code",
   "execution_count": 8,
   "metadata": {},
   "outputs": [],
   "source": [
    "#set some options\n",
    "ag.setOptions(energybins=[[100,300], [300, 1000]], mapsize=50, binsize=0.4)"
   ]
  },
  {
   "cell_type": "code",
   "execution_count": 9,
   "metadata": {},
   "outputs": [
    {
     "name": "stdout",
     "output_type": "stream",
     "text": [
      "{ 'binsize': 0.4,\n",
      "  'energybins': [[100, 300], [300, 1000]],\n",
      "  'expstep': 4.0,\n",
      "  'fovbinnumber': 1,\n",
      "  'mapsize': 50,\n",
      "  'offaxisangle': 30,\n",
      "  'proj': 'ARC',\n",
      "  'projtype': 'WCS',\n",
      "  'spectralindex': 2.1,\n",
      "  'timestep': 160,\n",
      "  'useEDPmatrixforEXP': False}\n"
     ]
    }
   ],
   "source": [
    "ag.printOptions(\"maps\")"
   ]
  },
  {
   "cell_type": "markdown",
   "metadata": {},
   "source": [
    "## API: interacting with the Sources Library"
   ]
  },
  {
   "cell_type": "markdown",
   "metadata": {},
   "source": [
    "### Loading the AGILE's second catalogue of gamma-ray sources"
   ]
  },
  {
   "cell_type": "code",
   "execution_count": 10,
   "metadata": {
    "scrolled": true
   },
   "outputs": [],
   "source": [
    "sources = ag.loadSourcesFromCatalog(\"2AGL\", rangeDist = (0, 25))"
   ]
  },
  {
   "cell_type": "code",
   "execution_count": 11,
   "metadata": {},
   "outputs": [
    {
     "data": {
      "text/plain": [
       "agilepy.core.SourceModel.Source"
      ]
     },
     "execution_count": 11,
     "metadata": {},
     "output_type": "execute_result"
    }
   ],
   "source": [
    "type(sources[0])"
   ]
  },
  {
   "cell_type": "code",
   "execution_count": 12,
   "metadata": {
    "scrolled": true
   },
   "outputs": [
    {
     "name": "stdout",
     "output_type": "stream",
     "text": [
      "\n",
      "-----------------------------------------------------------\n",
      "Source name: 2AGLJ1045-5954 (PointSource)\n",
      "  * Position:\n",
      "\t- start_pos: (287.697, -0.788886)\n",
      "\t- dist from (l,b): 24.2159\n",
      "  * Spectrum: (PowerLaw)\n",
      "\t- flux: 1.80893e-07\n",
      "\t- index: 2.0414\n",
      "  * Free params: none\n",
      "-----------------------------------------------------------\n",
      "\n",
      "-----------------------------------------------------------\n",
      "Source name: 2AGLJ1048-5836 (PointSource)\n",
      "  * Position:\n",
      "\t- start_pos: (287.422, 0.423015)\n",
      "\t- dist from (l,b): 24.0778\n",
      "  * Spectrum: (PowerLaw)\n",
      "\t- flux: 1.54772e-07\n",
      "\t- index: 2.00039\n",
      "  * Free params: none\n",
      "-----------------------------------------------------------\n",
      "\n",
      "-----------------------------------------------------------\n",
      "Source name: 2AGLJ1045-5735 (PointSource)\n",
      "  * Position:\n",
      "\t- start_pos: (286.672, 1.23211)\n",
      "\t- dist from (l,b): 23.4607\n",
      "  * Spectrum: (PowerLaw)\n",
      "\t- flux: 1.64949e-07\n",
      "\t- index: 2.25973\n",
      "  * Free params: none\n",
      "-----------------------------------------------------------\n",
      "\n",
      "-----------------------------------------------------------\n",
      "Source name: 2AGLJ1059-5233 (PointSource)\n",
      "  * Position:\n",
      "\t- start_pos: (286.128, 6.61213)\n",
      "\t- dist from (l,b): 24.4183\n",
      "  * Spectrum: (PowerLaw)\n",
      "\t- flux: 3.14104e-07\n",
      "\t- index: 1.77974\n",
      "  * Free params: none\n",
      "-----------------------------------------------------------\n",
      "\n",
      "-----------------------------------------------------------\n",
      "Source name: 2AGLJ1029-5834 (PointSource)\n",
      "  * Position:\n",
      "\t- start_pos: (285.221, -0.689424)\n",
      "\t- dist from (l,b): 21.7604\n",
      "  * Spectrum: (PowerLaw)\n",
      "\t- flux: 2.64853e-07\n",
      "\t- index: 1.91101\n",
      "  * Free params: none\n",
      "-----------------------------------------------------------\n",
      "\n",
      "-----------------------------------------------------------\n",
      "Source name: 2AGLJ1015-5852 (PointSource)\n",
      "  * Position:\n",
      "\t- start_pos: (283.945, -1.85807)\n",
      "\t- dist from (l,b): 20.3987\n",
      "  * Spectrum: (PowerLaw)\n",
      "\t- flux: 1.91737e-07\n",
      "\t- index: 2.03933\n",
      "  * Free params: none\n",
      "-----------------------------------------------------------\n",
      "\n",
      "-----------------------------------------------------------\n",
      "Source name: 2AGLJ1020-5752 (PointSource)\n",
      "  * Position:\n",
      "\t- start_pos: (283.95, -0.621559)\n",
      "\t- dist from (l,b): 20.5036\n",
      "  * Spectrum: (PowerLaw)\n",
      "\t- flux: 2.72475e-07\n",
      "\t- index: 2.12932\n",
      "  * Free params: none\n",
      "-----------------------------------------------------------\n",
      "\n",
      "-----------------------------------------------------------\n",
      "Source name: 2AGLJ0835-4514 (PointSource)\n",
      "  * Position:\n",
      "\t- start_pos: (263.585, -2.84083)\n",
      "\t- dist from (l,b): 0.0702\n",
      "  * Spectrum: (PLSuperExpCutoff)\n",
      "\t- flux: 9.69539e-06\n",
      "\t- index1: 1.71345\n",
      "\t- cutoffEnergy: 3913.06\n",
      "\t- index2: 1.34774\n",
      "  * Free params: none\n",
      "-----------------------------------------------------------\n",
      "\n",
      "-----------------------------------------------------------\n",
      "Source name: 2AGLJ1020-5906 (PointSource)\n",
      "  * Position:\n",
      "\t- start_pos: (284.629, -1.89938)\n",
      "\t- dist from (l,b): 21.0794\n",
      "  * Spectrum: (PowerLaw)\n",
      "\t- flux: 1.38792e-07\n",
      "\t- index: 1.78216\n",
      "  * Free params: none\n",
      "-----------------------------------------------------------\n"
     ]
    }
   ],
   "source": [
    "for s in sources:\n",
    "    print(s)"
   ]
  },
  {
   "cell_type": "markdown",
   "metadata": {},
   "source": [
    "### Alternative solution: loading the sources from a custom AGILE .txt file\n",
    "The sources that are already present in the Sources Library will not be loaded twice."
   ]
  },
  {
   "cell_type": "code",
   "execution_count": null,
   "metadata": {},
   "outputs": [],
   "source": [
    "sources_hypotesis = \"\"\"\n",
    "969.539e-08 263.585 -2.84083 1.71345 0 2 2AGLJ0835-4514 0.0 2 3913.06 1.34774 0.5 5 20 10000 0 100\n",
    "10e-08 273.0 -1.1 2.1 1 2 NEWOURCE 0.0 0 0 0 0.5 5 20 10000 0 100\n",
    "\"\"\"\n",
    "with open(\"./sources_hyp.txt\", \"w\") as sf:\n",
    "    sf.write(sources_hypotesis)"
   ]
  },
  {
   "cell_type": "code",
   "execution_count": null,
   "metadata": {},
   "outputs": [],
   "source": [
    "#sources = ag.loadSourcesFromFile(\"./sources_hyp.txt\", rangeDist = (0, 25))"
   ]
  },
  {
   "cell_type": "markdown",
   "metadata": {},
   "source": [
    "### Selecting the sources\n",
    "The selection criteria can be expressed using the following Source class’s parameters:\n",
    "\n",
    "* name: the unique code identifying the source.\n",
    "* dist: the distance of the source from the center of the maps.\n",
    "* flux: the flux value.\n",
    "* sqrtTS: the radix square of the ts."
   ]
  },
  {
   "cell_type": "code",
   "execution_count": 13,
   "metadata": {},
   "outputs": [],
   "source": [
    "selectedSources = ag.selectSources('flux > 0')"
   ]
  },
  {
   "cell_type": "code",
   "execution_count": 14,
   "metadata": {},
   "outputs": [
    {
     "data": {
      "text/plain": [
       "9"
      ]
     },
     "execution_count": 14,
     "metadata": {},
     "output_type": "execute_result"
    }
   ],
   "source": [
    "len(selectedSources)"
   ]
  },
  {
   "cell_type": "code",
   "execution_count": 15,
   "metadata": {},
   "outputs": [],
   "source": [
    "selectedSources = ag.selectSources('name == \"2AGLJ0835-4514\"')"
   ]
  },
  {
   "cell_type": "code",
   "execution_count": 16,
   "metadata": {},
   "outputs": [
    {
     "name": "stdout",
     "output_type": "stream",
     "text": [
      "\n",
      "-----------------------------------------------------------\n",
      "Source name: 2AGLJ0835-4514 (PointSource)\n",
      "  * Position:\n",
      "\t- start_pos: (263.585, -2.84083)\n",
      "\t- dist from (l,b): 0.0702\n",
      "  * Spectrum: (PLSuperExpCutoff)\n",
      "\t- flux: 9.69539e-06\n",
      "\t- index1: 1.71345\n",
      "\t- cutoffEnergy: 3913.06\n",
      "\t- index2: 1.34774\n",
      "  * Free params: none\n",
      "-----------------------------------------------------------\n"
     ]
    }
   ],
   "source": [
    "len(selectedSources)\n",
    "for s in selectedSources:\n",
    "    print(s)"
   ]
  },
  {
   "cell_type": "code",
   "execution_count": 17,
   "metadata": {},
   "outputs": [],
   "source": [
    "selectedSources = ag.selectSources(\"flux > 0 AND dist <= 2\")"
   ]
  },
  {
   "cell_type": "code",
   "execution_count": null,
   "metadata": {},
   "outputs": [],
   "source": [
    "len(selectedSources)\n",
    "for s in selectedSources:\n",
    "    print(s)"
   ]
  },
  {
   "cell_type": "markdown",
   "metadata": {},
   "source": [
    "### Free/Fix source parameters\n",
    "You can fix or free the following parametes:\n",
    "\n",
    "* flux\n",
    "* index\n",
    "* index1\n",
    "* index2\n",
    "* cutoffEnergy\n",
    "* pivotEnergy\n",
    "* curvature\n",
    "* index2\n",
    "* pos for the position of the source"
   ]
  },
  {
   "cell_type": "code",
   "execution_count": 18,
   "metadata": {},
   "outputs": [],
   "source": [
    "_sources = ag.freeSources('name == \"2AGLJ0835-4514\"', \"flux\", True, show=True)"
   ]
  },
  {
   "cell_type": "code",
   "execution_count": null,
   "metadata": {},
   "outputs": [],
   "source": [
    "for s in _sources:\n",
    "    print(s)"
   ]
  },
  {
   "cell_type": "code",
   "execution_count": null,
   "metadata": {},
   "outputs": [],
   "source": [
    "_sources = ag.freeSources('name == \"2AGLJ0835-4514\"', \"index1\", True)"
   ]
  },
  {
   "cell_type": "code",
   "execution_count": null,
   "metadata": {},
   "outputs": [],
   "source": [
    "for s in _sources:\n",
    "    print(s)"
   ]
  },
  {
   "cell_type": "code",
   "execution_count": null,
   "metadata": {},
   "outputs": [],
   "source": [
    "_sources = ag.freeSources(\"flux > 0 AND dist <= 2\", \"flux\", True)"
   ]
  },
  {
   "cell_type": "code",
   "execution_count": null,
   "metadata": {},
   "outputs": [],
   "source": [
    "#len is 0 because the flux is already free\n",
    "len(_sources)"
   ]
  },
  {
   "cell_type": "code",
   "execution_count": null,
   "metadata": {},
   "outputs": [],
   "source": [
    "for s in _sources:\n",
    "    print(s)"
   ]
  },
  {
   "cell_type": "markdown",
   "metadata": {},
   "source": [
    "Resetting the changes:"
   ]
  },
  {
   "cell_type": "code",
   "execution_count": null,
   "metadata": {},
   "outputs": [],
   "source": [
    "_sources = ag.freeSources('name == \"2AGLJ0835-4514\"', \"flux\", False)"
   ]
  },
  {
   "cell_type": "code",
   "execution_count": null,
   "metadata": {},
   "outputs": [],
   "source": [
    "ag.freeSources('name == \"2AGLJ0835-4514\"', \"index1\", False)"
   ]
  },
  {
   "cell_type": "code",
   "execution_count": null,
   "metadata": {},
   "outputs": [],
   "source": [
    "ag.freeSources(\"flux > 0 AND dist <= 2\", \"flux\", False)"
   ]
  },
  {
   "cell_type": "markdown",
   "metadata": {},
   "source": [
    "### Deleting sources"
   ]
  },
  {
   "cell_type": "code",
   "execution_count": null,
   "metadata": {},
   "outputs": [],
   "source": [
    "deleted = ag.deleteSources('name == \"2AGLJ1048-5836\"').pop()\n",
    "print(deleted)"
   ]
  },
  {
   "cell_type": "code",
   "execution_count": null,
   "metadata": {},
   "outputs": [],
   "source": [
    "len(ag.getSources())"
   ]
  },
  {
   "cell_type": "markdown",
   "metadata": {},
   "source": [
    "### Adding a source"
   ]
  },
  {
   "cell_type": "markdown",
   "metadata": {},
   "source": [
    "Passing a dictionary:"
   ]
  },
  {
   "cell_type": "code",
   "execution_count": null,
   "metadata": {},
   "outputs": [],
   "source": [
    "newSourceDict = {\n",
    "    \"glon\" : 273.0,\n",
    "    \"glat\":  -1.1,\n",
    "    \"spectrumType\" : \"PowerLaw\",\n",
    "    \"flux\": 10e-08,\n",
    "    \"index\": 2.1\n",
    "}\n",
    "\n",
    "if ag.addSource(\"NEWSOURCE\", newSourceDict):\n",
    "    print(\"Source loaded\")"
   ]
  },
  {
   "cell_type": "code",
   "execution_count": null,
   "metadata": {},
   "outputs": [],
   "source": [
    "len(ag.getSources())"
   ]
  },
  {
   "cell_type": "markdown",
   "metadata": {},
   "source": [
    "Passing a Source object:"
   ]
  },
  {
   "cell_type": "code",
   "execution_count": null,
   "metadata": {},
   "outputs": [],
   "source": [
    "type(deleted)"
   ]
  },
  {
   "cell_type": "code",
   "execution_count": null,
   "metadata": {},
   "outputs": [],
   "source": [
    "if ag.addSource(\"NEWSOURCE\", deleted):\n",
    "    print(\"Source loaded\")\n",
    "else:\n",
    "    print(\"Source is already present in the SourcesLibrary\")"
   ]
  },
  {
   "cell_type": "code",
   "execution_count": null,
   "metadata": {},
   "outputs": [],
   "source": [
    "deletedSources = ag.deleteSources('name == \"NEWSOURCE\"')"
   ]
  },
  {
   "cell_type": "code",
   "execution_count": null,
   "metadata": {},
   "outputs": [],
   "source": [
    "len(ag.getSources())"
   ]
  },
  {
   "cell_type": "markdown",
   "metadata": {},
   "source": [
    "## Update the value of a spectrum parameter of a source"
   ]
  },
  {
   "cell_type": "code",
   "execution_count": null,
   "metadata": {},
   "outputs": [],
   "source": [
    "sources = ag.selectSources('name == \"2AGLJ0835-4514\"')\n",
    "source = sources.pop()\n",
    "source.spectrum.set(\"index2\", 1.34774)\n",
    "print(source)"
   ]
  },
  {
   "cell_type": "markdown",
   "metadata": {},
   "source": [
    "## Fix the hypothesis for the analysis"
   ]
  },
  {
   "cell_type": "code",
   "execution_count": null,
   "metadata": {},
   "outputs": [],
   "source": [
    "# This method returns the selected sources affected by the change\n",
    "sources = ag.freeSources('name == \"2AGLJ0835-4514\"', \"flux\", True, show=True)"
   ]
  },
  {
   "cell_type": "code",
   "execution_count": null,
   "metadata": {},
   "outputs": [],
   "source": [
    "#final source hypothesis for the analysis\n",
    "selectedSources = ag.selectSources('flux > 0')\n",
    "print(len(selectedSources))\n",
    "for s in selectedSources:\n",
    "    print(s)"
   ]
  },
  {
   "cell_type": "markdown",
   "metadata": {},
   "source": [
    "## API: generate maps and perform maximum likelihood estimator analysis"
   ]
  },
  {
   "cell_type": "markdown",
   "metadata": {},
   "source": [
    "### Generating maps"
   ]
  },
  {
   "cell_type": "code",
   "execution_count": null,
   "metadata": {},
   "outputs": [],
   "source": [
    "ag.printOptions(\"maps\")"
   ]
  },
  {
   "cell_type": "code",
   "execution_count": null,
   "metadata": {},
   "outputs": [],
   "source": [
    "maplistfile = ag.generateMaps()"
   ]
  },
  {
   "cell_type": "markdown",
   "metadata": {},
   "source": [
    "### Displaying maps"
   ]
  },
  {
   "cell_type": "markdown",
   "metadata": {},
   "source": [
    "#### Single figure - multiple subplots"
   ]
  },
  {
   "cell_type": "code",
   "execution_count": null,
   "metadata": {
    "scrolled": true
   },
   "outputs": [],
   "source": [
    "ag.displayCtsSkyMaps(smooth=2, regFilePath=\"$AGILE/catalogs/3EG_1.reg\", catalogRegions=\"2AGL\", catalogRegionsColor=\"yellow\")"
   ]
  },
  {
   "cell_type": "markdown",
   "metadata": {},
   "source": [
    "#### Multiple figures - one subplot per figure"
   ]
  },
  {
   "cell_type": "code",
   "execution_count": null,
   "metadata": {
    "scrolled": true
   },
   "outputs": [],
   "source": [
    "ag.displayExpSkyMaps(singleMode = False)"
   ]
  },
  {
   "cell_type": "code",
   "execution_count": null,
   "metadata": {
    "scrolled": false
   },
   "outputs": [],
   "source": [
    "ag.displayGasSkyMaps()"
   ]
  },
  {
   "cell_type": "markdown",
   "metadata": {},
   "source": [
    "### Saving maps"
   ]
  },
  {
   "cell_type": "code",
   "execution_count": null,
   "metadata": {
    "scrolled": false
   },
   "outputs": [],
   "source": [
    "ag.displayCtsSkyMaps(smooth=3, saveImage=True)"
   ]
  },
  {
   "cell_type": "markdown",
   "metadata": {},
   "source": [
    "### Estimation of background coefficients\n",
    "You can use the [calcBkg()](https://agilepy.readthedocs.io/en/latest/api/analysis_api.html#api.AGAnalysis.AGAnalysis.calcBkg) method to estimate the background coefficients."
   ]
  },
  {
   "cell_type": "code",
   "execution_count": null,
   "metadata": {},
   "outputs": [],
   "source": [
    "print(\"isocoeff: {} galcoeff: {}\".format(ag.getOption(\"isocoeff\"), ag.getOption(\"galcoeff\")))"
   ]
  },
  {
   "cell_type": "code",
   "execution_count": null,
   "metadata": {
    "scrolled": true
   },
   "outputs": [],
   "source": [
    "isoBkg, galBkg, maplistfile = ag.calcBkg(\"2AGLJ0835-4514\", galcoeff = [0.7, 0.7], pastTimeWindow = 0)"
   ]
  },
  {
   "cell_type": "code",
   "execution_count": null,
   "metadata": {},
   "outputs": [],
   "source": [
    "# calcBkg with pastTimeWindow = 14\n",
    "# ag.setOptions(galcoeff=[0.469176, 0.699403, 0.199108, 0.533379], isocoeff=[4.27314, 0.976644, 8.12386, 1.24627])"
   ]
  },
  {
   "cell_type": "code",
   "execution_count": null,
   "metadata": {},
   "outputs": [],
   "source": [
    "print(\"isocoeff: {} galcoeff: {}\".format(ag.getOption(\"isocoeff\"), ag.getOption(\"galcoeff\")))"
   ]
  },
  {
   "cell_type": "markdown",
   "metadata": {},
   "source": [
    "### Maximum likelyhood analysis"
   ]
  },
  {
   "cell_type": "code",
   "execution_count": null,
   "metadata": {},
   "outputs": [],
   "source": [
    "sourceFiles = ag.mle()"
   ]
  },
  {
   "cell_type": "code",
   "execution_count": null,
   "metadata": {},
   "outputs": [],
   "source": [
    "#print results\n",
    "sources = ag.selectSources(\"sqrtTS > 0\")\n",
    "print(len(sources))\n",
    "for s in sources:\n",
    "    print(s)"
   ]
  },
  {
   "cell_type": "code",
   "execution_count": null,
   "metadata": {},
   "outputs": [],
   "source": [
    "#free also position\n",
    "ag.freeSources('name == \"2AGLJ0835-4514\"', \"pos\", True, show=True)"
   ]
  },
  {
   "cell_type": "code",
   "execution_count": null,
   "metadata": {},
   "outputs": [],
   "source": [
    "ag.mle()"
   ]
  },
  {
   "cell_type": "code",
   "execution_count": null,
   "metadata": {},
   "outputs": [],
   "source": [
    "#print results\n",
    "sources = ag.selectSources(\"sqrtTS > 0\")\n",
    "print(len(sources))\n",
    "for s in sources:\n",
    "    print(s)"
   ]
  },
  {
   "cell_type": "markdown",
   "metadata": {},
   "source": [
    "## Light curve"
   ]
  },
  {
   "cell_type": "code",
   "execution_count": null,
   "metadata": {},
   "outputs": [],
   "source": [
    "#fix the position and keep only flux free\n",
    "ag.freeSources('name == \"2AGLJ0835-4514\"', \"pos\", False, show=True)"
   ]
  },
  {
   "cell_type": "code",
   "execution_count": null,
   "metadata": {},
   "outputs": [],
   "source": [
    "lightCurveData = ag.lightCurveMLE(\"2AGLJ0835-4514\", binsize=86400)"
   ]
  },
  {
   "cell_type": "code",
   "execution_count": null,
   "metadata": {},
   "outputs": [],
   "source": [
    "! cat $lightCurveData"
   ]
  },
  {
   "cell_type": "code",
   "execution_count": null,
   "metadata": {},
   "outputs": [],
   "source": [
    "ag.displayLightCurve(\"mle\")"
   ]
  },
  {
   "cell_type": "markdown",
   "metadata": {},
   "source": [
    "## Aperture Photometry"
   ]
  },
  {
   "cell_type": "code",
   "execution_count": null,
   "metadata": {},
   "outputs": [],
   "source": [
    "ap_file, _ = ag.aperturePhotometry()"
   ]
  },
  {
   "cell_type": "code",
   "execution_count": null,
   "metadata": {},
   "outputs": [],
   "source": [
    "! cat $ap_file"
   ]
  },
  {
   "cell_type": "code",
   "execution_count": null,
   "metadata": {},
   "outputs": [],
   "source": [
    "ag.displayLightCurve(\"ap\")"
   ]
  },
  {
   "cell_type": "markdown",
   "metadata": {},
   "source": [
    "## Cleaning up"
   ]
  },
  {
   "cell_type": "code",
   "execution_count": null,
   "metadata": {},
   "outputs": [],
   "source": [
    "ag.deleteAnalysisDir()"
   ]
  },
  {
   "cell_type": "code",
   "execution_count": null,
   "metadata": {},
   "outputs": [],
   "source": []
  }
 ],
 "metadata": {
  "kernelspec": {
   "display_name": "Python 3",
   "language": "python",
   "name": "python3"
  },
  "language_info": {
   "codemirror_mode": {
    "name": "ipython",
    "version": 3
   },
   "file_extension": ".py",
   "mimetype": "text/x-python",
   "name": "python",
   "nbconvert_exporter": "python",
   "pygments_lexer": "ipython3",
   "version": "3.7.6"
  }
 },
 "nbformat": 4,
 "nbformat_minor": 4
}
