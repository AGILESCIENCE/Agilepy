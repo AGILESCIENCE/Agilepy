{
 "cells": [
  {
   "cell_type": "markdown",
   "source": [
    "# 3C454.3 analysis notebook\n",
    "Reference paper: https://arxiv.org/pdf/1106.5162.pdf"
   ],
   "metadata": {}
  },
  {
   "cell_type": "code",
   "execution_count": 1,
   "source": [
    "from agilepy.api.AGAnalysis import AGAnalysis"
   ],
   "outputs": [],
   "metadata": {}
  },
  {
   "cell_type": "code",
   "execution_count": null,
   "source": [
    "# Interactive plots\n",
    "#%matplotlib widget"
   ],
   "outputs": [],
   "metadata": {}
  },
  {
   "cell_type": "markdown",
   "source": [
    "## Creating a configuration file"
   ],
   "metadata": {}
  },
  {
   "cell_type": "code",
   "execution_count": 2,
   "source": [
    "confFilePath = \"$HOME/agilepy_conf.yaml\""
   ],
   "outputs": [],
   "metadata": {}
  },
  {
   "cell_type": "code",
   "execution_count": 3,
   "source": [
    "AGAnalysis.getConfiguration(\n",
    "    confFilePath = confFilePath,\n",
    "    evtfile=\"$AGILE/agilepy-test-data/test_dataset_agn/EVT/EVT.index\",\n",
    "    logfile=\"$AGILE/agilepy-test-data/test_dataset_agn/LOG/LOG.index\",\n",
    "    userName = \"username\",\n",
    "    sourceName = \"3C454_3\",\n",
    "    tmin = 55513.0,\n",
    "    tmax = 55521.0,\n",
    "    timetype = \"MJD\",\n",
    "    glon = 86.11,\n",
    "    glat = -38.18,\n",
    "    outputDir = \"$HOME/agilepy_analysis\",\n",
    "    verboselvl = 0,\n",
    "    userestapi=False\n",
    ")"
   ],
   "outputs": [],
   "metadata": {}
  },
  {
   "cell_type": "markdown",
   "source": [
    "## Obtaining the AGAnalysis object"
   ],
   "metadata": {}
  },
  {
   "cell_type": "code",
   "execution_count": 4,
   "source": [
    "ag = AGAnalysis(confFilePath)"
   ],
   "outputs": [],
   "metadata": {}
  },
  {
   "cell_type": "code",
   "execution_count": 5,
   "source": [
    "#print all options of the configuration file\n",
    "ag.setOptions(binsize=0.5, expstep=2, mapsize=25)\n",
    "ag.setOptions(energybins=[[100, 50000]])\n",
    "ag.printOptions()"
   ],
   "outputs": [
    {
     "output_type": "stream",
     "name": "stdout",
     "text": [
      "{ 'ap': {'radius': 3, 'timeslot': 3600},\n",
      "  'input': { 'datapath': 'None',\n",
      "             'evtfile': '/home/antonio/anaconda3/envs/agilepydev/agiletools/agilepy-test-data/test_dataset_agn/EVT/EVT.index',\n",
      "             'logfile': '/home/antonio/anaconda3/envs/agilepydev/agiletools/agilepy-test-data/test_dataset_agn/LOG/LOG.index',\n",
      "             'userestapi': False},\n",
      "  'maps': { 'binsize': 0.5,\n",
      "            'energybins': [[100, 50000]],\n",
      "            'expstep': 2,\n",
      "            'fovbinnumber': 1,\n",
      "            'mapsize': 25,\n",
      "            'offaxisangle': 30,\n",
      "            'proj': 'ARC',\n",
      "            'projtype': 'WCS',\n",
      "            'spectralindex': 2.1,\n",
      "            'timestep': 160,\n",
      "            'useEDPmatrixforEXP': False},\n",
      "  'mle': { 'contourpoints': 40,\n",
      "           'edpcorrection': 0.75,\n",
      "           'expratio_maxthr': 15,\n",
      "           'expratio_minthr': 0,\n",
      "           'expratio_size': 10,\n",
      "           'expratioevaluation': True,\n",
      "           'fluxcorrection': 0,\n",
      "           'integratortype': 1,\n",
      "           'loccl': 5.99147,\n",
      "           'mindefaulttolerance': 0.01,\n",
      "           'minimizeralg': 'Migrad',\n",
      "           'minimizerdefstrategy': 2,\n",
      "           'minimizertype': 'Minuit',\n",
      "           'ranal': 10,\n",
      "           'ulcl': 2},\n",
      "  'model': { 'emax_sources': 10000,\n",
      "             'emin_sources': 100,\n",
      "             'galcoeff': [-1],\n",
      "             'galmode': 1,\n",
      "             'galmode2': 0,\n",
      "             'galmode2fit': 0,\n",
      "             'isocoeff': [-1],\n",
      "             'isomode': 1,\n",
      "             'isomode2': 0,\n",
      "             'isomode2fit': 0,\n",
      "             'modelfile': None},\n",
      "  'output': { 'filenameprefix': 'analysis_product',\n",
      "              'logfilenameprefix': 'analysis_log',\n",
      "              'outdir': PosixPath('/home/antonio/agilepy_analysis/username_3C454_3_20220209-102609'),\n",
      "              'sourcename': '3C454_3',\n",
      "              'username': 'username',\n",
      "              'verboselvl': 0},\n",
      "  'plotting': {'twocolumns': False},\n",
      "  'selection': { 'albedorad': 80,\n",
      "                 'bpointing': None,\n",
      "                 'dq': 0,\n",
      "                 'emax': 10000,\n",
      "                 'emin': 100,\n",
      "                 'filtercode': 5,\n",
      "                 'fovradmax': 60,\n",
      "                 'fovradmin': 0,\n",
      "                 'glat': -38.18,\n",
      "                 'glon': 86.110001,\n",
      "                 'lonpole': 180,\n",
      "                 'lpointing': None,\n",
      "                 'maplistgen': 'None',\n",
      "                 'phasecode': 6,\n",
      "                 'proj': 'ARC',\n",
      "                 'timelist': 'None',\n",
      "                 'timetype': 'TT',\n",
      "                 'tmax': 217382400.0,\n",
      "                 'tmin': 216691200.0}}\n"
     ]
    }
   ],
   "metadata": {}
  },
  {
   "cell_type": "markdown",
   "source": [
    "## Sources hypothesis"
   ],
   "metadata": {}
  },
  {
   "cell_type": "code",
   "execution_count": 6,
   "source": [
    "sources = ag.loadSourcesFromCatalog(\"2AGL\", rangeDist = (0, 5), show=True)"
   ],
   "outputs": [
    {
     "output_type": "stream",
     "name": "stdout",
     "text": [
      "\n",
      "-----------------------------------------------------------\u001b[1m\n",
      " Source name: 2AGLJ2247+1558 (PointSource)\u001b[0m\n",
      "  * \u001b[1mSpectrum type\u001b[0m: PowerLaw\n",
      "  * \u001b[1mFree parameters\u001b[0m: none\n",
      "  * \u001b[1mInitial source parameters\u001b[0m:\n",
      "\t- flux (ph/cm2s): 6.0533e-08\n",
      "\t- index : 2.75651\n",
      "\t- Source position (l,b): (84.2229, -37.4782)\n",
      "\t- Distance from map center (deg): 1.6474\n",
      "\n",
      "-----------------------------------------------------------\u001b[1m\n",
      " Source name: 2AGLJ2254+1609 (PointSource)\u001b[0m\n",
      "  * \u001b[1mSpectrum type\u001b[0m: PowerLaw\n",
      "  * \u001b[1mFree parameters\u001b[0m: none\n",
      "  * \u001b[1mInitial source parameters\u001b[0m:\n",
      "\t- flux (ph/cm2s): 7.5094e-07\n",
      "\t- index : 2.20942\n",
      "\t- Source position (l,b): (86.1236, -38.1824)\n",
      "\t- Distance from map center (deg): 0.011\n"
     ]
    }
   ],
   "metadata": {}
  },
  {
   "cell_type": "markdown",
   "source": [
    "## Adding a source at runtime"
   ],
   "metadata": {}
  },
  {
   "cell_type": "code",
   "execution_count": null,
   "source": [
    "#newSourceDict = {\n",
    "#    \"glon\" : 86.11,\n",
    "#    \"glat\": -38.18,\n",
    "#    \"spectrumType\" : \"PowerLaw\",\n",
    "#    \"flux\": 100e-08,\n",
    "#    \"index\": 2.1\n",
    "#}\n",
    "#s = ag.addSource(\"CYGX3\", newSourceDict)\n",
    "\n",
    "#print(s)"
   ],
   "outputs": [],
   "metadata": {}
  },
  {
   "cell_type": "markdown",
   "source": [
    "## Deleting sources\n",
    "Selection params = [name, dist, flux, sqrtts]"
   ],
   "metadata": {}
  },
  {
   "cell_type": "code",
   "execution_count": 7,
   "source": [
    "deletedSources = ag.deleteSources('flux <= 10e-08', show = True)"
   ],
   "outputs": [
    {
     "output_type": "stream",
     "name": "stdout",
     "text": [
      "\n",
      "-----------------------------------------------------------\u001b[1m\n",
      " Source name: 2AGLJ2247+1558 (PointSource)\u001b[0m\n",
      "  * \u001b[1mSpectrum type\u001b[0m: PowerLaw\n",
      "  * \u001b[1mFree parameters\u001b[0m: none\n",
      "  * \u001b[1mInitial source parameters\u001b[0m:\n",
      "\t- flux (ph/cm2s): 6.0533e-08\n",
      "\t- index : 2.75651\n",
      "\t- Source position (l,b): (84.2229, -37.4782)\n",
      "\t- Distance from map center (deg): 1.6474\n"
     ]
    }
   ],
   "metadata": {}
  },
  {
   "cell_type": "markdown",
   "source": [
    "## Selecting sources"
   ],
   "metadata": {}
  },
  {
   "cell_type": "code",
   "execution_count": 8,
   "source": [
    "sources = ag.selectSources(\"flux > 0\", show = True)"
   ],
   "outputs": [
    {
     "output_type": "stream",
     "name": "stdout",
     "text": [
      "\n",
      "-----------------------------------------------------------\u001b[1m\n",
      " Source name: 2AGLJ2254+1609 (PointSource)\u001b[0m\n",
      "  * \u001b[1mSpectrum type\u001b[0m: PowerLaw\n",
      "  * \u001b[1mFree parameters\u001b[0m: none\n",
      "  * \u001b[1mInitial source parameters\u001b[0m:\n",
      "\t- flux (ph/cm2s): 7.5094e-07\n",
      "\t- index : 2.20942\n",
      "\t- Source position (l,b): (86.1236, -38.1824)\n",
      "\t- Distance from map center (deg): 0.011\n"
     ]
    }
   ],
   "metadata": {}
  },
  {
   "cell_type": "markdown",
   "source": [
    "## Free a source's parameter\n",
    "Freeable params = [flux, index, index1, index2, cutoffEnergy, pivotEnergy, curvature, pos]"
   ],
   "metadata": {}
  },
  {
   "cell_type": "code",
   "execution_count": 9,
   "source": [
    "affectedSources = ag.freeSources('name == \"2AGLJ2254+1609\"', \"flux\", True, show=True)"
   ],
   "outputs": [
    {
     "output_type": "stream",
     "name": "stdout",
     "text": [
      "\n",
      "-----------------------------------------------------------\u001b[1m\n",
      " Source name: 2AGLJ2254+1609 (PointSource)\u001b[0m\n",
      "  * \u001b[1mSpectrum type\u001b[0m: PowerLaw\n",
      "  * \u001b[1mFree parameters\u001b[0m: flux\n",
      "  * \u001b[1mInitial source parameters\u001b[0m:\n",
      "\t- flux (ph/cm2s): 7.5094e-07\n",
      "\t- index : 2.20942\n",
      "\t- Source position (l,b): (86.1236, -38.1824)\n",
      "\t- Distance from map center (deg): 0.011\n"
     ]
    }
   ],
   "metadata": {}
  },
  {
   "cell_type": "markdown",
   "source": [
    "In this example, only one source is affected."
   ],
   "metadata": {}
  },
  {
   "cell_type": "markdown",
   "source": [
    "## Analysis"
   ],
   "metadata": {}
  },
  {
   "cell_type": "code",
   "execution_count": 10,
   "source": [
    "#Generate maps\n",
    "maplistfile = ag.generateMaps()"
   ],
   "outputs": [
    {
     "output_type": "stream",
     "name": "stdout",
     "text": [
      "Generating maps..please wait.\n"
     ]
    },
    {
     "output_type": "display_data",
     "data": {
      "application/vnd.jupyter.widget-view+json": {
       "version_major": 2,
       "version_minor": 0,
       "model_id": "fa8fa4e9910f4537a8336428a541ff41"
      },
      "text/plain": [
       "Fov bins loop:   0%|          | 0/1 [00:00<?, ?it/s]"
      ]
     },
     "metadata": {}
    },
    {
     "output_type": "display_data",
     "data": {
      "application/vnd.jupyter.widget-view+json": {
       "version_major": 2,
       "version_minor": 0,
       "model_id": "b9db583407914441a2b5d73ec5d28572"
      },
      "text/plain": [
       "Energy bins loop: 0it [00:00, ?it/s]"
      ]
     },
     "metadata": {}
    }
   ],
   "metadata": {
    "scrolled": false
   }
  },
  {
   "cell_type": "code",
   "execution_count": 11,
   "source": [
    "! cat $maplistfile"
   ],
   "outputs": [
    {
     "output_type": "stream",
     "name": "stdout",
     "text": [
      "/home/antonio/agilepy_analysis/username_3C454_3_20220209-102609/maps/0/analysis_product_TN216691200.0_TX217382400.0_EN00100_EX50000_ID01.cts.gz /home/antonio/agilepy_analysis/username_3C454_3_20220209-102609/maps/0/analysis_product_TN216691200.0_TX217382400.0_EN00100_EX50000_ID01.exp.gz /home/antonio/agilepy_analysis/username_3C454_3_20220209-102609/maps/0/analysis_product_TN216691200.0_TX217382400.0_EN00100_EX50000_ID01.gas.gz 30 -1 -1\n"
     ]
    }
   ],
   "metadata": {}
  },
  {
   "cell_type": "code",
   "execution_count": 12,
   "source": [
    "#Display counts map\n",
    "ag.displayCtsSkyMaps(maplistFile=maplistfile, smooth=3, catalogRegions=\"2AGL\", catalogRegionsColor=\"green\")"
   ],
   "outputs": [
    {
     "output_type": "stream",
     "name": "stdout",
     "text": [
      "Generating plot..please wait.\n",
      "2022-02-09 10:26:45,840 [WARNING ] [AGAnalysis] singleMode has been turned off because only one map is going to be displayed.\n"
     ]
    },
    {
     "output_type": "stream",
     "name": "stderr",
     "text": [
      "/home/antonio/anaconda3/envs/agilepydev/lib/python3.7/site-packages/astropy/visualization/wcsaxes/core.py:458: MatplotlibDeprecationWarning: \n",
      "The 'inframe' parameter of draw() was deprecated in Matplotlib 3.3 and will be removed two minor releases later. Use Axes.redraw_in_frame() instead. If any parameter follows 'inframe', they should be passed as keyword, not positionally.\n",
      "  super().draw(renderer, inframe=inframe)\n",
      "/home/antonio/anaconda3/envs/agilepydev/lib/python3.7/site-packages/astropy/visualization/wcsaxes/core.py:458: MatplotlibDeprecationWarning: \n",
      "The 'inframe' parameter of draw() was deprecated in Matplotlib 3.3 and will be removed two minor releases later. Use Axes.redraw_in_frame() instead. If any parameter follows 'inframe', they should be passed as keyword, not positionally.\n",
      "  super().draw(renderer, inframe=inframe)\n"
     ]
    },
    {
     "output_type": "display_data",
     "data": {
      "image/png": "[encoded data removed]",
      "text/plain": [
       "<Figure size 864x864 with 2 Axes>"
      ]
     },
     "metadata": {
      "needs_background": "light"
     }
    },
    {
     "output_type": "execute_result",
     "data": {
      "text/plain": [
       "[None]"
      ]
     },
     "metadata": {},
     "execution_count": 12
    }
   ],
   "metadata": {
    "scrolled": false
   }
  },
  {
   "cell_type": "code",
   "execution_count": 13,
   "source": [
    "#Display exposure map\n",
    "ag.displayExpSkyMaps()"
   ],
   "outputs": [
    {
     "output_type": "stream",
     "name": "stdout",
     "text": [
      "Generating plot..please wait.\n",
      "2022-02-09 10:26:51,840 [WARNING ] [AGAnalysis] singleMode has been turned off because only one map is going to be displayed.\n"
     ]
    },
    {
     "output_type": "stream",
     "name": "stderr",
     "text": [
      "/home/antonio/anaconda3/envs/agilepydev/lib/python3.7/site-packages/astropy/visualization/wcsaxes/core.py:458: MatplotlibDeprecationWarning: \n",
      "The 'inframe' parameter of draw() was deprecated in Matplotlib 3.3 and will be removed two minor releases later. Use Axes.redraw_in_frame() instead. If any parameter follows 'inframe', they should be passed as keyword, not positionally.\n",
      "  super().draw(renderer, inframe=inframe)\n",
      "/home/antonio/anaconda3/envs/agilepydev/lib/python3.7/site-packages/astropy/visualization/wcsaxes/core.py:458: MatplotlibDeprecationWarning: \n",
      "The 'inframe' parameter of draw() was deprecated in Matplotlib 3.3 and will be removed two minor releases later. Use Axes.redraw_in_frame() instead. If any parameter follows 'inframe', they should be passed as keyword, not positionally.\n",
      "  super().draw(renderer, inframe=inframe)\n"
     ]
    },
    {
     "output_type": "display_data",
     "data": {
      "image/png": "[encoded data removed]",
      "text/plain": [
       "<Figure size 864x864 with 2 Axes>"
      ]
     },
     "metadata": {
      "needs_background": "light"
     }
    },
    {
     "output_type": "execute_result",
     "data": {
      "text/plain": [
       "[None]"
      ]
     },
     "metadata": {},
     "execution_count": 13
    }
   ],
   "metadata": {
    "scrolled": false
   }
  },
  {
   "cell_type": "code",
   "execution_count": 14,
   "source": [
    "#Display diffuse emission map\n",
    "ag.displayGasSkyMaps()"
   ],
   "outputs": [
    {
     "output_type": "stream",
     "name": "stdout",
     "text": [
      "Generating plot..please wait.\n",
      "2022-02-09 10:26:54,275 [WARNING ] [AGAnalysis] singleMode has been turned off because only one map is going to be displayed.\n"
     ]
    },
    {
     "output_type": "stream",
     "name": "stderr",
     "text": [
      "/home/antonio/anaconda3/envs/agilepydev/lib/python3.7/site-packages/astropy/visualization/wcsaxes/core.py:458: MatplotlibDeprecationWarning: \n",
      "The 'inframe' parameter of draw() was deprecated in Matplotlib 3.3 and will be removed two minor releases later. Use Axes.redraw_in_frame() instead. If any parameter follows 'inframe', they should be passed as keyword, not positionally.\n",
      "  super().draw(renderer, inframe=inframe)\n",
      "/home/antonio/anaconda3/envs/agilepydev/lib/python3.7/site-packages/astropy/visualization/wcsaxes/core.py:458: MatplotlibDeprecationWarning: \n",
      "The 'inframe' parameter of draw() was deprecated in Matplotlib 3.3 and will be removed two minor releases later. Use Axes.redraw_in_frame() instead. If any parameter follows 'inframe', they should be passed as keyword, not positionally.\n",
      "  super().draw(renderer, inframe=inframe)\n"
     ]
    },
    {
     "output_type": "display_data",
     "data": {
      "image/png": "[encoded data removed]",
      "text/plain": [
       "<Figure size 864x864 with 2 Axes>"
      ]
     },
     "metadata": {
      "needs_background": "light"
     }
    },
    {
     "output_type": "execute_result",
     "data": {
      "text/plain": [
       "[None]"
      ]
     },
     "metadata": {},
     "execution_count": 14
    }
   ],
   "metadata": {
    "scrolled": false
   }
  },
  {
   "cell_type": "code",
   "execution_count": 15,
   "source": [
    "#Fix the diffuse emission coefficient to a default value. \n",
    "ag.setOptions(galcoeff=[0.7])"
   ],
   "outputs": [],
   "metadata": {}
  },
  {
   "cell_type": "code",
   "execution_count": null,
   "source": [
    "#! cat $maplistfile"
   ],
   "outputs": [],
   "metadata": {}
  },
  {
   "cell_type": "code",
   "execution_count": 16,
   "source": [
    "ag.printOptions(\"model\")"
   ],
   "outputs": [
    {
     "output_type": "stream",
     "name": "stdout",
     "text": [
      "{ 'emax_sources': 10000,\n",
      "  'emin_sources': 100,\n",
      "  'galcoeff': [0.7],\n",
      "  'galmode': 1,\n",
      "  'galmode2': 0,\n",
      "  'galmode2fit': 0,\n",
      "  'isocoeff': [-1],\n",
      "  'isomode': 1,\n",
      "  'isomode2': 0,\n",
      "  'isomode2fit': 0,\n",
      "  'modelfile': None}\n"
     ]
    }
   ],
   "metadata": {}
  },
  {
   "cell_type": "code",
   "execution_count": 17,
   "source": [
    "#calculate a mean value of isotropic and diffuse emission coefficients. \n",
    "gal,iso,maplist = ag.calcBkg(\"2AGLJ2254+1609\", galcoeff = [0.7], pastTimeWindow = 0)"
   ],
   "outputs": [
    {
     "output_type": "stream",
     "name": "stdout",
     "text": [
      "Computing background coefficients..please wait.\n",
      "Generating maps..please wait.\n"
     ]
    },
    {
     "output_type": "display_data",
     "data": {
      "application/vnd.jupyter.widget-view+json": {
       "version_major": 2,
       "version_minor": 0,
       "model_id": "069cb3c79ce9449ea0760374557305c5"
      },
      "text/plain": [
       "Fov bins loop:   0%|          | 0/1 [00:00<?, ?it/s]"
      ]
     },
     "metadata": {}
    },
    {
     "output_type": "display_data",
     "data": {
      "application/vnd.jupyter.widget-view+json": {
       "version_major": 2,
       "version_minor": 0,
       "model_id": "63ba3f86723f49ddb8c47dfd8ec2f94b"
      },
      "text/plain": [
       "Energy bins loop: 0it [00:00, ?it/s]"
      ]
     },
     "metadata": {}
    }
   ],
   "metadata": {}
  },
  {
   "cell_type": "code",
   "execution_count": 18,
   "source": [
    "print(iso)"
   ],
   "outputs": [
    {
     "output_type": "stream",
     "name": "stdout",
     "text": [
      "[9.39942]\n"
     ]
    }
   ],
   "metadata": {
    "scrolled": true
   }
  },
  {
   "cell_type": "code",
   "execution_count": null,
   "source": [
    "#! cat $maplistfile"
   ],
   "outputs": [],
   "metadata": {}
  },
  {
   "cell_type": "code",
   "execution_count": null,
   "source": [
    "#ag.printOptions(\"model\")"
   ],
   "outputs": [],
   "metadata": {}
  },
  {
   "cell_type": "code",
   "execution_count": 19,
   "source": [
    "#Perform a maximum likelihood estimator\n",
    "ag.mle()"
   ],
   "outputs": [
    {
     "output_type": "execute_result",
     "data": {
      "text/plain": [
       "['/home/antonio/agilepy_analysis/username_3C454_3_20220209-102609/mle/0/analysis_product_2AGLJ2254+1609.source']"
      ]
     },
     "metadata": {},
     "execution_count": 19
    }
   ],
   "metadata": {
    "scrolled": true
   }
  },
  {
   "cell_type": "code",
   "execution_count": 20,
   "source": [
    "#Display the results\n",
    "ag.selectSources(\"sqrtts > 0\", show=True)"
   ],
   "outputs": [
    {
     "output_type": "stream",
     "name": "stdout",
     "text": [
      "\n",
      "-----------------------------------------------------------\u001b[1m\n",
      " Source name: 2AGLJ2254+1609 (PointSource)\u001b[0m\u001b[1m => sqrt(ts): 22.8362\u001b[0m\n",
      "  * \u001b[1mSpectrum type\u001b[0m: PowerLaw\n",
      "  * \u001b[1mFree parameters\u001b[0m: flux\n",
      "  * \u001b[1mInitial source parameters\u001b[0m:\n",
      "\t- flux (ph/cm2s): 7.5094e-07\n",
      "\t- index : 2.20942\n",
      "\t- Source position (l,b): (86.1236, -38.1824)\n",
      "\t- Distance from map center (deg): 0.011\n",
      "  * \u001b[1mLast MLE analysis\u001b[0m (2022-02-09 10:27:24.269184):\n",
      "\t- flux (ph/cm2s): 7.5094e-07 +/- 0.0000e+00\n",
      "\t- index : 2.20942 +/- 0\n",
      "\t- upper limit(ph/cm2s): 7.50937e-07\n",
      "\t- ergLog(erg/cm2s): 1.20391e-10 +/- 0\n",
      "\t- galCoeff: [0.7] +/- [6.94429e-310]\n",
      "\t- isoCoeff: [9.39942] +/- [6.9443e-310]\n",
      "\t- exposure(cm2s): 27077100.0\n",
      "\t- exp-ratio: 0\n",
      "\t- L_peak: 86.1236\n",
      "\t- B_peak: -38.1824\n",
      "\t- Distance from start pos: 0\n",
      "\t- position:\n",
      "\t    - L: -1\n",
      "\t    - B: -1\n",
      "\t    - Distance from start pos: -1\n",
      "\t    - radius of circle: -1\n",
      "\t    - ellipse:\n",
      "\t\t  - a: -1\n",
      "\t\t  - b: -1\n",
      "\t\t  - phi: -1\n",
      "-----------------------------------------------------------\n"
     ]
    },
    {
     "output_type": "execute_result",
     "data": {
      "text/plain": [
       "[<agilepy.core.source.Source.PointSource at 0x7f7b294ff290>]"
      ]
     },
     "metadata": {},
     "execution_count": 20
    }
   ],
   "metadata": {
    "scrolled": false
   }
  },
  {
   "cell_type": "markdown",
   "source": [
    "### Light curve with default tmin and tmax"
   ],
   "metadata": {}
  },
  {
   "cell_type": "code",
   "execution_count": 21,
   "source": [
    "lightCurveData = ag.lightCurveMLE(\"2AGLJ2254+1609\", binsize=86400)"
   ],
   "outputs": [
    {
     "output_type": "stream",
     "name": "stdout",
     "text": [
      "Computing light curve bins..please wait.\n"
     ]
    },
    {
     "output_type": "display_data",
     "data": {
      "application/vnd.jupyter.widget-view+json": {
       "version_major": 2,
       "version_minor": 0,
       "model_id": "bc3b2224a39b45c08d1ae40e4ea02c9c"
      },
      "text/plain": [
       "Temporal bin loop:   0%|          | 0/8 [00:00<?, ?it/s]"
      ]
     },
     "metadata": {}
    },
    {
     "output_type": "stream",
     "name": "stdout",
     "text": [
      "Generating maps..please wait.\n"
     ]
    },
    {
     "output_type": "display_data",
     "data": {
      "application/vnd.jupyter.widget-view+json": {
       "version_major": 2,
       "version_minor": 0,
       "model_id": "4974db15aabb4498862d9a27af3c0c15"
      },
      "text/plain": [
       "Fov bins loop:   0%|          | 0/1 [00:00<?, ?it/s]"
      ]
     },
     "metadata": {}
    },
    {
     "output_type": "display_data",
     "data": {
      "application/vnd.jupyter.widget-view+json": {
       "version_major": 2,
       "version_minor": 0,
       "model_id": "542cbb87df4b4b24a92be5c793b91c7a"
      },
      "text/plain": [
       "Energy bins loop: 0it [00:00, ?it/s]"
      ]
     },
     "metadata": {}
    },
    {
     "output_type": "stream",
     "name": "stdout",
     "text": [
      "Generating maps..please wait.\n"
     ]
    },
    {
     "output_type": "display_data",
     "data": {
      "application/vnd.jupyter.widget-view+json": {
       "version_major": 2,
       "version_minor": 0,
       "model_id": "96c87fd38a4b41dab03669dadefab9b7"
      },
      "text/plain": [
       "Fov bins loop:   0%|          | 0/1 [00:00<?, ?it/s]"
      ]
     },
     "metadata": {}
    },
    {
     "output_type": "display_data",
     "data": {
      "application/vnd.jupyter.widget-view+json": {
       "version_major": 2,
       "version_minor": 0,
       "model_id": "f5f4fd1167304f4da22774aab87c1722"
      },
      "text/plain": [
       "Energy bins loop: 0it [00:00, ?it/s]"
      ]
     },
     "metadata": {}
    },
    {
     "output_type": "stream",
     "name": "stdout",
     "text": [
      "Generating maps..please wait.\n"
     ]
    },
    {
     "output_type": "display_data",
     "data": {
      "application/vnd.jupyter.widget-view+json": {
       "version_major": 2,
       "version_minor": 0,
       "model_id": "67852678412d4fc386b8ba776876f021"
      },
      "text/plain": [
       "Fov bins loop:   0%|          | 0/1 [00:00<?, ?it/s]"
      ]
     },
     "metadata": {}
    },
    {
     "output_type": "display_data",
     "data": {
      "application/vnd.jupyter.widget-view+json": {
       "version_major": 2,
       "version_minor": 0,
       "model_id": "4735598eabd643abb0dfe0aeada61c08"
      },
      "text/plain": [
       "Energy bins loop: 0it [00:00, ?it/s]"
      ]
     },
     "metadata": {}
    },
    {
     "output_type": "stream",
     "name": "stdout",
     "text": [
      "Generating maps..please wait.\n"
     ]
    },
    {
     "output_type": "display_data",
     "data": {
      "application/vnd.jupyter.widget-view+json": {
       "version_major": 2,
       "version_minor": 0,
       "model_id": "1c7021f56e4c4244bd069df1b396830f"
      },
      "text/plain": [
       "Fov bins loop:   0%|          | 0/1 [00:00<?, ?it/s]"
      ]
     },
     "metadata": {}
    },
    {
     "output_type": "display_data",
     "data": {
      "application/vnd.jupyter.widget-view+json": {
       "version_major": 2,
       "version_minor": 0,
       "model_id": "b18de7e5ed2c42ee8786c1cca6e1ee54"
      },
      "text/plain": [
       "Energy bins loop: 0it [00:00, ?it/s]"
      ]
     },
     "metadata": {}
    },
    {
     "output_type": "stream",
     "name": "stdout",
     "text": [
      "Generating maps..please wait.\n"
     ]
    },
    {
     "output_type": "display_data",
     "data": {
      "application/vnd.jupyter.widget-view+json": {
       "version_major": 2,
       "version_minor": 0,
       "model_id": "e850965849484864905448542eca0cbc"
      },
      "text/plain": [
       "Fov bins loop:   0%|          | 0/1 [00:00<?, ?it/s]"
      ]
     },
     "metadata": {}
    },
    {
     "output_type": "display_data",
     "data": {
      "application/vnd.jupyter.widget-view+json": {
       "version_major": 2,
       "version_minor": 0,
       "model_id": "d5ab14be9aa04aa1ad1a071e3b9b8024"
      },
      "text/plain": [
       "Energy bins loop: 0it [00:00, ?it/s]"
      ]
     },
     "metadata": {}
    },
    {
     "output_type": "stream",
     "name": "stdout",
     "text": [
      "Generating maps..please wait.\n"
     ]
    },
    {
     "output_type": "display_data",
     "data": {
      "application/vnd.jupyter.widget-view+json": {
       "version_major": 2,
       "version_minor": 0,
       "model_id": "57ac51d1794041dbb4bef25a0f5f1562"
      },
      "text/plain": [
       "Fov bins loop:   0%|          | 0/1 [00:00<?, ?it/s]"
      ]
     },
     "metadata": {}
    },
    {
     "output_type": "display_data",
     "data": {
      "application/vnd.jupyter.widget-view+json": {
       "version_major": 2,
       "version_minor": 0,
       "model_id": "de0f6fe0ed7c48d6af618456442dda14"
      },
      "text/plain": [
       "Energy bins loop: 0it [00:00, ?it/s]"
      ]
     },
     "metadata": {}
    },
    {
     "output_type": "stream",
     "name": "stdout",
     "text": [
      "Generating maps..please wait.\n"
     ]
    },
    {
     "output_type": "display_data",
     "data": {
      "application/vnd.jupyter.widget-view+json": {
       "version_major": 2,
       "version_minor": 0,
       "model_id": "440a0f49c2924239b3c8cf3e25f26ba9"
      },
      "text/plain": [
       "Fov bins loop:   0%|          | 0/1 [00:00<?, ?it/s]"
      ]
     },
     "metadata": {}
    },
    {
     "output_type": "display_data",
     "data": {
      "application/vnd.jupyter.widget-view+json": {
       "version_major": 2,
       "version_minor": 0,
       "model_id": "d582c1cd6b1c409d90d0555aabc2b9a5"
      },
      "text/plain": [
       "Energy bins loop: 0it [00:00, ?it/s]"
      ]
     },
     "metadata": {}
    },
    {
     "output_type": "stream",
     "name": "stdout",
     "text": [
      "Generating maps..please wait.\n"
     ]
    },
    {
     "output_type": "display_data",
     "data": {
      "application/vnd.jupyter.widget-view+json": {
       "version_major": 2,
       "version_minor": 0,
       "model_id": "873c7ace2bdc44dea94a7d2ef62011d8"
      },
      "text/plain": [
       "Fov bins loop:   0%|          | 0/1 [00:00<?, ?it/s]"
      ]
     },
     "metadata": {}
    },
    {
     "output_type": "display_data",
     "data": {
      "application/vnd.jupyter.widget-view+json": {
       "version_major": 2,
       "version_minor": 0,
       "model_id": "e64289784a2c4596a979918c6065b409"
      },
      "text/plain": [
       "Energy bins loop: 0it [00:00, ?it/s]"
      ]
     },
     "metadata": {}
    }
   ],
   "metadata": {}
  },
  {
   "cell_type": "code",
   "execution_count": 22,
   "source": [
    "cat $lightCurveData"
   ],
   "outputs": [
    {
     "output_type": "stream",
     "name": "stdout",
     "text": [
      "time_start_mjd time_end_mjd sqrt(ts) flux flux_err flux_ul gal gal_error iso iso_error l_peak b_peak dist_peak l b r ell_dist a b phi exposure ExpRatio counts counts_err Index Index_Err Par2 Par2_Err Par3 Par3_Err Erglog Erglog_Err Erglog_UL time_start_utc time_end_utc time_start_tt time_end_tt Fix index ULConfidenceLevel SrcLocConfLevel start_l start_b start_flux typefun par2 par3 galmode2 galmode2fit isomode2 isomode2fit edpcor fluxcor integratortype expratioEval expratio_minthr expratio_maxthr expratio_size Emin emax fovmin fovmax albedo binsize expstep phasecode fit_cts fit_fitstatus0 fit_fcn0 fit_edm0 fit_nvpar0 fit_nparx0 fit_iter0 fit_fitstatus1 fit_fcn1 fit_edm1 fit_nvpar1 fit_nparx1 fit_iter1 fit_Likelihood1\n",
      "55513.0 55514.0 5.547 628.598e-08 188.701e-08 1059.69e-08 0.7 0 9.39942 0 86.1236 -38.1824 0 -1 -1 -1 -1 -1 -1 -1 3438060.0 0 21.6116 6.48764 2.20942 0 0 0 0 0 1.00777e-09 3.02526e-10 1.69891e-09 2010-11-13T00:00:00.000 2010-11-14T00:00:00.000 216691200.0 216777600.0 1 2.20942 2 5.99147 86.1236 -38.1824 7.50937e-07 0 0 0 0 0 0 0 0.75 0 1 1 0 15 10 100 50000 0 60 80 0.5 0 6 58 -1 189.845 0.5 0 8 3 0 174.46 3.01283e-16 1 8 3 228.301\n",
      "55514.0 55515.0 5.14501 550.725e-08 169.57e-08 940.41e-08 0.7 0 9.39942 0 86.1236 -38.1824 0 -1 -1 -1 -1 -1 -1 -1 3493990.0 0 19.2422 5.92475 2.20942 0 0 0 0 0 8.82926e-10 2.71855e-10 1.50767e-09 2010-11-14T00:00:00.000 2010-11-15T00:00:00.000 216777600.0 216864000.0 1 2.20942 2 5.99147 86.1236 -38.1824 7.50937e-07 0 0 0 0 0 0 0 0.75 0 1 1 0 15 10 100 50000 0 60 80 0.5 0 6 47 -1 156.687 0.5 0 8 3 0 143.451 4.77833e-15 1 8 3 190.451\n",
      "55515.0 55516.0 7.70264 994.831e-08 226.083e-08 1498.17e-08 0.7 0 9.39942 0 86.1236 -38.1824 0 -1 -1 -1 -1 -1 -1 -1 3447230.0 0 34.2941 7.79361 2.20942 0 0 0 0 0 1.59492e-09 3.62458e-10 2.40187e-09 2010-11-15T00:00:00.000 2010-11-16T00:00:00.000 216864000.0 216950400.0 1 2.20942 2 5.99147 86.1236 -38.1824 7.50937e-07 0 0 0 0 0 0 0 0.75 0 1 1 0 15 10 100 50000 0 60 80 0.5 0 6 73 -1 230.912 0.5 0 8 3 0 201.247 5.6089e-18 1 8 3 268.702\n",
      "55516.0 55517.0 8.03516 1118.38e-08 233.93e-08 1634.34e-08 0.7 0 9.39942 0 86.1236 -38.1824 0 -1 -1 -1 -1 -1 -1 -1 3579240.0 0 40.0296 8.37292 2.20942 0 0 0 0 0 1.793e-09 3.75038e-10 2.62018e-09 2010-11-16T00:00:00.000 2010-11-17T00:00:00.000 216950400.0 217036800.0 1 2.20942 2 5.99147 86.1236 -38.1824 7.50937e-07 0 0 0 0 0 0 0 0.75 0 1 1 0 15 10 100 50000 0 60 80 0.5 0 6 80 -1 248.717 0.5 0 8 3 0 216.435 1.60478e-14 1 8 3 289.504\n",
      "55517.0 55518.0 17.1096 3660.72e-08 467.179e-08 4666.91e-08 0.7 0 9.39942 0 86.1236 -38.1824 0 -1 -1 -1 -1 -1 -1 -1 2153790.0 0 78.8444 10.0621 2.20942 0 0 0 0 0 5.86889e-09 7.48985e-10 7.48202e-09 2010-11-17T00:00:00.000 2010-11-18T00:00:00.000 217036800.0 217123200.0 1 2.20942 2 5.99147 86.1236 -38.1824 7.50937e-07 0 0 0 0 0 0 0 0.75 0 1 1 0 15 10 100 50000 0 60 80 0.5 0 6 90 -1 329.08 0.5 0 8 3 0 182.71 9.69287e-17 1 8 3 242.57\n",
      "55518.0 55519.0 11.1229 75.0937e-08 0 75.0937e-08 0.7 6.90374e-310 9.39942 6.90374e-310 86.1236 -38.1824 0 -1 -1 -1 -1 -1 -1 -1 3789410.0 0 2.84561 0 2.20942 0 0 0 0 0 1.20391e-10 0 1.20391e-10 2010-11-18T00:00:00.000 2010-11-19T00:00:00.000 217123200.0 217209600.0 1 2.20942 2 5.99147 86.1236 -38.1824 7.50937e-07 0 0 0 0 0 0 0 0.75 0 1 1 0 15 10 100 50000 0 60 80 0.5 0 6 191 -1 612.63 0.5 0 8 3 4 550.77 12971400000.0 1 8 3 647.929\n",
      "55519.0 55520.0 27.1698 5115.12e-08 420.66e-08 5998.11e-08 0.7 0 9.39942 0 86.1236 -38.1824 0 -1 -1 -1 -1 -1 -1 -1 3687280.0 0 188.609 15.5109 2.20942 0 0 0 0 0 8.2006e-09 6.74405e-10 9.61621e-09 2010-11-19T00:00:00.000 2010-11-20T00:00:00.000 217209600.0 217296000.0 1 2.20942 2 5.99147 86.1236 -38.1824 7.50937e-07 0 0 0 0 0 0 0 0.75 0 1 1 0 15 10 100 50000 0 60 80 0.5 0 6 213 -1 680.524 0.5 0 8 3 0 311.426 1.41401e-16 1 8 3 421.382\n",
      "55520.0 55521.0 25.883 4665.29e-08 409.236e-08 5527.82e-08 0.7 0 9.39942 0 86.1236 -38.1824 0 -1 -1 -1 -1 -1 -1 -1 3475880.0 0 162.16 14.2246 2.20942 0 0 0 0 0 7.47943e-09 6.5609e-10 8.86224e-09 2010-11-20T00:00:00.000 2010-11-21T00:00:00.000 217296000.0 217382400.0 1 2.20942 2 5.99147 86.1236 -38.1824 7.50937e-07 0 0 0 0 0 0 0 0.75 0 1 1 0 15 10 100 50000 0 60 80 0.5 0 6 179 -1 600.212 0.5 0 8 3 0 265.249 8.1209e-17 1 8 3 344.357\n"
     ]
    }
   ],
   "metadata": {}
  },
  {
   "cell_type": "code",
   "execution_count": 23,
   "source": [
    "print(lightCurveData)"
   ],
   "outputs": [
    {
     "output_type": "stream",
     "name": "stdout",
     "text": [
      "/home/antonio/agilepy_analysis/username_3C454_3_20220209-102609/lc/0/light_curve_216691200_217382400.txt\n"
     ]
    }
   ],
   "metadata": {}
  },
  {
   "cell_type": "code",
   "execution_count": 24,
   "source": [
    "ag.displayLightCurve(\"mle\")"
   ],
   "outputs": [
    {
     "output_type": "stream",
     "name": "stdout",
     "text": [
      "Generating plot..please wait.\n"
     ]
    },
    {
     "output_type": "display_data",
     "data": {
      "application/vnd.plotly.v1+json": {
       "data": [
        {
         "customdata": [
          [
           55513,
           55514,
           5.547000000000001
          ],
          [
           55514,
           55515,
           5.14501
          ],
          [
           55515,
           55516,
           7.70264
          ],
          [
           55516,
           55517,
           8.035160000000001
          ],
          [
           55517,
           55518,
           17.1096
          ],
          [
           55518,
           55519,
           11.1229
          ],
          [
           55519,
           55520,
           27.1698
          ],
          [
           55520,
           55521,
           25.883000000000003
          ]
         ],
         "error_x": {
          "array": [
           0.5,
           0.5,
           0.5,
           0.5,
           0.5,
           0.5,
           0.5,
           0.5
          ],
          "arrayminus": [
           0.5,
           0.5,
           0.5,
           0.5,
           0.5,
           0.5,
           0.5,
           0.5
          ],
          "symmetric": false,
          "type": "data"
         },
         "error_y": {
          "array": [
           188.701,
           169.57,
           226.083,
           233.93,
           467.17900000000003,
           0,
           420.66,
           409.236
          ],
          "symmetric": true,
          "type": "data"
         },
         "hovertemplate": "tstart: %{customdata[0]:.4f} - tend:%{customdata[1]:.4f}, flux: %{y:.2f} +/- %{error_y.array:.2f}, sqrts: %{customdata[2]:.4f}",
         "mode": "markers",
         "name": "flux",
         "x": [
          55513.5,
          55514.5,
          55515.5,
          55516.5,
          55517.5,
          55518.5,
          55519.5,
          55520.5
         ],
         "y": [
          628.5980000000001,
          550.725,
          994.831,
          1118.38,
          3660.72,
          75.0937,
          5115.12,
          4665.29
         ],
         "type": "scatter"
        },
        {
         "customdata": [],
         "error_x": {
          "array": [],
          "arrayminus": [],
          "symmetric": false,
          "type": "data"
         },
         "hovertemplate": "tstart: %{customdata[0]:.4f}, tend:%{customdata[1]:.4f}, flux_ul: %{y:.2f}, sqrts: %{customdata[2]:.4f}",
         "marker": {
          "size": 10,
          "symbol": "triangle-down"
         },
         "mode": "markers",
         "name": "flux_ul",
         "x": [],
         "y": [],
         "type": "scatter"
        }
       ],
       "layout": {
        "template": {
         "data": {
          "bar": [
           {
            "error_x": {
             "color": "#2a3f5f"
            },
            "error_y": {
             "color": "#2a3f5f"
            },
            "marker": {
             "line": {
              "color": "#E5ECF6",
              "width": 0.5
             },
             "pattern": {
              "fillmode": "overlay",
              "size": 10,
              "solidity": 0.2
             }
            },
            "type": "bar"
           }
          ],
          "barpolar": [
           {
            "marker": {
             "line": {
              "color": "#E5ECF6",
              "width": 0.5
             },
             "pattern": {
              "fillmode": "overlay",
              "size": 10,
              "solidity": 0.2
             }
            },
            "type": "barpolar"
           }
          ],
          "carpet": [
           {
            "aaxis": {
             "endlinecolor": "#2a3f5f",
             "gridcolor": "white",
             "linecolor": "white",
             "minorgridcolor": "white",
             "startlinecolor": "#2a3f5f"
            },
            "baxis": {
             "endlinecolor": "#2a3f5f",
             "gridcolor": "white",
             "linecolor": "white",
             "minorgridcolor": "white",
             "startlinecolor": "#2a3f5f"
            },
            "type": "carpet"
           }
          ],
          "choropleth": [
           {
            "colorbar": {
             "outlinewidth": 0,
             "ticks": ""
            },
            "type": "choropleth"
           }
          ],
          "contour": [
           {
            "colorbar": {
             "outlinewidth": 0,
             "ticks": ""
            },
            "colorscale": [
             [
              0,
              "#0d0887"
             ],
             [
              0.1111111111111111,
              "#46039f"
             ],
             [
              0.2222222222222222,
              "#7201a8"
             ],
             [
              0.3333333333333333,
              "#9c179e"
             ],
             [
              0.4444444444444444,
              "#bd3786"
             ],
             [
              0.5555555555555556,
              "#d8576b"
             ],
             [
              0.6666666666666666,
              "#ed7953"
             ],
             [
              0.7777777777777778,
              "#fb9f3a"
             ],
             [
              0.8888888888888888,
              "#fdca26"
             ],
             [
              1,
              "#f0f921"
             ]
            ],
            "type": "contour"
           }
          ],
          "contourcarpet": [
           {
            "colorbar": {
             "outlinewidth": 0,
             "ticks": ""
            },
            "type": "contourcarpet"
           }
          ],
          "heatmap": [
           {
            "colorbar": {
             "outlinewidth": 0,
             "ticks": ""
            },
            "colorscale": [
             [
              0,
              "#0d0887"
             ],
             [
              0.1111111111111111,
              "#46039f"
             ],
             [
              0.2222222222222222,
              "#7201a8"
             ],
             [
              0.3333333333333333,
              "#9c179e"
             ],
             [
              0.4444444444444444,
              "#bd3786"
             ],
             [
              0.5555555555555556,
              "#d8576b"
             ],
             [
              0.6666666666666666,
              "#ed7953"
             ],
             [
              0.7777777777777778,
              "#fb9f3a"
             ],
             [
              0.8888888888888888,
              "#fdca26"
             ],
             [
              1,
              "#f0f921"
             ]
            ],
            "type": "heatmap"
           }
          ],
          "heatmapgl": [
           {
            "colorbar": {
             "outlinewidth": 0,
             "ticks": ""
            },
            "colorscale": [
             [
              0,
              "#0d0887"
             ],
             [
              0.1111111111111111,
              "#46039f"
             ],
             [
              0.2222222222222222,
              "#7201a8"
             ],
             [
              0.3333333333333333,
              "#9c179e"
             ],
             [
              0.4444444444444444,
              "#bd3786"
             ],
             [
              0.5555555555555556,
              "#d8576b"
             ],
             [
              0.6666666666666666,
              "#ed7953"
             ],
             [
              0.7777777777777778,
              "#fb9f3a"
             ],
             [
              0.8888888888888888,
              "#fdca26"
             ],
             [
              1,
              "#f0f921"
             ]
            ],
            "type": "heatmapgl"
           }
          ],
          "histogram": [
           {
            "marker": {
             "pattern": {
              "fillmode": "overlay",
              "size": 10,
              "solidity": 0.2
             }
            },
            "type": "histogram"
           }
          ],
          "histogram2d": [
           {
            "colorbar": {
             "outlinewidth": 0,
             "ticks": ""
            },
            "colorscale": [
             [
              0,
              "#0d0887"
             ],
             [
              0.1111111111111111,
              "#46039f"
             ],
             [
              0.2222222222222222,
              "#7201a8"
             ],
             [
              0.3333333333333333,
              "#9c179e"
             ],
             [
              0.4444444444444444,
              "#bd3786"
             ],
             [
              0.5555555555555556,
              "#d8576b"
             ],
             [
              0.6666666666666666,
              "#ed7953"
             ],
             [
              0.7777777777777778,
              "#fb9f3a"
             ],
             [
              0.8888888888888888,
              "#fdca26"
             ],
             [
              1,
              "#f0f921"
             ]
            ],
            "type": "histogram2d"
           }
          ],
          "histogram2dcontour": [
           {
            "colorbar": {
             "outlinewidth": 0,
             "ticks": ""
            },
            "colorscale": [
             [
              0,
              "#0d0887"
             ],
             [
              0.1111111111111111,
              "#46039f"
             ],
             [
              0.2222222222222222,
              "#7201a8"
             ],
             [
              0.3333333333333333,
              "#9c179e"
             ],
             [
              0.4444444444444444,
              "#bd3786"
             ],
             [
              0.5555555555555556,
              "#d8576b"
             ],
             [
              0.6666666666666666,
              "#ed7953"
             ],
             [
              0.7777777777777778,
              "#fb9f3a"
             ],
             [
              0.8888888888888888,
              "#fdca26"
             ],
             [
              1,
              "#f0f921"
             ]
            ],
            "type": "histogram2dcontour"
           }
          ],
          "mesh3d": [
           {
            "colorbar": {
             "outlinewidth": 0,
             "ticks": ""
            },
            "type": "mesh3d"
           }
          ],
          "parcoords": [
           {
            "line": {
             "colorbar": {
              "outlinewidth": 0,
              "ticks": ""
             }
            },
            "type": "parcoords"
           }
          ],
          "pie": [
           {
            "automargin": true,
            "type": "pie"
           }
          ],
          "scatter": [
           {
            "marker": {
             "colorbar": {
              "outlinewidth": 0,
              "ticks": ""
             }
            },
            "type": "scatter"
           }
          ],
          "scatter3d": [
           {
            "line": {
             "colorbar": {
              "outlinewidth": 0,
              "ticks": ""
             }
            },
            "marker": {
             "colorbar": {
              "outlinewidth": 0,
              "ticks": ""
             }
            },
            "type": "scatter3d"
           }
          ],
          "scattercarpet": [
           {
            "marker": {
             "colorbar": {
              "outlinewidth": 0,
              "ticks": ""
             }
            },
            "type": "scattercarpet"
           }
          ],
          "scattergeo": [
           {
            "marker": {
             "colorbar": {
              "outlinewidth": 0,
              "ticks": ""
             }
            },
            "type": "scattergeo"
           }
          ],
          "scattergl": [
           {
            "marker": {
             "colorbar": {
              "outlinewidth": 0,
              "ticks": ""
             }
            },
            "type": "scattergl"
           }
          ],
          "scattermapbox": [
           {
            "marker": {
             "colorbar": {
              "outlinewidth": 0,
              "ticks": ""
             }
            },
            "type": "scattermapbox"
           }
          ],
          "scatterpolar": [
           {
            "marker": {
             "colorbar": {
              "outlinewidth": 0,
              "ticks": ""
             }
            },
            "type": "scatterpolar"
           }
          ],
          "scatterpolargl": [
           {
            "marker": {
             "colorbar": {
              "outlinewidth": 0,
              "ticks": ""
             }
            },
            "type": "scatterpolargl"
           }
          ],
          "scatterternary": [
           {
            "marker": {
             "colorbar": {
              "outlinewidth": 0,
              "ticks": ""
             }
            },
            "type": "scatterternary"
           }
          ],
          "surface": [
           {
            "colorbar": {
             "outlinewidth": 0,
             "ticks": ""
            },
            "colorscale": [
             [
              0,
              "#0d0887"
             ],
             [
              0.1111111111111111,
              "#46039f"
             ],
             [
              0.2222222222222222,
              "#7201a8"
             ],
             [
              0.3333333333333333,
              "#9c179e"
             ],
             [
              0.4444444444444444,
              "#bd3786"
             ],
             [
              0.5555555555555556,
              "#d8576b"
             ],
             [
              0.6666666666666666,
              "#ed7953"
             ],
             [
              0.7777777777777778,
              "#fb9f3a"
             ],
             [
              0.8888888888888888,
              "#fdca26"
             ],
             [
              1,
              "#f0f921"
             ]
            ],
            "type": "surface"
           }
          ],
          "table": [
           {
            "cells": {
             "fill": {
              "color": "#EBF0F8"
             },
             "line": {
              "color": "white"
             }
            },
            "header": {
             "fill": {
              "color": "#C8D4E3"
             },
             "line": {
              "color": "white"
             }
            },
            "type": "table"
           }
          ]
         },
         "layout": {
          "annotationdefaults": {
           "arrowcolor": "#2a3f5f",
           "arrowhead": 0,
           "arrowwidth": 1
          },
          "autotypenumbers": "strict",
          "coloraxis": {
           "colorbar": {
            "outlinewidth": 0,
            "ticks": ""
           }
          },
          "colorscale": {
           "diverging": [
            [
             0,
             "#8e0152"
            ],
            [
             0.1,
             "#c51b7d"
            ],
            [
             0.2,
             "#de77ae"
            ],
            [
             0.3,
             "#f1b6da"
            ],
            [
             0.4,
             "#fde0ef"
            ],
            [
             0.5,
             "#f7f7f7"
            ],
            [
             0.6,
             "#e6f5d0"
            ],
            [
             0.7,
             "#b8e186"
            ],
            [
             0.8,
             "#7fbc41"
            ],
            [
             0.9,
             "#4d9221"
            ],
            [
             1,
             "#276419"
            ]
           ],
           "sequential": [
            [
             0,
             "#0d0887"
            ],
            [
             0.1111111111111111,
             "#46039f"
            ],
            [
             0.2222222222222222,
             "#7201a8"
            ],
            [
             0.3333333333333333,
             "#9c179e"
            ],
            [
             0.4444444444444444,
             "#bd3786"
            ],
            [
             0.5555555555555556,
             "#d8576b"
            ],
            [
             0.6666666666666666,
             "#ed7953"
            ],
            [
             0.7777777777777778,
             "#fb9f3a"
            ],
            [
             0.8888888888888888,
             "#fdca26"
            ],
            [
             1,
             "#f0f921"
            ]
           ],
           "sequentialminus": [
            [
             0,
             "#0d0887"
            ],
            [
             0.1111111111111111,
             "#46039f"
            ],
            [
             0.2222222222222222,
             "#7201a8"
            ],
            [
             0.3333333333333333,
             "#9c179e"
            ],
            [
             0.4444444444444444,
             "#bd3786"
            ],
            [
             0.5555555555555556,
             "#d8576b"
            ],
            [
             0.6666666666666666,
             "#ed7953"
            ],
            [
             0.7777777777777778,
             "#fb9f3a"
            ],
            [
             0.8888888888888888,
             "#fdca26"
            ],
            [
             1,
             "#f0f921"
            ]
           ]
          },
          "colorway": [
           "#636efa",
           "#EF553B",
           "#00cc96",
           "#ab63fa",
           "#FFA15A",
           "#19d3f3",
           "#FF6692",
           "#B6E880",
           "#FF97FF",
           "#FECB52"
          ],
          "font": {
           "color": "#2a3f5f"
          },
          "geo": {
           "bgcolor": "white",
           "lakecolor": "white",
           "landcolor": "#E5ECF6",
           "showlakes": true,
           "showland": true,
           "subunitcolor": "white"
          },
          "hoverlabel": {
           "align": "left"
          },
          "hovermode": "closest",
          "mapbox": {
           "style": "light"
          },
          "paper_bgcolor": "white",
          "plot_bgcolor": "#E5ECF6",
          "polar": {
           "angularaxis": {
            "gridcolor": "white",
            "linecolor": "white",
            "ticks": ""
           },
           "bgcolor": "#E5ECF6",
           "radialaxis": {
            "gridcolor": "white",
            "linecolor": "white",
            "ticks": ""
           }
          },
          "scene": {
           "xaxis": {
            "backgroundcolor": "#E5ECF6",
            "gridcolor": "white",
            "gridwidth": 2,
            "linecolor": "white",
            "showbackground": true,
            "ticks": "",
            "zerolinecolor": "white"
           },
           "yaxis": {
            "backgroundcolor": "#E5ECF6",
            "gridcolor": "white",
            "gridwidth": 2,
            "linecolor": "white",
            "showbackground": true,
            "ticks": "",
            "zerolinecolor": "white"
           },
           "zaxis": {
            "backgroundcolor": "#E5ECF6",
            "gridcolor": "white",
            "gridwidth": 2,
            "linecolor": "white",
            "showbackground": true,
            "ticks": "",
            "zerolinecolor": "white"
           }
          },
          "shapedefaults": {
           "line": {
            "color": "#2a3f5f"
           }
          },
          "ternary": {
           "aaxis": {
            "gridcolor": "white",
            "linecolor": "white",
            "ticks": ""
           },
           "baxis": {
            "gridcolor": "white",
            "linecolor": "white",
            "ticks": ""
           },
           "bgcolor": "#E5ECF6",
           "caxis": {
            "gridcolor": "white",
            "linecolor": "white",
            "ticks": ""
           }
          },
          "title": {
           "x": 0.05
          },
          "xaxis": {
           "automargin": true,
           "gridcolor": "white",
           "linecolor": "white",
           "ticks": "",
           "title": {
            "standoff": 15
           },
           "zerolinecolor": "white",
           "zerolinewidth": 2
          },
          "yaxis": {
           "automargin": true,
           "gridcolor": "white",
           "linecolor": "white",
           "ticks": "",
           "title": {
            "standoff": 15
           },
           "zerolinecolor": "white",
           "zerolinewidth": 2
          }
         }
        },
        "xaxis": {
         "showline": true,
         "linecolor": "black",
         "title": {
          "text": "Time(MJD)"
         },
         "tickformat": "g"
        },
        "yaxis": {
         "showline": true,
         "linecolor": "black",
         "title": {
          "text": "$10^{-8} ph cm^{-2} s^{-1}$"
         }
        },
        "legend": {
         "font": {
          "size": 17
         },
         "orientation": "h",
         "yanchor": "bottom",
         "y": 1.02,
         "xanchor": "left"
        }
       },
       "config": {
        "plotlyServerURL": "https://plot.ly"
       }
      }
     },
     "metadata": {}
    }
   ],
   "metadata": {}
  },
  {
   "cell_type": "markdown",
   "source": [
    "### Light curve with explicit tmin and tmax"
   ],
   "metadata": {}
  },
  {
   "cell_type": "code",
   "execution_count": 25,
   "source": [
    "lightCurveData = ag.lightCurveMLE(\"2AGLJ2254+1609\", tmin=55513.0, tmax=55515.0, timetype=\"MJD\", binsize=86400)"
   ],
   "outputs": [
    {
     "output_type": "stream",
     "name": "stdout",
     "text": [
      "Computing light curve bins..please wait.\n"
     ]
    },
    {
     "output_type": "display_data",
     "data": {
      "application/vnd.jupyter.widget-view+json": {
       "version_major": 2,
       "version_minor": 0,
       "model_id": "d4ec41191e7d4f72a7a3e1f0b73fdbd7"
      },
      "text/plain": [
       "Temporal bin loop:   0%|          | 0/2 [00:00<?, ?it/s]"
      ]
     },
     "metadata": {}
    },
    {
     "output_type": "stream",
     "name": "stdout",
     "text": [
      "Generating maps..please wait.\n"
     ]
    },
    {
     "output_type": "display_data",
     "data": {
      "application/vnd.jupyter.widget-view+json": {
       "version_major": 2,
       "version_minor": 0,
       "model_id": "6c66143f48cb4470b7554526b3c665b1"
      },
      "text/plain": [
       "Fov bins loop:   0%|          | 0/1 [00:00<?, ?it/s]"
      ]
     },
     "metadata": {}
    },
    {
     "output_type": "display_data",
     "data": {
      "application/vnd.jupyter.widget-view+json": {
       "version_major": 2,
       "version_minor": 0,
       "model_id": "327e389a9fed47f2a96c202c26b6cde3"
      },
      "text/plain": [
       "Energy bins loop: 0it [00:00, ?it/s]"
      ]
     },
     "metadata": {}
    },
    {
     "output_type": "stream",
     "name": "stdout",
     "text": [
      "Generating maps..please wait.\n"
     ]
    },
    {
     "output_type": "display_data",
     "data": {
      "application/vnd.jupyter.widget-view+json": {
       "version_major": 2,
       "version_minor": 0,
       "model_id": "cd69d385378744fe8d4d3a9a18a69c3a"
      },
      "text/plain": [
       "Fov bins loop:   0%|          | 0/1 [00:00<?, ?it/s]"
      ]
     },
     "metadata": {}
    },
    {
     "output_type": "display_data",
     "data": {
      "application/vnd.jupyter.widget-view+json": {
       "version_major": 2,
       "version_minor": 0,
       "model_id": "06f9ea3c2fc14c77ba0b3cb2c47d338e"
      },
      "text/plain": [
       "Energy bins loop: 0it [00:00, ?it/s]"
      ]
     },
     "metadata": {}
    }
   ],
   "metadata": {}
  },
  {
   "cell_type": "code",
   "execution_count": null,
   "source": [
    "#cat $lightCurveData"
   ],
   "outputs": [],
   "metadata": {}
  },
  {
   "cell_type": "code",
   "execution_count": 26,
   "source": [
    "ag.displayLightCurve(\"mle\")"
   ],
   "outputs": [
    {
     "output_type": "stream",
     "name": "stdout",
     "text": [
      "Generating plot..please wait.\n"
     ]
    },
    {
     "output_type": "display_data",
     "data": {
      "application/vnd.plotly.v1+json": {
       "data": [
        {
         "customdata": [
          [
           55513,
           55514,
           5.547000000000001
          ],
          [
           55514,
           55515,
           5.14501
          ]
         ],
         "error_x": {
          "array": [
           0.5,
           0.5
          ],
          "arrayminus": [
           0.5,
           0.5
          ],
          "symmetric": false,
          "type": "data"
         },
         "error_y": {
          "array": [
           188.701,
           169.57
          ],
          "symmetric": true,
          "type": "data"
         },
         "hovertemplate": "tstart: %{customdata[0]:.4f} - tend:%{customdata[1]:.4f}, flux: %{y:.2f} +/- %{error_y.array:.2f}, sqrts: %{customdata[2]:.4f}",
         "mode": "markers",
         "name": "flux",
         "x": [
          55513.5,
          55514.5
         ],
         "y": [
          628.5980000000001,
          550.725
         ],
         "type": "scatter"
        },
        {
         "customdata": [],
         "error_x": {
          "array": [],
          "arrayminus": [],
          "symmetric": false,
          "type": "data"
         },
         "hovertemplate": "tstart: %{customdata[0]:.4f}, tend:%{customdata[1]:.4f}, flux_ul: %{y:.2f}, sqrts: %{customdata[2]:.4f}",
         "marker": {
          "size": 10,
          "symbol": "triangle-down"
         },
         "mode": "markers",
         "name": "flux_ul",
         "x": [],
         "y": [],
         "type": "scatter"
        }
       ],
       "layout": {
        "template": {
         "data": {
          "bar": [
           {
            "error_x": {
             "color": "#2a3f5f"
            },
            "error_y": {
             "color": "#2a3f5f"
            },
            "marker": {
             "line": {
              "color": "#E5ECF6",
              "width": 0.5
             },
             "pattern": {
              "fillmode": "overlay",
              "size": 10,
              "solidity": 0.2
             }
            },
            "type": "bar"
           }
          ],
          "barpolar": [
           {
            "marker": {
             "line": {
              "color": "#E5ECF6",
              "width": 0.5
             },
             "pattern": {
              "fillmode": "overlay",
              "size": 10,
              "solidity": 0.2
             }
            },
            "type": "barpolar"
           }
          ],
          "carpet": [
           {
            "aaxis": {
             "endlinecolor": "#2a3f5f",
             "gridcolor": "white",
             "linecolor": "white",
             "minorgridcolor": "white",
             "startlinecolor": "#2a3f5f"
            },
            "baxis": {
             "endlinecolor": "#2a3f5f",
             "gridcolor": "white",
             "linecolor": "white",
             "minorgridcolor": "white",
             "startlinecolor": "#2a3f5f"
            },
            "type": "carpet"
           }
          ],
          "choropleth": [
           {
            "colorbar": {
             "outlinewidth": 0,
             "ticks": ""
            },
            "type": "choropleth"
           }
          ],
          "contour": [
           {
            "colorbar": {
             "outlinewidth": 0,
             "ticks": ""
            },
            "colorscale": [
             [
              0,
              "#0d0887"
             ],
             [
              0.1111111111111111,
              "#46039f"
             ],
             [
              0.2222222222222222,
              "#7201a8"
             ],
             [
              0.3333333333333333,
              "#9c179e"
             ],
             [
              0.4444444444444444,
              "#bd3786"
             ],
             [
              0.5555555555555556,
              "#d8576b"
             ],
             [
              0.6666666666666666,
              "#ed7953"
             ],
             [
              0.7777777777777778,
              "#fb9f3a"
             ],
             [
              0.8888888888888888,
              "#fdca26"
             ],
             [
              1,
              "#f0f921"
             ]
            ],
            "type": "contour"
           }
          ],
          "contourcarpet": [
           {
            "colorbar": {
             "outlinewidth": 0,
             "ticks": ""
            },
            "type": "contourcarpet"
           }
          ],
          "heatmap": [
           {
            "colorbar": {
             "outlinewidth": 0,
             "ticks": ""
            },
            "colorscale": [
             [
              0,
              "#0d0887"
             ],
             [
              0.1111111111111111,
              "#46039f"
             ],
             [
              0.2222222222222222,
              "#7201a8"
             ],
             [
              0.3333333333333333,
              "#9c179e"
             ],
             [
              0.4444444444444444,
              "#bd3786"
             ],
             [
              0.5555555555555556,
              "#d8576b"
             ],
             [
              0.6666666666666666,
              "#ed7953"
             ],
             [
              0.7777777777777778,
              "#fb9f3a"
             ],
             [
              0.8888888888888888,
              "#fdca26"
             ],
             [
              1,
              "#f0f921"
             ]
            ],
            "type": "heatmap"
           }
          ],
          "heatmapgl": [
           {
            "colorbar": {
             "outlinewidth": 0,
             "ticks": ""
            },
            "colorscale": [
             [
              0,
              "#0d0887"
             ],
             [
              0.1111111111111111,
              "#46039f"
             ],
             [
              0.2222222222222222,
              "#7201a8"
             ],
             [
              0.3333333333333333,
              "#9c179e"
             ],
             [
              0.4444444444444444,
              "#bd3786"
             ],
             [
              0.5555555555555556,
              "#d8576b"
             ],
             [
              0.6666666666666666,
              "#ed7953"
             ],
             [
              0.7777777777777778,
              "#fb9f3a"
             ],
             [
              0.8888888888888888,
              "#fdca26"
             ],
             [
              1,
              "#f0f921"
             ]
            ],
            "type": "heatmapgl"
           }
          ],
          "histogram": [
           {
            "marker": {
             "pattern": {
              "fillmode": "overlay",
              "size": 10,
              "solidity": 0.2
             }
            },
            "type": "histogram"
           }
          ],
          "histogram2d": [
           {
            "colorbar": {
             "outlinewidth": 0,
             "ticks": ""
            },
            "colorscale": [
             [
              0,
              "#0d0887"
             ],
             [
              0.1111111111111111,
              "#46039f"
             ],
             [
              0.2222222222222222,
              "#7201a8"
             ],
             [
              0.3333333333333333,
              "#9c179e"
             ],
             [
              0.4444444444444444,
              "#bd3786"
             ],
             [
              0.5555555555555556,
              "#d8576b"
             ],
             [
              0.6666666666666666,
              "#ed7953"
             ],
             [
              0.7777777777777778,
              "#fb9f3a"
             ],
             [
              0.8888888888888888,
              "#fdca26"
             ],
             [
              1,
              "#f0f921"
             ]
            ],
            "type": "histogram2d"
           }
          ],
          "histogram2dcontour": [
           {
            "colorbar": {
             "outlinewidth": 0,
             "ticks": ""
            },
            "colorscale": [
             [
              0,
              "#0d0887"
             ],
             [
              0.1111111111111111,
              "#46039f"
             ],
             [
              0.2222222222222222,
              "#7201a8"
             ],
             [
              0.3333333333333333,
              "#9c179e"
             ],
             [
              0.4444444444444444,
              "#bd3786"
             ],
             [
              0.5555555555555556,
              "#d8576b"
             ],
             [
              0.6666666666666666,
              "#ed7953"
             ],
             [
              0.7777777777777778,
              "#fb9f3a"
             ],
             [
              0.8888888888888888,
              "#fdca26"
             ],
             [
              1,
              "#f0f921"
             ]
            ],
            "type": "histogram2dcontour"
           }
          ],
          "mesh3d": [
           {
            "colorbar": {
             "outlinewidth": 0,
             "ticks": ""
            },
            "type": "mesh3d"
           }
          ],
          "parcoords": [
           {
            "line": {
             "colorbar": {
              "outlinewidth": 0,
              "ticks": ""
             }
            },
            "type": "parcoords"
           }
          ],
          "pie": [
           {
            "automargin": true,
            "type": "pie"
           }
          ],
          "scatter": [
           {
            "marker": {
             "colorbar": {
              "outlinewidth": 0,
              "ticks": ""
             }
            },
            "type": "scatter"
           }
          ],
          "scatter3d": [
           {
            "line": {
             "colorbar": {
              "outlinewidth": 0,
              "ticks": ""
             }
            },
            "marker": {
             "colorbar": {
              "outlinewidth": 0,
              "ticks": ""
             }
            },
            "type": "scatter3d"
           }
          ],
          "scattercarpet": [
           {
            "marker": {
             "colorbar": {
              "outlinewidth": 0,
              "ticks": ""
             }
            },
            "type": "scattercarpet"
           }
          ],
          "scattergeo": [
           {
            "marker": {
             "colorbar": {
              "outlinewidth": 0,
              "ticks": ""
             }
            },
            "type": "scattergeo"
           }
          ],
          "scattergl": [
           {
            "marker": {
             "colorbar": {
              "outlinewidth": 0,
              "ticks": ""
             }
            },
            "type": "scattergl"
           }
          ],
          "scattermapbox": [
           {
            "marker": {
             "colorbar": {
              "outlinewidth": 0,
              "ticks": ""
             }
            },
            "type": "scattermapbox"
           }
          ],
          "scatterpolar": [
           {
            "marker": {
             "colorbar": {
              "outlinewidth": 0,
              "ticks": ""
             }
            },
            "type": "scatterpolar"
           }
          ],
          "scatterpolargl": [
           {
            "marker": {
             "colorbar": {
              "outlinewidth": 0,
              "ticks": ""
             }
            },
            "type": "scatterpolargl"
           }
          ],
          "scatterternary": [
           {
            "marker": {
             "colorbar": {
              "outlinewidth": 0,
              "ticks": ""
             }
            },
            "type": "scatterternary"
           }
          ],
          "surface": [
           {
            "colorbar": {
             "outlinewidth": 0,
             "ticks": ""
            },
            "colorscale": [
             [
              0,
              "#0d0887"
             ],
             [
              0.1111111111111111,
              "#46039f"
             ],
             [
              0.2222222222222222,
              "#7201a8"
             ],
             [
              0.3333333333333333,
              "#9c179e"
             ],
             [
              0.4444444444444444,
              "#bd3786"
             ],
             [
              0.5555555555555556,
              "#d8576b"
             ],
             [
              0.6666666666666666,
              "#ed7953"
             ],
             [
              0.7777777777777778,
              "#fb9f3a"
             ],
             [
              0.8888888888888888,
              "#fdca26"
             ],
             [
              1,
              "#f0f921"
             ]
            ],
            "type": "surface"
           }
          ],
          "table": [
           {
            "cells": {
             "fill": {
              "color": "#EBF0F8"
             },
             "line": {
              "color": "white"
             }
            },
            "header": {
             "fill": {
              "color": "#C8D4E3"
             },
             "line": {
              "color": "white"
             }
            },
            "type": "table"
           }
          ]
         },
         "layout": {
          "annotationdefaults": {
           "arrowcolor": "#2a3f5f",
           "arrowhead": 0,
           "arrowwidth": 1
          },
          "autotypenumbers": "strict",
          "coloraxis": {
           "colorbar": {
            "outlinewidth": 0,
            "ticks": ""
           }
          },
          "colorscale": {
           "diverging": [
            [
             0,
             "#8e0152"
            ],
            [
             0.1,
             "#c51b7d"
            ],
            [
             0.2,
             "#de77ae"
            ],
            [
             0.3,
             "#f1b6da"
            ],
            [
             0.4,
             "#fde0ef"
            ],
            [
             0.5,
             "#f7f7f7"
            ],
            [
             0.6,
             "#e6f5d0"
            ],
            [
             0.7,
             "#b8e186"
            ],
            [
             0.8,
             "#7fbc41"
            ],
            [
             0.9,
             "#4d9221"
            ],
            [
             1,
             "#276419"
            ]
           ],
           "sequential": [
            [
             0,
             "#0d0887"
            ],
            [
             0.1111111111111111,
             "#46039f"
            ],
            [
             0.2222222222222222,
             "#7201a8"
            ],
            [
             0.3333333333333333,
             "#9c179e"
            ],
            [
             0.4444444444444444,
             "#bd3786"
            ],
            [
             0.5555555555555556,
             "#d8576b"
            ],
            [
             0.6666666666666666,
             "#ed7953"
            ],
            [
             0.7777777777777778,
             "#fb9f3a"
            ],
            [
             0.8888888888888888,
             "#fdca26"
            ],
            [
             1,
             "#f0f921"
            ]
           ],
           "sequentialminus": [
            [
             0,
             "#0d0887"
            ],
            [
             0.1111111111111111,
             "#46039f"
            ],
            [
             0.2222222222222222,
             "#7201a8"
            ],
            [
             0.3333333333333333,
             "#9c179e"
            ],
            [
             0.4444444444444444,
             "#bd3786"
            ],
            [
             0.5555555555555556,
             "#d8576b"
            ],
            [
             0.6666666666666666,
             "#ed7953"
            ],
            [
             0.7777777777777778,
             "#fb9f3a"
            ],
            [
             0.8888888888888888,
             "#fdca26"
            ],
            [
             1,
             "#f0f921"
            ]
           ]
          },
          "colorway": [
           "#636efa",
           "#EF553B",
           "#00cc96",
           "#ab63fa",
           "#FFA15A",
           "#19d3f3",
           "#FF6692",
           "#B6E880",
           "#FF97FF",
           "#FECB52"
          ],
          "font": {
           "color": "#2a3f5f"
          },
          "geo": {
           "bgcolor": "white",
           "lakecolor": "white",
           "landcolor": "#E5ECF6",
           "showlakes": true,
           "showland": true,
           "subunitcolor": "white"
          },
          "hoverlabel": {
           "align": "left"
          },
          "hovermode": "closest",
          "mapbox": {
           "style": "light"
          },
          "paper_bgcolor": "white",
          "plot_bgcolor": "#E5ECF6",
          "polar": {
           "angularaxis": {
            "gridcolor": "white",
            "linecolor": "white",
            "ticks": ""
           },
           "bgcolor": "#E5ECF6",
           "radialaxis": {
            "gridcolor": "white",
            "linecolor": "white",
            "ticks": ""
           }
          },
          "scene": {
           "xaxis": {
            "backgroundcolor": "#E5ECF6",
            "gridcolor": "white",
            "gridwidth": 2,
            "linecolor": "white",
            "showbackground": true,
            "ticks": "",
            "zerolinecolor": "white"
           },
           "yaxis": {
            "backgroundcolor": "#E5ECF6",
            "gridcolor": "white",
            "gridwidth": 2,
            "linecolor": "white",
            "showbackground": true,
            "ticks": "",
            "zerolinecolor": "white"
           },
           "zaxis": {
            "backgroundcolor": "#E5ECF6",
            "gridcolor": "white",
            "gridwidth": 2,
            "linecolor": "white",
            "showbackground": true,
            "ticks": "",
            "zerolinecolor": "white"
           }
          },
          "shapedefaults": {
           "line": {
            "color": "#2a3f5f"
           }
          },
          "ternary": {
           "aaxis": {
            "gridcolor": "white",
            "linecolor": "white",
            "ticks": ""
           },
           "baxis": {
            "gridcolor": "white",
            "linecolor": "white",
            "ticks": ""
           },
           "bgcolor": "#E5ECF6",
           "caxis": {
            "gridcolor": "white",
            "linecolor": "white",
            "ticks": ""
           }
          },
          "title": {
           "x": 0.05
          },
          "xaxis": {
           "automargin": true,
           "gridcolor": "white",
           "linecolor": "white",
           "ticks": "",
           "title": {
            "standoff": 15
           },
           "zerolinecolor": "white",
           "zerolinewidth": 2
          },
          "yaxis": {
           "automargin": true,
           "gridcolor": "white",
           "linecolor": "white",
           "ticks": "",
           "title": {
            "standoff": 15
           },
           "zerolinecolor": "white",
           "zerolinewidth": 2
          }
         }
        },
        "xaxis": {
         "showline": true,
         "linecolor": "black",
         "title": {
          "text": "Time(MJD)"
         },
         "tickformat": "g"
        },
        "yaxis": {
         "showline": true,
         "linecolor": "black",
         "title": {
          "text": "$10^{-8} ph cm^{-2} s^{-1}$"
         }
        },
        "legend": {
         "font": {
          "size": 17
         },
         "orientation": "h",
         "yanchor": "bottom",
         "y": 1.02,
         "xanchor": "left"
        }
       },
       "config": {
        "plotlyServerURL": "https://plot.ly"
       }
      }
     },
     "metadata": {}
    }
   ],
   "metadata": {}
  },
  {
   "cell_type": "markdown",
   "source": [
    "### Evaluation of spectral index of pre-flare period 55513.00-55517.00"
   ],
   "metadata": {}
  },
  {
   "cell_type": "code",
   "execution_count": 27,
   "source": [
    "ag.setOptionTimeMJD(55513.0, 55517.0)\n",
    "ag.setOptions(energybins=[[100, 300], [300, 1000], [1000, 3000], [3000, 10000], [10000, 50000]])\n",
    "ag.setOptions(galcoeff=[0.7, 0.7, 0.7, 0.7, 0.7])\n",
    "ag.setOptions(isocoeff=[-1, -1, -1, -1, -1])"
   ],
   "outputs": [],
   "metadata": {}
  },
  {
   "cell_type": "code",
   "execution_count": 28,
   "source": [
    "ag.printOptions(\"maps\")"
   ],
   "outputs": [
    {
     "output_type": "stream",
     "name": "stdout",
     "text": [
      "{ 'binsize': 0.5,\n",
      "  'energybins': [ [100, 300],\n",
      "                  [300, 1000],\n",
      "                  [1000, 3000],\n",
      "                  [3000, 10000],\n",
      "                  [10000, 50000]],\n",
      "  'expstep': 2,\n",
      "  'fovbinnumber': 1,\n",
      "  'mapsize': 25,\n",
      "  'offaxisangle': 30,\n",
      "  'proj': 'ARC',\n",
      "  'projtype': 'WCS',\n",
      "  'spectralindex': 2.1,\n",
      "  'timestep': 160,\n",
      "  'useEDPmatrixforEXP': False}\n"
     ]
    }
   ],
   "metadata": {}
  },
  {
   "cell_type": "code",
   "execution_count": 29,
   "source": [
    "maplistfile = ag.generateMaps()"
   ],
   "outputs": [
    {
     "output_type": "stream",
     "name": "stdout",
     "text": [
      "Generating maps..please wait.\n"
     ]
    },
    {
     "output_type": "display_data",
     "data": {
      "application/vnd.jupyter.widget-view+json": {
       "version_major": 2,
       "version_minor": 0,
       "model_id": "34d2860d7d4c4ec8b7ff201d1999d18b"
      },
      "text/plain": [
       "Fov bins loop:   0%|          | 0/1 [00:00<?, ?it/s]"
      ]
     },
     "metadata": {}
    },
    {
     "output_type": "display_data",
     "data": {
      "application/vnd.jupyter.widget-view+json": {
       "version_major": 2,
       "version_minor": 0,
       "model_id": "da69d6aa40174798bf17f563dede4f7b"
      },
      "text/plain": [
       "Energy bins loop: 0it [00:00, ?it/s]"
      ]
     },
     "metadata": {}
    }
   ],
   "metadata": {}
  },
  {
   "cell_type": "code",
   "execution_count": 30,
   "source": [
    "affectedSources = ag.freeSources('name == \"2AGLJ2254+1609\"', \"index\", True, show=True)"
   ],
   "outputs": [
    {
     "output_type": "stream",
     "name": "stdout",
     "text": [
      "\n",
      "-----------------------------------------------------------\u001b[1m\n",
      " Source name: 2AGLJ2254+1609 (PointSource)\u001b[0m\u001b[1m => sqrt(ts): 22.8362\u001b[0m\n",
      "  * \u001b[1mSpectrum type\u001b[0m: PowerLaw\n",
      "  * \u001b[1mFree parameters\u001b[0m: flux index\n",
      "  * \u001b[1mInitial source parameters\u001b[0m:\n",
      "\t- flux (ph/cm2s): 7.5094e-07\n",
      "\t- index : 2.20942\n",
      "\t- Source position (l,b): (86.1236, -38.1824)\n",
      "\t- Distance from map center (deg): 0.011\n",
      "  * \u001b[1mLast MLE analysis\u001b[0m (2022-02-09 10:27:24.269184):\n",
      "\t- flux (ph/cm2s): 7.5094e-07 +/- 0.0000e+00\n",
      "\t- index : 2.20942 +/- 0\n",
      "\t- upper limit(ph/cm2s): 7.50937e-07\n",
      "\t- ergLog(erg/cm2s): 1.20391e-10 +/- 0\n",
      "\t- galCoeff: [0.7] +/- [6.94429e-310]\n",
      "\t- isoCoeff: [9.39942] +/- [6.9443e-310]\n",
      "\t- exposure(cm2s): 27077100.0\n",
      "\t- exp-ratio: 0\n",
      "\t- L_peak: 86.1236\n",
      "\t- B_peak: -38.1824\n",
      "\t- Distance from start pos: 0\n",
      "\t- position:\n",
      "\t    - L: -1\n",
      "\t    - B: -1\n",
      "\t    - Distance from start pos: -1\n",
      "\t    - radius of circle: -1\n",
      "\t    - ellipse:\n",
      "\t\t  - a: -1\n",
      "\t\t  - b: -1\n",
      "\t\t  - phi: -1\n",
      "-----------------------------------------------------------\n"
     ]
    }
   ],
   "metadata": {}
  },
  {
   "cell_type": "code",
   "execution_count": 31,
   "source": [
    "ag.mle()"
   ],
   "outputs": [
    {
     "output_type": "execute_result",
     "data": {
      "text/plain": [
       "['/home/antonio/agilepy_analysis/username_3C454_3_20220209-102609/mle/1/analysis_product_2AGLJ2254+1609.source']"
      ]
     },
     "metadata": {},
     "execution_count": 31
    }
   ],
   "metadata": {}
  },
  {
   "cell_type": "code",
   "execution_count": 32,
   "source": [
    "selectedSources = ag.selectSources('flux > 0', show=True)"
   ],
   "outputs": [
    {
     "output_type": "stream",
     "name": "stdout",
     "text": [
      "\n",
      "-----------------------------------------------------------\u001b[1m\n",
      " Source name: 2AGLJ2254+1609 (PointSource)\u001b[0m\u001b[1m => sqrt(ts): 10.1306\u001b[0m\n",
      "  * \u001b[1mSpectrum type\u001b[0m: PowerLaw\n",
      "  * \u001b[1mFree parameters\u001b[0m: flux index\n",
      "  * \u001b[1mInitial source parameters\u001b[0m:\n",
      "\t- flux (ph/cm2s): 7.5094e-07 +/- 0.0000e+00\n",
      "\t- index : 2.20942 +/- 0\n",
      "\t- Source position (l,b): (86.1236, -38.1824)\n",
      "\t- Distance from map center (deg): 0.011\n",
      "  * \u001b[1mLast MLE analysis\u001b[0m (2022-02-09 10:30:06.113480):\n",
      "\t- flux (ph/cm2s): 7.0479e-06 +/- 9.6624e-07\n",
      "\t- index : 2.20942 +/- 0\n",
      "\t- upper limit(ph/cm2s): 9.39936e-06\n",
      "\t- ergLog(erg/cm2s): 1.12993e-09 +/- 1.54908e-10\n",
      "\t- galCoeff: [0.7, 0.7, 0.7, 0.7, 0.7]\n",
      "\t- isoCoeff: [6.5129, 3.2252, 0.945158, 7.92866e-11, 0.555784] +/- [0.449753, 0.192299, 0.0541729, 8.97827e-05, 0.00171535]\n",
      "\t- exposure(cm2s): 13875400.0\n",
      "\t- exp-ratio: 0\n",
      "\t- L_peak: 86.1236\n",
      "\t- B_peak: -38.1824\n",
      "\t- Distance from start pos: 0\n",
      "\t- position:\n",
      "\t    - L: -1\n",
      "\t    - B: -1\n",
      "\t    - Distance from start pos: -1\n",
      "\t    - radius of circle: -1\n",
      "\t    - ellipse:\n",
      "\t\t  - a: -1\n",
      "\t\t  - b: -1\n",
      "\t\t  - phi: -1\n",
      "-----------------------------------------------------------\n"
     ]
    }
   ],
   "metadata": {}
  },
  {
   "cell_type": "code",
   "execution_count": 33,
   "source": [
    "ag.setOptions(energybins=[[100, 50000]])\n",
    "ag.setOptions(galcoeff=[0.7])\n",
    "affectedSources = ag.freeSources('name == \"2AGLJ2254+1609\"', \"index\", False, show=False)\n",
    "affectedSources = ag.freeSources('name == \"2AGLJ2254+1609\"', \"pos\", True, show=True)\n",
    "#selectedSources = ag.selectSources('flux > 0', show=True)\n",
    "lightCurveData1 = ag.lightCurveMLE(\"2AGLJ2254+1609\", tmin=55513.0, tmax=55517.0, timetype=\"MJD\", binsize=86400)"
   ],
   "outputs": [
    {
     "output_type": "stream",
     "name": "stdout",
     "text": [
      "\n",
      "-----------------------------------------------------------\u001b[1m\n",
      " Source name: 2AGLJ2254+1609 (PointSource)\u001b[0m\u001b[1m => sqrt(ts): 10.1306\u001b[0m\n",
      "  * \u001b[1mSpectrum type\u001b[0m: PowerLaw\n",
      "  * \u001b[1mFree parameters\u001b[0m: flux pos\n",
      "  * \u001b[1mInitial source parameters\u001b[0m:\n",
      "\t- flux (ph/cm2s): 7.5094e-07 +/- 0.0000e+00\n",
      "\t- index : 2.20942 +/- 0\n",
      "\t- Source position (l,b): (86.1236, -38.1824)\n",
      "\t- Distance from map center (deg): 0.011\n",
      "  * \u001b[1mLast MLE analysis\u001b[0m (2022-02-09 10:30:06.113480):\n",
      "\t- flux (ph/cm2s): 7.0479e-06 +/- 9.6624e-07\n",
      "\t- index : 2.20942 +/- 0\n",
      "\t- upper limit(ph/cm2s): 9.39936e-06\n",
      "\t- ergLog(erg/cm2s): 1.12993e-09 +/- 1.54908e-10\n",
      "\t- galCoeff: [0.7, 0.7, 0.7, 0.7, 0.7]\n",
      "\t- isoCoeff: [6.5129, 3.2252, 0.945158, 7.92866e-11, 0.555784] +/- [0.449753, 0.192299, 0.0541729, 8.97827e-05, 0.00171535]\n",
      "\t- exposure(cm2s): 13875400.0\n",
      "\t- exp-ratio: 0\n",
      "\t- L_peak: 86.1236\n",
      "\t- B_peak: -38.1824\n",
      "\t- Distance from start pos: 0\n",
      "\t- position:\n",
      "\t    - L: -1\n",
      "\t    - B: -1\n",
      "\t    - Distance from start pos: -1\n",
      "\t    - radius of circle: -1\n",
      "\t    - ellipse:\n",
      "\t\t  - a: -1\n",
      "\t\t  - b: -1\n",
      "\t\t  - phi: -1\n",
      "-----------------------------------------------------------\n",
      "Computing light curve bins..please wait.\n"
     ]
    },
    {
     "output_type": "display_data",
     "data": {
      "application/vnd.jupyter.widget-view+json": {
       "version_major": 2,
       "version_minor": 0,
       "model_id": "350aefc68982439296d199cfa1e5b6f0"
      },
      "text/plain": [
       "Temporal bin loop:   0%|          | 0/4 [00:00<?, ?it/s]"
      ]
     },
     "metadata": {}
    },
    {
     "output_type": "stream",
     "name": "stdout",
     "text": [
      "Generating maps..please wait.\n"
     ]
    },
    {
     "output_type": "display_data",
     "data": {
      "application/vnd.jupyter.widget-view+json": {
       "version_major": 2,
       "version_minor": 0,
       "model_id": "d566114f3735423f909eb7498bd4d536"
      },
      "text/plain": [
       "Fov bins loop:   0%|          | 0/1 [00:00<?, ?it/s]"
      ]
     },
     "metadata": {}
    },
    {
     "output_type": "display_data",
     "data": {
      "application/vnd.jupyter.widget-view+json": {
       "version_major": 2,
       "version_minor": 0,
       "model_id": "2ff06d533e1442ec9217850f755bd268"
      },
      "text/plain": [
       "Energy bins loop: 0it [00:00, ?it/s]"
      ]
     },
     "metadata": {}
    },
    {
     "output_type": "stream",
     "name": "stdout",
     "text": [
      "Generating maps..please wait.\n"
     ]
    },
    {
     "output_type": "display_data",
     "data": {
      "application/vnd.jupyter.widget-view+json": {
       "version_major": 2,
       "version_minor": 0,
       "model_id": "874ac318fbe74676a27c4ebe16d0a74e"
      },
      "text/plain": [
       "Fov bins loop:   0%|          | 0/1 [00:00<?, ?it/s]"
      ]
     },
     "metadata": {}
    },
    {
     "output_type": "display_data",
     "data": {
      "application/vnd.jupyter.widget-view+json": {
       "version_major": 2,
       "version_minor": 0,
       "model_id": "a7265edf43674c14a0c583b0ea533a7c"
      },
      "text/plain": [
       "Energy bins loop: 0it [00:00, ?it/s]"
      ]
     },
     "metadata": {}
    },
    {
     "output_type": "stream",
     "name": "stdout",
     "text": [
      "Generating maps..please wait.\n"
     ]
    },
    {
     "output_type": "display_data",
     "data": {
      "application/vnd.jupyter.widget-view+json": {
       "version_major": 2,
       "version_minor": 0,
       "model_id": "3646f90384104125811650b91b9cb951"
      },
      "text/plain": [
       "Fov bins loop:   0%|          | 0/1 [00:00<?, ?it/s]"
      ]
     },
     "metadata": {}
    },
    {
     "output_type": "display_data",
     "data": {
      "application/vnd.jupyter.widget-view+json": {
       "version_major": 2,
       "version_minor": 0,
       "model_id": "cf2f903bd603426697088bd29115ce13"
      },
      "text/plain": [
       "Energy bins loop: 0it [00:00, ?it/s]"
      ]
     },
     "metadata": {}
    },
    {
     "output_type": "stream",
     "name": "stdout",
     "text": [
      "Generating maps..please wait.\n"
     ]
    },
    {
     "output_type": "display_data",
     "data": {
      "application/vnd.jupyter.widget-view+json": {
       "version_major": 2,
       "version_minor": 0,
       "model_id": "7287306dfdf247f69c3f94e33c2ff0b7"
      },
      "text/plain": [
       "Fov bins loop:   0%|          | 0/1 [00:00<?, ?it/s]"
      ]
     },
     "metadata": {}
    },
    {
     "output_type": "display_data",
     "data": {
      "application/vnd.jupyter.widget-view+json": {
       "version_major": 2,
       "version_minor": 0,
       "model_id": "8e8bd360ed8a4fd7807549caa7c8252c"
      },
      "text/plain": [
       "Energy bins loop: 0it [00:00, ?it/s]"
      ]
     },
     "metadata": {}
    }
   ],
   "metadata": {}
  },
  {
   "cell_type": "code",
   "execution_count": 34,
   "source": [
    "print(lightCurveData1)\n",
    "ag.displayLightCurve(\"mle\")"
   ],
   "outputs": [
    {
     "output_type": "stream",
     "name": "stdout",
     "text": [
      "/home/antonio/agilepy_analysis/username_3C454_3_20220209-102609/lc/2/light_curve_216691200_217036800.txt\n",
      "Generating plot..please wait.\n"
     ]
    },
    {
     "output_type": "display_data",
     "data": {
      "application/vnd.plotly.v1+json": {
       "data": [
        {
         "customdata": [
          [
           55513,
           55514,
           4.35773
          ],
          [
           55514,
           55515,
           5.3013900000000005
          ],
          [
           55515,
           55516,
           5.34816
          ],
          [
           55516,
           55517,
           5.446280000000001
          ]
         ],
         "error_x": {
          "array": [
           0.5,
           0.5,
           0.5,
           0.5
          ],
          "arrayminus": [
           0.5,
           0.5,
           0.5,
           0.5
          ],
          "symmetric": false,
          "type": "data"
         },
         "error_y": {
          "array": [
           190.593,
           199.55499999999998,
           234.95199999999997,
           240.71200000000005
          ],
          "symmetric": true,
          "type": "data"
         },
         "hovertemplate": "tstart: %{customdata[0]:.4f} - tend:%{customdata[1]:.4f}, flux: %{y:.2f} +/- %{error_y.array:.2f}, sqrts: %{customdata[2]:.4f}",
         "mode": "markers",
         "name": "flux",
         "x": [
          55513.5,
          55514.5,
          55515.5,
          55516.5
         ],
         "y": [
          501.264,
          667.681,
          783.5089999999998,
          823.87
         ],
         "type": "scatter"
        },
        {
         "customdata": [],
         "error_x": {
          "array": [],
          "arrayminus": [],
          "symmetric": false,
          "type": "data"
         },
         "hovertemplate": "tstart: %{customdata[0]:.4f}, tend:%{customdata[1]:.4f}, flux_ul: %{y:.2f}, sqrts: %{customdata[2]:.4f}",
         "marker": {
          "size": 10,
          "symbol": "triangle-down"
         },
         "mode": "markers",
         "name": "flux_ul",
         "x": [],
         "y": [],
         "type": "scatter"
        }
       ],
       "layout": {
        "template": {
         "data": {
          "bar": [
           {
            "error_x": {
             "color": "#2a3f5f"
            },
            "error_y": {
             "color": "#2a3f5f"
            },
            "marker": {
             "line": {
              "color": "#E5ECF6",
              "width": 0.5
             },
             "pattern": {
              "fillmode": "overlay",
              "size": 10,
              "solidity": 0.2
             }
            },
            "type": "bar"
           }
          ],
          "barpolar": [
           {
            "marker": {
             "line": {
              "color": "#E5ECF6",
              "width": 0.5
             },
             "pattern": {
              "fillmode": "overlay",
              "size": 10,
              "solidity": 0.2
             }
            },
            "type": "barpolar"
           }
          ],
          "carpet": [
           {
            "aaxis": {
             "endlinecolor": "#2a3f5f",
             "gridcolor": "white",
             "linecolor": "white",
             "minorgridcolor": "white",
             "startlinecolor": "#2a3f5f"
            },
            "baxis": {
             "endlinecolor": "#2a3f5f",
             "gridcolor": "white",
             "linecolor": "white",
             "minorgridcolor": "white",
             "startlinecolor": "#2a3f5f"
            },
            "type": "carpet"
           }
          ],
          "choropleth": [
           {
            "colorbar": {
             "outlinewidth": 0,
             "ticks": ""
            },
            "type": "choropleth"
           }
          ],
          "contour": [
           {
            "colorbar": {
             "outlinewidth": 0,
             "ticks": ""
            },
            "colorscale": [
             [
              0,
              "#0d0887"
             ],
             [
              0.1111111111111111,
              "#46039f"
             ],
             [
              0.2222222222222222,
              "#7201a8"
             ],
             [
              0.3333333333333333,
              "#9c179e"
             ],
             [
              0.4444444444444444,
              "#bd3786"
             ],
             [
              0.5555555555555556,
              "#d8576b"
             ],
             [
              0.6666666666666666,
              "#ed7953"
             ],
             [
              0.7777777777777778,
              "#fb9f3a"
             ],
             [
              0.8888888888888888,
              "#fdca26"
             ],
             [
              1,
              "#f0f921"
             ]
            ],
            "type": "contour"
           }
          ],
          "contourcarpet": [
           {
            "colorbar": {
             "outlinewidth": 0,
             "ticks": ""
            },
            "type": "contourcarpet"
           }
          ],
          "heatmap": [
           {
            "colorbar": {
             "outlinewidth": 0,
             "ticks": ""
            },
            "colorscale": [
             [
              0,
              "#0d0887"
             ],
             [
              0.1111111111111111,
              "#46039f"
             ],
             [
              0.2222222222222222,
              "#7201a8"
             ],
             [
              0.3333333333333333,
              "#9c179e"
             ],
             [
              0.4444444444444444,
              "#bd3786"
             ],
             [
              0.5555555555555556,
              "#d8576b"
             ],
             [
              0.6666666666666666,
              "#ed7953"
             ],
             [
              0.7777777777777778,
              "#fb9f3a"
             ],
             [
              0.8888888888888888,
              "#fdca26"
             ],
             [
              1,
              "#f0f921"
             ]
            ],
            "type": "heatmap"
           }
          ],
          "heatmapgl": [
           {
            "colorbar": {
             "outlinewidth": 0,
             "ticks": ""
            },
            "colorscale": [
             [
              0,
              "#0d0887"
             ],
             [
              0.1111111111111111,
              "#46039f"
             ],
             [
              0.2222222222222222,
              "#7201a8"
             ],
             [
              0.3333333333333333,
              "#9c179e"
             ],
             [
              0.4444444444444444,
              "#bd3786"
             ],
             [
              0.5555555555555556,
              "#d8576b"
             ],
             [
              0.6666666666666666,
              "#ed7953"
             ],
             [
              0.7777777777777778,
              "#fb9f3a"
             ],
             [
              0.8888888888888888,
              "#fdca26"
             ],
             [
              1,
              "#f0f921"
             ]
            ],
            "type": "heatmapgl"
           }
          ],
          "histogram": [
           {
            "marker": {
             "pattern": {
              "fillmode": "overlay",
              "size": 10,
              "solidity": 0.2
             }
            },
            "type": "histogram"
           }
          ],
          "histogram2d": [
           {
            "colorbar": {
             "outlinewidth": 0,
             "ticks": ""
            },
            "colorscale": [
             [
              0,
              "#0d0887"
             ],
             [
              0.1111111111111111,
              "#46039f"
             ],
             [
              0.2222222222222222,
              "#7201a8"
             ],
             [
              0.3333333333333333,
              "#9c179e"
             ],
             [
              0.4444444444444444,
              "#bd3786"
             ],
             [
              0.5555555555555556,
              "#d8576b"
             ],
             [
              0.6666666666666666,
              "#ed7953"
             ],
             [
              0.7777777777777778,
              "#fb9f3a"
             ],
             [
              0.8888888888888888,
              "#fdca26"
             ],
             [
              1,
              "#f0f921"
             ]
            ],
            "type": "histogram2d"
           }
          ],
          "histogram2dcontour": [
           {
            "colorbar": {
             "outlinewidth": 0,
             "ticks": ""
            },
            "colorscale": [
             [
              0,
              "#0d0887"
             ],
             [
              0.1111111111111111,
              "#46039f"
             ],
             [
              0.2222222222222222,
              "#7201a8"
             ],
             [
              0.3333333333333333,
              "#9c179e"
             ],
             [
              0.4444444444444444,
              "#bd3786"
             ],
             [
              0.5555555555555556,
              "#d8576b"
             ],
             [
              0.6666666666666666,
              "#ed7953"
             ],
             [
              0.7777777777777778,
              "#fb9f3a"
             ],
             [
              0.8888888888888888,
              "#fdca26"
             ],
             [
              1,
              "#f0f921"
             ]
            ],
            "type": "histogram2dcontour"
           }
          ],
          "mesh3d": [
           {
            "colorbar": {
             "outlinewidth": 0,
             "ticks": ""
            },
            "type": "mesh3d"
           }
          ],
          "parcoords": [
           {
            "line": {
             "colorbar": {
              "outlinewidth": 0,
              "ticks": ""
             }
            },
            "type": "parcoords"
           }
          ],
          "pie": [
           {
            "automargin": true,
            "type": "pie"
           }
          ],
          "scatter": [
           {
            "marker": {
             "colorbar": {
              "outlinewidth": 0,
              "ticks": ""
             }
            },
            "type": "scatter"
           }
          ],
          "scatter3d": [
           {
            "line": {
             "colorbar": {
              "outlinewidth": 0,
              "ticks": ""
             }
            },
            "marker": {
             "colorbar": {
              "outlinewidth": 0,
              "ticks": ""
             }
            },
            "type": "scatter3d"
           }
          ],
          "scattercarpet": [
           {
            "marker": {
             "colorbar": {
              "outlinewidth": 0,
              "ticks": ""
             }
            },
            "type": "scattercarpet"
           }
          ],
          "scattergeo": [
           {
            "marker": {
             "colorbar": {
              "outlinewidth": 0,
              "ticks": ""
             }
            },
            "type": "scattergeo"
           }
          ],
          "scattergl": [
           {
            "marker": {
             "colorbar": {
              "outlinewidth": 0,
              "ticks": ""
             }
            },
            "type": "scattergl"
           }
          ],
          "scattermapbox": [
           {
            "marker": {
             "colorbar": {
              "outlinewidth": 0,
              "ticks": ""
             }
            },
            "type": "scattermapbox"
           }
          ],
          "scatterpolar": [
           {
            "marker": {
             "colorbar": {
              "outlinewidth": 0,
              "ticks": ""
             }
            },
            "type": "scatterpolar"
           }
          ],
          "scatterpolargl": [
           {
            "marker": {
             "colorbar": {
              "outlinewidth": 0,
              "ticks": ""
             }
            },
            "type": "scatterpolargl"
           }
          ],
          "scatterternary": [
           {
            "marker": {
             "colorbar": {
              "outlinewidth": 0,
              "ticks": ""
             }
            },
            "type": "scatterternary"
           }
          ],
          "surface": [
           {
            "colorbar": {
             "outlinewidth": 0,
             "ticks": ""
            },
            "colorscale": [
             [
              0,
              "#0d0887"
             ],
             [
              0.1111111111111111,
              "#46039f"
             ],
             [
              0.2222222222222222,
              "#7201a8"
             ],
             [
              0.3333333333333333,
              "#9c179e"
             ],
             [
              0.4444444444444444,
              "#bd3786"
             ],
             [
              0.5555555555555556,
              "#d8576b"
             ],
             [
              0.6666666666666666,
              "#ed7953"
             ],
             [
              0.7777777777777778,
              "#fb9f3a"
             ],
             [
              0.8888888888888888,
              "#fdca26"
             ],
             [
              1,
              "#f0f921"
             ]
            ],
            "type": "surface"
           }
          ],
          "table": [
           {
            "cells": {
             "fill": {
              "color": "#EBF0F8"
             },
             "line": {
              "color": "white"
             }
            },
            "header": {
             "fill": {
              "color": "#C8D4E3"
             },
             "line": {
              "color": "white"
             }
            },
            "type": "table"
           }
          ]
         },
         "layout": {
          "annotationdefaults": {
           "arrowcolor": "#2a3f5f",
           "arrowhead": 0,
           "arrowwidth": 1
          },
          "autotypenumbers": "strict",
          "coloraxis": {
           "colorbar": {
            "outlinewidth": 0,
            "ticks": ""
           }
          },
          "colorscale": {
           "diverging": [
            [
             0,
             "#8e0152"
            ],
            [
             0.1,
             "#c51b7d"
            ],
            [
             0.2,
             "#de77ae"
            ],
            [
             0.3,
             "#f1b6da"
            ],
            [
             0.4,
             "#fde0ef"
            ],
            [
             0.5,
             "#f7f7f7"
            ],
            [
             0.6,
             "#e6f5d0"
            ],
            [
             0.7,
             "#b8e186"
            ],
            [
             0.8,
             "#7fbc41"
            ],
            [
             0.9,
             "#4d9221"
            ],
            [
             1,
             "#276419"
            ]
           ],
           "sequential": [
            [
             0,
             "#0d0887"
            ],
            [
             0.1111111111111111,
             "#46039f"
            ],
            [
             0.2222222222222222,
             "#7201a8"
            ],
            [
             0.3333333333333333,
             "#9c179e"
            ],
            [
             0.4444444444444444,
             "#bd3786"
            ],
            [
             0.5555555555555556,
             "#d8576b"
            ],
            [
             0.6666666666666666,
             "#ed7953"
            ],
            [
             0.7777777777777778,
             "#fb9f3a"
            ],
            [
             0.8888888888888888,
             "#fdca26"
            ],
            [
             1,
             "#f0f921"
            ]
           ],
           "sequentialminus": [
            [
             0,
             "#0d0887"
            ],
            [
             0.1111111111111111,
             "#46039f"
            ],
            [
             0.2222222222222222,
             "#7201a8"
            ],
            [
             0.3333333333333333,
             "#9c179e"
            ],
            [
             0.4444444444444444,
             "#bd3786"
            ],
            [
             0.5555555555555556,
             "#d8576b"
            ],
            [
             0.6666666666666666,
             "#ed7953"
            ],
            [
             0.7777777777777778,
             "#fb9f3a"
            ],
            [
             0.8888888888888888,
             "#fdca26"
            ],
            [
             1,
             "#f0f921"
            ]
           ]
          },
          "colorway": [
           "#636efa",
           "#EF553B",
           "#00cc96",
           "#ab63fa",
           "#FFA15A",
           "#19d3f3",
           "#FF6692",
           "#B6E880",
           "#FF97FF",
           "#FECB52"
          ],
          "font": {
           "color": "#2a3f5f"
          },
          "geo": {
           "bgcolor": "white",
           "lakecolor": "white",
           "landcolor": "#E5ECF6",
           "showlakes": true,
           "showland": true,
           "subunitcolor": "white"
          },
          "hoverlabel": {
           "align": "left"
          },
          "hovermode": "closest",
          "mapbox": {
           "style": "light"
          },
          "paper_bgcolor": "white",
          "plot_bgcolor": "#E5ECF6",
          "polar": {
           "angularaxis": {
            "gridcolor": "white",
            "linecolor": "white",
            "ticks": ""
           },
           "bgcolor": "#E5ECF6",
           "radialaxis": {
            "gridcolor": "white",
            "linecolor": "white",
            "ticks": ""
           }
          },
          "scene": {
           "xaxis": {
            "backgroundcolor": "#E5ECF6",
            "gridcolor": "white",
            "gridwidth": 2,
            "linecolor": "white",
            "showbackground": true,
            "ticks": "",
            "zerolinecolor": "white"
           },
           "yaxis": {
            "backgroundcolor": "#E5ECF6",
            "gridcolor": "white",
            "gridwidth": 2,
            "linecolor": "white",
            "showbackground": true,
            "ticks": "",
            "zerolinecolor": "white"
           },
           "zaxis": {
            "backgroundcolor": "#E5ECF6",
            "gridcolor": "white",
            "gridwidth": 2,
            "linecolor": "white",
            "showbackground": true,
            "ticks": "",
            "zerolinecolor": "white"
           }
          },
          "shapedefaults": {
           "line": {
            "color": "#2a3f5f"
           }
          },
          "ternary": {
           "aaxis": {
            "gridcolor": "white",
            "linecolor": "white",
            "ticks": ""
           },
           "baxis": {
            "gridcolor": "white",
            "linecolor": "white",
            "ticks": ""
           },
           "bgcolor": "#E5ECF6",
           "caxis": {
            "gridcolor": "white",
            "linecolor": "white",
            "ticks": ""
           }
          },
          "title": {
           "x": 0.05
          },
          "xaxis": {
           "automargin": true,
           "gridcolor": "white",
           "linecolor": "white",
           "ticks": "",
           "title": {
            "standoff": 15
           },
           "zerolinecolor": "white",
           "zerolinewidth": 2
          },
          "yaxis": {
           "automargin": true,
           "gridcolor": "white",
           "linecolor": "white",
           "ticks": "",
           "title": {
            "standoff": 15
           },
           "zerolinecolor": "white",
           "zerolinewidth": 2
          }
         }
        },
        "xaxis": {
         "showline": true,
         "linecolor": "black",
         "title": {
          "text": "Time(MJD)"
         },
         "tickformat": "g"
        },
        "yaxis": {
         "showline": true,
         "linecolor": "black",
         "title": {
          "text": "$10^{-8} ph cm^{-2} s^{-1}$"
         }
        },
        "legend": {
         "font": {
          "size": 17
         },
         "orientation": "h",
         "yanchor": "bottom",
         "y": 1.02,
         "xanchor": "left"
        }
       },
       "config": {
        "plotlyServerURL": "https://plot.ly"
       }
      }
     },
     "metadata": {}
    }
   ],
   "metadata": {}
  },
  {
   "cell_type": "markdown",
   "source": [
    "### Evaluation of spectral index of flare period 55517.00-55521.00"
   ],
   "metadata": {}
  },
  {
   "cell_type": "code",
   "execution_count": 35,
   "source": [
    "ag.setOptionTimeMJD(55517.0, 55521.0)\n",
    "ag.setOptions(energybins=[[100, 300], [300, 1000], [1000, 3000], [3000, 10000], [10000, 50000]])\n",
    "ag.setOptions(galcoeff=[0.7, 0.7, 0.7, 0.7, 0.7])\n",
    "ag.setOptions(isocoeff=[-1, -1, -1, -1, -1])"
   ],
   "outputs": [],
   "metadata": {}
  },
  {
   "cell_type": "code",
   "execution_count": 36,
   "source": [
    "maplistfile = ag.generateMaps()"
   ],
   "outputs": [
    {
     "output_type": "stream",
     "name": "stdout",
     "text": [
      "Generating maps..please wait.\n"
     ]
    },
    {
     "output_type": "display_data",
     "data": {
      "application/vnd.jupyter.widget-view+json": {
       "version_major": 2,
       "version_minor": 0,
       "model_id": "2da12694e2c740f1bdb27e3f2978bb96"
      },
      "text/plain": [
       "Fov bins loop:   0%|          | 0/1 [00:00<?, ?it/s]"
      ]
     },
     "metadata": {}
    },
    {
     "output_type": "display_data",
     "data": {
      "application/vnd.jupyter.widget-view+json": {
       "version_major": 2,
       "version_minor": 0,
       "model_id": "7dd8dc2ae020444ca4259978bee267ed"
      },
      "text/plain": [
       "Energy bins loop: 0it [00:00, ?it/s]"
      ]
     },
     "metadata": {}
    }
   ],
   "metadata": {}
  },
  {
   "cell_type": "code",
   "execution_count": 37,
   "source": [
    "affectedSources = ag.freeSources('name == \"2AGLJ2254+1609\"', \"index\", True, show=True)"
   ],
   "outputs": [
    {
     "output_type": "stream",
     "name": "stdout",
     "text": [
      "\n",
      "-----------------------------------------------------------\u001b[1m\n",
      " Source name: 2AGLJ2254+1609 (PointSource)\u001b[0m\u001b[1m => sqrt(ts): 10.1306\u001b[0m\n",
      "  * \u001b[1mSpectrum type\u001b[0m: PowerLaw\n",
      "  * \u001b[1mFree parameters\u001b[0m: flux index pos\n",
      "  * \u001b[1mInitial source parameters\u001b[0m:\n",
      "\t- flux (ph/cm2s): 7.5094e-07 +/- 0.0000e+00\n",
      "\t- index : 2.20942 +/- 0\n",
      "\t- Source position (l,b): (86.1236, -38.1824)\n",
      "\t- Distance from map center (deg): 0.011\n",
      "  * \u001b[1mLast MLE analysis\u001b[0m (2022-02-09 10:30:06.113480):\n",
      "\t- flux (ph/cm2s): 7.0479e-06 +/- 9.6624e-07\n",
      "\t- index : 2.20942 +/- 0\n",
      "\t- upper limit(ph/cm2s): 9.39936e-06\n",
      "\t- ergLog(erg/cm2s): 1.12993e-09 +/- 1.54908e-10\n",
      "\t- galCoeff: [0.7, 0.7, 0.7, 0.7, 0.7]\n",
      "\t- isoCoeff: [6.5129, 3.2252, 0.945158, 7.92866e-11, 0.555784] +/- [0.449753, 0.192299, 0.0541729, 8.97827e-05, 0.00171535]\n",
      "\t- exposure(cm2s): 13875400.0\n",
      "\t- exp-ratio: 0\n",
      "\t- L_peak: 86.1236\n",
      "\t- B_peak: -38.1824\n",
      "\t- Distance from start pos: 0\n",
      "\t- position:\n",
      "\t    - L: -1\n",
      "\t    - B: -1\n",
      "\t    - Distance from start pos: -1\n",
      "\t    - radius of circle: -1\n",
      "\t    - ellipse:\n",
      "\t\t  - a: -1\n",
      "\t\t  - b: -1\n",
      "\t\t  - phi: -1\n",
      "-----------------------------------------------------------\n"
     ]
    }
   ],
   "metadata": {}
  },
  {
   "cell_type": "code",
   "execution_count": 38,
   "source": [
    "ag.mle()"
   ],
   "outputs": [
    {
     "output_type": "execute_result",
     "data": {
      "text/plain": [
       "['/home/antonio/agilepy_analysis/username_3C454_3_20220209-102609/mle/2/analysis_product_2AGLJ2254+1609.source']"
      ]
     },
     "metadata": {},
     "execution_count": 38
    }
   ],
   "metadata": {}
  },
  {
   "cell_type": "code",
   "execution_count": 39,
   "source": [
    "selectedSources = ag.selectSources('flux > 0', show=True)"
   ],
   "outputs": [
    {
     "output_type": "stream",
     "name": "stdout",
     "text": [
      "\n",
      "-----------------------------------------------------------\u001b[1m\n",
      " Source name: 2AGLJ2254+1609 (PointSource)\u001b[0m\u001b[1m => sqrt(ts): 35.0285\u001b[0m\n",
      "  * \u001b[1mSpectrum type\u001b[0m: PowerLaw\n",
      "  * \u001b[1mFree parameters\u001b[0m: flux index pos\n",
      "  * \u001b[1mInitial source parameters\u001b[0m:\n",
      "\t- flux (ph/cm2s): 7.0479e-06 +/- 9.6624e-07\n",
      "\t- index : 2.20942 +/- 0\n",
      "\t- Source position (l,b): (86.1236, -38.1824)\n",
      "\t- Distance from map center (deg): 0.011\n",
      "  * \u001b[1mLast MLE analysis\u001b[0m (2022-02-09 10:32:34.823050):\n",
      "\t- flux (ph/cm2s): 4.5566e-05 +/- 2.0802e-06\n",
      "\t- index : 2.20942 +/- 0\n",
      "\t- upper limit(ph/cm2s): 5.03941e-05\n",
      "\t- ergLog(erg/cm2s): 7.30516e-09 +/- 3.33498e-10\n",
      "\t- galCoeff: [0.7, 0.7, 0.7, 0.7, 0.7]\n",
      "\t- isoCoeff: [3.74099, 3.41513, 0.438055, 0.103852, 1.30471] +/- [0.418333, 0.218521, 0.0944711, 0.0425787, 0.0263562]\n",
      "\t- exposure(cm2s): 13112000.0\n",
      "\t- exp-ratio: 0\n",
      "\t- L_peak: 86.0619\n",
      "\t- B_peak: -38.186\n",
      "\t- Distance from start pos: 0.0486717\n",
      "\t- position:\n",
      "\t    - L: 86.039\n",
      "\t    - B: -38.1814\n",
      "\t    - Distance from start pos: 0.0664737\n",
      "\t    - radius of circle: 0.124396\n",
      "\t    - ellipse:\n",
      "\t\t  - a: 0.122766\n",
      "\t\t  - b: 0.112557\n",
      "\t\t  - phi: -3.37698\n",
      "-----------------------------------------------------------\n"
     ]
    }
   ],
   "metadata": {}
  },
  {
   "cell_type": "code",
   "execution_count": 40,
   "source": [
    "ag.setOptions(energybins=[[100, 50000]])\n",
    "ag.setOptions(galcoeff=[0.7])\n",
    "affectedSources = ag.freeSources('name == \"2AGLJ2254+1609\"', \"index\", False, show=True)\n",
    "affectedSources = ag.freeSources('name == \"2AGLJ2254+1609\"', \"pos\", True, show=True)\n",
    "#selectedSources = ag.selectSources('flux > 0', show=True)\n",
    "lightCurveData2 = ag.lightCurveMLE(\"2AGLJ2254+1609\", tmin=55517.0, tmax=55521.0, timetype=\"MJD\", binsize=86400)"
   ],
   "outputs": [
    {
     "output_type": "stream",
     "name": "stdout",
     "text": [
      "\n",
      "-----------------------------------------------------------\u001b[1m\n",
      " Source name: 2AGLJ2254+1609 (PointSource)\u001b[0m\u001b[1m => sqrt(ts): 35.0285\u001b[0m\n",
      "  * \u001b[1mSpectrum type\u001b[0m: PowerLaw\n",
      "  * \u001b[1mFree parameters\u001b[0m: flux pos\n",
      "  * \u001b[1mInitial source parameters\u001b[0m:\n",
      "\t- flux (ph/cm2s): 7.0479e-06 +/- 9.6624e-07\n",
      "\t- index : 2.20942 +/- 0\n",
      "\t- Source position (l,b): (86.1236, -38.1824)\n",
      "\t- Distance from map center (deg): 0.011\n",
      "  * \u001b[1mLast MLE analysis\u001b[0m (2022-02-09 10:32:34.823050):\n",
      "\t- flux (ph/cm2s): 4.5566e-05 +/- 2.0802e-06\n",
      "\t- index : 2.20942 +/- 0\n",
      "\t- upper limit(ph/cm2s): 5.03941e-05\n",
      "\t- ergLog(erg/cm2s): 7.30516e-09 +/- 3.33498e-10\n",
      "\t- galCoeff: [0.7, 0.7, 0.7, 0.7, 0.7]\n",
      "\t- isoCoeff: [3.74099, 3.41513, 0.438055, 0.103852, 1.30471] +/- [0.418333, 0.218521, 0.0944711, 0.0425787, 0.0263562]\n",
      "\t- exposure(cm2s): 13112000.0\n",
      "\t- exp-ratio: 0\n",
      "\t- L_peak: 86.0619\n",
      "\t- B_peak: -38.186\n",
      "\t- Distance from start pos: 0.0486717\n",
      "\t- position:\n",
      "\t    - L: 86.039\n",
      "\t    - B: -38.1814\n",
      "\t    - Distance from start pos: 0.0664737\n",
      "\t    - radius of circle: 0.124396\n",
      "\t    - ellipse:\n",
      "\t\t  - a: 0.122766\n",
      "\t\t  - b: 0.112557\n",
      "\t\t  - phi: -3.37698\n",
      "-----------------------------------------------------------\n",
      "Computing light curve bins..please wait.\n"
     ]
    },
    {
     "output_type": "display_data",
     "data": {
      "application/vnd.jupyter.widget-view+json": {
       "version_major": 2,
       "version_minor": 0,
       "model_id": "74f6042d5ee74d16a7d23750516a101f"
      },
      "text/plain": [
       "Temporal bin loop:   0%|          | 0/4 [00:00<?, ?it/s]"
      ]
     },
     "metadata": {}
    },
    {
     "output_type": "stream",
     "name": "stdout",
     "text": [
      "Generating maps..please wait.\n"
     ]
    },
    {
     "output_type": "display_data",
     "data": {
      "application/vnd.jupyter.widget-view+json": {
       "version_major": 2,
       "version_minor": 0,
       "model_id": "ef9b8f30a9474600a87ba86dcb6b89c1"
      },
      "text/plain": [
       "Fov bins loop:   0%|          | 0/1 [00:00<?, ?it/s]"
      ]
     },
     "metadata": {}
    },
    {
     "output_type": "display_data",
     "data": {
      "application/vnd.jupyter.widget-view+json": {
       "version_major": 2,
       "version_minor": 0,
       "model_id": "67cc933305784915b3db8dfdce17b8b9"
      },
      "text/plain": [
       "Energy bins loop: 0it [00:00, ?it/s]"
      ]
     },
     "metadata": {}
    },
    {
     "output_type": "stream",
     "name": "stdout",
     "text": [
      "Generating maps..please wait.\n"
     ]
    },
    {
     "output_type": "display_data",
     "data": {
      "application/vnd.jupyter.widget-view+json": {
       "version_major": 2,
       "version_minor": 0,
       "model_id": "aaf7a03c617a4f01a519ffb8de4a57a9"
      },
      "text/plain": [
       "Fov bins loop:   0%|          | 0/1 [00:00<?, ?it/s]"
      ]
     },
     "metadata": {}
    },
    {
     "output_type": "display_data",
     "data": {
      "application/vnd.jupyter.widget-view+json": {
       "version_major": 2,
       "version_minor": 0,
       "model_id": "b4c8bc62fc5348c397108c51385f2ad2"
      },
      "text/plain": [
       "Energy bins loop: 0it [00:00, ?it/s]"
      ]
     },
     "metadata": {}
    },
    {
     "output_type": "stream",
     "name": "stdout",
     "text": [
      "Generating maps..please wait.\n"
     ]
    },
    {
     "output_type": "display_data",
     "data": {
      "application/vnd.jupyter.widget-view+json": {
       "version_major": 2,
       "version_minor": 0,
       "model_id": "11e87112b73147b3ba8f37a87b8af6c8"
      },
      "text/plain": [
       "Fov bins loop:   0%|          | 0/1 [00:00<?, ?it/s]"
      ]
     },
     "metadata": {}
    },
    {
     "output_type": "display_data",
     "data": {
      "application/vnd.jupyter.widget-view+json": {
       "version_major": 2,
       "version_minor": 0,
       "model_id": "06e64743bf6f41158d9bb103ca20dca5"
      },
      "text/plain": [
       "Energy bins loop: 0it [00:00, ?it/s]"
      ]
     },
     "metadata": {}
    },
    {
     "output_type": "stream",
     "name": "stdout",
     "text": [
      "Generating maps..please wait.\n"
     ]
    },
    {
     "output_type": "display_data",
     "data": {
      "application/vnd.jupyter.widget-view+json": {
       "version_major": 2,
       "version_minor": 0,
       "model_id": "027c4c5a06da45d78786bcf7fe4321d5"
      },
      "text/plain": [
       "Fov bins loop:   0%|          | 0/1 [00:00<?, ?it/s]"
      ]
     },
     "metadata": {}
    },
    {
     "output_type": "display_data",
     "data": {
      "application/vnd.jupyter.widget-view+json": {
       "version_major": 2,
       "version_minor": 0,
       "model_id": "9d3aabca02ff49e8bbae6fe7c5caf2e0"
      },
      "text/plain": [
       "Energy bins loop: 0it [00:00, ?it/s]"
      ]
     },
     "metadata": {}
    }
   ],
   "metadata": {
    "scrolled": false
   }
  },
  {
   "cell_type": "code",
   "execution_count": 41,
   "source": [
    "print(lightCurveData2)\n",
    "ag.displayLightCurve(\"mle\")"
   ],
   "outputs": [
    {
     "output_type": "stream",
     "name": "stdout",
     "text": [
      "/home/antonio/agilepy_analysis/username_3C454_3_20220209-102609/lc/3/light_curve_217036800_217382400.txt\n",
      "Generating plot..please wait.\n"
     ]
    },
    {
     "output_type": "display_data",
     "data": {
      "application/vnd.plotly.v1+json": {
       "data": [
        {
         "customdata": [
          [
           55517,
           55518,
           13.1287
          ],
          [
           55518,
           55519,
           19.2526
          ],
          [
           55519,
           55520,
           18.5162
          ],
          [
           55520,
           55521,
           19.2872
          ]
         ],
         "error_x": {
          "array": [
           0.5,
           0.5,
           0.5,
           0.5
          ],
          "arrayminus": [
           0.5,
           0.5,
           0.5,
           0.5
          ],
          "symmetric": false,
          "type": "data"
         },
         "error_y": {
          "array": [
           553.191,
           440.62,
           460.999,
           462.67199999999997
          ],
          "symmetric": true,
          "type": "data"
         },
         "hovertemplate": "tstart: %{customdata[0]:.4f} - tend:%{customdata[1]:.4f}, flux: %{y:.2f} +/- %{error_y.array:.2f}, sqrts: %{customdata[2]:.4f}",
         "mode": "markers",
         "name": "flux",
         "x": [
          55517.5,
          55518.5,
          55519.5,
          55520.5
         ],
         "y": [
          3957.58,
          4876.31,
          4740.17,
          4873.91
         ],
         "type": "scatter"
        },
        {
         "customdata": [],
         "error_x": {
          "array": [],
          "arrayminus": [],
          "symmetric": false,
          "type": "data"
         },
         "hovertemplate": "tstart: %{customdata[0]:.4f}, tend:%{customdata[1]:.4f}, flux_ul: %{y:.2f}, sqrts: %{customdata[2]:.4f}",
         "marker": {
          "size": 10,
          "symbol": "triangle-down"
         },
         "mode": "markers",
         "name": "flux_ul",
         "x": [],
         "y": [],
         "type": "scatter"
        }
       ],
       "layout": {
        "template": {
         "data": {
          "bar": [
           {
            "error_x": {
             "color": "#2a3f5f"
            },
            "error_y": {
             "color": "#2a3f5f"
            },
            "marker": {
             "line": {
              "color": "#E5ECF6",
              "width": 0.5
             },
             "pattern": {
              "fillmode": "overlay",
              "size": 10,
              "solidity": 0.2
             }
            },
            "type": "bar"
           }
          ],
          "barpolar": [
           {
            "marker": {
             "line": {
              "color": "#E5ECF6",
              "width": 0.5
             },
             "pattern": {
              "fillmode": "overlay",
              "size": 10,
              "solidity": 0.2
             }
            },
            "type": "barpolar"
           }
          ],
          "carpet": [
           {
            "aaxis": {
             "endlinecolor": "#2a3f5f",
             "gridcolor": "white",
             "linecolor": "white",
             "minorgridcolor": "white",
             "startlinecolor": "#2a3f5f"
            },
            "baxis": {
             "endlinecolor": "#2a3f5f",
             "gridcolor": "white",
             "linecolor": "white",
             "minorgridcolor": "white",
             "startlinecolor": "#2a3f5f"
            },
            "type": "carpet"
           }
          ],
          "choropleth": [
           {
            "colorbar": {
             "outlinewidth": 0,
             "ticks": ""
            },
            "type": "choropleth"
           }
          ],
          "contour": [
           {
            "colorbar": {
             "outlinewidth": 0,
             "ticks": ""
            },
            "colorscale": [
             [
              0,
              "#0d0887"
             ],
             [
              0.1111111111111111,
              "#46039f"
             ],
             [
              0.2222222222222222,
              "#7201a8"
             ],
             [
              0.3333333333333333,
              "#9c179e"
             ],
             [
              0.4444444444444444,
              "#bd3786"
             ],
             [
              0.5555555555555556,
              "#d8576b"
             ],
             [
              0.6666666666666666,
              "#ed7953"
             ],
             [
              0.7777777777777778,
              "#fb9f3a"
             ],
             [
              0.8888888888888888,
              "#fdca26"
             ],
             [
              1,
              "#f0f921"
             ]
            ],
            "type": "contour"
           }
          ],
          "contourcarpet": [
           {
            "colorbar": {
             "outlinewidth": 0,
             "ticks": ""
            },
            "type": "contourcarpet"
           }
          ],
          "heatmap": [
           {
            "colorbar": {
             "outlinewidth": 0,
             "ticks": ""
            },
            "colorscale": [
             [
              0,
              "#0d0887"
             ],
             [
              0.1111111111111111,
              "#46039f"
             ],
             [
              0.2222222222222222,
              "#7201a8"
             ],
             [
              0.3333333333333333,
              "#9c179e"
             ],
             [
              0.4444444444444444,
              "#bd3786"
             ],
             [
              0.5555555555555556,
              "#d8576b"
             ],
             [
              0.6666666666666666,
              "#ed7953"
             ],
             [
              0.7777777777777778,
              "#fb9f3a"
             ],
             [
              0.8888888888888888,
              "#fdca26"
             ],
             [
              1,
              "#f0f921"
             ]
            ],
            "type": "heatmap"
           }
          ],
          "heatmapgl": [
           {
            "colorbar": {
             "outlinewidth": 0,
             "ticks": ""
            },
            "colorscale": [
             [
              0,
              "#0d0887"
             ],
             [
              0.1111111111111111,
              "#46039f"
             ],
             [
              0.2222222222222222,
              "#7201a8"
             ],
             [
              0.3333333333333333,
              "#9c179e"
             ],
             [
              0.4444444444444444,
              "#bd3786"
             ],
             [
              0.5555555555555556,
              "#d8576b"
             ],
             [
              0.6666666666666666,
              "#ed7953"
             ],
             [
              0.7777777777777778,
              "#fb9f3a"
             ],
             [
              0.8888888888888888,
              "#fdca26"
             ],
             [
              1,
              "#f0f921"
             ]
            ],
            "type": "heatmapgl"
           }
          ],
          "histogram": [
           {
            "marker": {
             "pattern": {
              "fillmode": "overlay",
              "size": 10,
              "solidity": 0.2
             }
            },
            "type": "histogram"
           }
          ],
          "histogram2d": [
           {
            "colorbar": {
             "outlinewidth": 0,
             "ticks": ""
            },
            "colorscale": [
             [
              0,
              "#0d0887"
             ],
             [
              0.1111111111111111,
              "#46039f"
             ],
             [
              0.2222222222222222,
              "#7201a8"
             ],
             [
              0.3333333333333333,
              "#9c179e"
             ],
             [
              0.4444444444444444,
              "#bd3786"
             ],
             [
              0.5555555555555556,
              "#d8576b"
             ],
             [
              0.6666666666666666,
              "#ed7953"
             ],
             [
              0.7777777777777778,
              "#fb9f3a"
             ],
             [
              0.8888888888888888,
              "#fdca26"
             ],
             [
              1,
              "#f0f921"
             ]
            ],
            "type": "histogram2d"
           }
          ],
          "histogram2dcontour": [
           {
            "colorbar": {
             "outlinewidth": 0,
             "ticks": ""
            },
            "colorscale": [
             [
              0,
              "#0d0887"
             ],
             [
              0.1111111111111111,
              "#46039f"
             ],
             [
              0.2222222222222222,
              "#7201a8"
             ],
             [
              0.3333333333333333,
              "#9c179e"
             ],
             [
              0.4444444444444444,
              "#bd3786"
             ],
             [
              0.5555555555555556,
              "#d8576b"
             ],
             [
              0.6666666666666666,
              "#ed7953"
             ],
             [
              0.7777777777777778,
              "#fb9f3a"
             ],
             [
              0.8888888888888888,
              "#fdca26"
             ],
             [
              1,
              "#f0f921"
             ]
            ],
            "type": "histogram2dcontour"
           }
          ],
          "mesh3d": [
           {
            "colorbar": {
             "outlinewidth": 0,
             "ticks": ""
            },
            "type": "mesh3d"
           }
          ],
          "parcoords": [
           {
            "line": {
             "colorbar": {
              "outlinewidth": 0,
              "ticks": ""
             }
            },
            "type": "parcoords"
           }
          ],
          "pie": [
           {
            "automargin": true,
            "type": "pie"
           }
          ],
          "scatter": [
           {
            "marker": {
             "colorbar": {
              "outlinewidth": 0,
              "ticks": ""
             }
            },
            "type": "scatter"
           }
          ],
          "scatter3d": [
           {
            "line": {
             "colorbar": {
              "outlinewidth": 0,
              "ticks": ""
             }
            },
            "marker": {
             "colorbar": {
              "outlinewidth": 0,
              "ticks": ""
             }
            },
            "type": "scatter3d"
           }
          ],
          "scattercarpet": [
           {
            "marker": {
             "colorbar": {
              "outlinewidth": 0,
              "ticks": ""
             }
            },
            "type": "scattercarpet"
           }
          ],
          "scattergeo": [
           {
            "marker": {
             "colorbar": {
              "outlinewidth": 0,
              "ticks": ""
             }
            },
            "type": "scattergeo"
           }
          ],
          "scattergl": [
           {
            "marker": {
             "colorbar": {
              "outlinewidth": 0,
              "ticks": ""
             }
            },
            "type": "scattergl"
           }
          ],
          "scattermapbox": [
           {
            "marker": {
             "colorbar": {
              "outlinewidth": 0,
              "ticks": ""
             }
            },
            "type": "scattermapbox"
           }
          ],
          "scatterpolar": [
           {
            "marker": {
             "colorbar": {
              "outlinewidth": 0,
              "ticks": ""
             }
            },
            "type": "scatterpolar"
           }
          ],
          "scatterpolargl": [
           {
            "marker": {
             "colorbar": {
              "outlinewidth": 0,
              "ticks": ""
             }
            },
            "type": "scatterpolargl"
           }
          ],
          "scatterternary": [
           {
            "marker": {
             "colorbar": {
              "outlinewidth": 0,
              "ticks": ""
             }
            },
            "type": "scatterternary"
           }
          ],
          "surface": [
           {
            "colorbar": {
             "outlinewidth": 0,
             "ticks": ""
            },
            "colorscale": [
             [
              0,
              "#0d0887"
             ],
             [
              0.1111111111111111,
              "#46039f"
             ],
             [
              0.2222222222222222,
              "#7201a8"
             ],
             [
              0.3333333333333333,
              "#9c179e"
             ],
             [
              0.4444444444444444,
              "#bd3786"
             ],
             [
              0.5555555555555556,
              "#d8576b"
             ],
             [
              0.6666666666666666,
              "#ed7953"
             ],
             [
              0.7777777777777778,
              "#fb9f3a"
             ],
             [
              0.8888888888888888,
              "#fdca26"
             ],
             [
              1,
              "#f0f921"
             ]
            ],
            "type": "surface"
           }
          ],
          "table": [
           {
            "cells": {
             "fill": {
              "color": "#EBF0F8"
             },
             "line": {
              "color": "white"
             }
            },
            "header": {
             "fill": {
              "color": "#C8D4E3"
             },
             "line": {
              "color": "white"
             }
            },
            "type": "table"
           }
          ]
         },
         "layout": {
          "annotationdefaults": {
           "arrowcolor": "#2a3f5f",
           "arrowhead": 0,
           "arrowwidth": 1
          },
          "autotypenumbers": "strict",
          "coloraxis": {
           "colorbar": {
            "outlinewidth": 0,
            "ticks": ""
           }
          },
          "colorscale": {
           "diverging": [
            [
             0,
             "#8e0152"
            ],
            [
             0.1,
             "#c51b7d"
            ],
            [
             0.2,
             "#de77ae"
            ],
            [
             0.3,
             "#f1b6da"
            ],
            [
             0.4,
             "#fde0ef"
            ],
            [
             0.5,
             "#f7f7f7"
            ],
            [
             0.6,
             "#e6f5d0"
            ],
            [
             0.7,
             "#b8e186"
            ],
            [
             0.8,
             "#7fbc41"
            ],
            [
             0.9,
             "#4d9221"
            ],
            [
             1,
             "#276419"
            ]
           ],
           "sequential": [
            [
             0,
             "#0d0887"
            ],
            [
             0.1111111111111111,
             "#46039f"
            ],
            [
             0.2222222222222222,
             "#7201a8"
            ],
            [
             0.3333333333333333,
             "#9c179e"
            ],
            [
             0.4444444444444444,
             "#bd3786"
            ],
            [
             0.5555555555555556,
             "#d8576b"
            ],
            [
             0.6666666666666666,
             "#ed7953"
            ],
            [
             0.7777777777777778,
             "#fb9f3a"
            ],
            [
             0.8888888888888888,
             "#fdca26"
            ],
            [
             1,
             "#f0f921"
            ]
           ],
           "sequentialminus": [
            [
             0,
             "#0d0887"
            ],
            [
             0.1111111111111111,
             "#46039f"
            ],
            [
             0.2222222222222222,
             "#7201a8"
            ],
            [
             0.3333333333333333,
             "#9c179e"
            ],
            [
             0.4444444444444444,
             "#bd3786"
            ],
            [
             0.5555555555555556,
             "#d8576b"
            ],
            [
             0.6666666666666666,
             "#ed7953"
            ],
            [
             0.7777777777777778,
             "#fb9f3a"
            ],
            [
             0.8888888888888888,
             "#fdca26"
            ],
            [
             1,
             "#f0f921"
            ]
           ]
          },
          "colorway": [
           "#636efa",
           "#EF553B",
           "#00cc96",
           "#ab63fa",
           "#FFA15A",
           "#19d3f3",
           "#FF6692",
           "#B6E880",
           "#FF97FF",
           "#FECB52"
          ],
          "font": {
           "color": "#2a3f5f"
          },
          "geo": {
           "bgcolor": "white",
           "lakecolor": "white",
           "landcolor": "#E5ECF6",
           "showlakes": true,
           "showland": true,
           "subunitcolor": "white"
          },
          "hoverlabel": {
           "align": "left"
          },
          "hovermode": "closest",
          "mapbox": {
           "style": "light"
          },
          "paper_bgcolor": "white",
          "plot_bgcolor": "#E5ECF6",
          "polar": {
           "angularaxis": {
            "gridcolor": "white",
            "linecolor": "white",
            "ticks": ""
           },
           "bgcolor": "#E5ECF6",
           "radialaxis": {
            "gridcolor": "white",
            "linecolor": "white",
            "ticks": ""
           }
          },
          "scene": {
           "xaxis": {
            "backgroundcolor": "#E5ECF6",
            "gridcolor": "white",
            "gridwidth": 2,
            "linecolor": "white",
            "showbackground": true,
            "ticks": "",
            "zerolinecolor": "white"
           },
           "yaxis": {
            "backgroundcolor": "#E5ECF6",
            "gridcolor": "white",
            "gridwidth": 2,
            "linecolor": "white",
            "showbackground": true,
            "ticks": "",
            "zerolinecolor": "white"
           },
           "zaxis": {
            "backgroundcolor": "#E5ECF6",
            "gridcolor": "white",
            "gridwidth": 2,
            "linecolor": "white",
            "showbackground": true,
            "ticks": "",
            "zerolinecolor": "white"
           }
          },
          "shapedefaults": {
           "line": {
            "color": "#2a3f5f"
           }
          },
          "ternary": {
           "aaxis": {
            "gridcolor": "white",
            "linecolor": "white",
            "ticks": ""
           },
           "baxis": {
            "gridcolor": "white",
            "linecolor": "white",
            "ticks": ""
           },
           "bgcolor": "#E5ECF6",
           "caxis": {
            "gridcolor": "white",
            "linecolor": "white",
            "ticks": ""
           }
          },
          "title": {
           "x": 0.05
          },
          "xaxis": {
           "automargin": true,
           "gridcolor": "white",
           "linecolor": "white",
           "ticks": "",
           "title": {
            "standoff": 15
           },
           "zerolinecolor": "white",
           "zerolinewidth": 2
          },
          "yaxis": {
           "automargin": true,
           "gridcolor": "white",
           "linecolor": "white",
           "ticks": "",
           "title": {
            "standoff": 15
           },
           "zerolinecolor": "white",
           "zerolinewidth": 2
          }
         }
        },
        "xaxis": {
         "showline": true,
         "linecolor": "black",
         "title": {
          "text": "Time(MJD)"
         },
         "tickformat": "g"
        },
        "yaxis": {
         "showline": true,
         "linecolor": "black",
         "title": {
          "text": "$10^{-8} ph cm^{-2} s^{-1}$"
         }
        },
        "legend": {
         "font": {
          "size": 17
         },
         "orientation": "h",
         "yanchor": "bottom",
         "y": 1.02,
         "xanchor": "left"
        }
       },
       "config": {
        "plotlyServerURL": "https://plot.ly"
       }
      }
     },
     "metadata": {}
    }
   ],
   "metadata": {
    "scrolled": false
   }
  },
  {
   "cell_type": "markdown",
   "source": [
    "## Merge light curves"
   ],
   "metadata": {}
  },
  {
   "cell_type": "code",
   "execution_count": 42,
   "source": [
    "mergedfilename = \"/tmp/lightcurve3C.txt\""
   ],
   "outputs": [],
   "metadata": {}
  },
  {
   "cell_type": "code",
   "execution_count": 43,
   "source": [
    "! cat $lightCurveData1 > $mergedfilename\n",
    "! sed '1d' $lightCurveData2 >> $mergedfilename\n",
    "! cat $mergedfilename"
   ],
   "outputs": [
    {
     "output_type": "stream",
     "name": "stdout",
     "text": [
      "time_start_mjd time_end_mjd sqrt(ts) flux flux_err flux_ul gal gal_error iso iso_error l_peak b_peak dist_peak l b r ell_dist a b phi exposure ExpRatio counts counts_err Index Index_Err Par2 Par2_Err Par3 Par3_Err Erglog Erglog_Err Erglog_UL time_start_utc time_end_utc time_start_tt time_end_tt Fix index ULConfidenceLevel SrcLocConfLevel start_l start_b start_flux typefun par2 par3 galmode2 galmode2fit isomode2 isomode2fit edpcor fluxcor integratortype expratioEval expratio_minthr expratio_maxthr expratio_size Emin emax fovmin fovmax albedo binsize expstep phasecode fit_cts fit_fitstatus0 fit_fcn0 fit_edm0 fit_nvpar0 fit_nparx0 fit_iter0 fit_fitstatus1 fit_fcn1 fit_edm1 fit_nvpar1 fit_nparx1 fit_iter1 fit_Likelihood1\n",
      "55513.0 55514.0 4.35773 501.264e-08 190.593e-08 949.192e-08 0.7 0 11.9544 0.438187 85.9015 -37.9293 0.307634 86.1033 0.731962 0.817663 0.252925 0.80584 0.731962 34.2655 3472130.0 0 17.4045 6.61766 2.20942 0 0 0 0 0 8.03629e-10 3.05561e-10 1.52175e-09 2010-11-13T00:00:00.000 2010-11-14T00:00:00.000 216691200.0 216777600.0 3 2.20942 2 5.99147 86.1236 -38.1824 7.04792e-06 0 0 0 0 0 0 0 0.75 0 1 1 0 15 10 100 50000 0 60 80 0.5 0 6 58 0 182.455 9.66186e-10 1 8 25 0 172.96 1.93205e-06 2 8 25 226.802\n",
      "55514.0 55515.0 5.30139 667.681e-08 199.555e-08 1123.73e-08 0.7 0 6.47392 0.464487 85.5279 -37.8134 0.597125 85.3883 1.31955 1.07927 0.750298 0.776476 1.31955 -74.6541 3531230.0 0 23.5773 7.04674 2.20942 0 0 0 0 0 1.07043e-09 3.19928e-10 1.80157e-09 2010-11-14T00:00:00.000 2010-11-15T00:00:00.000 216777600.0 216864000.0 3 2.20942 2 5.99147 86.1236 -38.1824 7.04792e-06 0 0 0 0 0 0 0 0.75 0 1 1 0 15 10 100 50000 0 60 80 0.5 0 6 46 0 152.249 1.96155e-10 1 8 30 0 138.196 3.53791e-09 2 8 30 184.196\n",
      "55515.0 55516.0 5.34816 783.509e-08 234.952e-08 1318.38e-08 0.7 0 13.9068 0.452715 86.0532 -38.241 0.0805649 -1 -1 -1 -1 -1 -1 -1 3417240.0 0 26.7744 8.02887 2.20942 0 0 0 0 0 1.25613e-09 3.76676e-10 2.11364e-09 2010-11-15T00:00:00.000 2010-11-16T00:00:00.000 216864000.0 216950400.0 3 2.20942 2 5.99147 86.1236 -38.1824 7.04792e-06 0 0 0 0 0 0 0 0.75 0 1 1 0 15 10 100 50000 0 60 80 0.5 0 6 73 0 213.755 1.22659e-10 1 8 27 0 199.454 4.40829e-07 2 8 27 266.909\n",
      "55516.0 55517.0 5.44628 823.87e-08 240.712e-08 1364.81e-08 0.7 0 14.2839 0.484254 86.4432 -37.8489 0.417869 86.4052 0.552224 0.708764 0.460771 0.805296 0.552224 83.4546 3579240.0 0 29.4883 8.61569 2.20942 0 0 0 0 0 1.32083e-09 3.85912e-10 2.18807e-09 2010-11-16T00:00:00.000 2010-11-17T00:00:00.000 216950400.0 217036800.0 3 2.20942 2 5.99147 86.1236 -38.1824 7.04792e-06 0 0 0 0 0 0 0 0.75 0 1 1 0 15 10 100 50000 0 60 80 0.5 0 6 79 0 225.308 8.69987e-10 1 8 27 0 210.477 1.6139e-07 2 8 27 282.546\n",
      "55517.0 55518.0 13.1287 3957.58e-08 553.191e-08 5145.69e-08 0.7 0 4.37831 0.527533 86.253 -38.0686 0.152665 86.2068 0.304107 0.380111 0.122258 0.416597 0.304107 29.665 2163990.0 0 85.6414 11.971 2.20942 0 0 0 0 0 6.34481e-09 8.8688e-10 8.2496e-09 2010-11-17T00:00:00.000 2010-11-18T00:00:00.000 217036800.0 217123200.0 3 2.20942 2 5.99147 86.1236 -38.1824 4.55659e-05 0 0 0 0 0 0 0 0.75 0 1 1 0 15 10 100 50000 0 60 80 0.5 0 6 89 0 264.567 2.30963e-08 1 8 25 0 178.386 2.86247e-08 2 8 25 237.245\n",
      "55518.0 55519.0 19.2526 4876.31e-08 440.62e-08 5802.32e-08 0.7 0 4.79337 0.461079 86.0552 -38.2447 0.0823106 86.0493 0.304837 0.287586 0.101077 0.236053 0.304837 10.8974 3811480.0 0 185.859 16.7941 2.20942 0 0 0 0 0 7.81773e-09 7.06404e-10 9.30232e-09 2010-11-18T00:00:00.000 2010-11-19T00:00:00.000 217123200.0 217209600.0 3 2.20942 2 5.99147 86.1236 -38.1824 4.55659e-05 0 0 0 0 0 0 0 0.75 0 1 1 0 15 10 100 50000 0 60 80 0.5 0 6 190 0 452.12 2.64741e-08 1 8 25 0 266.788 9.48589e-07 2 8 25 362.947\n",
      "55519.0 55520.0 18.5162 4740.17e-08 460.999e-08 5711.36e-08 0.7 0 13.9793 0.460346 85.9423 -38.2593 0.161883 85.9072 0.227345 0.26868 0.192436 0.282619 0.227345 -9.80227 3713430.0 0 176.023 17.1189 2.20942 0 0 0 0 0 7.59947e-09 7.39076e-10 9.15649e-09 2010-11-19T00:00:00.000 2010-11-20T00:00:00.000 217209600.0 217296000.0 3 2.20942 2 5.99147 86.1236 -38.1824 4.55659e-05 0 0 0 0 0 0 0 0.75 0 1 1 0 15 10 100 50000 0 60 80 0.5 0 6 214 0 482.137 4.96826e-10 1 8 30 0 310.712 1.77081e-07 2 8 30 421.668\n",
      "55520.0 55521.0 19.2872 4873.91e-08 462.672e-08 5849.47e-08 0.7 0 6.20439 0.450454 86.113 -38.1855 0.00888293 86.1259 0.238901 0.259141 0.0105184 0.251791 0.238901 -2.26738 3475880.0 0 169.411 16.0819 2.20942 0 0 0 0 0 7.81388e-09 7.4176e-10 9.3779e-09 2010-11-20T00:00:00.000 2010-11-21T00:00:00.000 217296000.0 217382400.0 3 2.20942 2 5.99147 86.1236 -38.1824 4.55659e-05 0 0 0 0 0 0 0 0.75 0 1 1 0 15 10 100 50000 0 60 80 0.5 0 6 178 0 448.246 1.2515e-07 1 8 25 0 262.248 1.6517e-06 2 8 25 340.357\n"
     ]
    }
   ],
   "metadata": {}
  },
  {
   "cell_type": "code",
   "execution_count": 44,
   "source": [
    "ag.displayLightCurve(\"mle\", filename=mergedfilename)"
   ],
   "outputs": [
    {
     "output_type": "stream",
     "name": "stdout",
     "text": [
      "Generating plot..please wait.\n"
     ]
    },
    {
     "output_type": "display_data",
     "data": {
      "application/vnd.plotly.v1+json": {
       "data": [
        {
         "customdata": [
          [
           55513,
           55514,
           4.35773
          ],
          [
           55514,
           55515,
           5.3013900000000005
          ],
          [
           55515,
           55516,
           5.34816
          ],
          [
           55516,
           55517,
           5.446280000000001
          ],
          [
           55517,
           55518,
           13.1287
          ],
          [
           55518,
           55519,
           19.2526
          ],
          [
           55519,
           55520,
           18.5162
          ],
          [
           55520,
           55521,
           19.2872
          ]
         ],
         "error_x": {
          "array": [
           0.5,
           0.5,
           0.5,
           0.5,
           0.5,
           0.5,
           0.5,
           0.5
          ],
          "arrayminus": [
           0.5,
           0.5,
           0.5,
           0.5,
           0.5,
           0.5,
           0.5,
           0.5
          ],
          "symmetric": false,
          "type": "data"
         },
         "error_y": {
          "array": [
           190.593,
           199.55499999999998,
           234.95199999999997,
           240.71200000000005,
           553.191,
           440.62,
           460.999,
           462.67199999999997
          ],
          "symmetric": true,
          "type": "data"
         },
         "hovertemplate": "tstart: %{customdata[0]:.4f} - tend:%{customdata[1]:.4f}, flux: %{y:.2f} +/- %{error_y.array:.2f}, sqrts: %{customdata[2]:.4f}",
         "mode": "markers",
         "name": "flux",
         "x": [
          55513.5,
          55514.5,
          55515.5,
          55516.5,
          55517.5,
          55518.5,
          55519.5,
          55520.5
         ],
         "y": [
          501.264,
          667.681,
          783.5089999999998,
          823.87,
          3957.58,
          4876.31,
          4740.17,
          4873.91
         ],
         "type": "scatter"
        },
        {
         "customdata": [],
         "error_x": {
          "array": [],
          "arrayminus": [],
          "symmetric": false,
          "type": "data"
         },
         "hovertemplate": "tstart: %{customdata[0]:.4f}, tend:%{customdata[1]:.4f}, flux_ul: %{y:.2f}, sqrts: %{customdata[2]:.4f}",
         "marker": {
          "size": 10,
          "symbol": "triangle-down"
         },
         "mode": "markers",
         "name": "flux_ul",
         "x": [],
         "y": [],
         "type": "scatter"
        }
       ],
       "layout": {
        "template": {
         "data": {
          "bar": [
           {
            "error_x": {
             "color": "#2a3f5f"
            },
            "error_y": {
             "color": "#2a3f5f"
            },
            "marker": {
             "line": {
              "color": "#E5ECF6",
              "width": 0.5
             },
             "pattern": {
              "fillmode": "overlay",
              "size": 10,
              "solidity": 0.2
             }
            },
            "type": "bar"
           }
          ],
          "barpolar": [
           {
            "marker": {
             "line": {
              "color": "#E5ECF6",
              "width": 0.5
             },
             "pattern": {
              "fillmode": "overlay",
              "size": 10,
              "solidity": 0.2
             }
            },
            "type": "barpolar"
           }
          ],
          "carpet": [
           {
            "aaxis": {
             "endlinecolor": "#2a3f5f",
             "gridcolor": "white",
             "linecolor": "white",
             "minorgridcolor": "white",
             "startlinecolor": "#2a3f5f"
            },
            "baxis": {
             "endlinecolor": "#2a3f5f",
             "gridcolor": "white",
             "linecolor": "white",
             "minorgridcolor": "white",
             "startlinecolor": "#2a3f5f"
            },
            "type": "carpet"
           }
          ],
          "choropleth": [
           {
            "colorbar": {
             "outlinewidth": 0,
             "ticks": ""
            },
            "type": "choropleth"
           }
          ],
          "contour": [
           {
            "colorbar": {
             "outlinewidth": 0,
             "ticks": ""
            },
            "colorscale": [
             [
              0,
              "#0d0887"
             ],
             [
              0.1111111111111111,
              "#46039f"
             ],
             [
              0.2222222222222222,
              "#7201a8"
             ],
             [
              0.3333333333333333,
              "#9c179e"
             ],
             [
              0.4444444444444444,
              "#bd3786"
             ],
             [
              0.5555555555555556,
              "#d8576b"
             ],
             [
              0.6666666666666666,
              "#ed7953"
             ],
             [
              0.7777777777777778,
              "#fb9f3a"
             ],
             [
              0.8888888888888888,
              "#fdca26"
             ],
             [
              1,
              "#f0f921"
             ]
            ],
            "type": "contour"
           }
          ],
          "contourcarpet": [
           {
            "colorbar": {
             "outlinewidth": 0,
             "ticks": ""
            },
            "type": "contourcarpet"
           }
          ],
          "heatmap": [
           {
            "colorbar": {
             "outlinewidth": 0,
             "ticks": ""
            },
            "colorscale": [
             [
              0,
              "#0d0887"
             ],
             [
              0.1111111111111111,
              "#46039f"
             ],
             [
              0.2222222222222222,
              "#7201a8"
             ],
             [
              0.3333333333333333,
              "#9c179e"
             ],
             [
              0.4444444444444444,
              "#bd3786"
             ],
             [
              0.5555555555555556,
              "#d8576b"
             ],
             [
              0.6666666666666666,
              "#ed7953"
             ],
             [
              0.7777777777777778,
              "#fb9f3a"
             ],
             [
              0.8888888888888888,
              "#fdca26"
             ],
             [
              1,
              "#f0f921"
             ]
            ],
            "type": "heatmap"
           }
          ],
          "heatmapgl": [
           {
            "colorbar": {
             "outlinewidth": 0,
             "ticks": ""
            },
            "colorscale": [
             [
              0,
              "#0d0887"
             ],
             [
              0.1111111111111111,
              "#46039f"
             ],
             [
              0.2222222222222222,
              "#7201a8"
             ],
             [
              0.3333333333333333,
              "#9c179e"
             ],
             [
              0.4444444444444444,
              "#bd3786"
             ],
             [
              0.5555555555555556,
              "#d8576b"
             ],
             [
              0.6666666666666666,
              "#ed7953"
             ],
             [
              0.7777777777777778,
              "#fb9f3a"
             ],
             [
              0.8888888888888888,
              "#fdca26"
             ],
             [
              1,
              "#f0f921"
             ]
            ],
            "type": "heatmapgl"
           }
          ],
          "histogram": [
           {
            "marker": {
             "pattern": {
              "fillmode": "overlay",
              "size": 10,
              "solidity": 0.2
             }
            },
            "type": "histogram"
           }
          ],
          "histogram2d": [
           {
            "colorbar": {
             "outlinewidth": 0,
             "ticks": ""
            },
            "colorscale": [
             [
              0,
              "#0d0887"
             ],
             [
              0.1111111111111111,
              "#46039f"
             ],
             [
              0.2222222222222222,
              "#7201a8"
             ],
             [
              0.3333333333333333,
              "#9c179e"
             ],
             [
              0.4444444444444444,
              "#bd3786"
             ],
             [
              0.5555555555555556,
              "#d8576b"
             ],
             [
              0.6666666666666666,
              "#ed7953"
             ],
             [
              0.7777777777777778,
              "#fb9f3a"
             ],
             [
              0.8888888888888888,
              "#fdca26"
             ],
             [
              1,
              "#f0f921"
             ]
            ],
            "type": "histogram2d"
           }
          ],
          "histogram2dcontour": [
           {
            "colorbar": {
             "outlinewidth": 0,
             "ticks": ""
            },
            "colorscale": [
             [
              0,
              "#0d0887"
             ],
             [
              0.1111111111111111,
              "#46039f"
             ],
             [
              0.2222222222222222,
              "#7201a8"
             ],
             [
              0.3333333333333333,
              "#9c179e"
             ],
             [
              0.4444444444444444,
              "#bd3786"
             ],
             [
              0.5555555555555556,
              "#d8576b"
             ],
             [
              0.6666666666666666,
              "#ed7953"
             ],
             [
              0.7777777777777778,
              "#fb9f3a"
             ],
             [
              0.8888888888888888,
              "#fdca26"
             ],
             [
              1,
              "#f0f921"
             ]
            ],
            "type": "histogram2dcontour"
           }
          ],
          "mesh3d": [
           {
            "colorbar": {
             "outlinewidth": 0,
             "ticks": ""
            },
            "type": "mesh3d"
           }
          ],
          "parcoords": [
           {
            "line": {
             "colorbar": {
              "outlinewidth": 0,
              "ticks": ""
             }
            },
            "type": "parcoords"
           }
          ],
          "pie": [
           {
            "automargin": true,
            "type": "pie"
           }
          ],
          "scatter": [
           {
            "marker": {
             "colorbar": {
              "outlinewidth": 0,
              "ticks": ""
             }
            },
            "type": "scatter"
           }
          ],
          "scatter3d": [
           {
            "line": {
             "colorbar": {
              "outlinewidth": 0,
              "ticks": ""
             }
            },
            "marker": {
             "colorbar": {
              "outlinewidth": 0,
              "ticks": ""
             }
            },
            "type": "scatter3d"
           }
          ],
          "scattercarpet": [
           {
            "marker": {
             "colorbar": {
              "outlinewidth": 0,
              "ticks": ""
             }
            },
            "type": "scattercarpet"
           }
          ],
          "scattergeo": [
           {
            "marker": {
             "colorbar": {
              "outlinewidth": 0,
              "ticks": ""
             }
            },
            "type": "scattergeo"
           }
          ],
          "scattergl": [
           {
            "marker": {
             "colorbar": {
              "outlinewidth": 0,
              "ticks": ""
             }
            },
            "type": "scattergl"
           }
          ],
          "scattermapbox": [
           {
            "marker": {
             "colorbar": {
              "outlinewidth": 0,
              "ticks": ""
             }
            },
            "type": "scattermapbox"
           }
          ],
          "scatterpolar": [
           {
            "marker": {
             "colorbar": {
              "outlinewidth": 0,
              "ticks": ""
             }
            },
            "type": "scatterpolar"
           }
          ],
          "scatterpolargl": [
           {
            "marker": {
             "colorbar": {
              "outlinewidth": 0,
              "ticks": ""
             }
            },
            "type": "scatterpolargl"
           }
          ],
          "scatterternary": [
           {
            "marker": {
             "colorbar": {
              "outlinewidth": 0,
              "ticks": ""
             }
            },
            "type": "scatterternary"
           }
          ],
          "surface": [
           {
            "colorbar": {
             "outlinewidth": 0,
             "ticks": ""
            },
            "colorscale": [
             [
              0,
              "#0d0887"
             ],
             [
              0.1111111111111111,
              "#46039f"
             ],
             [
              0.2222222222222222,
              "#7201a8"
             ],
             [
              0.3333333333333333,
              "#9c179e"
             ],
             [
              0.4444444444444444,
              "#bd3786"
             ],
             [
              0.5555555555555556,
              "#d8576b"
             ],
             [
              0.6666666666666666,
              "#ed7953"
             ],
             [
              0.7777777777777778,
              "#fb9f3a"
             ],
             [
              0.8888888888888888,
              "#fdca26"
             ],
             [
              1,
              "#f0f921"
             ]
            ],
            "type": "surface"
           }
          ],
          "table": [
           {
            "cells": {
             "fill": {
              "color": "#EBF0F8"
             },
             "line": {
              "color": "white"
             }
            },
            "header": {
             "fill": {
              "color": "#C8D4E3"
             },
             "line": {
              "color": "white"
             }
            },
            "type": "table"
           }
          ]
         },
         "layout": {
          "annotationdefaults": {
           "arrowcolor": "#2a3f5f",
           "arrowhead": 0,
           "arrowwidth": 1
          },
          "autotypenumbers": "strict",
          "coloraxis": {
           "colorbar": {
            "outlinewidth": 0,
            "ticks": ""
           }
          },
          "colorscale": {
           "diverging": [
            [
             0,
             "#8e0152"
            ],
            [
             0.1,
             "#c51b7d"
            ],
            [
             0.2,
             "#de77ae"
            ],
            [
             0.3,
             "#f1b6da"
            ],
            [
             0.4,
             "#fde0ef"
            ],
            [
             0.5,
             "#f7f7f7"
            ],
            [
             0.6,
             "#e6f5d0"
            ],
            [
             0.7,
             "#b8e186"
            ],
            [
             0.8,
             "#7fbc41"
            ],
            [
             0.9,
             "#4d9221"
            ],
            [
             1,
             "#276419"
            ]
           ],
           "sequential": [
            [
             0,
             "#0d0887"
            ],
            [
             0.1111111111111111,
             "#46039f"
            ],
            [
             0.2222222222222222,
             "#7201a8"
            ],
            [
             0.3333333333333333,
             "#9c179e"
            ],
            [
             0.4444444444444444,
             "#bd3786"
            ],
            [
             0.5555555555555556,
             "#d8576b"
            ],
            [
             0.6666666666666666,
             "#ed7953"
            ],
            [
             0.7777777777777778,
             "#fb9f3a"
            ],
            [
             0.8888888888888888,
             "#fdca26"
            ],
            [
             1,
             "#f0f921"
            ]
           ],
           "sequentialminus": [
            [
             0,
             "#0d0887"
            ],
            [
             0.1111111111111111,
             "#46039f"
            ],
            [
             0.2222222222222222,
             "#7201a8"
            ],
            [
             0.3333333333333333,
             "#9c179e"
            ],
            [
             0.4444444444444444,
             "#bd3786"
            ],
            [
             0.5555555555555556,
             "#d8576b"
            ],
            [
             0.6666666666666666,
             "#ed7953"
            ],
            [
             0.7777777777777778,
             "#fb9f3a"
            ],
            [
             0.8888888888888888,
             "#fdca26"
            ],
            [
             1,
             "#f0f921"
            ]
           ]
          },
          "colorway": [
           "#636efa",
           "#EF553B",
           "#00cc96",
           "#ab63fa",
           "#FFA15A",
           "#19d3f3",
           "#FF6692",
           "#B6E880",
           "#FF97FF",
           "#FECB52"
          ],
          "font": {
           "color": "#2a3f5f"
          },
          "geo": {
           "bgcolor": "white",
           "lakecolor": "white",
           "landcolor": "#E5ECF6",
           "showlakes": true,
           "showland": true,
           "subunitcolor": "white"
          },
          "hoverlabel": {
           "align": "left"
          },
          "hovermode": "closest",
          "mapbox": {
           "style": "light"
          },
          "paper_bgcolor": "white",
          "plot_bgcolor": "#E5ECF6",
          "polar": {
           "angularaxis": {
            "gridcolor": "white",
            "linecolor": "white",
            "ticks": ""
           },
           "bgcolor": "#E5ECF6",
           "radialaxis": {
            "gridcolor": "white",
            "linecolor": "white",
            "ticks": ""
           }
          },
          "scene": {
           "xaxis": {
            "backgroundcolor": "#E5ECF6",
            "gridcolor": "white",
            "gridwidth": 2,
            "linecolor": "white",
            "showbackground": true,
            "ticks": "",
            "zerolinecolor": "white"
           },
           "yaxis": {
            "backgroundcolor": "#E5ECF6",
            "gridcolor": "white",
            "gridwidth": 2,
            "linecolor": "white",
            "showbackground": true,
            "ticks": "",
            "zerolinecolor": "white"
           },
           "zaxis": {
            "backgroundcolor": "#E5ECF6",
            "gridcolor": "white",
            "gridwidth": 2,
            "linecolor": "white",
            "showbackground": true,
            "ticks": "",
            "zerolinecolor": "white"
           }
          },
          "shapedefaults": {
           "line": {
            "color": "#2a3f5f"
           }
          },
          "ternary": {
           "aaxis": {
            "gridcolor": "white",
            "linecolor": "white",
            "ticks": ""
           },
           "baxis": {
            "gridcolor": "white",
            "linecolor": "white",
            "ticks": ""
           },
           "bgcolor": "#E5ECF6",
           "caxis": {
            "gridcolor": "white",
            "linecolor": "white",
            "ticks": ""
           }
          },
          "title": {
           "x": 0.05
          },
          "xaxis": {
           "automargin": true,
           "gridcolor": "white",
           "linecolor": "white",
           "ticks": "",
           "title": {
            "standoff": 15
           },
           "zerolinecolor": "white",
           "zerolinewidth": 2
          },
          "yaxis": {
           "automargin": true,
           "gridcolor": "white",
           "linecolor": "white",
           "ticks": "",
           "title": {
            "standoff": 15
           },
           "zerolinecolor": "white",
           "zerolinewidth": 2
          }
         }
        },
        "xaxis": {
         "showline": true,
         "linecolor": "black",
         "title": {
          "text": "Time(MJD)"
         },
         "tickformat": "g"
        },
        "yaxis": {
         "showline": true,
         "linecolor": "black",
         "title": {
          "text": "$10^{-8} ph cm^{-2} s^{-1}$"
         }
        },
        "legend": {
         "font": {
          "size": 17
         },
         "orientation": "h",
         "yanchor": "bottom",
         "y": 1.02,
         "xanchor": "left"
        }
       },
       "config": {
        "plotlyServerURL": "https://plot.ly"
       }
      }
     },
     "metadata": {}
    }
   ],
   "metadata": {}
  },
  {
   "cell_type": "markdown",
   "source": [
    "## Display additional fields"
   ],
   "metadata": {}
  },
  {
   "cell_type": "markdown",
   "source": [
    "time_start_mjd time_end_mjd sqrt(ts) flux flux_err flux_ul gal gal_error iso iso_error l_peak b_peak dist_peak l b r ell_dist a b phi exposure ExpRatio counts counts_err Index Index_Err Par2 Par2_Err Par3 Par3_Err Erglog Erglog_Err Erglog_UL time_start_utc time_end_utc time_start_tt time_end_tt Fix index ULConfidenceLevel SrcLocConfLevel start_l start_b start_flux typefun par2 par3 galmode2 galmode2fit isomode2 isomode2fit edpcor fluxcor integratortype expratioEval expratio_minthr expratio_maxthr expratio_size Emin emax fovmin fovmax albedo binsize expstep phasecode"
   ],
   "metadata": {}
  },
  {
   "cell_type": "code",
   "execution_count": 45,
   "source": [
    "ag.displayGenericColumns(mergedfilename, [\"exposure\"], um=[\"cm^2 s sr\"])"
   ],
   "outputs": [
    {
     "output_type": "display_data",
     "data": {
      "application/vnd.plotly.v1+json": {
       "data": [
        {
         "customdata": [
          [
           55513,
           55514,
           4.35773
          ],
          [
           55514,
           55515,
           5.3013900000000005
          ],
          [
           55515,
           55516,
           5.34816
          ],
          [
           55516,
           55517,
           5.446280000000001
          ],
          [
           55517,
           55518,
           13.1287
          ],
          [
           55518,
           55519,
           19.2526
          ],
          [
           55519,
           55520,
           18.5162
          ],
          [
           55520,
           55521,
           19.2872
          ]
         ],
         "error_x": {
          "array": [
           0.5,
           0.5,
           0.5,
           0.5,
           0.5,
           0.5,
           0.5,
           0.5
          ],
          "arrayminus": [
           0.5,
           0.5,
           0.5,
           0.5,
           0.5,
           0.5,
           0.5,
           0.5
          ],
          "symmetric": false,
          "type": "data"
         },
         "error_y": {
          "array": [
           190.593,
           199.55499999999998,
           234.95199999999997,
           240.71200000000005,
           553.191,
           440.62,
           460.999,
           462.67199999999997
          ],
          "symmetric": true,
          "type": "data"
         },
         "hovertemplate": "tstart: %{customdata[0]:.4f} - tend:%{customdata[1]:.4f}, flux: %{y:.2f} +/- %{error_y.array:.2f}, sqrts: %{customdata[2]:.4f}",
         "mode": "markers",
         "name": "flux",
         "x": [
          55513.5,
          55514.5,
          55515.5,
          55516.5,
          55517.5,
          55518.5,
          55519.5,
          55520.5
         ],
         "y": [
          501.264,
          667.681,
          783.5089999999998,
          823.87,
          3957.58,
          4876.31,
          4740.17,
          4873.91
         ],
         "type": "scatter",
         "xaxis": "x",
         "yaxis": "y"
        },
        {
         "customdata": [],
         "error_x": {
          "array": [],
          "arrayminus": [],
          "symmetric": false,
          "type": "data"
         },
         "hovertemplate": "tstart: %{customdata[0]:.4f}, tend:%{customdata[1]:.4f}, flux_ul: %{y:.2f}, sqrts: %{customdata[2]:.4f}",
         "marker": {
          "size": 10,
          "symbol": "triangle-down"
         },
         "mode": "markers",
         "name": "flux_ul",
         "x": [],
         "y": [],
         "type": "scatter",
         "xaxis": "x",
         "yaxis": "y"
        },
        {
         "name": "exposure",
         "x": [
          55513.5,
          55514.5,
          55515.5,
          55516.5,
          55517.5,
          55518.5,
          55519.5,
          55520.5
         ],
         "y": [
          3472130,
          3531230,
          3417240,
          3579240,
          2163990,
          3811480,
          3713430,
          3475880
         ],
         "type": "scatter",
         "xaxis": "x2",
         "yaxis": "y2"
        }
       ],
       "layout": {
        "template": {
         "data": {
          "bar": [
           {
            "error_x": {
             "color": "#2a3f5f"
            },
            "error_y": {
             "color": "#2a3f5f"
            },
            "marker": {
             "line": {
              "color": "#E5ECF6",
              "width": 0.5
             },
             "pattern": {
              "fillmode": "overlay",
              "size": 10,
              "solidity": 0.2
             }
            },
            "type": "bar"
           }
          ],
          "barpolar": [
           {
            "marker": {
             "line": {
              "color": "#E5ECF6",
              "width": 0.5
             },
             "pattern": {
              "fillmode": "overlay",
              "size": 10,
              "solidity": 0.2
             }
            },
            "type": "barpolar"
           }
          ],
          "carpet": [
           {
            "aaxis": {
             "endlinecolor": "#2a3f5f",
             "gridcolor": "white",
             "linecolor": "white",
             "minorgridcolor": "white",
             "startlinecolor": "#2a3f5f"
            },
            "baxis": {
             "endlinecolor": "#2a3f5f",
             "gridcolor": "white",
             "linecolor": "white",
             "minorgridcolor": "white",
             "startlinecolor": "#2a3f5f"
            },
            "type": "carpet"
           }
          ],
          "choropleth": [
           {
            "colorbar": {
             "outlinewidth": 0,
             "ticks": ""
            },
            "type": "choropleth"
           }
          ],
          "contour": [
           {
            "colorbar": {
             "outlinewidth": 0,
             "ticks": ""
            },
            "colorscale": [
             [
              0,
              "#0d0887"
             ],
             [
              0.1111111111111111,
              "#46039f"
             ],
             [
              0.2222222222222222,
              "#7201a8"
             ],
             [
              0.3333333333333333,
              "#9c179e"
             ],
             [
              0.4444444444444444,
              "#bd3786"
             ],
             [
              0.5555555555555556,
              "#d8576b"
             ],
             [
              0.6666666666666666,
              "#ed7953"
             ],
             [
              0.7777777777777778,
              "#fb9f3a"
             ],
             [
              0.8888888888888888,
              "#fdca26"
             ],
             [
              1,
              "#f0f921"
             ]
            ],
            "type": "contour"
           }
          ],
          "contourcarpet": [
           {
            "colorbar": {
             "outlinewidth": 0,
             "ticks": ""
            },
            "type": "contourcarpet"
           }
          ],
          "heatmap": [
           {
            "colorbar": {
             "outlinewidth": 0,
             "ticks": ""
            },
            "colorscale": [
             [
              0,
              "#0d0887"
             ],
             [
              0.1111111111111111,
              "#46039f"
             ],
             [
              0.2222222222222222,
              "#7201a8"
             ],
             [
              0.3333333333333333,
              "#9c179e"
             ],
             [
              0.4444444444444444,
              "#bd3786"
             ],
             [
              0.5555555555555556,
              "#d8576b"
             ],
             [
              0.6666666666666666,
              "#ed7953"
             ],
             [
              0.7777777777777778,
              "#fb9f3a"
             ],
             [
              0.8888888888888888,
              "#fdca26"
             ],
             [
              1,
              "#f0f921"
             ]
            ],
            "type": "heatmap"
           }
          ],
          "heatmapgl": [
           {
            "colorbar": {
             "outlinewidth": 0,
             "ticks": ""
            },
            "colorscale": [
             [
              0,
              "#0d0887"
             ],
             [
              0.1111111111111111,
              "#46039f"
             ],
             [
              0.2222222222222222,
              "#7201a8"
             ],
             [
              0.3333333333333333,
              "#9c179e"
             ],
             [
              0.4444444444444444,
              "#bd3786"
             ],
             [
              0.5555555555555556,
              "#d8576b"
             ],
             [
              0.6666666666666666,
              "#ed7953"
             ],
             [
              0.7777777777777778,
              "#fb9f3a"
             ],
             [
              0.8888888888888888,
              "#fdca26"
             ],
             [
              1,
              "#f0f921"
             ]
            ],
            "type": "heatmapgl"
           }
          ],
          "histogram": [
           {
            "marker": {
             "pattern": {
              "fillmode": "overlay",
              "size": 10,
              "solidity": 0.2
             }
            },
            "type": "histogram"
           }
          ],
          "histogram2d": [
           {
            "colorbar": {
             "outlinewidth": 0,
             "ticks": ""
            },
            "colorscale": [
             [
              0,
              "#0d0887"
             ],
             [
              0.1111111111111111,
              "#46039f"
             ],
             [
              0.2222222222222222,
              "#7201a8"
             ],
             [
              0.3333333333333333,
              "#9c179e"
             ],
             [
              0.4444444444444444,
              "#bd3786"
             ],
             [
              0.5555555555555556,
              "#d8576b"
             ],
             [
              0.6666666666666666,
              "#ed7953"
             ],
             [
              0.7777777777777778,
              "#fb9f3a"
             ],
             [
              0.8888888888888888,
              "#fdca26"
             ],
             [
              1,
              "#f0f921"
             ]
            ],
            "type": "histogram2d"
           }
          ],
          "histogram2dcontour": [
           {
            "colorbar": {
             "outlinewidth": 0,
             "ticks": ""
            },
            "colorscale": [
             [
              0,
              "#0d0887"
             ],
             [
              0.1111111111111111,
              "#46039f"
             ],
             [
              0.2222222222222222,
              "#7201a8"
             ],
             [
              0.3333333333333333,
              "#9c179e"
             ],
             [
              0.4444444444444444,
              "#bd3786"
             ],
             [
              0.5555555555555556,
              "#d8576b"
             ],
             [
              0.6666666666666666,
              "#ed7953"
             ],
             [
              0.7777777777777778,
              "#fb9f3a"
             ],
             [
              0.8888888888888888,
              "#fdca26"
             ],
             [
              1,
              "#f0f921"
             ]
            ],
            "type": "histogram2dcontour"
           }
          ],
          "mesh3d": [
           {
            "colorbar": {
             "outlinewidth": 0,
             "ticks": ""
            },
            "type": "mesh3d"
           }
          ],
          "parcoords": [
           {
            "line": {
             "colorbar": {
              "outlinewidth": 0,
              "ticks": ""
             }
            },
            "type": "parcoords"
           }
          ],
          "pie": [
           {
            "automargin": true,
            "type": "pie"
           }
          ],
          "scatter": [
           {
            "marker": {
             "colorbar": {
              "outlinewidth": 0,
              "ticks": ""
             }
            },
            "type": "scatter"
           }
          ],
          "scatter3d": [
           {
            "line": {
             "colorbar": {
              "outlinewidth": 0,
              "ticks": ""
             }
            },
            "marker": {
             "colorbar": {
              "outlinewidth": 0,
              "ticks": ""
             }
            },
            "type": "scatter3d"
           }
          ],
          "scattercarpet": [
           {
            "marker": {
             "colorbar": {
              "outlinewidth": 0,
              "ticks": ""
             }
            },
            "type": "scattercarpet"
           }
          ],
          "scattergeo": [
           {
            "marker": {
             "colorbar": {
              "outlinewidth": 0,
              "ticks": ""
             }
            },
            "type": "scattergeo"
           }
          ],
          "scattergl": [
           {
            "marker": {
             "colorbar": {
              "outlinewidth": 0,
              "ticks": ""
             }
            },
            "type": "scattergl"
           }
          ],
          "scattermapbox": [
           {
            "marker": {
             "colorbar": {
              "outlinewidth": 0,
              "ticks": ""
             }
            },
            "type": "scattermapbox"
           }
          ],
          "scatterpolar": [
           {
            "marker": {
             "colorbar": {
              "outlinewidth": 0,
              "ticks": ""
             }
            },
            "type": "scatterpolar"
           }
          ],
          "scatterpolargl": [
           {
            "marker": {
             "colorbar": {
              "outlinewidth": 0,
              "ticks": ""
             }
            },
            "type": "scatterpolargl"
           }
          ],
          "scatterternary": [
           {
            "marker": {
             "colorbar": {
              "outlinewidth": 0,
              "ticks": ""
             }
            },
            "type": "scatterternary"
           }
          ],
          "surface": [
           {
            "colorbar": {
             "outlinewidth": 0,
             "ticks": ""
            },
            "colorscale": [
             [
              0,
              "#0d0887"
             ],
             [
              0.1111111111111111,
              "#46039f"
             ],
             [
              0.2222222222222222,
              "#7201a8"
             ],
             [
              0.3333333333333333,
              "#9c179e"
             ],
             [
              0.4444444444444444,
              "#bd3786"
             ],
             [
              0.5555555555555556,
              "#d8576b"
             ],
             [
              0.6666666666666666,
              "#ed7953"
             ],
             [
              0.7777777777777778,
              "#fb9f3a"
             ],
             [
              0.8888888888888888,
              "#fdca26"
             ],
             [
              1,
              "#f0f921"
             ]
            ],
            "type": "surface"
           }
          ],
          "table": [
           {
            "cells": {
             "fill": {
              "color": "#EBF0F8"
             },
             "line": {
              "color": "white"
             }
            },
            "header": {
             "fill": {
              "color": "#C8D4E3"
             },
             "line": {
              "color": "white"
             }
            },
            "type": "table"
           }
          ]
         },
         "layout": {
          "annotationdefaults": {
           "arrowcolor": "#2a3f5f",
           "arrowhead": 0,
           "arrowwidth": 1
          },
          "autotypenumbers": "strict",
          "coloraxis": {
           "colorbar": {
            "outlinewidth": 0,
            "ticks": ""
           }
          },
          "colorscale": {
           "diverging": [
            [
             0,
             "#8e0152"
            ],
            [
             0.1,
             "#c51b7d"
            ],
            [
             0.2,
             "#de77ae"
            ],
            [
             0.3,
             "#f1b6da"
            ],
            [
             0.4,
             "#fde0ef"
            ],
            [
             0.5,
             "#f7f7f7"
            ],
            [
             0.6,
             "#e6f5d0"
            ],
            [
             0.7,
             "#b8e186"
            ],
            [
             0.8,
             "#7fbc41"
            ],
            [
             0.9,
             "#4d9221"
            ],
            [
             1,
             "#276419"
            ]
           ],
           "sequential": [
            [
             0,
             "#0d0887"
            ],
            [
             0.1111111111111111,
             "#46039f"
            ],
            [
             0.2222222222222222,
             "#7201a8"
            ],
            [
             0.3333333333333333,
             "#9c179e"
            ],
            [
             0.4444444444444444,
             "#bd3786"
            ],
            [
             0.5555555555555556,
             "#d8576b"
            ],
            [
             0.6666666666666666,
             "#ed7953"
            ],
            [
             0.7777777777777778,
             "#fb9f3a"
            ],
            [
             0.8888888888888888,
             "#fdca26"
            ],
            [
             1,
             "#f0f921"
            ]
           ],
           "sequentialminus": [
            [
             0,
             "#0d0887"
            ],
            [
             0.1111111111111111,
             "#46039f"
            ],
            [
             0.2222222222222222,
             "#7201a8"
            ],
            [
             0.3333333333333333,
             "#9c179e"
            ],
            [
             0.4444444444444444,
             "#bd3786"
            ],
            [
             0.5555555555555556,
             "#d8576b"
            ],
            [
             0.6666666666666666,
             "#ed7953"
            ],
            [
             0.7777777777777778,
             "#fb9f3a"
            ],
            [
             0.8888888888888888,
             "#fdca26"
            ],
            [
             1,
             "#f0f921"
            ]
           ]
          },
          "colorway": [
           "#636efa",
           "#EF553B",
           "#00cc96",
           "#ab63fa",
           "#FFA15A",
           "#19d3f3",
           "#FF6692",
           "#B6E880",
           "#FF97FF",
           "#FECB52"
          ],
          "font": {
           "color": "#2a3f5f"
          },
          "geo": {
           "bgcolor": "white",
           "lakecolor": "white",
           "landcolor": "#E5ECF6",
           "showlakes": true,
           "showland": true,
           "subunitcolor": "white"
          },
          "hoverlabel": {
           "align": "left"
          },
          "hovermode": "closest",
          "mapbox": {
           "style": "light"
          },
          "paper_bgcolor": "white",
          "plot_bgcolor": "#E5ECF6",
          "polar": {
           "angularaxis": {
            "gridcolor": "white",
            "linecolor": "white",
            "ticks": ""
           },
           "bgcolor": "#E5ECF6",
           "radialaxis": {
            "gridcolor": "white",
            "linecolor": "white",
            "ticks": ""
           }
          },
          "scene": {
           "xaxis": {
            "backgroundcolor": "#E5ECF6",
            "gridcolor": "white",
            "gridwidth": 2,
            "linecolor": "white",
            "showbackground": true,
            "ticks": "",
            "zerolinecolor": "white"
           },
           "yaxis": {
            "backgroundcolor": "#E5ECF6",
            "gridcolor": "white",
            "gridwidth": 2,
            "linecolor": "white",
            "showbackground": true,
            "ticks": "",
            "zerolinecolor": "white"
           },
           "zaxis": {
            "backgroundcolor": "#E5ECF6",
            "gridcolor": "white",
            "gridwidth": 2,
            "linecolor": "white",
            "showbackground": true,
            "ticks": "",
            "zerolinecolor": "white"
           }
          },
          "shapedefaults": {
           "line": {
            "color": "#2a3f5f"
           }
          },
          "ternary": {
           "aaxis": {
            "gridcolor": "white",
            "linecolor": "white",
            "ticks": ""
           },
           "baxis": {
            "gridcolor": "white",
            "linecolor": "white",
            "ticks": ""
           },
           "bgcolor": "#E5ECF6",
           "caxis": {
            "gridcolor": "white",
            "linecolor": "white",
            "ticks": ""
           }
          },
          "title": {
           "x": 0.05
          },
          "xaxis": {
           "automargin": true,
           "gridcolor": "white",
           "linecolor": "white",
           "ticks": "",
           "title": {
            "standoff": 15
           },
           "zerolinecolor": "white",
           "zerolinewidth": 2
          },
          "yaxis": {
           "automargin": true,
           "gridcolor": "white",
           "linecolor": "white",
           "ticks": "",
           "title": {
            "standoff": 15
           },
           "zerolinecolor": "white",
           "zerolinewidth": 2
          }
         }
        },
        "xaxis": {
         "anchor": "y",
         "domain": [
          0,
          1
         ],
         "matches": "x2",
         "showticklabels": true,
         "showline": true,
         "linecolor": "black",
         "title": {
          "text": "Time(MJD)"
         },
         "tickformat": "g"
        },
        "yaxis": {
         "anchor": "x",
         "domain": [
          0.575,
          1
         ],
         "showline": true,
         "linecolor": "black",
         "title": {
          "text": "cm^2 s sr"
         }
        },
        "xaxis2": {
         "anchor": "y2",
         "domain": [
          0,
          1
         ],
         "showline": true,
         "linecolor": "black",
         "title": {
          "text": "Time(MJD)"
         },
         "tickformat": "g",
         "showticklabels": true
        },
        "yaxis2": {
         "anchor": "x2",
         "domain": [
          0,
          0.425
         ],
         "showline": true,
         "linecolor": "black",
         "title": {
          "text": "cm^2 s sr"
         }
        },
        "height": 1000
       },
       "config": {
        "plotlyServerURL": "https://plot.ly"
       }
      }
     },
     "metadata": {}
    }
   ],
   "metadata": {}
  },
  {
   "cell_type": "markdown",
   "source": [
    "## Cleaning up"
   ],
   "metadata": {}
  },
  {
   "cell_type": "code",
   "execution_count": 46,
   "source": [
    "ag.deleteAnalysisDir()"
   ],
   "outputs": [
    {
     "output_type": "execute_result",
     "data": {
      "text/plain": [
       "True"
      ]
     },
     "metadata": {},
     "execution_count": 46
    }
   ],
   "metadata": {}
  },
  {
   "cell_type": "code",
   "execution_count": null,
   "source": [],
   "outputs": [],
   "metadata": {}
  }
 ],
 "metadata": {
  "kernelspec": {
   "display_name": "Python 3",
   "language": "python",
   "name": "python3"
  },
  "language_info": {
   "codemirror_mode": {
    "name": "ipython",
    "version": 3
   },
   "file_extension": ".py",
   "mimetype": "text/x-python",
   "name": "python",
   "nbconvert_exporter": "python",
   "pygments_lexer": "ipython3",
   "version": "3.7.10"
  }
 },
 "nbformat": 4,
 "nbformat_minor": 4
}