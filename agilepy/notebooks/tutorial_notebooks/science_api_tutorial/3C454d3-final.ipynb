{
 "cells": [
  {
   "cell_type": "markdown",
   "metadata": {},
   "source": [
    "# 3C454.3 analysis notebook\n",
    "Reference paper: https://arxiv.org/pdf/1106.5162.pdf"
   ]
  },
  {
   "cell_type": "code",
   "execution_count": 1,
   "metadata": {},
   "outputs": [],
   "source": [
    "from agilepy.api.AGAnalysis import AGAnalysis"
   ]
  },
  {
   "cell_type": "code",
   "execution_count": 2,
   "metadata": {},
   "outputs": [],
   "source": [
    "# Interactive plots\n",
    "%matplotlib widget"
   ]
  },
  {
   "cell_type": "markdown",
   "metadata": {},
   "source": [
    "## Creating a configuration file"
   ]
  },
  {
   "cell_type": "code",
   "execution_count": 3,
   "metadata": {},
   "outputs": [],
   "source": [
    "confFilePath = \"$HOME/agilepy_conf.yaml\""
   ]
  },
  {
   "cell_type": "code",
   "execution_count": 4,
   "metadata": {},
   "outputs": [],
   "source": [
    "AGAnalysis.getConfiguration(\n",
    "    confFilePath = confFilePath,\n",
    "    evtfile=\"$AGILE/agilepy-test-data/test_dataset_agn/EVT/EVT.index\",\n",
    "    logfile=\"$AGILE/agilepy-test-data/test_dataset_agn/LOG/LOG.index\",\n",
    "    userName = \"username\",\n",
    "    sourceName = \"3C454_3\",\n",
    "    tmin = 55513.0,\n",
    "    tmax = 55521.0,\n",
    "    timetype = \"MJD\",\n",
    "    glon = 86.11,\n",
    "    glat = -38.18,\n",
    "    outputDir = \"$HOME/agilepy_analysis\",\n",
    "    verboselvl = 0\n",
    ")"
   ]
  },
  {
   "cell_type": "markdown",
   "metadata": {},
   "source": [
    "## Obtaining the AGAnalysis object"
   ]
  },
  {
   "cell_type": "code",
   "execution_count": 5,
   "metadata": {},
   "outputs": [],
   "source": [
    "ag = AGAnalysis(confFilePath)"
   ]
  },
  {
   "cell_type": "code",
   "execution_count": 6,
   "metadata": {},
   "outputs": [
    {
     "name": "stdout",
     "output_type": "stream",
     "text": [
      "{ 'ap': {'radius': 3, 'timeslot': 3600},\n",
      "  'input': { 'evtfile': '/data01/homes/baroncelli/.conda/envs/agilepydev/agiletools/agilepy-test-data/test_dataset_agn/EVT/EVT.index',\n",
      "             'logfile': '/data01/homes/baroncelli/.conda/envs/agilepydev/agiletools/agilepy-test-data/test_dataset_agn/LOG/LOG.index'},\n",
      "  'maps': { 'binsize': 0.25,\n",
      "            'energybins': [[100, 10000]],\n",
      "            'expstep': 4.0,\n",
      "            'fovbinnumber': 1,\n",
      "            'mapsize': 40,\n",
      "            'offaxisangle': 30,\n",
      "            'proj': 'ARC',\n",
      "            'projtype': 'WCS',\n",
      "            'spectralindex': 2.1,\n",
      "            'timestep': 160,\n",
      "            'useEDPmatrixforEXP': False},\n",
      "  'mle': { 'contourpoints': 40,\n",
      "           'edpcorrection': 0.75,\n",
      "           'expratio_maxthr': 15,\n",
      "           'expratio_minthr': 0,\n",
      "           'expratio_size': 10,\n",
      "           'expratioevaluation': True,\n",
      "           'fluxcorrection': 0,\n",
      "           'integratortype': 1,\n",
      "           'loccl': 5.99147,\n",
      "           'mindefaulttolerance': 0.01,\n",
      "           'minimizeralg': 'Migrad',\n",
      "           'minimizerdefstrategy': 2,\n",
      "           'minimizertype': 'Minuit',\n",
      "           'ranal': 10,\n",
      "           'ulcl': 2},\n",
      "  'model': { 'emax_sources': 10000,\n",
      "             'emin_sources': 100,\n",
      "             'galcoeff': [-1],\n",
      "             'galmode': 1,\n",
      "             'galmode2': 0,\n",
      "             'galmode2fit': 0,\n",
      "             'isocoeff': [-1],\n",
      "             'isomode': 1,\n",
      "             'isomode2': 0,\n",
      "             'isomode2fit': 0,\n",
      "             'modelfile': None},\n",
      "  'output': { 'filenameprefix': 'analysis_product',\n",
      "              'logfilenameprefix': 'analysis_log',\n",
      "              'outdir': PosixPath('/data01/homes/baroncelli/agilepy_analysis/3C454_3_username_20210311-165657'),\n",
      "              'sourcename': 'username',\n",
      "              'username': '3C454_3',\n",
      "              'verboselvl': 0},\n",
      "  'plotting': {'twocolumns': False},\n",
      "  'selection': { 'albedorad': 80,\n",
      "                 'bpointing': None,\n",
      "                 'dq': 0,\n",
      "                 'emax': 10000,\n",
      "                 'emin': 100,\n",
      "                 'filtercode': 5,\n",
      "                 'fovradmax': 60,\n",
      "                 'fovradmin': 0,\n",
      "                 'glat': -38.18,\n",
      "                 'glon': 86.110001,\n",
      "                 'lonpole': 180,\n",
      "                 'lpointing': None,\n",
      "                 'maplistgen': 'None',\n",
      "                 'phasecode': 6,\n",
      "                 'proj': 'ARC',\n",
      "                 'timelist': 'None',\n",
      "                 'timetype': 'TT',\n",
      "                 'tmax': 217382400.0,\n",
      "                 'tmin': 216691200.0}}\n"
     ]
    }
   ],
   "source": [
    "#print all options of the configuration file\n",
    "ag.printOptions()"
   ]
  },
  {
   "cell_type": "markdown",
   "metadata": {},
   "source": [
    "## Sources hypothesis"
   ]
  },
  {
   "cell_type": "code",
   "execution_count": 8,
   "metadata": {},
   "outputs": [
    {
     "name": "stdout",
     "output_type": "stream",
     "text": [
      "2021-03-11 16:57:02,727 [WARNING ] [SourcesLibrary] The source 2AGLJ2247+1558 already exists. The 'sourceObject' will not be added to the SourcesLibrary.\n",
      "2021-03-11 16:57:02,728 [WARNING ] [SourcesLibrary] The source 2AGLJ2254+1609 already exists. The 'sourceObject' will not be added to the SourcesLibrary.\n"
     ]
    }
   ],
   "source": [
    "sources = ag.loadSourcesFromCatalog(\"2AGL\", rangeDist = (0, 5), show=True)"
   ]
  },
  {
   "cell_type": "markdown",
   "metadata": {},
   "source": [
    "## Adding a source at runtime"
   ]
  },
  {
   "cell_type": "code",
   "execution_count": null,
   "metadata": {},
   "outputs": [],
   "source": [
    "#newSourceDict = {\n",
    "#    \"glon\" : 79.3,\n",
    "#    \"glat\": 0.554,\n",
    "#    \"spectrumType\" : \"PowerLaw\",\n",
    "#    \"flux\": 1.69737e-07,\n",
    "#    \"index\": 2.1\n",
    "#}\n",
    "\n",
    "#s = ag.addSource(\"CYGX3\", newSourceDict)\n",
    "\n",
    "#print(s)"
   ]
  },
  {
   "cell_type": "markdown",
   "metadata": {},
   "source": [
    "## Deleting sources\n",
    "Selection params = [name, dist, flux, sqrtts]"
   ]
  },
  {
   "cell_type": "code",
   "execution_count": null,
   "metadata": {},
   "outputs": [],
   "source": [
    "deletedSources = ag.deleteSources('flux <= 10e-08', show = True)"
   ]
  },
  {
   "cell_type": "markdown",
   "metadata": {},
   "source": [
    "## Selecting sources"
   ]
  },
  {
   "cell_type": "code",
   "execution_count": null,
   "metadata": {},
   "outputs": [],
   "source": [
    "sources = ag.selectSources(\"flux > 0\", show = True)"
   ]
  },
  {
   "cell_type": "markdown",
   "metadata": {},
   "source": [
    "## Free a source's parameter\n",
    "Freeable params = [flux, index, index1, index2, cutoffEnergy, pivotEnergy, curvature, pos]"
   ]
  },
  {
   "cell_type": "code",
   "execution_count": null,
   "metadata": {},
   "outputs": [],
   "source": [
    "affectedSources = ag.freeSources('name == \"2AGLJ2254+1609\"', \"flux\", True, show=True)"
   ]
  },
  {
   "cell_type": "markdown",
   "metadata": {},
   "source": [
    "In this example, only one source is affected."
   ]
  },
  {
   "cell_type": "markdown",
   "metadata": {},
   "source": [
    "## Analysis"
   ]
  },
  {
   "cell_type": "code",
   "execution_count": null,
   "metadata": {
    "scrolled": false
   },
   "outputs": [],
   "source": [
    "#Generate maps\n",
    "maplistfile = ag.generateMaps()"
   ]
  },
  {
   "cell_type": "code",
   "execution_count": null,
   "metadata": {},
   "outputs": [],
   "source": [
    "! cat $maplistfile"
   ]
  },
  {
   "cell_type": "code",
   "execution_count": null,
   "metadata": {
    "scrolled": false
   },
   "outputs": [],
   "source": [
    "#Display counts map\n",
    "ag.displayCtsSkyMaps(maplistFile=maplistfile, smooth=3, catalogRegions=\"2AGL\", catalogRegionsColor=\"green\")"
   ]
  },
  {
   "cell_type": "code",
   "execution_count": null,
   "metadata": {
    "scrolled": false
   },
   "outputs": [],
   "source": [
    "#Display exposure map\n",
    "ag.displayExpSkyMaps()"
   ]
  },
  {
   "cell_type": "code",
   "execution_count": null,
   "metadata": {
    "scrolled": false
   },
   "outputs": [],
   "source": [
    "#Display diffuse emission map\n",
    "ag.displayGasSkyMaps()"
   ]
  },
  {
   "cell_type": "code",
   "execution_count": null,
   "metadata": {},
   "outputs": [],
   "source": [
    "#Fix the diffuse emission coefficient to a default value. \n",
    "ag.setOptions(galcoeff=[0.7])"
   ]
  },
  {
   "cell_type": "code",
   "execution_count": null,
   "metadata": {},
   "outputs": [],
   "source": [
    "! cat $maplistfile"
   ]
  },
  {
   "cell_type": "code",
   "execution_count": null,
   "metadata": {},
   "outputs": [],
   "source": [
    "ag.printOptions(\"model\")"
   ]
  },
  {
   "cell_type": "code",
   "execution_count": null,
   "metadata": {},
   "outputs": [],
   "source": [
    "#calculate a mean value of isotropic and diffuse emission coefficients. \n",
    "gal,iso,maplist = ag.calcBkg(\"2AGLJ2254+1609\", galcoeff = [0.7], pastTimeWindow = 0)"
   ]
  },
  {
   "cell_type": "code",
   "execution_count": null,
   "metadata": {},
   "outputs": [],
   "source": [
    "print(iso)"
   ]
  },
  {
   "cell_type": "code",
   "execution_count": null,
   "metadata": {},
   "outputs": [],
   "source": [
    "! cat $maplistfile"
   ]
  },
  {
   "cell_type": "code",
   "execution_count": null,
   "metadata": {},
   "outputs": [],
   "source": [
    "ag.printOptions(\"model\")"
   ]
  },
  {
   "cell_type": "code",
   "execution_count": null,
   "metadata": {},
   "outputs": [],
   "source": [
    "#Perform a maximum likelihood estimator\n",
    "ag.mle()"
   ]
  },
  {
   "cell_type": "code",
   "execution_count": null,
   "metadata": {},
   "outputs": [],
   "source": [
    "#Display the results\n",
    "ag.selectSources(\"sqrtTS > 0\", show=True)"
   ]
  },
  {
   "cell_type": "markdown",
   "metadata": {},
   "source": [
    "### Light curve with default tmin and tmax"
   ]
  },
  {
   "cell_type": "code",
   "execution_count": null,
   "metadata": {},
   "outputs": [],
   "source": [
    "lightCurveData = ag.lightCurveMLE(\"2AGLJ2254+1609\", binsize=86400)"
   ]
  },
  {
   "cell_type": "code",
   "execution_count": null,
   "metadata": {},
   "outputs": [],
   "source": [
    "cat $lightCurveData"
   ]
  },
  {
   "cell_type": "code",
   "execution_count": null,
   "metadata": {},
   "outputs": [],
   "source": [
    "print(lightCurveData)"
   ]
  },
  {
   "cell_type": "code",
   "execution_count": null,
   "metadata": {},
   "outputs": [],
   "source": [
    "ag.displayLightCurve(\"mle\")"
   ]
  },
  {
   "cell_type": "markdown",
   "metadata": {},
   "source": [
    "### Light curve with explicit tmin and tmax"
   ]
  },
  {
   "cell_type": "code",
   "execution_count": null,
   "metadata": {},
   "outputs": [],
   "source": [
    "lightCurveData = ag.lightCurveMLE(\"2AGLJ2254+1609\", tmin=55513.0, tmax=55515.0, timetype=\"MJD\", binsize=86400)"
   ]
  },
  {
   "cell_type": "code",
   "execution_count": null,
   "metadata": {},
   "outputs": [],
   "source": [
    "cat $lightCurveData"
   ]
  },
  {
   "cell_type": "code",
   "execution_count": null,
   "metadata": {},
   "outputs": [],
   "source": []
  },
  {
   "cell_type": "code",
   "execution_count": null,
   "metadata": {},
   "outputs": [],
   "source": [
    "ag.displayLightCurve(\"mle\")"
   ]
  },
  {
   "cell_type": "markdown",
   "metadata": {},
   "source": [
    "### Light curve with default tmin and tmax and binsize of 43200 s"
   ]
  },
  {
   "cell_type": "code",
   "execution_count": null,
   "metadata": {},
   "outputs": [],
   "source": [
    "lightCurveData = ag.lightCurveMLE(\"2AGLJ2254+1609\", binsize=43200)"
   ]
  },
  {
   "cell_type": "code",
   "execution_count": null,
   "metadata": {},
   "outputs": [],
   "source": [
    "ag.displayLightCurve(\"mle\")"
   ]
  },
  {
   "cell_type": "markdown",
   "metadata": {},
   "source": [
    "### Evaluation of spectral index of pre-flare period 55513.00-55517"
   ]
  },
  {
   "cell_type": "code",
   "execution_count": null,
   "metadata": {},
   "outputs": [],
   "source": [
    "#the current version of the setOptions works only with TT \n",
    "from agilepy.utils.AstroUtils import AstroUtils\n",
    "ag.setOptions(tmin = AstroUtils.time_mjd_to_tt(55513.0), tmax=AstroUtils.time_mjd_to_tt(55517.0), timetype=\"TT\")\n",
    "ag.setOptions(energybins=[[100, 300], [300, 1000], [1000, 3000], [3000, 10000]])"
   ]
  },
  {
   "cell_type": "code",
   "execution_count": null,
   "metadata": {},
   "outputs": [],
   "source": [
    "ag.printOptions(\"maps\")"
   ]
  },
  {
   "cell_type": "code",
   "execution_count": null,
   "metadata": {},
   "outputs": [],
   "source": [
    "maplistfile = ag.generateMaps()"
   ]
  },
  {
   "cell_type": "code",
   "execution_count": null,
   "metadata": {},
   "outputs": [],
   "source": [
    "affectedSources = ag.freeSources('name == \"2AGLJ2254+1609\"', \"index\", True, show=True)"
   ]
  },
  {
   "cell_type": "code",
   "execution_count": null,
   "metadata": {},
   "outputs": [],
   "source": [
    "ag.mle()"
   ]
  },
  {
   "cell_type": "code",
   "execution_count": null,
   "metadata": {},
   "outputs": [],
   "source": [
    "selectedSources = ag.selectSources('flux > 0')\n",
    "print(len(selectedSources))\n",
    "for s in selectedSources:\n",
    "    print(s)"
   ]
  },
  {
   "cell_type": "code",
   "execution_count": null,
   "metadata": {},
   "outputs": [],
   "source": [
    "lightCurveData = ag.lightCurveMLE(\"2AGLJ2254+1609\", tmin=55513.0, tmax=55517.0, timetype=\"MJD\", binsize=86400)"
   ]
  },
  {
   "cell_type": "code",
   "execution_count": null,
   "metadata": {},
   "outputs": [],
   "source": [
    "ag.displayLightCurve(\"mle\")"
   ]
  },
  {
   "cell_type": "markdown",
   "metadata": {},
   "source": [
    "### Evaluation of spectral index of flare period 55517-55521"
   ]
  },
  {
   "cell_type": "markdown",
   "metadata": {},
   "source": [
    "## Cleaning up"
   ]
  },
  {
   "cell_type": "code",
   "execution_count": null,
   "metadata": {},
   "outputs": [],
   "source": [
    "ag.deleteAnalysisDir()"
   ]
  }
 ],
 "metadata": {
  "kernelspec": {
   "display_name": "Python 3",
   "language": "python",
   "name": "python3"
  },
  "language_info": {
   "codemirror_mode": {
    "name": "ipython",
    "version": 3
   },
   "file_extension": ".py",
   "mimetype": "text/x-python",
   "name": "python",
   "nbconvert_exporter": "python",
   "pygments_lexer": "ipython3",
   "version": "3.7.6"
  }
 },
 "nbformat": 4,
 "nbformat_minor": 4
}
