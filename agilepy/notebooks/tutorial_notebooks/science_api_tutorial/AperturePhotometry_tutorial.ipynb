{
 "cells": [
  {
   "cell_type": "markdown",
   "id": "5136bfb6",
   "metadata": {},
   "source": [
    "# Aperture Photometry\n",
    "The `agilepy` `AGAnalysis` class can be used not only for Maximum Likelihood analysis, but also for an Aperture Photometry analysis.\n",
    "\n",
    "The Aperture Photometry provides the exposure and counts of an ON region."
   ]
  },
  {
   "cell_type": "code",
   "execution_count": null,
   "id": "4ca56c10",
   "metadata": {},
   "outputs": [],
   "source": [
    "# Import the relevant classes\n",
    "from agilepy.api.AGAnalysis import AGAnalysis\n",
    "from agilepy.utils.AstroUtils import AstroUtils\n",
    "\n",
    "from astropy.coordinates import SkyCoord\n",
    "from astropy.table import Table\n",
    "from astropy.time import Time"
   ]
  },
  {
   "cell_type": "markdown",
   "id": "1e2f9787",
   "metadata": {},
   "source": [
    "## Setup\n",
    "\n",
    "This tutorial uses the available test dataset on blazar 3C 454.3, from 2010-11-13 to 2010-11-21 (MJD 55513-55521)."
   ]
  },
  {
   "cell_type": "code",
   "execution_count": null,
   "id": "29ee9723",
   "metadata": {},
   "outputs": [],
   "source": [
    "# Prepare the YAML Configuration File.\n",
    "# You can create it manually or use AGVisibility.getConfiguration()\n",
    "\n",
    "outputDir    = \"/home/flareadvocate/workspace/shared_dir/\"\n",
    "confFilePath = \"/home/flareadvocate/workspace/shared_dir/tutorial_ap.yaml\"\n",
    "\n",
    "AGAnalysis.getConfiguration(\n",
    "    confFilePath = confFilePath,\n",
    "    # Output\n",
    "    outputDir = outputDir,\n",
    "    userName = \"my_name\",\n",
    "    sourceName = \"3C454_3\",\n",
    "    verboselvl = 0,\n",
    "    # Input\n",
    "    evtfile=\"$AGILE/agilepy-test-data/test_dataset_agn/EVT/EVT.index\",\n",
    "    logfile=\"$AGILE/agilepy-test-data/test_dataset_agn/LOG/LOG.index\",\n",
    "    userestapi=False,\n",
    "    # Selection\n",
    "    tmin = 55513.0,\n",
    "    tmax = 55521.0,\n",
    "    timetype = \"MJD\",\n",
    "    glon = 86.11,\n",
    "    glat = -38.18,\n",
    ")"
   ]
  },
  {
   "cell_type": "code",
   "execution_count": null,
   "id": "d3d6c147",
   "metadata": {},
   "outputs": [],
   "source": [
    "# Create the AGAnalysis object\n",
    "ag = AGAnalysis(confFilePath)\n",
    "\n",
    "# Update General Options\n",
    "ag.setOptions(binsize=0.5, expstep=2, mapsize=25)\n",
    "ag.setOptions(energybins=[[100, 50000]])\n",
    "\n",
    "# Update Aperture Photometry Options: Radius, Timeslot\n",
    "ag.setOptions(radius=2)       # ON region radius\n",
    "ag.setOptions(timeslot=10800) # Bin size for the Light Curve\n",
    "\n",
    "# Check Aperture Photometry configuration\n",
    "ag.printOptions(\"ap\")"
   ]
  },
  {
   "cell_type": "code",
   "execution_count": null,
   "id": "9eb4a28b",
   "metadata": {},
   "outputs": [],
   "source": [
    "# Check General configuration\n",
    "ag.printOptions()"
   ]
  },
  {
   "cell_type": "markdown",
   "id": "ed9561e7",
   "metadata": {},
   "source": [
    "## Execution\n",
    "\n",
    "The function `AGAnalysis.aperturePhotometry()` calls the AGILE Tool which compute the Aperture Photometry light curve.\n",
    "\n",
    "The output file is a text file (columns separated by whitespaces) providing four columns:\n",
    "- Minimum maximum time of each bin in AGILE seconds\n",
    "- Maximum maximum time of each bin in AGILE seconds\n",
    "- ON region Exposure in cm**2*s\n",
    "- ON region Counts\n",
    "\n",
    "The AperturePhotometry Table can be retrieved as an `astropy.table.Table` object using `AGAnalysis.lightCurveTable`."
   ]
  },
  {
   "cell_type": "code",
   "execution_count": null,
   "id": "9a90a613",
   "metadata": {},
   "outputs": [],
   "source": [
    "# Run Aperture Photometry Tool\n",
    "lightCurveData, _ = ag.aperturePhotometry()\n",
    "\n",
    "# Output file\n",
    "print(lightCurveData)"
   ]
  },
  {
   "cell_type": "code",
   "execution_count": null,
   "id": "4f8fa43d",
   "metadata": {},
   "outputs": [],
   "source": [
    "# The output table is stored in:\n",
    "ap_table = ag.lightCurveTable['ap']\n",
    "display(ap_table)"
   ]
  },
  {
   "cell_type": "code",
   "execution_count": null,
   "id": "dd66eeaa",
   "metadata": {},
   "outputs": [],
   "source": [
    "# The AstroUtils class offers a function to convert AGILE seconds to other formats:\n",
    "time_min = AstroUtils.convert_time_from_agile_seconds(ap_table['tmin_TT'])\n",
    "\n",
    "# Print e.g in MJD\n",
    "display(time_min.mjd)"
   ]
  },
  {
   "cell_type": "code",
   "execution_count": null,
   "id": "41c4eeef",
   "metadata": {},
   "outputs": [],
   "source": [
    "# Plot Light Curve\n",
    "ag.displayLightCurve(\"ap\", saveImage=False)"
   ]
  },
  {
   "cell_type": "code",
   "execution_count": null,
   "id": "477a7d6d",
   "metadata": {},
   "outputs": [],
   "source": [
    "# Save Light Curve Plot\n",
    "lc_plot = ag.displayLightCurve(\"ap\", saveImage=True)\n",
    "\n",
    "print(f\"Plot saved in: {lc_plot}\")"
   ]
  },
  {
   "cell_type": "code",
   "execution_count": null,
   "id": "ab8e0c67",
   "metadata": {},
   "outputs": [],
   "source": []
  }
 ],
 "metadata": {
  "kernelspec": {
   "display_name": "Python 3",
   "language": "python",
   "name": "python3"
  },
  "language_info": {
   "codemirror_mode": {
    "name": "ipython",
    "version": 3
   },
   "file_extension": ".py",
   "mimetype": "text/x-python",
   "name": "python",
   "nbconvert_exporter": "python",
   "pygments_lexer": "ipython3",
   "version": "3.8.13"
  }
 },
 "nbformat": 4,
 "nbformat_minor": 5
}
