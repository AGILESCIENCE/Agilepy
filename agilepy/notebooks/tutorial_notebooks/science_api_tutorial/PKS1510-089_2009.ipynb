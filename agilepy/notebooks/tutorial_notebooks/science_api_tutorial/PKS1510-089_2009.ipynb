{
 "cells": [
  {
   "cell_type": "markdown",
   "source": [
    "# PKS1510-089 analysis notebook\n",
    "Reference paper: https://www.aanda.org/articles/aa/pdf/2011/05/aa16128-10.pdf"
   ],
   "metadata": {}
  },
  {
   "cell_type": "code",
   "execution_count": 1,
   "source": [
    "from agilepy.api.AGAnalysis import AGAnalysis"
   ],
   "outputs": [],
   "metadata": {}
  },
  {
   "cell_type": "code",
   "execution_count": null,
   "source": [
    "# Interactive plots\n",
    "#%matplotlib widget"
   ],
   "outputs": [],
   "metadata": {}
  },
  {
   "cell_type": "markdown",
   "source": [
    "## Creating a configuration file"
   ],
   "metadata": {}
  },
  {
   "cell_type": "code",
   "execution_count": 2,
   "source": [
    "confFilePath = \"$HOME/agilepy_conf.yaml\""
   ],
   "outputs": [],
   "metadata": {}
  },
  {
   "cell_type": "code",
   "execution_count": 3,
   "source": [
    "AGAnalysis.getConfiguration(\n",
    "    confFilePath = confFilePath,\n",
    "    evtfile=None,\n",
    "    logfile=None,\n",
    "    userName = \"username\",\n",
    "    sourceName = \"PKS1510-089\",\n",
    "    tmin = 54891,\n",
    "    tmax = 54921,\n",
    "    timetype = \"MJD\",\n",
    "    glon = 351.29,\n",
    "    glat = 40.13,\n",
    "    outputDir = \"$HOME/agilepy_analysis\",\n",
    "    verboselvl = 0,\n",
    "    userestapi=True,\n",
    "    datapath=\"$HOME/agile_dataset\"\n",
    ")"
   ],
   "outputs": [],
   "metadata": {}
  },
  {
   "cell_type": "markdown",
   "source": [
    "## Obtaining the AGAnalysis object"
   ],
   "metadata": {}
  },
  {
   "cell_type": "code",
   "execution_count": 4,
   "source": [
    "ag = AGAnalysis(confFilePath)"
   ],
   "outputs": [],
   "metadata": {}
  },
  {
   "cell_type": "code",
   "execution_count": 5,
   "source": [
    "ag.setOptions(binsize=0.5)"
   ],
   "outputs": [],
   "metadata": {}
  },
  {
   "cell_type": "code",
   "execution_count": 6,
   "source": [
    "#print all options of the configuration file\n",
    "ag.printOptions()"
   ],
   "outputs": [
    {
     "output_type": "stream",
     "name": "stdout",
     "text": [
      "{ 'ap': {'radius': 3, 'timeslot': 3600},\n",
      "  'input': { 'datapath': '/home/antonio/agile_dataset',\n",
      "             'evtfile': PosixPath('/home/antonio/agile_dataset/EVT.index'),\n",
      "             'logfile': PosixPath('/home/antonio/agile_dataset/LOG.index'),\n",
      "             'userestapi': True},\n",
      "  'maps': { 'binsize': 0.5,\n",
      "            'energybins': [[100, 10000]],\n",
      "            'expstep': 4.0,\n",
      "            'fovbinnumber': 1,\n",
      "            'mapsize': 40,\n",
      "            'offaxisangle': 30,\n",
      "            'proj': 'ARC',\n",
      "            'projtype': 'WCS',\n",
      "            'spectralindex': 2.1,\n",
      "            'timestep': 160,\n",
      "            'useEDPmatrixforEXP': False},\n",
      "  'mle': { 'contourpoints': 40,\n",
      "           'edpcorrection': 0.75,\n",
      "           'expratio_maxthr': 15,\n",
      "           'expratio_minthr': 0,\n",
      "           'expratio_size': 10,\n",
      "           'expratioevaluation': True,\n",
      "           'fluxcorrection': 0,\n",
      "           'integratortype': 1,\n",
      "           'loccl': 5.99147,\n",
      "           'mindefaulttolerance': 0.01,\n",
      "           'minimizeralg': 'Migrad',\n",
      "           'minimizerdefstrategy': 2,\n",
      "           'minimizertype': 'Minuit',\n",
      "           'ranal': 10,\n",
      "           'ulcl': 2},\n",
      "  'model': { 'emax_sources': 10000,\n",
      "             'emin_sources': 100,\n",
      "             'galcoeff': [-1],\n",
      "             'galmode': 1,\n",
      "             'galmode2': 0,\n",
      "             'galmode2fit': 0,\n",
      "             'isocoeff': [-1],\n",
      "             'isomode': 1,\n",
      "             'isomode2': 0,\n",
      "             'isomode2fit': 0,\n",
      "             'modelfile': None},\n",
      "  'output': { 'filenameprefix': 'analysis_product',\n",
      "              'logfilenameprefix': 'analysis_log',\n",
      "              'outdir': PosixPath('/home/antonio/agilepy_analysis/username_PKS1510-089_20220209-103851'),\n",
      "              'sourcename': 'PKS1510-089',\n",
      "              'username': 'username',\n",
      "              'verboselvl': 0},\n",
      "  'plotting': {'twocolumns': False},\n",
      "  'selection': { 'albedorad': 80,\n",
      "                 'bpointing': None,\n",
      "                 'dq': 0,\n",
      "                 'emax': 10000,\n",
      "                 'emin': 100,\n",
      "                 'filtercode': 5,\n",
      "                 'fovradmax': 60,\n",
      "                 'fovradmin': 0,\n",
      "                 'glat': 40.13,\n",
      "                 'glon': 351.290001,\n",
      "                 'lonpole': 180,\n",
      "                 'lpointing': None,\n",
      "                 'maplistgen': 'None',\n",
      "                 'phasecode': 18,\n",
      "                 'proj': 'ARC',\n",
      "                 'timelist': 'None',\n",
      "                 'timetype': 'TT',\n",
      "                 'tmax': 165542400.0,\n",
      "                 'tmin': 162950400.0}}\n"
     ]
    }
   ],
   "metadata": {}
  },
  {
   "cell_type": "markdown",
   "source": [
    "## Sources hypothesis"
   ],
   "metadata": {}
  },
  {
   "cell_type": "code",
   "execution_count": 7,
   "source": [
    "#sources = ag.loadSourcesFromCatalog(\"2AGL\", rangeDist = (0, 5), show=True)\n",
    "\n",
    "#aggiungeto una sorgente in questo modo non funziona più il selectSources\n",
    "newSourceDict = {\n",
    "    \"glon\" : 351.29,\n",
    "    \"glat\": 40.13,\n",
    "    \"spectrumType\" : \"PowerLaw\",\n",
    "    \"flux\": 2.0e-07,\n",
    "    \"index\": 2.1\n",
    "}\n",
    "newSource = ag.addSource(\"PKS1510-089\", newSourceDict)"
   ],
   "outputs": [],
   "metadata": {}
  },
  {
   "cell_type": "markdown",
   "source": [
    "## Selecting sources"
   ],
   "metadata": {}
  },
  {
   "cell_type": "code",
   "execution_count": 8,
   "source": [
    "sources = ag.selectSources(\"flux > 0\", show = True)"
   ],
   "outputs": [
    {
     "output_type": "stream",
     "name": "stdout",
     "text": [
      "\n",
      "-----------------------------------------------------------\u001b[1m\n",
      " Source name: PKS1510-089 (PointSource)\u001b[0m\n",
      "  * \u001b[1mSpectrum type\u001b[0m: PowerLaw\n",
      "  * \u001b[1mFree parameters\u001b[0m: none\n",
      "  * \u001b[1mInitial source parameters\u001b[0m:\n",
      "\t- flux (ph/cm2s): 2.0000e-07\n",
      "\t- index : 2.1\n",
      "\t- Source position (l,b): (351.29, 40.13)\n",
      "\t- Distance from map center (deg): 0.0\n"
     ]
    }
   ],
   "metadata": {}
  },
  {
   "cell_type": "markdown",
   "source": [
    "## Free a source's parameter\n",
    "Freeable params = [flux, index, index1, index2, cutoffEnergy, pivotEnergy, curvature, pos]"
   ],
   "metadata": {}
  },
  {
   "cell_type": "code",
   "execution_count": 9,
   "source": [
    "affectedSources = ag.freeSources('name == \"PKS1510-089\"', \"flux\", True, show=True)"
   ],
   "outputs": [
    {
     "output_type": "stream",
     "name": "stdout",
     "text": [
      "\n",
      "-----------------------------------------------------------\u001b[1m\n",
      " Source name: PKS1510-089 (PointSource)\u001b[0m\n",
      "  * \u001b[1mSpectrum type\u001b[0m: PowerLaw\n",
      "  * \u001b[1mFree parameters\u001b[0m: flux\n",
      "  * \u001b[1mInitial source parameters\u001b[0m:\n",
      "\t- flux (ph/cm2s): 2.0000e-07\n",
      "\t- index : 2.1\n",
      "\t- Source position (l,b): (351.29, 40.13)\n",
      "\t- Distance from map center (deg): 0.0\n"
     ]
    }
   ],
   "metadata": {}
  },
  {
   "cell_type": "markdown",
   "source": [
    "In this example, only one source is affected."
   ],
   "metadata": {}
  },
  {
   "cell_type": "markdown",
   "source": [
    "## Analysis"
   ],
   "metadata": {}
  },
  {
   "cell_type": "code",
   "execution_count": 10,
   "source": [
    "#Generate maps\n",
    "maplistfile = ag.generateMaps()"
   ],
   "outputs": [
    {
     "output_type": "stream",
     "name": "stdout",
     "text": [
      "2022-02-09 10:39:02,585 [WARNING ] [AGDataset] Query file /home/antonio/agile_dataset/EVT.qfile does not exists\n",
      "2022-02-09 10:39:02,586 [WARNING ] [AGDataset] Query file /home/antonio/agile_dataset/LOG.qfile does not exists\n"
     ]
    },
    {
     "output_type": "stream",
     "name": "stderr",
     "text": [
      "100%|██████████| 33/33 [00:00<00:00, 159.97it/s]\n",
      "100%|██████████| 33/33 [00:31<00:00,  1.03it/s]"
     ]
    },
    {
     "output_type": "stream",
     "name": "stdout",
     "text": [
      "Generating maps..please wait.\n"
     ]
    },
    {
     "output_type": "stream",
     "name": "stderr",
     "text": [
      "\n"
     ]
    },
    {
     "output_type": "display_data",
     "data": {
      "application/vnd.jupyter.widget-view+json": {
       "version_major": 2,
       "version_minor": 0,
       "model_id": "8e889affbe3a4917a96a14d13a83bf17"
      },
      "text/plain": [
       "Fov bins loop:   0%|          | 0/1 [00:00<?, ?it/s]"
      ]
     },
     "metadata": {}
    },
    {
     "output_type": "display_data",
     "data": {
      "application/vnd.jupyter.widget-view+json": {
       "version_major": 2,
       "version_minor": 0,
       "model_id": "760b5992663740dda1e92b652af81dee"
      },
      "text/plain": [
       "Energy bins loop: 0it [00:00, ?it/s]"
      ]
     },
     "metadata": {}
    }
   ],
   "metadata": {
    "scrolled": false
   }
  },
  {
   "cell_type": "code",
   "execution_count": 11,
   "source": [
    "#Display counts map\n",
    "ag.displayCtsSkyMaps(maplistFile=maplistfile, smooth=3, catalogRegions=\"2AGL\", catalogRegionsColor=\"green\")"
   ],
   "outputs": [
    {
     "output_type": "stream",
     "name": "stdout",
     "text": [
      "Generating plot..please wait.\n",
      "2022-02-09 10:41:56,808 [WARNING ] [AGAnalysis] singleMode has been turned off because only one map is going to be displayed.\n"
     ]
    },
    {
     "output_type": "stream",
     "name": "stderr",
     "text": [
      "/home/antonio/anaconda3/envs/agilepydev/lib/python3.7/site-packages/astropy/visualization/wcsaxes/core.py:458: MatplotlibDeprecationWarning: \n",
      "The 'inframe' parameter of draw() was deprecated in Matplotlib 3.3 and will be removed two minor releases later. Use Axes.redraw_in_frame() instead. If any parameter follows 'inframe', they should be passed as keyword, not positionally.\n",
      "  super().draw(renderer, inframe=inframe)\n",
      "/home/antonio/anaconda3/envs/agilepydev/lib/python3.7/site-packages/astropy/visualization/wcsaxes/core.py:458: MatplotlibDeprecationWarning: \n",
      "The 'inframe' parameter of draw() was deprecated in Matplotlib 3.3 and will be removed two minor releases later. Use Axes.redraw_in_frame() instead. If any parameter follows 'inframe', they should be passed as keyword, not positionally.\n",
      "  super().draw(renderer, inframe=inframe)\n"
     ]
    },
    {
     "output_type": "display_data",
     "data": {
      "image/png": "[encoded data removed]",
      "text/plain": [
       "<Figure size 864x864 with 2 Axes>"
      ]
     },
     "metadata": {
      "needs_background": "light"
     }
    },
    {
     "output_type": "execute_result",
     "data": {
      "text/plain": [
       "[None]"
      ]
     },
     "metadata": {},
     "execution_count": 11
    }
   ],
   "metadata": {
    "scrolled": false
   }
  },
  {
   "cell_type": "code",
   "execution_count": 12,
   "source": [
    "#Fix the diffuse emission coefficient to a default value. \n",
    "ag.setOptions(galcoeff=[0.7])"
   ],
   "outputs": [],
   "metadata": {}
  },
  {
   "cell_type": "code",
   "execution_count": 13,
   "source": [
    "ag.printOptions(\"model\")"
   ],
   "outputs": [
    {
     "output_type": "stream",
     "name": "stdout",
     "text": [
      "{ 'emax_sources': 10000,\n",
      "  'emin_sources': 100,\n",
      "  'galcoeff': [0.7],\n",
      "  'galmode': 1,\n",
      "  'galmode2': 0,\n",
      "  'galmode2fit': 0,\n",
      "  'isocoeff': [-1],\n",
      "  'isomode': 1,\n",
      "  'isomode2': 0,\n",
      "  'isomode2fit': 0,\n",
      "  'modelfile': None}\n"
     ]
    }
   ],
   "metadata": {}
  },
  {
   "cell_type": "code",
   "execution_count": 14,
   "source": [
    "#Perform a maximum likelihood estimator\n",
    "ag.mle()"
   ],
   "outputs": [
    {
     "output_type": "execute_result",
     "data": {
      "text/plain": [
       "['/home/antonio/agilepy_analysis/username_PKS1510-089_20220209-103851/mle/0/analysis_product_PKS1510-089.source']"
      ]
     },
     "metadata": {},
     "execution_count": 14
    }
   ],
   "metadata": {}
  },
  {
   "cell_type": "code",
   "execution_count": 15,
   "source": [
    "#Display the results\n",
    "ag.selectSources(\"sqrtTS > 0\", show=True)"
   ],
   "outputs": [
    {
     "output_type": "stream",
     "name": "stdout",
     "text": [
      "\n",
      "-----------------------------------------------------------\u001b[1m\n",
      " Source name: PKS1510-089 (PointSource)\u001b[0m\u001b[1m => sqrt(ts): 19.8115\u001b[0m\n",
      "  * \u001b[1mSpectrum type\u001b[0m: PowerLaw\n",
      "  * \u001b[1mFree parameters\u001b[0m: flux\n",
      "  * \u001b[1mInitial source parameters\u001b[0m:\n",
      "\t- flux (ph/cm2s): 2.0000e-07\n",
      "\t- index : 2.1\n",
      "\t- Source position (l,b): (351.29, 40.13)\n",
      "\t- Distance from map center (deg): 0.0\n",
      "  * \u001b[1mLast MLE analysis\u001b[0m (2022-02-09 10:42:07.499253):\n",
      "\t- flux (ph/cm2s): 1.7293e-06 +/- 1.2311e-07\n",
      "\t- index : 2.1 +/- 0\n",
      "\t- upper limit(ph/cm2s): 1.98248e-06\n",
      "\t- ergLog(erg/cm2s): 2.79476e-10 +/- 1.98972e-11\n",
      "\t- galCoeff: [0.7]\n",
      "\t- isoCoeff: [11.0349] +/- [0.367294]\n",
      "\t- exposure(cm2s): 358153000.0\n",
      "\t- exp-ratio: 0\n",
      "\t- L_peak: 351.29\n",
      "\t- B_peak: 40.13\n",
      "\t- Distance from start pos: 0\n",
      "\t- position:\n",
      "\t    - L: -1\n",
      "\t    - B: -1\n",
      "\t    - Distance from start pos: -1\n",
      "\t    - radius of circle: -1\n",
      "\t    - ellipse:\n",
      "\t\t  - a: -1\n",
      "\t\t  - b: -1\n",
      "\t\t  - phi: -1\n",
      "-----------------------------------------------------------\n"
     ]
    },
    {
     "output_type": "execute_result",
     "data": {
      "text/plain": [
       "[<agilepy.core.source.Source.PointSource at 0x7f9b58ce9f90>]"
      ]
     },
     "metadata": {},
     "execution_count": 15
    }
   ],
   "metadata": {}
  },
  {
   "cell_type": "markdown",
   "source": [
    "## Spectral index evaluation"
   ],
   "metadata": {}
  },
  {
   "cell_type": "code",
   "execution_count": 16,
   "source": [
    "#energybin=2 to calcolate spectral index\n",
    "ag.setOptionEnergybin(2)\n",
    "ag.setOptions(galcoeff=[0.7, 0.7, 0.7, 0.7])\n",
    "ag.setOptions(isocoeff=[-1, -1, -1, -1])"
   ],
   "outputs": [],
   "metadata": {}
  },
  {
   "cell_type": "code",
   "execution_count": 17,
   "source": [
    "maplistfile = ag.generateMaps()"
   ],
   "outputs": [
    {
     "output_type": "stream",
     "name": "stderr",
     "text": [
      "100%|██████████| 33/33 [00:00<00:00, 41440.73it/s]\n"
     ]
    },
    {
     "output_type": "stream",
     "name": "stdout",
     "text": [
      "Generating maps..please wait.\n"
     ]
    },
    {
     "output_type": "display_data",
     "data": {
      "application/vnd.jupyter.widget-view+json": {
       "version_major": 2,
       "version_minor": 0,
       "model_id": "890383d58d7249d392a24dba03d6ebd6"
      },
      "text/plain": [
       "Fov bins loop:   0%|          | 0/1 [00:00<?, ?it/s]"
      ]
     },
     "metadata": {}
    },
    {
     "output_type": "display_data",
     "data": {
      "application/vnd.jupyter.widget-view+json": {
       "version_major": 2,
       "version_minor": 0,
       "model_id": "e0aa57eda240480cb281fd23342a9279"
      },
      "text/plain": [
       "Energy bins loop: 0it [00:00, ?it/s]"
      ]
     },
     "metadata": {}
    }
   ],
   "metadata": {}
  },
  {
   "cell_type": "code",
   "execution_count": 18,
   "source": [
    "ag.displayCtsSkyMaps(maplistFile=maplistfile, smooth=3, normType=\"power\", catalogRegions=\"2AGL\", catalogRegionsColor=\"green\")"
   ],
   "outputs": [
    {
     "output_type": "stream",
     "name": "stdout",
     "text": [
      "Generating plot..please wait.\n"
     ]
    },
    {
     "output_type": "stream",
     "name": "stderr",
     "text": [
      "/home/antonio/anaconda3/envs/agilepydev/lib/python3.7/site-packages/astropy/visualization/wcsaxes/core.py:458: MatplotlibDeprecationWarning: \n",
      "The 'inframe' parameter of draw() was deprecated in Matplotlib 3.3 and will be removed two minor releases later. Use Axes.redraw_in_frame() instead. If any parameter follows 'inframe', they should be passed as keyword, not positionally.\n",
      "  super().draw(renderer, inframe=inframe)\n",
      "/home/antonio/anaconda3/envs/agilepydev/lib/python3.7/site-packages/astropy/visualization/wcsaxes/core.py:458: MatplotlibDeprecationWarning: \n",
      "The 'inframe' parameter of draw() was deprecated in Matplotlib 3.3 and will be removed two minor releases later. Use Axes.redraw_in_frame() instead. If any parameter follows 'inframe', they should be passed as keyword, not positionally.\n",
      "  super().draw(renderer, inframe=inframe)\n",
      "/home/antonio/anaconda3/envs/agilepydev/lib/python3.7/site-packages/astropy/visualization/wcsaxes/core.py:458: MatplotlibDeprecationWarning: \n",
      "The 'inframe' parameter of draw() was deprecated in Matplotlib 3.3 and will be removed two minor releases later. Use Axes.redraw_in_frame() instead. If any parameter follows 'inframe', they should be passed as keyword, not positionally.\n",
      "  super().draw(renderer, inframe=inframe)\n",
      "/home/antonio/anaconda3/envs/agilepydev/lib/python3.7/site-packages/astropy/visualization/wcsaxes/core.py:458: MatplotlibDeprecationWarning: \n",
      "The 'inframe' parameter of draw() was deprecated in Matplotlib 3.3 and will be removed two minor releases later. Use Axes.redraw_in_frame() instead. If any parameter follows 'inframe', they should be passed as keyword, not positionally.\n",
      "  super().draw(renderer, inframe=inframe)\n",
      "/home/antonio/anaconda3/envs/agilepydev/lib/python3.7/site-packages/astropy/visualization/wcsaxes/core.py:458: MatplotlibDeprecationWarning: \n",
      "The 'inframe' parameter of draw() was deprecated in Matplotlib 3.3 and will be removed two minor releases later. Use Axes.redraw_in_frame() instead. If any parameter follows 'inframe', they should be passed as keyword, not positionally.\n",
      "  super().draw(renderer, inframe=inframe)\n",
      "/home/antonio/anaconda3/envs/agilepydev/lib/python3.7/site-packages/astropy/visualization/wcsaxes/core.py:458: MatplotlibDeprecationWarning: \n",
      "The 'inframe' parameter of draw() was deprecated in Matplotlib 3.3 and will be removed two minor releases later. Use Axes.redraw_in_frame() instead. If any parameter follows 'inframe', they should be passed as keyword, not positionally.\n",
      "  super().draw(renderer, inframe=inframe)\n",
      "/home/antonio/anaconda3/envs/agilepydev/lib/python3.7/site-packages/astropy/visualization/wcsaxes/core.py:458: MatplotlibDeprecationWarning: \n",
      "The 'inframe' parameter of draw() was deprecated in Matplotlib 3.3 and will be removed two minor releases later. Use Axes.redraw_in_frame() instead. If any parameter follows 'inframe', they should be passed as keyword, not positionally.\n",
      "  super().draw(renderer, inframe=inframe)\n",
      "/home/antonio/anaconda3/envs/agilepydev/lib/python3.7/site-packages/astropy/visualization/wcsaxes/core.py:458: MatplotlibDeprecationWarning: \n",
      "The 'inframe' parameter of draw() was deprecated in Matplotlib 3.3 and will be removed two minor releases later. Use Axes.redraw_in_frame() instead. If any parameter follows 'inframe', they should be passed as keyword, not positionally.\n",
      "  super().draw(renderer, inframe=inframe)\n"
     ]
    },
    {
     "output_type": "display_data",
     "data": {
      "image/png": "[encoded data removed]",
      "text/plain": [
       "<Figure size 1440x1440 with 8 Axes>"
      ]
     },
     "metadata": {
      "needs_background": "light"
     }
    },
    {
     "output_type": "execute_result",
     "data": {
      "text/plain": [
       "[None]"
      ]
     },
     "metadata": {},
     "execution_count": 18
    }
   ],
   "metadata": {}
  },
  {
   "cell_type": "code",
   "execution_count": 19,
   "source": [
    "affectedSources = ag.freeSources('name == \"PKS1510-089\"', \"index\", True, show=True)"
   ],
   "outputs": [
    {
     "output_type": "stream",
     "name": "stdout",
     "text": [
      "\n",
      "-----------------------------------------------------------\u001b[1m\n",
      " Source name: PKS1510-089 (PointSource)\u001b[0m\u001b[1m => sqrt(ts): 19.8115\u001b[0m\n",
      "  * \u001b[1mSpectrum type\u001b[0m: PowerLaw\n",
      "  * \u001b[1mFree parameters\u001b[0m: flux index\n",
      "  * \u001b[1mInitial source parameters\u001b[0m:\n",
      "\t- flux (ph/cm2s): 2.0000e-07\n",
      "\t- index : 2.1\n",
      "\t- Source position (l,b): (351.29, 40.13)\n",
      "\t- Distance from map center (deg): 0.0\n",
      "  * \u001b[1mLast MLE analysis\u001b[0m (2022-02-09 10:42:07.499253):\n",
      "\t- flux (ph/cm2s): 1.7293e-06 +/- 1.2311e-07\n",
      "\t- index : 2.1 +/- 0\n",
      "\t- upper limit(ph/cm2s): 1.98248e-06\n",
      "\t- ergLog(erg/cm2s): 2.79476e-10 +/- 1.98972e-11\n",
      "\t- galCoeff: [0.7]\n",
      "\t- isoCoeff: [11.0349] +/- [0.367294]\n",
      "\t- exposure(cm2s): 358153000.0\n",
      "\t- exp-ratio: 0\n",
      "\t- L_peak: 351.29\n",
      "\t- B_peak: 40.13\n",
      "\t- Distance from start pos: 0\n",
      "\t- position:\n",
      "\t    - L: -1\n",
      "\t    - B: -1\n",
      "\t    - Distance from start pos: -1\n",
      "\t    - radius of circle: -1\n",
      "\t    - ellipse:\n",
      "\t\t  - a: -1\n",
      "\t\t  - b: -1\n",
      "\t\t  - phi: -1\n",
      "-----------------------------------------------------------\n"
     ]
    }
   ],
   "metadata": {}
  },
  {
   "cell_type": "code",
   "execution_count": 20,
   "source": [
    "ag.mle()"
   ],
   "outputs": [
    {
     "output_type": "execute_result",
     "data": {
      "text/plain": [
       "['/home/antonio/agilepy_analysis/username_PKS1510-089_20220209-103851/mle/1/analysis_product_PKS1510-089.source']"
      ]
     },
     "metadata": {},
     "execution_count": 20
    }
   ],
   "metadata": {}
  },
  {
   "cell_type": "code",
   "execution_count": 21,
   "source": [
    "selectedSources = ag.selectSources('flux > 0', show=True)"
   ],
   "outputs": [
    {
     "output_type": "stream",
     "name": "stdout",
     "text": [
      "\n",
      "-----------------------------------------------------------\u001b[1m\n",
      " Source name: PKS1510-089 (PointSource)\u001b[0m\u001b[1m => sqrt(ts): 20.0815\u001b[0m\n",
      "  * \u001b[1mSpectrum type\u001b[0m: PowerLaw\n",
      "  * \u001b[1mFree parameters\u001b[0m: flux index\n",
      "  * \u001b[1mInitial source parameters\u001b[0m:\n",
      "\t- flux (ph/cm2s): 1.7293e-06 +/- 1.2311e-07\n",
      "\t- index : 2.1 +/- 0\n",
      "\t- Source position (l,b): (351.29, 40.13)\n",
      "\t- Distance from map center (deg): 0.0\n",
      "  * \u001b[1mLast MLE analysis\u001b[0m (2022-02-09 10:47:41.262727):\n",
      "\t- flux (ph/cm2s): 1.6004e-06 +/- 6.9527e-316\n",
      "\t- index : 2.1 +/- 6.92852e-310\n",
      "\t- upper limit(ph/cm2s): 1.83745e-06\n",
      "\t- ergLog(erg/cm2s): 2.58642e-10 +/- 1.12365e-319\n",
      "\t- galCoeff: [0.7, 0.7, 0.7, 0.7]\n",
      "\t- isoCoeff: [6.02924, 3.10287, 0.877702, 0.103418] +/- [0.314041, 0.158983, 0.0577251, 0.0235669]\n",
      "\t- exposure(cm2s): 358153000.0\n",
      "\t- exp-ratio: 0\n",
      "\t- L_peak: 351.29\n",
      "\t- B_peak: 40.13\n",
      "\t- Distance from start pos: 0\n",
      "\t- position:\n",
      "\t    - L: -1\n",
      "\t    - B: -1\n",
      "\t    - Distance from start pos: -1\n",
      "\t    - radius of circle: -1\n",
      "\t    - ellipse:\n",
      "\t\t  - a: -1\n",
      "\t\t  - b: -1\n",
      "\t\t  - phi: -1\n",
      "-----------------------------------------------------------\n"
     ]
    }
   ],
   "metadata": {}
  },
  {
   "cell_type": "code",
   "execution_count": 22,
   "source": [
    "ag.setOptionEnergybin(0)\n",
    "ag.setOptions(galcoeff=[0.7])\n",
    "affectedSources = ag.freeSources('name == \"PKS1510-089\"', \"index\", False, show=True)"
   ],
   "outputs": [
    {
     "output_type": "stream",
     "name": "stdout",
     "text": [
      "\n",
      "-----------------------------------------------------------\u001b[1m\n",
      " Source name: PKS1510-089 (PointSource)\u001b[0m\u001b[1m => sqrt(ts): 20.0815\u001b[0m\n",
      "  * \u001b[1mSpectrum type\u001b[0m: PowerLaw\n",
      "  * \u001b[1mFree parameters\u001b[0m: flux\n",
      "  * \u001b[1mInitial source parameters\u001b[0m:\n",
      "\t- flux (ph/cm2s): 1.7293e-06 +/- 1.2311e-07\n",
      "\t- index : 2.1 +/- 0\n",
      "\t- Source position (l,b): (351.29, 40.13)\n",
      "\t- Distance from map center (deg): 0.0\n",
      "  * \u001b[1mLast MLE analysis\u001b[0m (2022-02-09 10:47:41.262727):\n",
      "\t- flux (ph/cm2s): 1.6004e-06 +/- 6.9527e-316\n",
      "\t- index : 2.1 +/- 6.92852e-310\n",
      "\t- upper limit(ph/cm2s): 1.83745e-06\n",
      "\t- ergLog(erg/cm2s): 2.58642e-10 +/- 1.12365e-319\n",
      "\t- galCoeff: [0.7, 0.7, 0.7, 0.7]\n",
      "\t- isoCoeff: [6.02924, 3.10287, 0.877702, 0.103418] +/- [0.314041, 0.158983, 0.0577251, 0.0235669]\n",
      "\t- exposure(cm2s): 358153000.0\n",
      "\t- exp-ratio: 0\n",
      "\t- L_peak: 351.29\n",
      "\t- B_peak: 40.13\n",
      "\t- Distance from start pos: 0\n",
      "\t- position:\n",
      "\t    - L: -1\n",
      "\t    - B: -1\n",
      "\t    - Distance from start pos: -1\n",
      "\t    - radius of circle: -1\n",
      "\t    - ellipse:\n",
      "\t\t  - a: -1\n",
      "\t\t  - b: -1\n",
      "\t\t  - phi: -1\n",
      "-----------------------------------------------------------\n"
     ]
    }
   ],
   "metadata": {}
  },
  {
   "cell_type": "markdown",
   "source": [
    "### Light curve with default tmin and tmax"
   ],
   "metadata": {}
  },
  {
   "cell_type": "code",
   "execution_count": 23,
   "source": [
    "lightCurveData1 = ag.lightCurveMLE(\"PKS1510-089\", binsize=86400)"
   ],
   "outputs": [
    {
     "output_type": "stream",
     "name": "stdout",
     "text": [
      "Computing light curve bins..please wait.\n"
     ]
    },
    {
     "output_type": "stream",
     "name": "stderr",
     "text": [
      "100%|██████████| 33/33 [00:00<00:00, 102300.10it/s]\n"
     ]
    },
    {
     "output_type": "display_data",
     "data": {
      "application/vnd.jupyter.widget-view+json": {
       "version_major": 2,
       "version_minor": 0,
       "model_id": "865e6293d49d4d1297fc2c898435680c"
      },
      "text/plain": [
       "Temporal bin loop:   0%|          | 0/30 [00:00<?, ?it/s]"
      ]
     },
     "metadata": {}
    },
    {
     "output_type": "stream",
     "name": "stdout",
     "text": [
      "Generating maps..please wait.\n"
     ]
    },
    {
     "output_type": "display_data",
     "data": {
      "application/vnd.jupyter.widget-view+json": {
       "version_major": 2,
       "version_minor": 0,
       "model_id": "728c97fddc034567a7d1286573c47434"
      },
      "text/plain": [
       "Fov bins loop:   0%|          | 0/1 [00:00<?, ?it/s]"
      ]
     },
     "metadata": {}
    },
    {
     "output_type": "display_data",
     "data": {
      "application/vnd.jupyter.widget-view+json": {
       "version_major": 2,
       "version_minor": 0,
       "model_id": "deef4a547f6a4881b1a0363dcb86a515"
      },
      "text/plain": [
       "Energy bins loop: 0it [00:00, ?it/s]"
      ]
     },
     "metadata": {}
    },
    {
     "output_type": "stream",
     "name": "stdout",
     "text": [
      "Generating maps..please wait.\n"
     ]
    },
    {
     "output_type": "display_data",
     "data": {
      "application/vnd.jupyter.widget-view+json": {
       "version_major": 2,
       "version_minor": 0,
       "model_id": "f0e97eea5e164a50862e7758b28b1e22"
      },
      "text/plain": [
       "Fov bins loop:   0%|          | 0/1 [00:00<?, ?it/s]"
      ]
     },
     "metadata": {}
    },
    {
     "output_type": "display_data",
     "data": {
      "application/vnd.jupyter.widget-view+json": {
       "version_major": 2,
       "version_minor": 0,
       "model_id": "0b49cc9f38dd47a886f07bff427c7a5a"
      },
      "text/plain": [
       "Energy bins loop: 0it [00:00, ?it/s]"
      ]
     },
     "metadata": {}
    },
    {
     "output_type": "stream",
     "name": "stdout",
     "text": [
      "Generating maps..please wait.\n"
     ]
    },
    {
     "output_type": "display_data",
     "data": {
      "application/vnd.jupyter.widget-view+json": {
       "version_major": 2,
       "version_minor": 0,
       "model_id": "5bd226b6820041d1aa5104bc6a515521"
      },
      "text/plain": [
       "Fov bins loop:   0%|          | 0/1 [00:00<?, ?it/s]"
      ]
     },
     "metadata": {}
    },
    {
     "output_type": "display_data",
     "data": {
      "application/vnd.jupyter.widget-view+json": {
       "version_major": 2,
       "version_minor": 0,
       "model_id": "783f8dd52fd1401fb2511fe78cb50c2e"
      },
      "text/plain": [
       "Energy bins loop: 0it [00:00, ?it/s]"
      ]
     },
     "metadata": {}
    },
    {
     "output_type": "stream",
     "name": "stdout",
     "text": [
      "Generating maps..please wait.\n"
     ]
    },
    {
     "output_type": "display_data",
     "data": {
      "application/vnd.jupyter.widget-view+json": {
       "version_major": 2,
       "version_minor": 0,
       "model_id": "01d172a1021b417aac1dea1ff35fbc31"
      },
      "text/plain": [
       "Fov bins loop:   0%|          | 0/1 [00:00<?, ?it/s]"
      ]
     },
     "metadata": {}
    },
    {
     "output_type": "display_data",
     "data": {
      "application/vnd.jupyter.widget-view+json": {
       "version_major": 2,
       "version_minor": 0,
       "model_id": "d74a1d585109400cbe61891882e2c442"
      },
      "text/plain": [
       "Energy bins loop: 0it [00:00, ?it/s]"
      ]
     },
     "metadata": {}
    },
    {
     "output_type": "stream",
     "name": "stdout",
     "text": [
      "Generating maps..please wait.\n"
     ]
    },
    {
     "output_type": "display_data",
     "data": {
      "application/vnd.jupyter.widget-view+json": {
       "version_major": 2,
       "version_minor": 0,
       "model_id": "1f791e51bfd84efb9117bb154408112e"
      },
      "text/plain": [
       "Fov bins loop:   0%|          | 0/1 [00:00<?, ?it/s]"
      ]
     },
     "metadata": {}
    },
    {
     "output_type": "display_data",
     "data": {
      "application/vnd.jupyter.widget-view+json": {
       "version_major": 2,
       "version_minor": 0,
       "model_id": "e9607435b9d240479c3f6a878dadaa3b"
      },
      "text/plain": [
       "Energy bins loop: 0it [00:00, ?it/s]"
      ]
     },
     "metadata": {}
    },
    {
     "output_type": "stream",
     "name": "stdout",
     "text": [
      "Generating maps..please wait.\n"
     ]
    },
    {
     "output_type": "display_data",
     "data": {
      "application/vnd.jupyter.widget-view+json": {
       "version_major": 2,
       "version_minor": 0,
       "model_id": "53bfb442e9304a98bf950f39ed227a04"
      },
      "text/plain": [
       "Fov bins loop:   0%|          | 0/1 [00:00<?, ?it/s]"
      ]
     },
     "metadata": {}
    },
    {
     "output_type": "display_data",
     "data": {
      "application/vnd.jupyter.widget-view+json": {
       "version_major": 2,
       "version_minor": 0,
       "model_id": "6e83de5d98414fcba0b9e248d9d31383"
      },
      "text/plain": [
       "Energy bins loop: 0it [00:00, ?it/s]"
      ]
     },
     "metadata": {}
    },
    {
     "output_type": "stream",
     "name": "stdout",
     "text": [
      "Generating maps..please wait.\n"
     ]
    },
    {
     "output_type": "display_data",
     "data": {
      "application/vnd.jupyter.widget-view+json": {
       "version_major": 2,
       "version_minor": 0,
       "model_id": "c182efd3d77a4e27951568f3e88e80dc"
      },
      "text/plain": [
       "Fov bins loop:   0%|          | 0/1 [00:00<?, ?it/s]"
      ]
     },
     "metadata": {}
    },
    {
     "output_type": "display_data",
     "data": {
      "application/vnd.jupyter.widget-view+json": {
       "version_major": 2,
       "version_minor": 0,
       "model_id": "7ade92e47ceb4e97b8ca290bab2307ca"
      },
      "text/plain": [
       "Energy bins loop: 0it [00:00, ?it/s]"
      ]
     },
     "metadata": {}
    },
    {
     "output_type": "stream",
     "name": "stdout",
     "text": [
      "Generating maps..please wait.\n"
     ]
    },
    {
     "output_type": "display_data",
     "data": {
      "application/vnd.jupyter.widget-view+json": {
       "version_major": 2,
       "version_minor": 0,
       "model_id": "b2fd89f469a941489b045a1b5e28d659"
      },
      "text/plain": [
       "Fov bins loop:   0%|          | 0/1 [00:00<?, ?it/s]"
      ]
     },
     "metadata": {}
    },
    {
     "output_type": "display_data",
     "data": {
      "application/vnd.jupyter.widget-view+json": {
       "version_major": 2,
       "version_minor": 0,
       "model_id": "f3fd423605264fb393912e16e57c0868"
      },
      "text/plain": [
       "Energy bins loop: 0it [00:00, ?it/s]"
      ]
     },
     "metadata": {}
    },
    {
     "output_type": "stream",
     "name": "stdout",
     "text": [
      "Generating maps..please wait.\n"
     ]
    },
    {
     "output_type": "display_data",
     "data": {
      "application/vnd.jupyter.widget-view+json": {
       "version_major": 2,
       "version_minor": 0,
       "model_id": "a67121c9c7224ccb86c0c922fa5ce1c8"
      },
      "text/plain": [
       "Fov bins loop:   0%|          | 0/1 [00:00<?, ?it/s]"
      ]
     },
     "metadata": {}
    },
    {
     "output_type": "display_data",
     "data": {
      "application/vnd.jupyter.widget-view+json": {
       "version_major": 2,
       "version_minor": 0,
       "model_id": "6a88fdbb1f5149d6afdc9e9f61877e4f"
      },
      "text/plain": [
       "Energy bins loop: 0it [00:00, ?it/s]"
      ]
     },
     "metadata": {}
    },
    {
     "output_type": "stream",
     "name": "stdout",
     "text": [
      "Generating maps..please wait.\n"
     ]
    },
    {
     "output_type": "display_data",
     "data": {
      "application/vnd.jupyter.widget-view+json": {
       "version_major": 2,
       "version_minor": 0,
       "model_id": "7ee7769f48604daa95de24a51fb5cd22"
      },
      "text/plain": [
       "Fov bins loop:   0%|          | 0/1 [00:00<?, ?it/s]"
      ]
     },
     "metadata": {}
    },
    {
     "output_type": "display_data",
     "data": {
      "application/vnd.jupyter.widget-view+json": {
       "version_major": 2,
       "version_minor": 0,
       "model_id": "220e2e46ca5145fe8f25dcffe5e429e3"
      },
      "text/plain": [
       "Energy bins loop: 0it [00:00, ?it/s]"
      ]
     },
     "metadata": {}
    },
    {
     "output_type": "stream",
     "name": "stdout",
     "text": [
      "Generating maps..please wait.\n"
     ]
    },
    {
     "output_type": "display_data",
     "data": {
      "application/vnd.jupyter.widget-view+json": {
       "version_major": 2,
       "version_minor": 0,
       "model_id": "49e88632ae7c495880744e5c38918c4b"
      },
      "text/plain": [
       "Fov bins loop:   0%|          | 0/1 [00:00<?, ?it/s]"
      ]
     },
     "metadata": {}
    },
    {
     "output_type": "display_data",
     "data": {
      "application/vnd.jupyter.widget-view+json": {
       "version_major": 2,
       "version_minor": 0,
       "model_id": "4dae8b62564f4eafb606de03116af0da"
      },
      "text/plain": [
       "Energy bins loop: 0it [00:00, ?it/s]"
      ]
     },
     "metadata": {}
    },
    {
     "output_type": "stream",
     "name": "stdout",
     "text": [
      "Generating maps..please wait.\n"
     ]
    },
    {
     "output_type": "display_data",
     "data": {
      "application/vnd.jupyter.widget-view+json": {
       "version_major": 2,
       "version_minor": 0,
       "model_id": "3bb5d8d133d64f06869f71c22ca2a08b"
      },
      "text/plain": [
       "Fov bins loop:   0%|          | 0/1 [00:00<?, ?it/s]"
      ]
     },
     "metadata": {}
    },
    {
     "output_type": "display_data",
     "data": {
      "application/vnd.jupyter.widget-view+json": {
       "version_major": 2,
       "version_minor": 0,
       "model_id": "7cfab07193ed4be19fc625c5830b679f"
      },
      "text/plain": [
       "Energy bins loop: 0it [00:00, ?it/s]"
      ]
     },
     "metadata": {}
    },
    {
     "output_type": "stream",
     "name": "stdout",
     "text": [
      "Generating maps..please wait.\n"
     ]
    },
    {
     "output_type": "display_data",
     "data": {
      "application/vnd.jupyter.widget-view+json": {
       "version_major": 2,
       "version_minor": 0,
       "model_id": "d369d5e9de31419297ba98983101093c"
      },
      "text/plain": [
       "Fov bins loop:   0%|          | 0/1 [00:00<?, ?it/s]"
      ]
     },
     "metadata": {}
    },
    {
     "output_type": "display_data",
     "data": {
      "application/vnd.jupyter.widget-view+json": {
       "version_major": 2,
       "version_minor": 0,
       "model_id": "95d69774d1154081905c48f49af539d6"
      },
      "text/plain": [
       "Energy bins loop: 0it [00:00, ?it/s]"
      ]
     },
     "metadata": {}
    },
    {
     "output_type": "stream",
     "name": "stdout",
     "text": [
      "Generating maps..please wait.\n"
     ]
    },
    {
     "output_type": "display_data",
     "data": {
      "application/vnd.jupyter.widget-view+json": {
       "version_major": 2,
       "version_minor": 0,
       "model_id": "f20b551cb2074d4081a5c8feb397b6e6"
      },
      "text/plain": [
       "Fov bins loop:   0%|          | 0/1 [00:00<?, ?it/s]"
      ]
     },
     "metadata": {}
    },
    {
     "output_type": "display_data",
     "data": {
      "application/vnd.jupyter.widget-view+json": {
       "version_major": 2,
       "version_minor": 0,
       "model_id": "1912569c7d4c47df83faa6c7b4da90f8"
      },
      "text/plain": [
       "Energy bins loop: 0it [00:00, ?it/s]"
      ]
     },
     "metadata": {}
    },
    {
     "output_type": "stream",
     "name": "stdout",
     "text": [
      "Generating maps..please wait.\n"
     ]
    },
    {
     "output_type": "display_data",
     "data": {
      "application/vnd.jupyter.widget-view+json": {
       "version_major": 2,
       "version_minor": 0,
       "model_id": "39ecff936c404a3f842f43ae9e4120b1"
      },
      "text/plain": [
       "Fov bins loop:   0%|          | 0/1 [00:00<?, ?it/s]"
      ]
     },
     "metadata": {}
    },
    {
     "output_type": "display_data",
     "data": {
      "application/vnd.jupyter.widget-view+json": {
       "version_major": 2,
       "version_minor": 0,
       "model_id": "cb33de1b06fd41bea8c1d98c990c9b49"
      },
      "text/plain": [
       "Energy bins loop: 0it [00:00, ?it/s]"
      ]
     },
     "metadata": {}
    },
    {
     "output_type": "stream",
     "name": "stdout",
     "text": [
      "Generating maps..please wait.\n"
     ]
    },
    {
     "output_type": "display_data",
     "data": {
      "application/vnd.jupyter.widget-view+json": {
       "version_major": 2,
       "version_minor": 0,
       "model_id": "b7a5fafe364349eaa8914aab4a5994c2"
      },
      "text/plain": [
       "Fov bins loop:   0%|          | 0/1 [00:00<?, ?it/s]"
      ]
     },
     "metadata": {}
    },
    {
     "output_type": "display_data",
     "data": {
      "application/vnd.jupyter.widget-view+json": {
       "version_major": 2,
       "version_minor": 0,
       "model_id": "af8e3de7faaf42918c9ecff84359592c"
      },
      "text/plain": [
       "Energy bins loop: 0it [00:00, ?it/s]"
      ]
     },
     "metadata": {}
    },
    {
     "output_type": "stream",
     "name": "stdout",
     "text": [
      "Generating maps..please wait.\n"
     ]
    },
    {
     "output_type": "display_data",
     "data": {
      "application/vnd.jupyter.widget-view+json": {
       "version_major": 2,
       "version_minor": 0,
       "model_id": "474a9ae4ce454fb08324584ddc49ab0e"
      },
      "text/plain": [
       "Fov bins loop:   0%|          | 0/1 [00:00<?, ?it/s]"
      ]
     },
     "metadata": {}
    },
    {
     "output_type": "display_data",
     "data": {
      "application/vnd.jupyter.widget-view+json": {
       "version_major": 2,
       "version_minor": 0,
       "model_id": "2f06125ced4f4371aec0feabcc2dad91"
      },
      "text/plain": [
       "Energy bins loop: 0it [00:00, ?it/s]"
      ]
     },
     "metadata": {}
    },
    {
     "output_type": "stream",
     "name": "stdout",
     "text": [
      "Generating maps..please wait.\n"
     ]
    },
    {
     "output_type": "display_data",
     "data": {
      "application/vnd.jupyter.widget-view+json": {
       "version_major": 2,
       "version_minor": 0,
       "model_id": "eb0a6e62099d41a2b332df64e9f6bcd7"
      },
      "text/plain": [
       "Fov bins loop:   0%|          | 0/1 [00:00<?, ?it/s]"
      ]
     },
     "metadata": {}
    },
    {
     "output_type": "display_data",
     "data": {
      "application/vnd.jupyter.widget-view+json": {
       "version_major": 2,
       "version_minor": 0,
       "model_id": "51c9b812db094f6c846ed22c879a8634"
      },
      "text/plain": [
       "Energy bins loop: 0it [00:00, ?it/s]"
      ]
     },
     "metadata": {}
    },
    {
     "output_type": "stream",
     "name": "stdout",
     "text": [
      "Generating maps..please wait.\n"
     ]
    },
    {
     "output_type": "display_data",
     "data": {
      "application/vnd.jupyter.widget-view+json": {
       "version_major": 2,
       "version_minor": 0,
       "model_id": "18354d1e2b3e4b6892fd62549d2fc136"
      },
      "text/plain": [
       "Fov bins loop:   0%|          | 0/1 [00:00<?, ?it/s]"
      ]
     },
     "metadata": {}
    },
    {
     "output_type": "display_data",
     "data": {
      "application/vnd.jupyter.widget-view+json": {
       "version_major": 2,
       "version_minor": 0,
       "model_id": "b20f123ff6254a3c81375c10adf43b18"
      },
      "text/plain": [
       "Energy bins loop: 0it [00:00, ?it/s]"
      ]
     },
     "metadata": {}
    },
    {
     "output_type": "stream",
     "name": "stdout",
     "text": [
      "Generating maps..please wait.\n"
     ]
    },
    {
     "output_type": "display_data",
     "data": {
      "application/vnd.jupyter.widget-view+json": {
       "version_major": 2,
       "version_minor": 0,
       "model_id": "94a032ef0dfa40a7af8d126ac43972a2"
      },
      "text/plain": [
       "Fov bins loop:   0%|          | 0/1 [00:00<?, ?it/s]"
      ]
     },
     "metadata": {}
    },
    {
     "output_type": "display_data",
     "data": {
      "application/vnd.jupyter.widget-view+json": {
       "version_major": 2,
       "version_minor": 0,
       "model_id": "5643d336277448348a0778ab3535e7bd"
      },
      "text/plain": [
       "Energy bins loop: 0it [00:00, ?it/s]"
      ]
     },
     "metadata": {}
    },
    {
     "output_type": "stream",
     "name": "stdout",
     "text": [
      "Generating maps..please wait.\n"
     ]
    },
    {
     "output_type": "display_data",
     "data": {
      "application/vnd.jupyter.widget-view+json": {
       "version_major": 2,
       "version_minor": 0,
       "model_id": "29a976293c294a4e8a7881b52f0cf7ef"
      },
      "text/plain": [
       "Fov bins loop:   0%|          | 0/1 [00:00<?, ?it/s]"
      ]
     },
     "metadata": {}
    },
    {
     "output_type": "display_data",
     "data": {
      "application/vnd.jupyter.widget-view+json": {
       "version_major": 2,
       "version_minor": 0,
       "model_id": "65176eeea16041bf9521f12604434420"
      },
      "text/plain": [
       "Energy bins loop: 0it [00:00, ?it/s]"
      ]
     },
     "metadata": {}
    },
    {
     "output_type": "stream",
     "name": "stdout",
     "text": [
      "Generating maps..please wait.\n"
     ]
    },
    {
     "output_type": "display_data",
     "data": {
      "application/vnd.jupyter.widget-view+json": {
       "version_major": 2,
       "version_minor": 0,
       "model_id": "31e99f736a7c4de4832443fbe52cd5bc"
      },
      "text/plain": [
       "Fov bins loop:   0%|          | 0/1 [00:00<?, ?it/s]"
      ]
     },
     "metadata": {}
    },
    {
     "output_type": "display_data",
     "data": {
      "application/vnd.jupyter.widget-view+json": {
       "version_major": 2,
       "version_minor": 0,
       "model_id": "518894682d004042a2c0e1004805b354"
      },
      "text/plain": [
       "Energy bins loop: 0it [00:00, ?it/s]"
      ]
     },
     "metadata": {}
    },
    {
     "output_type": "stream",
     "name": "stdout",
     "text": [
      "Generating maps..please wait.\n"
     ]
    },
    {
     "output_type": "display_data",
     "data": {
      "application/vnd.jupyter.widget-view+json": {
       "version_major": 2,
       "version_minor": 0,
       "model_id": "ffd66eb752444ad3a4394f82fcc62c68"
      },
      "text/plain": [
       "Fov bins loop:   0%|          | 0/1 [00:00<?, ?it/s]"
      ]
     },
     "metadata": {}
    },
    {
     "output_type": "display_data",
     "data": {
      "application/vnd.jupyter.widget-view+json": {
       "version_major": 2,
       "version_minor": 0,
       "model_id": "0d51d54f54c04b0c81e86794921bdf9b"
      },
      "text/plain": [
       "Energy bins loop: 0it [00:00, ?it/s]"
      ]
     },
     "metadata": {}
    },
    {
     "output_type": "stream",
     "name": "stdout",
     "text": [
      "Generating maps..please wait.\n"
     ]
    },
    {
     "output_type": "display_data",
     "data": {
      "application/vnd.jupyter.widget-view+json": {
       "version_major": 2,
       "version_minor": 0,
       "model_id": "a85e816b4d0f426b86b7b28d3aa159f6"
      },
      "text/plain": [
       "Fov bins loop:   0%|          | 0/1 [00:00<?, ?it/s]"
      ]
     },
     "metadata": {}
    },
    {
     "output_type": "display_data",
     "data": {
      "application/vnd.jupyter.widget-view+json": {
       "version_major": 2,
       "version_minor": 0,
       "model_id": "31086deb2adf4a8b9cf3659a3ca0945c"
      },
      "text/plain": [
       "Energy bins loop: 0it [00:00, ?it/s]"
      ]
     },
     "metadata": {}
    },
    {
     "output_type": "stream",
     "name": "stdout",
     "text": [
      "Generating maps..please wait.\n"
     ]
    },
    {
     "output_type": "display_data",
     "data": {
      "application/vnd.jupyter.widget-view+json": {
       "version_major": 2,
       "version_minor": 0,
       "model_id": "5266fd84aef1480482871cef6bcfcb98"
      },
      "text/plain": [
       "Fov bins loop:   0%|          | 0/1 [00:00<?, ?it/s]"
      ]
     },
     "metadata": {}
    },
    {
     "output_type": "display_data",
     "data": {
      "application/vnd.jupyter.widget-view+json": {
       "version_major": 2,
       "version_minor": 0,
       "model_id": "98da613762bd4416a35070998736b333"
      },
      "text/plain": [
       "Energy bins loop: 0it [00:00, ?it/s]"
      ]
     },
     "metadata": {}
    },
    {
     "output_type": "stream",
     "name": "stdout",
     "text": [
      "Generating maps..please wait.\n"
     ]
    },
    {
     "output_type": "display_data",
     "data": {
      "application/vnd.jupyter.widget-view+json": {
       "version_major": 2,
       "version_minor": 0,
       "model_id": "609e8018521f44889d9a79b6ab28e0a1"
      },
      "text/plain": [
       "Fov bins loop:   0%|          | 0/1 [00:00<?, ?it/s]"
      ]
     },
     "metadata": {}
    },
    {
     "output_type": "display_data",
     "data": {
      "application/vnd.jupyter.widget-view+json": {
       "version_major": 2,
       "version_minor": 0,
       "model_id": "b0053c0d2503440597298e93596594cc"
      },
      "text/plain": [
       "Energy bins loop: 0it [00:00, ?it/s]"
      ]
     },
     "metadata": {}
    },
    {
     "output_type": "stream",
     "name": "stdout",
     "text": [
      "Generating maps..please wait.\n"
     ]
    },
    {
     "output_type": "display_data",
     "data": {
      "application/vnd.jupyter.widget-view+json": {
       "version_major": 2,
       "version_minor": 0,
       "model_id": "26e9940ea65d4496b1e6517c9bf3a30b"
      },
      "text/plain": [
       "Fov bins loop:   0%|          | 0/1 [00:00<?, ?it/s]"
      ]
     },
     "metadata": {}
    },
    {
     "output_type": "display_data",
     "data": {
      "application/vnd.jupyter.widget-view+json": {
       "version_major": 2,
       "version_minor": 0,
       "model_id": "8465495b697b46ec91afc2f96d0ed4fb"
      },
      "text/plain": [
       "Energy bins loop: 0it [00:00, ?it/s]"
      ]
     },
     "metadata": {}
    },
    {
     "output_type": "stream",
     "name": "stdout",
     "text": [
      "Generating maps..please wait.\n"
     ]
    },
    {
     "output_type": "display_data",
     "data": {
      "application/vnd.jupyter.widget-view+json": {
       "version_major": 2,
       "version_minor": 0,
       "model_id": "44a23201c44a4c9db85d1abcc420d25f"
      },
      "text/plain": [
       "Fov bins loop:   0%|          | 0/1 [00:00<?, ?it/s]"
      ]
     },
     "metadata": {}
    },
    {
     "output_type": "display_data",
     "data": {
      "application/vnd.jupyter.widget-view+json": {
       "version_major": 2,
       "version_minor": 0,
       "model_id": "fa26773ada18430997d1cab212d178e5"
      },
      "text/plain": [
       "Energy bins loop: 0it [00:00, ?it/s]"
      ]
     },
     "metadata": {}
    },
    {
     "output_type": "stream",
     "name": "stdout",
     "text": [
      "Generating maps..please wait.\n"
     ]
    },
    {
     "output_type": "display_data",
     "data": {
      "application/vnd.jupyter.widget-view+json": {
       "version_major": 2,
       "version_minor": 0,
       "model_id": "0a0705e8b9904c3486928b497b2ee60d"
      },
      "text/plain": [
       "Fov bins loop:   0%|          | 0/1 [00:00<?, ?it/s]"
      ]
     },
     "metadata": {}
    },
    {
     "output_type": "display_data",
     "data": {
      "application/vnd.jupyter.widget-view+json": {
       "version_major": 2,
       "version_minor": 0,
       "model_id": "d03845dbeda848fdaa1f61a148c9accb"
      },
      "text/plain": [
       "Energy bins loop: 0it [00:00, ?it/s]"
      ]
     },
     "metadata": {}
    },
    {
     "output_type": "stream",
     "name": "stderr",
     "text": [
      "100%|██████████| 3/3 [00:00<00:00, 7049.25it/s]"
     ]
    },
    {
     "output_type": "stream",
     "name": "stdout",
     "text": [
      "Generating maps..please wait.\n"
     ]
    },
    {
     "output_type": "stream",
     "name": "stderr",
     "text": [
      "\n"
     ]
    },
    {
     "output_type": "display_data",
     "data": {
      "application/vnd.jupyter.widget-view+json": {
       "version_major": 2,
       "version_minor": 0,
       "model_id": "696d1d2978b740f8b6ccbd16ebe58324"
      },
      "text/plain": [
       "Fov bins loop:   0%|          | 0/1 [00:00<?, ?it/s]"
      ]
     },
     "metadata": {}
    },
    {
     "output_type": "display_data",
     "data": {
      "application/vnd.jupyter.widget-view+json": {
       "version_major": 2,
       "version_minor": 0,
       "model_id": "43738f1ef7a14b2da4e2176c433dba14"
      },
      "text/plain": [
       "Energy bins loop: 0it [00:00, ?it/s]"
      ]
     },
     "metadata": {}
    }
   ],
   "metadata": {}
  },
  {
   "cell_type": "code",
   "execution_count": 24,
   "source": [
    "cat $lightCurveData1"
   ],
   "outputs": [
    {
     "output_type": "stream",
     "name": "stdout",
     "text": [
      "time_start_mjd time_end_mjd sqrt(ts) flux flux_err flux_ul gal gal_error iso iso_error l_peak b_peak dist_peak l b r ell_dist a b phi exposure ExpRatio counts counts_err Index Index_Err Par2 Par2_Err Par3 Par3_Err Erglog Erglog_Err Erglog_UL time_start_utc time_end_utc time_start_tt time_end_tt Fix index ULConfidenceLevel SrcLocConfLevel start_l start_b start_flux typefun par2 par3 galmode2 galmode2fit isomode2 isomode2fit edpcor fluxcor integratortype expratioEval expratio_minthr expratio_maxthr expratio_size Emin emax fovmin fovmax albedo binsize expstep phasecode fit_cts fit_fitstatus0 fit_fcn0 fit_edm0 fit_nvpar0 fit_nparx0 fit_iter0 fit_fitstatus1 fit_fcn1 fit_edm1 fit_nvpar1 fit_nparx1 fit_iter1 fit_Likelihood1\n",
      "54891.0 54892.0 0 0 29.5442e-08 65.4286e-08 0.7 0 10.5789 0.000729189 351.29 40.13 0 -1 -1 -1 -1 -1 -1 -1 15327000.0 0 0 4.52825 2.1 0 0 0 0 0 0 4.77481e-11 1.05743e-10 2009-03-01T00:00:00.000 2009-03-02T00:00:00.000 162950400.0 163036800.0 1 2.1 2 5.99147 351.29 40.13 1.60035e-06 0 0 0 0 0 0 0 0.75 0 1 1 0 15 10 100 10000 0 60 80 0.5 0 18 171 0 358.338 1.32735e-16 1 8 29 0 358.338 2.88138e-09 2 8 29 514.089\n",
      "54901.0 54902.0 4.06049 203.051e-08 72.2218e-08 368.356e-08 0.7 0 9.52769 0.393456 351.29 40.13 0 -1 -1 -1 -1 -1 -1 -1 11588200.0 0 23.5299 8.3692 2.1 0 0 0 0 0 3.28163e-10 1.16722e-10 5.95323e-10 2009-03-11T00:00:00.000 2009-03-12T00:00:00.000 163814400.0 163900800.0 1 2.1 2 5.99147 351.29 40.13 1.60035e-06 0 0 0 0 0 0 0 0.75 0 1 1 0 15 10 100 10000 0 60 80 0.5 0 18 138 0 321.762 9.24079e-18 1 8 31 0 313.519 5.11365e-09 2 8 31 434.36\n",
      "54902.0 54903.0 8.05785 423.923e-08 83.2459e-08 605.91e-08 0.7 0 10.5388 0.387137 351.29 40.13 0 -1 -1 -1 -1 -1 -1 -1 14133400.0 0 59.9148 11.7655 2.1 0 0 0 0 0 6.85129e-10 1.34539e-10 9.79248e-10 2009-03-12T00:00:00.000 2009-03-13T00:00:00.000 163900800.0 163987200.0 1 2.1 2 5.99147 351.29 40.13 1.60035e-06 0 0 0 0 0 0 0 0.75 0 1 1 0 15 10 100 10000 0 60 80 0.5 0 18 212 0 409.112 3.63511e-16 1 8 31 0 376.647 8.32884e-09 2 8 31 553.283\n",
      "54903.0 54904.0 7.78901 397.169e-08 81.9135e-08 577.077e-08 0.7 0 12.0163 0.363273 351.29 40.13 0 -1 -1 -1 -1 -1 -1 -1 13751600.0 0 54.617 11.2644 2.1 0 0 0 0 0 6.4189e-10 1.32385e-10 9.3265e-10 2009-03-13T00:00:00.000 2009-03-14T00:00:00.000 163987200.0 164073600.0 1 2.1 2 5.99147 351.29 40.13 1.60035e-06 0 0 0 0 0 0 0 0.75 0 1 1 0 15 10 100 10000 0 60 80 0.5 0 18 223 0 426.687 2.00774e-15 1 8 31 0 396.353 2.49649e-09 2 8 31 577.581\n",
      "54904.0 54905.0 3.53609 144.128e-08 57.0798e-08 276.349e-08 0.7 0 9.82444 0.346151 351.29 40.13 0 -1 -1 -1 -1 -1 -1 -1 13502200.0 0 19.4605 7.70703 2.1 0 0 0 0 0 2.32935e-10 9.22503e-11 4.46624e-10 2009-03-14T00:00:00.000 2009-03-15T00:00:00.000 164073600.0 164160000.0 1 2.1 2 5.99147 351.29 40.13 1.60035e-06 0 0 0 0 0 0 0 0.75 0 1 1 0 15 10 100 10000 0 60 80 0.5 0 18 159 0 333.967 7.19715e-14 1 8 39 0 327.715 1.41275e-06 2 8 39 481.169\n",
      "54905.0 54906.0 3.56433 174.274e-08 66.7147e-08 326.845e-08 0.7 0 13.0741 0.359578 351.29 40.13 0 -1 -1 -1 -1 -1 -1 -1 12904700.0 0 22.4895 8.60932 2.1 0 0 0 0 0 2.81654e-10 1.07822e-10 5.28235e-10 2009-03-15T00:00:00.000 2009-03-16T00:00:00.000 164160000.0 164246400.0 1 2.1 2 5.99147 351.29 40.13 1.60035e-06 0 0 0 0 0 0 0 0.75 0 1 1 0 15 10 100 10000 0 60 80 0.5 0 18 196 0 383.827 3.09926e-17 1 8 33 0 377.474 6.30617e-10 2 8 33 555.792\n",
      "54906.0 54907.0 2.61755 107.481e-08 56.2122e-08 242.211e-08 0.7 0 13.6486 0.318104 351.29 40.13 0 -1 -1 -1 -1 -1 -1 -1 12575300.0 0 13.516 7.06884 2.1 0 0 0 0 0 1.73707e-10 9.08479e-11 3.91452e-10 2009-03-16T00:00:00.000 2009-03-17T00:00:00.000 164246400.0 164332800.0 1 2.1 2 5.99147 351.29 40.13 1.60035e-06 0 0 0 0 0 0 0 0.75 0 1 1 0 15 10 100 10000 0 60 80 0.5 0 18 190 0 388.281 7.08976e-15 1 8 33 0 384.855 1.61817e-07 2 8 33 546.606\n",
      "54907.0 54908.0 3.52428 143.29e-08 59.6547e-08 284.329e-08 0.7 0 9.7226 0.340857 351.29 40.13 0 -1 -1 -1 -1 -1 -1 -1 12076400.0 0 17.3043 7.20415 2.1 0 0 0 0 0 2.31579e-10 9.64116e-11 4.59521e-10 2009-03-17T00:00:00.000 2009-03-18T00:00:00.000 164332800.0 164419200.0 1 2.1 2 5.99147 351.29 40.13 1.60035e-06 0 0 0 0 0 0 0 0.75 0 1 1 0 15 10 100 10000 0 60 80 0.5 0 18 141 0 319.023 4.05953e-16 1 8 31 0 312.812 1.32125e-06 2 8 31 444.108\n",
      "54908.0 54909.0 5.21763 276.298e-08 77.5968e-08 449.976e-08 0.7 0 10.7843 0.376245 351.29 40.13 0 -1 -1 -1 -1 -1 -1 -1 12029000.0 0 33.2358 9.33408 2.1 0 0 0 0 0 4.46542e-10 1.25409e-10 7.27233e-10 2009-03-18T00:00:00.000 2009-03-19T00:00:00.000 164419200.0 164505600.0 1 2.1 2 5.99147 351.29 40.13 1.60035e-06 0 0 0 0 0 0 0 0.75 0 1 1 0 15 10 100 10000 0 60 80 0.5 0 18 165 0 362.353 2.2341e-15 1 8 31 0 348.741 2.16656e-09 2 8 31 489.651\n",
      "54909.0 54910.0 6.79869 427.433e-08 97.2905e-08 641.939e-08 0.7 0 11.6668 0.427044 351.29 40.13 0 -1 -1 -1 -1 -1 -1 -1 11751700.0 0 50.2307 11.4333 2.1 0 0 0 0 0 6.90801e-10 1.57237e-10 1.03748e-09 2009-03-19T00:00:00.000 2009-03-20T00:00:00.000 164505600.0 164592000.0 1 2.1 2 5.99147 351.29 40.13 1.60035e-06 0 0 0 0 0 0 0 0.75 0 1 1 0 15 10 100 10000 0 60 80 0.5 0 18 187 0 389.913 5.49158e-16 1 8 31 0 366.802 6.99818e-08 2 8 31 524.166\n",
      "54910.0 54911.0 5.45957 281.394e-08 78.9666e-08 458.934e-08 0.7 0 7.66643 0.393927 351.29 40.13 0 -1 -1 -1 -1 -1 -1 -1 10991400.0 0 30.9292 8.67955 2.1 0 0 0 0 0 4.54778e-10 1.27623e-10 7.41712e-10 2009-03-20T00:00:00.000 2009-03-21T00:00:00.000 164592000.0 164678400.0 1 2.1 2 5.99147 351.29 40.13 1.60035e-06 0 0 0 0 0 0 0 0.75 0 1 1 0 15 10 100 10000 0 60 80 0.5 0 18 119 0 294.622 8.09453e-16 1 8 31 0 279.719 1.06678e-08 2 8 31 384.333\n",
      "54892.0 54893.0 0.117482 3.87559e-08 71.9094e-08 88.4117e-08 0.7 0 10.1437 0.326722 351.29 40.13 0 -1 -1 -1 -1 -1 -1 -1 14312700.0 0 0.5547 10.2921 2.1 0 0 0 0 0 6.26358e-12 1.16217e-10 1.42888e-10 2009-03-02T00:00:00.000 2009-03-03T00:00:00.000 163036800.0 163123200.0 1 2.1 2 5.99147 351.29 40.13 1.60035e-06 0 0 0 0 0 0 0 0.75 0 1 1 0 15 10 100 10000 0 60 80 0.5 0 18 154 0 338.839 1.7552e-17 1 8 31 0 338.832 1.09882e-07 2 8 31 478.446\n",
      "54911.0 54912.0 1.75425 101.604e-08 69.4247e-08 266.085e-08 0.7 0 13.4949 0.404757 351.29 40.13 0 -1 -1 -1 -1 -1 -1 -1 11005500.0 0 11.182 7.64057 2.1 0 0 0 0 0 1.64208e-10 1.12202e-10 4.30036e-10 2009-03-21T00:00:00.000 2009-03-22T00:00:00.000 164678400.0 164764800.0 1 2.1 2 5.99147 351.29 40.13 1.60035e-06 0 0 0 0 0 0 0 0.75 0 1 1 0 15 10 100 10000 0 60 80 0.5 0 18 160 0 343.754 1.23048e-16 1 8 31 0 342.216 7.02281e-07 2 8 31 491.125\n",
      "54912.0 54913.0 3.95278 211.955e-08 78.0871e-08 391.846e-08 0.7 0 11.7778 0.37436 351.29 40.13 0 -1 -1 -1 -1 -1 -1 -1 10417300.0 0 22.0799 8.13454 2.1 0 0 0 0 0 3.42553e-10 1.26201e-10 6.33287e-10 2009-03-22T00:00:00.000 2009-03-23T00:00:00.000 164764800.0 164851200.0 1 2.1 2 5.99147 351.29 40.13 1.60035e-06 0 0 0 0 0 0 0 0.75 0 1 1 0 15 10 100 10000 0 60 80 0.5 0 18 147 0 329.361 2.5078e-17 1 8 31 0 321.549 2.39322e-09 2 8 31 456.072\n",
      "54913.0 54914.0 2.7288 156.621e-08 75.9439e-08 334.724e-08 0.7 0 11.8074 0.387664 351.29 40.13 0 -1 -1 -1 -1 -1 -1 -1 9797000.0 0 15.3442 7.44022 2.1 0 0 0 0 0 2.53125e-10 1.22738e-10 5.40969e-10 2009-03-23T00:00:00.000 2009-03-24T00:00:00.000 164851200.0 164937600.0 1 2.1 2 5.99147 351.29 40.13 1.60035e-06 0 0 0 0 0 0 0 0.75 0 1 1 0 15 10 100 10000 0 60 80 0.5 0 18 134 0 306.537 9.50604e-16 1 8 33 0 302.814 1.5562e-06 2 8 33 429.883\n",
      "54914.0 54915.0 4.26204 295.894e-08 99.822e-08 522.78e-08 0.7 0 12.8721 0.383856 351.29 40.13 0 -1 -1 -1 -1 -1 -1 -1 8249200.0 0.416419 24.4089 8.23452 2.1 0 0 0 0 0 4.78212e-10 1.61329e-10 8.44897e-10 2009-03-24T00:00:00.000 2009-03-25T00:00:00.000 164937600.0 165024000.0 1 2.1 2 5.99147 351.29 40.13 1.60035e-06 0 0 0 0 0 0 0 0.75 0 1 1 0 15 10 100 10000 0 60 80 0.5 0 18 132 0 307.296 1.56751e-15 1 8 31 0 298.214 1.94133e-09 2 8 31 420.51\n",
      "54915.0 54916.0 7.0889 549.779e-08 121.191e-08 817.355e-08 0.7 0 14.1537 0.382357 351.29 40.13 0 -1 -1 -1 -1 -1 -1 -1 8602120.0 1.36823 47.2926 10.425 2.1 0 0 0 0 0 8.88531e-10 1.95865e-10 1.32098e-09 2009-03-25T00:00:00.000 2009-03-26T00:00:00.000 165024000.0 165110400.0 1 2.1 2 5.99147 351.29 40.13 1.60035e-06 0 0 0 0 0 0 0 0.75 0 1 1 0 15 10 100 10000 0 60 80 0.5 0 18 170 0 365.063 5.86609e-16 1 8 31 0 339.936 1.12688e-09 2 8 31 480.301\n",
      "54916.0 54917.0 3.30748 254.362e-08 103.996e-08 493.721e-08 0.7 0 14.214 0.396919 351.29 40.13 0 -1 -1 -1 -1 -1 -1 -1 7576590.0 3.15289 19.2719 7.87935 2.1 0 0 0 0 0 4.11089e-10 1.68074e-10 7.97933e-10 2009-03-26T00:00:00.000 2009-03-27T00:00:00.000 165110400.0 165196800.0 1 2.1 2 5.99147 351.29 40.13 1.60035e-06 0 0 0 0 0 0 0 0.75 0 1 1 0 15 10 100 10000 0 60 80 0.5 0 18 129 0 306.064 8.63357e-16 1 8 31 0 300.595 2.5218e-09 2 8 31 418.844\n",
      "54917.0 54918.0 5.55397 358.728e-08 105.917e-08 601.156e-08 0.7 0 11.6819 0.363246 351.29 40.13 0 -1 -1 -1 -1 -1 -1 -1 7598640.0 5.71089 27.2585 8.04828 2.1 0 0 0 0 0 5.79763e-10 1.7118e-10 9.71565e-10 2009-03-27T00:00:00.000 2009-03-28T00:00:00.000 165196800.0 165283200.0 1 2.1 2 5.99147 351.29 40.13 1.60035e-06 0 0 0 0 0 0 0 0.75 0 1 1 0 15 10 100 10000 0 60 80 0.5 0 18 118 0 281.796 9.37688e-16 1 8 31 0 266.373 6.50076e-09 2 8 31 372.236\n",
      "54918.0 54919.0 2.49159 182.314e-08 96.3735e-08 409.582e-08 0.7 0 12.6236 0.39998 351.29 40.13 0 -1 -1 -1 -1 -1 -1 -1 7073150.0 9.04224 12.8953 6.81664 2.1 0 0 0 0 0 2.94648e-10 1.55755e-10 6.61951e-10 2009-03-28T00:00:00.000 2009-03-29T00:00:00.000 165283200.0 165369600.0 1 2.1 2 5.99147 351.29 40.13 1.60035e-06 0 0 0 0 0 0 0 0.75 0 1 1 0 15 10 100 10000 0 60 80 0.5 0 18 105 0 255.621 8.06921e-16 1 8 35 0 252.517 1.54319e-09 2 8 35 351.971\n",
      "54919.0 54920.0 2.85192 211.262e-08 105.56e-08 463.637e-08 0.7 0 13.467 0.402619 351.29 40.13 0 -1 -1 -1 -1 -1 -1 -1 6560830.0 13.4444 13.8605 6.92559 2.1 0 0 0 0 0 3.41434e-10 1.70602e-10 7.49313e-10 2009-03-29T00:00:00.000 2009-03-30T00:00:00.000 165369600.0 165456000.0 1 2.1 2 5.99147 351.29 40.13 1.60035e-06 0 0 0 0 0 0 0 0.75 0 1 1 0 15 10 100 10000 0 60 80 0.5 0 18 103 0 257.922 3.20642e-15 1 8 33 0 253.855 4.8811e-09 2 8 33 348.538\n",
      "54920.0 54921.0 3.31217 300.919e-08 120.681e-08 575.943e-08 0.7 0 10.931 0.423116 351.29 40.13 0 -1 -1 -1 -1 -1 -1 -1 5944460.0 18.4414 17.888 7.17383 2.1 0 0 0 0 0 4.86334e-10 1.9504e-10 9.30818e-10 2009-03-30T00:00:00.000 2009-03-31T00:00:00.000 165456000.0 165542400.0 1 2.1 2 5.99147 351.29 40.13 1.60035e-06 0 0 0 0 0 0 0 0.75 0 1 1 0 15 10 100 10000 0 60 80 0.5 0 18 84 0 218.914 3.01612e-16 1 8 31 0 213.428 1.76319e-09 2 8 31 290.497\n",
      "54893.0 54894.0 0 3219650.0e-08 12.3362e-08 42.3844e-08 0.7 0 9.49689 0.000360052 351.29 40.13 0 -1 -1 -1 -1 -1 -1 -1 15551300.0 0 5.00698e-07 1.91844 2.1 0 0 0 0 0 5.20347e-18 1.99373e-11 6.85001e-11 2009-03-03T00:00:00.000 2009-03-04T00:00:00.000 163123200.0 163209600.0 1 2.1 2 5.99147 351.29 40.13 1.60035e-06 0 0 0 0 0 0 0 0.75 0 1 1 0 15 10 100 10000 0 60 80 0.5 0 18 157 0 341.689 1.93391e-18 1 8 33 0 341.689 3.06407e-07 2 8 33 483.44\n",
      "54894.0 54895.0 0 99920100.0e-08 11.8461e-08 41.8241e-08 0.7 0 10.3525 0.000288925 351.29 40.13 0 -1 -1 -1 -1 -1 -1 -1 15420500.0 0 1.54081e-07 1.82672 2.1 0 0 0 0 0 1.61487e-18 1.91452e-11 6.75945e-11 2009-03-04T00:00:00.000 2009-03-05T00:00:00.000 163209600.0 163296000.0 1 2.1 2 5.99147 351.29 40.13 1.60035e-06 0 0 0 0 0 0 0 0.75 0 1 1 0 15 10 100 10000 0 60 80 0.5 0 18 169 0 356.894 1.33316e-16 1 8 31 0 356.894 1.10336e-07 2 8 31 507.349\n",
      "54895.0 54896.0 0 0 9.67687e-08 36.8077e-08 0.7 0 11.4341 0.000174447 351.29 40.13 0 -1 -1 -1 -1 -1 -1 -1 15443200.0 0 0 1.49442 2.1 0 0 0 0 0 0 1.56394e-11 5.94872e-11 2009-03-05T00:00:00.000 2009-03-06T00:00:00.000 163296000.0 163382400.0 1 2.1 2 5.99147 351.29 40.13 1.60035e-06 0 0 0 0 0 0 0 0.75 0 1 1 0 15 10 100 10000 0 60 80 0.5 0 18 183 0 366.795 3.77899e-13 1 8 31 0 366.795 1.05847e-09 2 8 31 535.932\n",
      "54896.0 54897.0 3.33558 122.958e-08 51.0042e-08 241.242e-08 0.7 0 9.32364 0.34975 351.29 40.13 0 -1 -1 -1 -1 -1 -1 -1 15304200.0 0 18.8178 7.8058 2.1 0 0 0 0 0 1.98721e-10 8.2431e-11 3.89886e-10 2009-03-06T00:00:00.000 2009-03-07T00:00:00.000 163382400.0 163468800.0 1 2.1 2 5.99147 351.29 40.13 1.60035e-06 0 0 0 0 0 0 0 0.75 0 1 1 0 15 10 100 10000 0 60 80 0.5 0 18 168 0 355.777 2.97261e-17 1 8 33 0 350.214 8.8214e-07 2 8 33 501.919\n",
      "54897.0 54898.0 2.56632 105.062e-08 52.2423e-08 226.11e-08 0.7 0 9.28137 0.379103 351.29 40.13 0 -1 -1 -1 -1 -1 -1 -1 14884700.0 0 15.6382 7.77612 2.1 0 0 0 0 0 1.69797e-10 8.44321e-11 3.65431e-10 2009-03-07T00:00:00.000 2009-03-08T00:00:00.000 163468800.0 163555200.0 1 2.1 2 5.99147 351.29 40.13 1.60035e-06 0 0 0 0 0 0 0 0.75 0 1 1 0 15 10 100 10000 0 60 80 0.5 0 18 161 0 347.877 6.15524e-16 1 8 31 0 344.584 5.31228e-07 2 8 31 488.949\n",
      "54898.0 54899.0 3.26518 136.404e-08 56.792e-08 267.199e-08 0.7 0 8.97382 0.394614 351.29 40.13 0 -1 -1 -1 -1 -1 -1 -1 14806500.0 0 20.1967 8.40891 2.1 0 0 0 0 0 2.20452e-10 9.17851e-11 4.31837e-10 2009-03-08T00:00:00.000 2009-03-09T00:00:00.000 163555200.0 163641600.0 1 2.1 2 5.99147 351.29 40.13 1.60035e-06 0 0 0 0 0 0 0 0.75 0 1 1 0 15 10 100 10000 0 60 80 0.5 0 18 160 0 338.051 2.70533e-13 1 8 29 0 332.72 2.10271e-09 2 8 29 484.403\n",
      "54899.0 54900.0 4.09972 201.275e-08 68.5801e-08 355.378e-08 0.7 0 10.4752 0.425524 351.29 40.13 0 -1 -1 -1 -1 -1 -1 -1 14619600.0 0 29.4256 10.0262 2.1 0 0 0 0 0 3.25293e-10 1.10837e-10 5.74348e-10 2009-03-09T00:00:00.000 2009-03-10T00:00:00.000 163641600.0 163728000.0 1 2.1 2 5.99147 351.29 40.13 1.60035e-06 0 0 0 0 0 0 0 0.75 0 1 1 0 15 10 100 10000 0 60 80 0.5 0 18 187 0 378.461 2.18283e-17 1 8 31 0 370.057 1.46963e-08 2 8 31 534.876\n",
      "54900.0 54901.0 4.01114 172.007e-08 60.8438e-08 310.838e-08 0.7 0 10.2686 0.373657 351.29 40.13 0 -1 -1 -1 -1 -1 -1 -1 14455400.0 0 24.8643 8.79523 2.1 0 0 0 0 0 2.77991e-10 9.83334e-11 5.02364e-10 2009-03-10T00:00:00.000 2009-03-11T00:00:00.000 163728000.0 163814400.0 1 2.1 2 5.99147 351.29 40.13 1.60035e-06 0 0 0 0 0 0 0 0.75 0 1 1 0 15 10 100 10000 0 60 80 0.5 0 18 178 0 375.542 1.56546e-16 1 8 35 0 367.497 1.79125e-09 2 8 35 520.544\n"
     ]
    }
   ],
   "metadata": {}
  },
  {
   "cell_type": "code",
   "execution_count": 25,
   "source": [
    "print(lightCurveData1)"
   ],
   "outputs": [
    {
     "output_type": "stream",
     "name": "stdout",
     "text": [
      "/home/antonio/agilepy_analysis/username_PKS1510-089_20220209-103851/lc/0/light_curve_162950400_165542400.txt\n"
     ]
    }
   ],
   "metadata": {}
  },
  {
   "cell_type": "code",
   "execution_count": 26,
   "source": [
    "ag.displayLightCurve(\"mle\")"
   ],
   "outputs": [
    {
     "output_type": "stream",
     "name": "stdout",
     "text": [
      "Generating plot..please wait.\n"
     ]
    },
    {
     "output_type": "display_data",
     "data": {
      "application/vnd.plotly.v1+json": {
       "data": [
        {
         "customdata": [
          [
           54901,
           54902,
           4.06049
          ],
          [
           54902,
           54903,
           8.05785
          ],
          [
           54903,
           54904,
           7.78901
          ],
          [
           54904,
           54905,
           3.53609
          ],
          [
           54905,
           54906,
           3.5643300000000004
          ],
          [
           54907,
           54908,
           3.52428
          ],
          [
           54908,
           54909,
           5.217630000000001
          ],
          [
           54909,
           54910,
           6.79869
          ],
          [
           54910,
           54911,
           5.459569999999999
          ],
          [
           54912,
           54913,
           3.95278
          ],
          [
           54914,
           54915,
           4.26204
          ],
          [
           54915,
           54916,
           7.0889
          ],
          [
           54916,
           54917,
           3.3074800000000004
          ],
          [
           54917,
           54918,
           5.55397
          ],
          [
           54920,
           54921,
           3.3121699999999996
          ],
          [
           54896,
           54897,
           3.33558
          ],
          [
           54898,
           54899,
           3.26518
          ],
          [
           54899,
           54900,
           4.09972
          ],
          [
           54900,
           54901,
           4.01114
          ]
         ],
         "error_x": {
          "array": [
           0.5,
           0.5,
           0.5,
           0.5,
           0.5,
           0.5,
           0.5,
           0.5,
           0.5,
           0.5,
           0.5,
           0.5,
           0.5,
           0.5,
           0.5,
           0.5,
           0.5,
           0.5,
           0.5
          ],
          "arrayminus": [
           0.5,
           0.5,
           0.5,
           0.5,
           0.5,
           0.5,
           0.5,
           0.5,
           0.5,
           0.5,
           0.5,
           0.5,
           0.5,
           0.5,
           0.5,
           0.5,
           0.5,
           0.5,
           0.5
          ],
          "symmetric": false,
          "type": "data"
         },
         "error_y": {
          "array": [
           72.2218,
           83.2459,
           81.9135,
           57.07979999999999,
           66.7147,
           59.6547,
           77.5968,
           97.2905,
           78.9666,
           78.0871,
           99.82199999999999,
           121.191,
           103.99600000000001,
           105.917,
           120.68099999999998,
           51.0042,
           56.792,
           68.5801,
           60.84380000000001
          ],
          "symmetric": true,
          "type": "data"
         },
         "hovertemplate": "tstart: %{customdata[0]:.4f} - tend:%{customdata[1]:.4f}, flux: %{y:.2f} +/- %{error_y.array:.2f}, sqrts: %{customdata[2]:.4f}",
         "mode": "markers",
         "name": "flux",
         "x": [
          54901.5,
          54902.5,
          54903.5,
          54904.5,
          54905.5,
          54907.5,
          54908.5,
          54909.5,
          54910.5,
          54912.5,
          54914.5,
          54915.5,
          54916.5,
          54917.5,
          54920.5,
          54896.5,
          54898.5,
          54899.5,
          54900.5
         ],
         "y": [
          203.05099999999996,
          423.92300000000006,
          397.16900000000004,
          144.128,
          174.274,
          143.29,
          276.298,
          427.43300000000005,
          281.394,
          211.95500000000004,
          295.894,
          549.779,
          254.36199999999997,
          358.728,
          300.91900000000004,
          122.958,
          136.404,
          201.27499999999998,
          172.007
         ],
         "type": "scatter"
        },
        {
         "customdata": [
          [
           54891,
           54892,
           0
          ],
          [
           54906,
           54907,
           2.61755
          ],
          [
           54892,
           54893,
           0.11748199999999999
          ],
          [
           54911,
           54912,
           1.75425
          ],
          [
           54913,
           54914,
           2.7288
          ],
          [
           54918,
           54919,
           2.49159
          ],
          [
           54919,
           54920,
           2.8519200000000002
          ],
          [
           54893,
           54894,
           0
          ],
          [
           54894,
           54895,
           0
          ],
          [
           54895,
           54896,
           0
          ],
          [
           54897,
           54898,
           2.56632
          ]
         ],
         "error_x": {
          "array": [
           0.5,
           0.5,
           0.5,
           0.5,
           0.5,
           0.5,
           0.5,
           0.5,
           0.5,
           0.5,
           0.5
          ],
          "arrayminus": [
           0.5,
           0.5,
           0.5,
           0.5,
           0.5,
           0.5,
           0.5,
           0.5,
           0.5,
           0.5,
           0.5
          ],
          "symmetric": false,
          "type": "data"
         },
         "hovertemplate": "tstart: %{customdata[0]:.4f}, tend:%{customdata[1]:.4f}, flux_ul: %{y:.2f}, sqrts: %{customdata[2]:.4f}",
         "marker": {
          "size": 10,
          "symbol": "triangle-down"
         },
         "mode": "markers",
         "name": "flux_ul",
         "x": [
          54891.5,
          54906.5,
          54892.5,
          54911.5,
          54913.5,
          54918.5,
          54919.5,
          54893.5,
          54894.5,
          54895.5,
          54897.5
         ],
         "y": [
          65.4286,
          242.21099999999998,
          88.4117,
          266.085,
          334.724,
          409.58199999999994,
          463.637,
          42.3844,
          41.8241,
          36.8077,
          226.11
         ],
         "type": "scatter"
        }
       ],
       "layout": {
        "template": {
         "data": {
          "bar": [
           {
            "error_x": {
             "color": "#2a3f5f"
            },
            "error_y": {
             "color": "#2a3f5f"
            },
            "marker": {
             "line": {
              "color": "#E5ECF6",
              "width": 0.5
             },
             "pattern": {
              "fillmode": "overlay",
              "size": 10,
              "solidity": 0.2
             }
            },
            "type": "bar"
           }
          ],
          "barpolar": [
           {
            "marker": {
             "line": {
              "color": "#E5ECF6",
              "width": 0.5
             },
             "pattern": {
              "fillmode": "overlay",
              "size": 10,
              "solidity": 0.2
             }
            },
            "type": "barpolar"
           }
          ],
          "carpet": [
           {
            "aaxis": {
             "endlinecolor": "#2a3f5f",
             "gridcolor": "white",
             "linecolor": "white",
             "minorgridcolor": "white",
             "startlinecolor": "#2a3f5f"
            },
            "baxis": {
             "endlinecolor": "#2a3f5f",
             "gridcolor": "white",
             "linecolor": "white",
             "minorgridcolor": "white",
             "startlinecolor": "#2a3f5f"
            },
            "type": "carpet"
           }
          ],
          "choropleth": [
           {
            "colorbar": {
             "outlinewidth": 0,
             "ticks": ""
            },
            "type": "choropleth"
           }
          ],
          "contour": [
           {
            "colorbar": {
             "outlinewidth": 0,
             "ticks": ""
            },
            "colorscale": [
             [
              0,
              "#0d0887"
             ],
             [
              0.1111111111111111,
              "#46039f"
             ],
             [
              0.2222222222222222,
              "#7201a8"
             ],
             [
              0.3333333333333333,
              "#9c179e"
             ],
             [
              0.4444444444444444,
              "#bd3786"
             ],
             [
              0.5555555555555556,
              "#d8576b"
             ],
             [
              0.6666666666666666,
              "#ed7953"
             ],
             [
              0.7777777777777778,
              "#fb9f3a"
             ],
             [
              0.8888888888888888,
              "#fdca26"
             ],
             [
              1,
              "#f0f921"
             ]
            ],
            "type": "contour"
           }
          ],
          "contourcarpet": [
           {
            "colorbar": {
             "outlinewidth": 0,
             "ticks": ""
            },
            "type": "contourcarpet"
           }
          ],
          "heatmap": [
           {
            "colorbar": {
             "outlinewidth": 0,
             "ticks": ""
            },
            "colorscale": [
             [
              0,
              "#0d0887"
             ],
             [
              0.1111111111111111,
              "#46039f"
             ],
             [
              0.2222222222222222,
              "#7201a8"
             ],
             [
              0.3333333333333333,
              "#9c179e"
             ],
             [
              0.4444444444444444,
              "#bd3786"
             ],
             [
              0.5555555555555556,
              "#d8576b"
             ],
             [
              0.6666666666666666,
              "#ed7953"
             ],
             [
              0.7777777777777778,
              "#fb9f3a"
             ],
             [
              0.8888888888888888,
              "#fdca26"
             ],
             [
              1,
              "#f0f921"
             ]
            ],
            "type": "heatmap"
           }
          ],
          "heatmapgl": [
           {
            "colorbar": {
             "outlinewidth": 0,
             "ticks": ""
            },
            "colorscale": [
             [
              0,
              "#0d0887"
             ],
             [
              0.1111111111111111,
              "#46039f"
             ],
             [
              0.2222222222222222,
              "#7201a8"
             ],
             [
              0.3333333333333333,
              "#9c179e"
             ],
             [
              0.4444444444444444,
              "#bd3786"
             ],
             [
              0.5555555555555556,
              "#d8576b"
             ],
             [
              0.6666666666666666,
              "#ed7953"
             ],
             [
              0.7777777777777778,
              "#fb9f3a"
             ],
             [
              0.8888888888888888,
              "#fdca26"
             ],
             [
              1,
              "#f0f921"
             ]
            ],
            "type": "heatmapgl"
           }
          ],
          "histogram": [
           {
            "marker": {
             "pattern": {
              "fillmode": "overlay",
              "size": 10,
              "solidity": 0.2
             }
            },
            "type": "histogram"
           }
          ],
          "histogram2d": [
           {
            "colorbar": {
             "outlinewidth": 0,
             "ticks": ""
            },
            "colorscale": [
             [
              0,
              "#0d0887"
             ],
             [
              0.1111111111111111,
              "#46039f"
             ],
             [
              0.2222222222222222,
              "#7201a8"
             ],
             [
              0.3333333333333333,
              "#9c179e"
             ],
             [
              0.4444444444444444,
              "#bd3786"
             ],
             [
              0.5555555555555556,
              "#d8576b"
             ],
             [
              0.6666666666666666,
              "#ed7953"
             ],
             [
              0.7777777777777778,
              "#fb9f3a"
             ],
             [
              0.8888888888888888,
              "#fdca26"
             ],
             [
              1,
              "#f0f921"
             ]
            ],
            "type": "histogram2d"
           }
          ],
          "histogram2dcontour": [
           {
            "colorbar": {
             "outlinewidth": 0,
             "ticks": ""
            },
            "colorscale": [
             [
              0,
              "#0d0887"
             ],
             [
              0.1111111111111111,
              "#46039f"
             ],
             [
              0.2222222222222222,
              "#7201a8"
             ],
             [
              0.3333333333333333,
              "#9c179e"
             ],
             [
              0.4444444444444444,
              "#bd3786"
             ],
             [
              0.5555555555555556,
              "#d8576b"
             ],
             [
              0.6666666666666666,
              "#ed7953"
             ],
             [
              0.7777777777777778,
              "#fb9f3a"
             ],
             [
              0.8888888888888888,
              "#fdca26"
             ],
             [
              1,
              "#f0f921"
             ]
            ],
            "type": "histogram2dcontour"
           }
          ],
          "mesh3d": [
           {
            "colorbar": {
             "outlinewidth": 0,
             "ticks": ""
            },
            "type": "mesh3d"
           }
          ],
          "parcoords": [
           {
            "line": {
             "colorbar": {
              "outlinewidth": 0,
              "ticks": ""
             }
            },
            "type": "parcoords"
           }
          ],
          "pie": [
           {
            "automargin": true,
            "type": "pie"
           }
          ],
          "scatter": [
           {
            "marker": {
             "colorbar": {
              "outlinewidth": 0,
              "ticks": ""
             }
            },
            "type": "scatter"
           }
          ],
          "scatter3d": [
           {
            "line": {
             "colorbar": {
              "outlinewidth": 0,
              "ticks": ""
             }
            },
            "marker": {
             "colorbar": {
              "outlinewidth": 0,
              "ticks": ""
             }
            },
            "type": "scatter3d"
           }
          ],
          "scattercarpet": [
           {
            "marker": {
             "colorbar": {
              "outlinewidth": 0,
              "ticks": ""
             }
            },
            "type": "scattercarpet"
           }
          ],
          "scattergeo": [
           {
            "marker": {
             "colorbar": {
              "outlinewidth": 0,
              "ticks": ""
             }
            },
            "type": "scattergeo"
           }
          ],
          "scattergl": [
           {
            "marker": {
             "colorbar": {
              "outlinewidth": 0,
              "ticks": ""
             }
            },
            "type": "scattergl"
           }
          ],
          "scattermapbox": [
           {
            "marker": {
             "colorbar": {
              "outlinewidth": 0,
              "ticks": ""
             }
            },
            "type": "scattermapbox"
           }
          ],
          "scatterpolar": [
           {
            "marker": {
             "colorbar": {
              "outlinewidth": 0,
              "ticks": ""
             }
            },
            "type": "scatterpolar"
           }
          ],
          "scatterpolargl": [
           {
            "marker": {
             "colorbar": {
              "outlinewidth": 0,
              "ticks": ""
             }
            },
            "type": "scatterpolargl"
           }
          ],
          "scatterternary": [
           {
            "marker": {
             "colorbar": {
              "outlinewidth": 0,
              "ticks": ""
             }
            },
            "type": "scatterternary"
           }
          ],
          "surface": [
           {
            "colorbar": {
             "outlinewidth": 0,
             "ticks": ""
            },
            "colorscale": [
             [
              0,
              "#0d0887"
             ],
             [
              0.1111111111111111,
              "#46039f"
             ],
             [
              0.2222222222222222,
              "#7201a8"
             ],
             [
              0.3333333333333333,
              "#9c179e"
             ],
             [
              0.4444444444444444,
              "#bd3786"
             ],
             [
              0.5555555555555556,
              "#d8576b"
             ],
             [
              0.6666666666666666,
              "#ed7953"
             ],
             [
              0.7777777777777778,
              "#fb9f3a"
             ],
             [
              0.8888888888888888,
              "#fdca26"
             ],
             [
              1,
              "#f0f921"
             ]
            ],
            "type": "surface"
           }
          ],
          "table": [
           {
            "cells": {
             "fill": {
              "color": "#EBF0F8"
             },
             "line": {
              "color": "white"
             }
            },
            "header": {
             "fill": {
              "color": "#C8D4E3"
             },
             "line": {
              "color": "white"
             }
            },
            "type": "table"
           }
          ]
         },
         "layout": {
          "annotationdefaults": {
           "arrowcolor": "#2a3f5f",
           "arrowhead": 0,
           "arrowwidth": 1
          },
          "autotypenumbers": "strict",
          "coloraxis": {
           "colorbar": {
            "outlinewidth": 0,
            "ticks": ""
           }
          },
          "colorscale": {
           "diverging": [
            [
             0,
             "#8e0152"
            ],
            [
             0.1,
             "#c51b7d"
            ],
            [
             0.2,
             "#de77ae"
            ],
            [
             0.3,
             "#f1b6da"
            ],
            [
             0.4,
             "#fde0ef"
            ],
            [
             0.5,
             "#f7f7f7"
            ],
            [
             0.6,
             "#e6f5d0"
            ],
            [
             0.7,
             "#b8e186"
            ],
            [
             0.8,
             "#7fbc41"
            ],
            [
             0.9,
             "#4d9221"
            ],
            [
             1,
             "#276419"
            ]
           ],
           "sequential": [
            [
             0,
             "#0d0887"
            ],
            [
             0.1111111111111111,
             "#46039f"
            ],
            [
             0.2222222222222222,
             "#7201a8"
            ],
            [
             0.3333333333333333,
             "#9c179e"
            ],
            [
             0.4444444444444444,
             "#bd3786"
            ],
            [
             0.5555555555555556,
             "#d8576b"
            ],
            [
             0.6666666666666666,
             "#ed7953"
            ],
            [
             0.7777777777777778,
             "#fb9f3a"
            ],
            [
             0.8888888888888888,
             "#fdca26"
            ],
            [
             1,
             "#f0f921"
            ]
           ],
           "sequentialminus": [
            [
             0,
             "#0d0887"
            ],
            [
             0.1111111111111111,
             "#46039f"
            ],
            [
             0.2222222222222222,
             "#7201a8"
            ],
            [
             0.3333333333333333,
             "#9c179e"
            ],
            [
             0.4444444444444444,
             "#bd3786"
            ],
            [
             0.5555555555555556,
             "#d8576b"
            ],
            [
             0.6666666666666666,
             "#ed7953"
            ],
            [
             0.7777777777777778,
             "#fb9f3a"
            ],
            [
             0.8888888888888888,
             "#fdca26"
            ],
            [
             1,
             "#f0f921"
            ]
           ]
          },
          "colorway": [
           "#636efa",
           "#EF553B",
           "#00cc96",
           "#ab63fa",
           "#FFA15A",
           "#19d3f3",
           "#FF6692",
           "#B6E880",
           "#FF97FF",
           "#FECB52"
          ],
          "font": {
           "color": "#2a3f5f"
          },
          "geo": {
           "bgcolor": "white",
           "lakecolor": "white",
           "landcolor": "#E5ECF6",
           "showlakes": true,
           "showland": true,
           "subunitcolor": "white"
          },
          "hoverlabel": {
           "align": "left"
          },
          "hovermode": "closest",
          "mapbox": {
           "style": "light"
          },
          "paper_bgcolor": "white",
          "plot_bgcolor": "#E5ECF6",
          "polar": {
           "angularaxis": {
            "gridcolor": "white",
            "linecolor": "white",
            "ticks": ""
           },
           "bgcolor": "#E5ECF6",
           "radialaxis": {
            "gridcolor": "white",
            "linecolor": "white",
            "ticks": ""
           }
          },
          "scene": {
           "xaxis": {
            "backgroundcolor": "#E5ECF6",
            "gridcolor": "white",
            "gridwidth": 2,
            "linecolor": "white",
            "showbackground": true,
            "ticks": "",
            "zerolinecolor": "white"
           },
           "yaxis": {
            "backgroundcolor": "#E5ECF6",
            "gridcolor": "white",
            "gridwidth": 2,
            "linecolor": "white",
            "showbackground": true,
            "ticks": "",
            "zerolinecolor": "white"
           },
           "zaxis": {
            "backgroundcolor": "#E5ECF6",
            "gridcolor": "white",
            "gridwidth": 2,
            "linecolor": "white",
            "showbackground": true,
            "ticks": "",
            "zerolinecolor": "white"
           }
          },
          "shapedefaults": {
           "line": {
            "color": "#2a3f5f"
           }
          },
          "ternary": {
           "aaxis": {
            "gridcolor": "white",
            "linecolor": "white",
            "ticks": ""
           },
           "baxis": {
            "gridcolor": "white",
            "linecolor": "white",
            "ticks": ""
           },
           "bgcolor": "#E5ECF6",
           "caxis": {
            "gridcolor": "white",
            "linecolor": "white",
            "ticks": ""
           }
          },
          "title": {
           "x": 0.05
          },
          "xaxis": {
           "automargin": true,
           "gridcolor": "white",
           "linecolor": "white",
           "ticks": "",
           "title": {
            "standoff": 15
           },
           "zerolinecolor": "white",
           "zerolinewidth": 2
          },
          "yaxis": {
           "automargin": true,
           "gridcolor": "white",
           "linecolor": "white",
           "ticks": "",
           "title": {
            "standoff": 15
           },
           "zerolinecolor": "white",
           "zerolinewidth": 2
          }
         }
        },
        "xaxis": {
         "showline": true,
         "linecolor": "black",
         "title": {
          "text": "Time(MJD)"
         },
         "tickformat": "g"
        },
        "yaxis": {
         "showline": true,
         "linecolor": "black",
         "title": {
          "text": "$10^{-8} ph cm^{-2} s^{-1}$"
         }
        },
        "legend": {
         "font": {
          "size": 17
         },
         "orientation": "h",
         "yanchor": "bottom",
         "y": 1.02,
         "xanchor": "left"
        }
       },
       "config": {
        "plotlyServerURL": "https://plot.ly"
       }
      }
     },
     "metadata": {}
    }
   ],
   "metadata": {
    "scrolled": false
   }
  },
  {
   "cell_type": "code",
   "execution_count": 27,
   "source": [
    "affectedSources = ag.freeSources('name == \"PKS1510-089\"', \"pos\", True, show=True)\n",
    "lightCurveData1 = ag.lightCurveMLE(\"PKS1510-089\", binsize=86400)"
   ],
   "outputs": [
    {
     "output_type": "stream",
     "name": "stdout",
     "text": [
      "\n",
      "-----------------------------------------------------------\u001b[1m\n",
      " Source name: PKS1510-089 (PointSource)\u001b[0m\u001b[1m => sqrt(ts): 20.0815\u001b[0m\n",
      "  * \u001b[1mSpectrum type\u001b[0m: PowerLaw\n",
      "  * \u001b[1mFree parameters\u001b[0m: flux pos\n",
      "  * \u001b[1mInitial source parameters\u001b[0m:\n",
      "\t- flux (ph/cm2s): 1.7293e-06 +/- 1.2311e-07\n",
      "\t- index : 2.1 +/- 0\n",
      "\t- Source position (l,b): (351.29, 40.13)\n",
      "\t- Distance from map center (deg): 0.0\n",
      "  * \u001b[1mLast MLE analysis\u001b[0m (2022-02-09 10:47:41.262727):\n",
      "\t- flux (ph/cm2s): 1.6004e-06 +/- 6.9527e-316\n",
      "\t- index : 2.1 +/- 6.92852e-310\n",
      "\t- upper limit(ph/cm2s): 1.83745e-06\n",
      "\t- ergLog(erg/cm2s): 2.58642e-10 +/- 1.12365e-319\n",
      "\t- galCoeff: [0.7, 0.7, 0.7, 0.7]\n",
      "\t- isoCoeff: [6.02924, 3.10287, 0.877702, 0.103418] +/- [0.314041, 0.158983, 0.0577251, 0.0235669]\n",
      "\t- exposure(cm2s): 358153000.0\n",
      "\t- exp-ratio: 0\n",
      "\t- L_peak: 351.29\n",
      "\t- B_peak: 40.13\n",
      "\t- Distance from start pos: 0\n",
      "\t- position:\n",
      "\t    - L: -1\n",
      "\t    - B: -1\n",
      "\t    - Distance from start pos: -1\n",
      "\t    - radius of circle: -1\n",
      "\t    - ellipse:\n",
      "\t\t  - a: -1\n",
      "\t\t  - b: -1\n",
      "\t\t  - phi: -1\n",
      "-----------------------------------------------------------\n",
      "Computing light curve bins..please wait.\n"
     ]
    },
    {
     "output_type": "stream",
     "name": "stderr",
     "text": [
      "100%|██████████| 33/33 [00:00<00:00, 98513.90it/s]\n"
     ]
    },
    {
     "output_type": "display_data",
     "data": {
      "application/vnd.jupyter.widget-view+json": {
       "version_major": 2,
       "version_minor": 0,
       "model_id": "ed224fc4a09e4f9191b4907550dce72c"
      },
      "text/plain": [
       "Temporal bin loop:   0%|          | 0/30 [00:00<?, ?it/s]"
      ]
     },
     "metadata": {}
    },
    {
     "output_type": "stream",
     "name": "stdout",
     "text": [
      "Generating maps..please wait.\n"
     ]
    },
    {
     "output_type": "display_data",
     "data": {
      "application/vnd.jupyter.widget-view+json": {
       "version_major": 2,
       "version_minor": 0,
       "model_id": "f05e7cf41f0d42bbbf6de5db9a2f322d"
      },
      "text/plain": [
       "Fov bins loop:   0%|          | 0/1 [00:00<?, ?it/s]"
      ]
     },
     "metadata": {}
    },
    {
     "output_type": "display_data",
     "data": {
      "application/vnd.jupyter.widget-view+json": {
       "version_major": 2,
       "version_minor": 0,
       "model_id": "80a0f9a3cb2e46909fa9caac8d957726"
      },
      "text/plain": [
       "Energy bins loop: 0it [00:00, ?it/s]"
      ]
     },
     "metadata": {}
    },
    {
     "output_type": "stream",
     "name": "stdout",
     "text": [
      "Generating maps..please wait.\n"
     ]
    },
    {
     "output_type": "display_data",
     "data": {
      "application/vnd.jupyter.widget-view+json": {
       "version_major": 2,
       "version_minor": 0,
       "model_id": "336b2bdfdafc49af9338b393d849934e"
      },
      "text/plain": [
       "Fov bins loop:   0%|          | 0/1 [00:00<?, ?it/s]"
      ]
     },
     "metadata": {}
    },
    {
     "output_type": "display_data",
     "data": {
      "application/vnd.jupyter.widget-view+json": {
       "version_major": 2,
       "version_minor": 0,
       "model_id": "241aee5d3a774c60947d1ab816e1dc03"
      },
      "text/plain": [
       "Energy bins loop: 0it [00:00, ?it/s]"
      ]
     },
     "metadata": {}
    },
    {
     "output_type": "stream",
     "name": "stdout",
     "text": [
      "Generating maps..please wait.\n"
     ]
    },
    {
     "output_type": "display_data",
     "data": {
      "application/vnd.jupyter.widget-view+json": {
       "version_major": 2,
       "version_minor": 0,
       "model_id": "9b975f918c7344ca9787a0da331e696b"
      },
      "text/plain": [
       "Fov bins loop:   0%|          | 0/1 [00:00<?, ?it/s]"
      ]
     },
     "metadata": {}
    },
    {
     "output_type": "display_data",
     "data": {
      "application/vnd.jupyter.widget-view+json": {
       "version_major": 2,
       "version_minor": 0,
       "model_id": "7dd3168ac3354b12bacd52cf52add0b3"
      },
      "text/plain": [
       "Energy bins loop: 0it [00:00, ?it/s]"
      ]
     },
     "metadata": {}
    },
    {
     "output_type": "stream",
     "name": "stdout",
     "text": [
      "Generating maps..please wait.\n"
     ]
    },
    {
     "output_type": "display_data",
     "data": {
      "application/vnd.jupyter.widget-view+json": {
       "version_major": 2,
       "version_minor": 0,
       "model_id": "6d128789d79b4725b9139ac9bf8bbf21"
      },
      "text/plain": [
       "Fov bins loop:   0%|          | 0/1 [00:00<?, ?it/s]"
      ]
     },
     "metadata": {}
    },
    {
     "output_type": "display_data",
     "data": {
      "application/vnd.jupyter.widget-view+json": {
       "version_major": 2,
       "version_minor": 0,
       "model_id": "5cb11cc34c7f4383bfd29d98555783d8"
      },
      "text/plain": [
       "Energy bins loop: 0it [00:00, ?it/s]"
      ]
     },
     "metadata": {}
    },
    {
     "output_type": "stream",
     "name": "stdout",
     "text": [
      "Generating maps..please wait.\n"
     ]
    },
    {
     "output_type": "display_data",
     "data": {
      "application/vnd.jupyter.widget-view+json": {
       "version_major": 2,
       "version_minor": 0,
       "model_id": "1c8954712788439a832f322a23ae3eca"
      },
      "text/plain": [
       "Fov bins loop:   0%|          | 0/1 [00:00<?, ?it/s]"
      ]
     },
     "metadata": {}
    },
    {
     "output_type": "display_data",
     "data": {
      "application/vnd.jupyter.widget-view+json": {
       "version_major": 2,
       "version_minor": 0,
       "model_id": "41189b7a239949c69804b26707efe7e4"
      },
      "text/plain": [
       "Energy bins loop: 0it [00:00, ?it/s]"
      ]
     },
     "metadata": {}
    },
    {
     "output_type": "stream",
     "name": "stdout",
     "text": [
      "Generating maps..please wait.\n"
     ]
    },
    {
     "output_type": "display_data",
     "data": {
      "application/vnd.jupyter.widget-view+json": {
       "version_major": 2,
       "version_minor": 0,
       "model_id": "ba1edaf22faf4c398006882f7eade467"
      },
      "text/plain": [
       "Fov bins loop:   0%|          | 0/1 [00:00<?, ?it/s]"
      ]
     },
     "metadata": {}
    },
    {
     "output_type": "display_data",
     "data": {
      "application/vnd.jupyter.widget-view+json": {
       "version_major": 2,
       "version_minor": 0,
       "model_id": "0722fd37c3c8445986b3c182ebc55a89"
      },
      "text/plain": [
       "Energy bins loop: 0it [00:00, ?it/s]"
      ]
     },
     "metadata": {}
    },
    {
     "output_type": "stream",
     "name": "stdout",
     "text": [
      "Generating maps..please wait.\n"
     ]
    },
    {
     "output_type": "display_data",
     "data": {
      "application/vnd.jupyter.widget-view+json": {
       "version_major": 2,
       "version_minor": 0,
       "model_id": "f6d668cd61734c43805031eb6cb60c58"
      },
      "text/plain": [
       "Fov bins loop:   0%|          | 0/1 [00:00<?, ?it/s]"
      ]
     },
     "metadata": {}
    },
    {
     "output_type": "display_data",
     "data": {
      "application/vnd.jupyter.widget-view+json": {
       "version_major": 2,
       "version_minor": 0,
       "model_id": "c4cacf76d64e45dd9e64c5d64eb3caad"
      },
      "text/plain": [
       "Energy bins loop: 0it [00:00, ?it/s]"
      ]
     },
     "metadata": {}
    },
    {
     "output_type": "stream",
     "name": "stdout",
     "text": [
      "Generating maps..please wait.\n"
     ]
    },
    {
     "output_type": "display_data",
     "data": {
      "application/vnd.jupyter.widget-view+json": {
       "version_major": 2,
       "version_minor": 0,
       "model_id": "3b856e176e574e3dbf27bb263f019726"
      },
      "text/plain": [
       "Fov bins loop:   0%|          | 0/1 [00:00<?, ?it/s]"
      ]
     },
     "metadata": {}
    },
    {
     "output_type": "display_data",
     "data": {
      "application/vnd.jupyter.widget-view+json": {
       "version_major": 2,
       "version_minor": 0,
       "model_id": "e8290141c1cb46c4b2adb786d0baf78b"
      },
      "text/plain": [
       "Energy bins loop: 0it [00:00, ?it/s]"
      ]
     },
     "metadata": {}
    },
    {
     "output_type": "stream",
     "name": "stdout",
     "text": [
      "Generating maps..please wait.\n"
     ]
    },
    {
     "output_type": "display_data",
     "data": {
      "application/vnd.jupyter.widget-view+json": {
       "version_major": 2,
       "version_minor": 0,
       "model_id": "084f480ecc024bc1af2a3515574ee514"
      },
      "text/plain": [
       "Fov bins loop:   0%|          | 0/1 [00:00<?, ?it/s]"
      ]
     },
     "metadata": {}
    },
    {
     "output_type": "display_data",
     "data": {
      "application/vnd.jupyter.widget-view+json": {
       "version_major": 2,
       "version_minor": 0,
       "model_id": "161e6db70df14b8aacc8e782fd8ca72e"
      },
      "text/plain": [
       "Energy bins loop: 0it [00:00, ?it/s]"
      ]
     },
     "metadata": {}
    },
    {
     "output_type": "stream",
     "name": "stdout",
     "text": [
      "Generating maps..please wait.\n"
     ]
    },
    {
     "output_type": "display_data",
     "data": {
      "application/vnd.jupyter.widget-view+json": {
       "version_major": 2,
       "version_minor": 0,
       "model_id": "42a673de51f644128765a8e9ef030172"
      },
      "text/plain": [
       "Fov bins loop:   0%|          | 0/1 [00:00<?, ?it/s]"
      ]
     },
     "metadata": {}
    },
    {
     "output_type": "display_data",
     "data": {
      "application/vnd.jupyter.widget-view+json": {
       "version_major": 2,
       "version_minor": 0,
       "model_id": "025395fc48db466d8038f178ec1ff93e"
      },
      "text/plain": [
       "Energy bins loop: 0it [00:00, ?it/s]"
      ]
     },
     "metadata": {}
    },
    {
     "output_type": "stream",
     "name": "stdout",
     "text": [
      "Generating maps..please wait.\n"
     ]
    },
    {
     "output_type": "display_data",
     "data": {
      "application/vnd.jupyter.widget-view+json": {
       "version_major": 2,
       "version_minor": 0,
       "model_id": "3b4ce6dd0ecf4cf7a455d0c1cc1cd82a"
      },
      "text/plain": [
       "Fov bins loop:   0%|          | 0/1 [00:00<?, ?it/s]"
      ]
     },
     "metadata": {}
    },
    {
     "output_type": "display_data",
     "data": {
      "application/vnd.jupyter.widget-view+json": {
       "version_major": 2,
       "version_minor": 0,
       "model_id": "0c3908bf1bea434c9f3783cdbf19457c"
      },
      "text/plain": [
       "Energy bins loop: 0it [00:00, ?it/s]"
      ]
     },
     "metadata": {}
    },
    {
     "output_type": "stream",
     "name": "stdout",
     "text": [
      "Generating maps..please wait.\n"
     ]
    },
    {
     "output_type": "display_data",
     "data": {
      "application/vnd.jupyter.widget-view+json": {
       "version_major": 2,
       "version_minor": 0,
       "model_id": "7d02cd2b6049440a9b558aaa1dfe7153"
      },
      "text/plain": [
       "Fov bins loop:   0%|          | 0/1 [00:00<?, ?it/s]"
      ]
     },
     "metadata": {}
    },
    {
     "output_type": "display_data",
     "data": {
      "application/vnd.jupyter.widget-view+json": {
       "version_major": 2,
       "version_minor": 0,
       "model_id": "47249f2db7274881a8702fd0bcd06ada"
      },
      "text/plain": [
       "Energy bins loop: 0it [00:00, ?it/s]"
      ]
     },
     "metadata": {}
    },
    {
     "output_type": "stream",
     "name": "stdout",
     "text": [
      "Generating maps..please wait.\n"
     ]
    },
    {
     "output_type": "display_data",
     "data": {
      "application/vnd.jupyter.widget-view+json": {
       "version_major": 2,
       "version_minor": 0,
       "model_id": "3667aaf845bb4f6daf1ad0da288a80e4"
      },
      "text/plain": [
       "Fov bins loop:   0%|          | 0/1 [00:00<?, ?it/s]"
      ]
     },
     "metadata": {}
    },
    {
     "output_type": "display_data",
     "data": {
      "application/vnd.jupyter.widget-view+json": {
       "version_major": 2,
       "version_minor": 0,
       "model_id": "588cd1c9b1a1478cbe0a0172ef8461c7"
      },
      "text/plain": [
       "Energy bins loop: 0it [00:00, ?it/s]"
      ]
     },
     "metadata": {}
    },
    {
     "output_type": "stream",
     "name": "stdout",
     "text": [
      "Generating maps..please wait.\n"
     ]
    },
    {
     "output_type": "display_data",
     "data": {
      "application/vnd.jupyter.widget-view+json": {
       "version_major": 2,
       "version_minor": 0,
       "model_id": "e5ab1f2aa4b74054928a0bf43f3046b2"
      },
      "text/plain": [
       "Fov bins loop:   0%|          | 0/1 [00:00<?, ?it/s]"
      ]
     },
     "metadata": {}
    },
    {
     "output_type": "display_data",
     "data": {
      "application/vnd.jupyter.widget-view+json": {
       "version_major": 2,
       "version_minor": 0,
       "model_id": "8aece6d4bad64cd2909f0a06e22e6012"
      },
      "text/plain": [
       "Energy bins loop: 0it [00:00, ?it/s]"
      ]
     },
     "metadata": {}
    },
    {
     "output_type": "stream",
     "name": "stdout",
     "text": [
      "Generating maps..please wait.\n"
     ]
    },
    {
     "output_type": "display_data",
     "data": {
      "application/vnd.jupyter.widget-view+json": {
       "version_major": 2,
       "version_minor": 0,
       "model_id": "ebbaf14a278941fca768ee0f553c6143"
      },
      "text/plain": [
       "Fov bins loop:   0%|          | 0/1 [00:00<?, ?it/s]"
      ]
     },
     "metadata": {}
    },
    {
     "output_type": "display_data",
     "data": {
      "application/vnd.jupyter.widget-view+json": {
       "version_major": 2,
       "version_minor": 0,
       "model_id": "1f582f473ba8410186de516ec5ea0a65"
      },
      "text/plain": [
       "Energy bins loop: 0it [00:00, ?it/s]"
      ]
     },
     "metadata": {}
    },
    {
     "output_type": "stream",
     "name": "stdout",
     "text": [
      "Generating maps..please wait.\n"
     ]
    },
    {
     "output_type": "display_data",
     "data": {
      "application/vnd.jupyter.widget-view+json": {
       "version_major": 2,
       "version_minor": 0,
       "model_id": "fdd70d383a1741d7a363bab2aa2d2e81"
      },
      "text/plain": [
       "Fov bins loop:   0%|          | 0/1 [00:00<?, ?it/s]"
      ]
     },
     "metadata": {}
    },
    {
     "output_type": "display_data",
     "data": {
      "application/vnd.jupyter.widget-view+json": {
       "version_major": 2,
       "version_minor": 0,
       "model_id": "0f0c3289eb274563994cca93644c9ff7"
      },
      "text/plain": [
       "Energy bins loop: 0it [00:00, ?it/s]"
      ]
     },
     "metadata": {}
    },
    {
     "output_type": "stream",
     "name": "stdout",
     "text": [
      "Generating maps..please wait.\n"
     ]
    },
    {
     "output_type": "display_data",
     "data": {
      "application/vnd.jupyter.widget-view+json": {
       "version_major": 2,
       "version_minor": 0,
       "model_id": "cb0327a0755842b3a4a5fa9026a86f5f"
      },
      "text/plain": [
       "Fov bins loop:   0%|          | 0/1 [00:00<?, ?it/s]"
      ]
     },
     "metadata": {}
    },
    {
     "output_type": "display_data",
     "data": {
      "application/vnd.jupyter.widget-view+json": {
       "version_major": 2,
       "version_minor": 0,
       "model_id": "3d82276973cc4b82853d1336713a928c"
      },
      "text/plain": [
       "Energy bins loop: 0it [00:00, ?it/s]"
      ]
     },
     "metadata": {}
    },
    {
     "output_type": "stream",
     "name": "stdout",
     "text": [
      "Generating maps..please wait.\n"
     ]
    },
    {
     "output_type": "display_data",
     "data": {
      "application/vnd.jupyter.widget-view+json": {
       "version_major": 2,
       "version_minor": 0,
       "model_id": "c11a6245580943e19a8df241e0b4daa1"
      },
      "text/plain": [
       "Fov bins loop:   0%|          | 0/1 [00:00<?, ?it/s]"
      ]
     },
     "metadata": {}
    },
    {
     "output_type": "display_data",
     "data": {
      "application/vnd.jupyter.widget-view+json": {
       "version_major": 2,
       "version_minor": 0,
       "model_id": "cf5b625332004fefa53b50d19642ffb1"
      },
      "text/plain": [
       "Energy bins loop: 0it [00:00, ?it/s]"
      ]
     },
     "metadata": {}
    },
    {
     "output_type": "stream",
     "name": "stdout",
     "text": [
      "Generating maps..please wait.\n"
     ]
    },
    {
     "output_type": "display_data",
     "data": {
      "application/vnd.jupyter.widget-view+json": {
       "version_major": 2,
       "version_minor": 0,
       "model_id": "8903e787b9074045a3f3cf0efda3d235"
      },
      "text/plain": [
       "Fov bins loop:   0%|          | 0/1 [00:00<?, ?it/s]"
      ]
     },
     "metadata": {}
    },
    {
     "output_type": "display_data",
     "data": {
      "application/vnd.jupyter.widget-view+json": {
       "version_major": 2,
       "version_minor": 0,
       "model_id": "745dc552187546e5a7d883422009c52f"
      },
      "text/plain": [
       "Energy bins loop: 0it [00:00, ?it/s]"
      ]
     },
     "metadata": {}
    },
    {
     "output_type": "stream",
     "name": "stdout",
     "text": [
      "Generating maps..please wait.\n"
     ]
    },
    {
     "output_type": "display_data",
     "data": {
      "application/vnd.jupyter.widget-view+json": {
       "version_major": 2,
       "version_minor": 0,
       "model_id": "5838f51bd0eb48ae87f12b0a2d0d2d62"
      },
      "text/plain": [
       "Fov bins loop:   0%|          | 0/1 [00:00<?, ?it/s]"
      ]
     },
     "metadata": {}
    },
    {
     "output_type": "display_data",
     "data": {
      "application/vnd.jupyter.widget-view+json": {
       "version_major": 2,
       "version_minor": 0,
       "model_id": "61898db2a1514408981520ef813e204f"
      },
      "text/plain": [
       "Energy bins loop: 0it [00:00, ?it/s]"
      ]
     },
     "metadata": {}
    },
    {
     "output_type": "stream",
     "name": "stdout",
     "text": [
      "Generating maps..please wait.\n"
     ]
    },
    {
     "output_type": "display_data",
     "data": {
      "application/vnd.jupyter.widget-view+json": {
       "version_major": 2,
       "version_minor": 0,
       "model_id": "1711dd477bb44afba8fe34f975d75792"
      },
      "text/plain": [
       "Fov bins loop:   0%|          | 0/1 [00:00<?, ?it/s]"
      ]
     },
     "metadata": {}
    },
    {
     "output_type": "display_data",
     "data": {
      "application/vnd.jupyter.widget-view+json": {
       "version_major": 2,
       "version_minor": 0,
       "model_id": "034682c075554dd78dc6a4428743053d"
      },
      "text/plain": [
       "Energy bins loop: 0it [00:00, ?it/s]"
      ]
     },
     "metadata": {}
    },
    {
     "output_type": "stream",
     "name": "stdout",
     "text": [
      "Generating maps..please wait.\n"
     ]
    },
    {
     "output_type": "display_data",
     "data": {
      "application/vnd.jupyter.widget-view+json": {
       "version_major": 2,
       "version_minor": 0,
       "model_id": "4e012b86bac14516a13e77faf73a0d6b"
      },
      "text/plain": [
       "Fov bins loop:   0%|          | 0/1 [00:00<?, ?it/s]"
      ]
     },
     "metadata": {}
    },
    {
     "output_type": "display_data",
     "data": {
      "application/vnd.jupyter.widget-view+json": {
       "version_major": 2,
       "version_minor": 0,
       "model_id": "e6c9ba37d9aa4bccae4fba9ecbcc1130"
      },
      "text/plain": [
       "Energy bins loop: 0it [00:00, ?it/s]"
      ]
     },
     "metadata": {}
    },
    {
     "output_type": "stream",
     "name": "stdout",
     "text": [
      "Generating maps..please wait.\n"
     ]
    },
    {
     "output_type": "display_data",
     "data": {
      "application/vnd.jupyter.widget-view+json": {
       "version_major": 2,
       "version_minor": 0,
       "model_id": "291dd7e06a4f4c2caffbd5b9a241a7e8"
      },
      "text/plain": [
       "Fov bins loop:   0%|          | 0/1 [00:00<?, ?it/s]"
      ]
     },
     "metadata": {}
    },
    {
     "output_type": "display_data",
     "data": {
      "application/vnd.jupyter.widget-view+json": {
       "version_major": 2,
       "version_minor": 0,
       "model_id": "df42f30cf7f141aa96743059411db09e"
      },
      "text/plain": [
       "Energy bins loop: 0it [00:00, ?it/s]"
      ]
     },
     "metadata": {}
    },
    {
     "output_type": "stream",
     "name": "stdout",
     "text": [
      "Generating maps..please wait.\n"
     ]
    },
    {
     "output_type": "display_data",
     "data": {
      "application/vnd.jupyter.widget-view+json": {
       "version_major": 2,
       "version_minor": 0,
       "model_id": "7494c5c5b81b442fb9a631f736d4bb9d"
      },
      "text/plain": [
       "Fov bins loop:   0%|          | 0/1 [00:00<?, ?it/s]"
      ]
     },
     "metadata": {}
    },
    {
     "output_type": "display_data",
     "data": {
      "application/vnd.jupyter.widget-view+json": {
       "version_major": 2,
       "version_minor": 0,
       "model_id": "410df63a53f64209b1b1fb6b8a222375"
      },
      "text/plain": [
       "Energy bins loop: 0it [00:00, ?it/s]"
      ]
     },
     "metadata": {}
    },
    {
     "output_type": "stream",
     "name": "stdout",
     "text": [
      "Generating maps..please wait.\n"
     ]
    },
    {
     "output_type": "display_data",
     "data": {
      "application/vnd.jupyter.widget-view+json": {
       "version_major": 2,
       "version_minor": 0,
       "model_id": "e2d576ab092247928261fc752f92a15c"
      },
      "text/plain": [
       "Fov bins loop:   0%|          | 0/1 [00:00<?, ?it/s]"
      ]
     },
     "metadata": {}
    },
    {
     "output_type": "display_data",
     "data": {
      "application/vnd.jupyter.widget-view+json": {
       "version_major": 2,
       "version_minor": 0,
       "model_id": "7b1b17dc7b4e4e348efbc66a2733ba53"
      },
      "text/plain": [
       "Energy bins loop: 0it [00:00, ?it/s]"
      ]
     },
     "metadata": {}
    },
    {
     "output_type": "stream",
     "name": "stdout",
     "text": [
      "Generating maps..please wait.\n"
     ]
    },
    {
     "output_type": "display_data",
     "data": {
      "application/vnd.jupyter.widget-view+json": {
       "version_major": 2,
       "version_minor": 0,
       "model_id": "6e4ca7f15e804c489ab0211390fc3eeb"
      },
      "text/plain": [
       "Fov bins loop:   0%|          | 0/1 [00:00<?, ?it/s]"
      ]
     },
     "metadata": {}
    },
    {
     "output_type": "display_data",
     "data": {
      "application/vnd.jupyter.widget-view+json": {
       "version_major": 2,
       "version_minor": 0,
       "model_id": "ac79fdaad57b406994ac70129cad2307"
      },
      "text/plain": [
       "Energy bins loop: 0it [00:00, ?it/s]"
      ]
     },
     "metadata": {}
    },
    {
     "output_type": "stream",
     "name": "stdout",
     "text": [
      "Generating maps..please wait.\n"
     ]
    },
    {
     "output_type": "display_data",
     "data": {
      "application/vnd.jupyter.widget-view+json": {
       "version_major": 2,
       "version_minor": 0,
       "model_id": "a8967cbd85e94123b2c5ddc072d0e975"
      },
      "text/plain": [
       "Fov bins loop:   0%|          | 0/1 [00:00<?, ?it/s]"
      ]
     },
     "metadata": {}
    },
    {
     "output_type": "display_data",
     "data": {
      "application/vnd.jupyter.widget-view+json": {
       "version_major": 2,
       "version_minor": 0,
       "model_id": "df286305f1eb446880a4ed7681ef98c6"
      },
      "text/plain": [
       "Energy bins loop: 0it [00:00, ?it/s]"
      ]
     },
     "metadata": {}
    },
    {
     "output_type": "stream",
     "name": "stdout",
     "text": [
      "Generating maps..please wait.\n"
     ]
    },
    {
     "output_type": "display_data",
     "data": {
      "application/vnd.jupyter.widget-view+json": {
       "version_major": 2,
       "version_minor": 0,
       "model_id": "d30491c7040444018bc7101b8518014d"
      },
      "text/plain": [
       "Fov bins loop:   0%|          | 0/1 [00:00<?, ?it/s]"
      ]
     },
     "metadata": {}
    },
    {
     "output_type": "display_data",
     "data": {
      "application/vnd.jupyter.widget-view+json": {
       "version_major": 2,
       "version_minor": 0,
       "model_id": "fda2edef69924f9fb4ebe6f4279c0aa9"
      },
      "text/plain": [
       "Energy bins loop: 0it [00:00, ?it/s]"
      ]
     },
     "metadata": {}
    },
    {
     "output_type": "stream",
     "name": "stdout",
     "text": [
      "Generating maps..please wait.\n"
     ]
    },
    {
     "output_type": "display_data",
     "data": {
      "application/vnd.jupyter.widget-view+json": {
       "version_major": 2,
       "version_minor": 0,
       "model_id": "d8d997803fc54e4994e30a581b48d96b"
      },
      "text/plain": [
       "Fov bins loop:   0%|          | 0/1 [00:00<?, ?it/s]"
      ]
     },
     "metadata": {}
    },
    {
     "output_type": "display_data",
     "data": {
      "application/vnd.jupyter.widget-view+json": {
       "version_major": 2,
       "version_minor": 0,
       "model_id": "b9348851383649c68e82511b76a95fda"
      },
      "text/plain": [
       "Energy bins loop: 0it [00:00, ?it/s]"
      ]
     },
     "metadata": {}
    },
    {
     "output_type": "stream",
     "name": "stderr",
     "text": [
      "100%|██████████| 3/3 [00:00<00:00, 3167.90it/s]"
     ]
    },
    {
     "output_type": "stream",
     "name": "stdout",
     "text": [
      "Generating maps..please wait.\n"
     ]
    },
    {
     "output_type": "stream",
     "name": "stderr",
     "text": [
      "\n"
     ]
    },
    {
     "output_type": "display_data",
     "data": {
      "application/vnd.jupyter.widget-view+json": {
       "version_major": 2,
       "version_minor": 0,
       "model_id": "47dd0ab7430848d097823fd441f22745"
      },
      "text/plain": [
       "Fov bins loop:   0%|          | 0/1 [00:00<?, ?it/s]"
      ]
     },
     "metadata": {}
    },
    {
     "output_type": "display_data",
     "data": {
      "application/vnd.jupyter.widget-view+json": {
       "version_major": 2,
       "version_minor": 0,
       "model_id": "291eb15b6b2b4d07998370302100a19b"
      },
      "text/plain": [
       "Energy bins loop: 0it [00:00, ?it/s]"
      ]
     },
     "metadata": {}
    }
   ],
   "metadata": {}
  },
  {
   "cell_type": "code",
   "execution_count": 28,
   "source": [
    "ag.displayLightCurve(\"mle\")"
   ],
   "outputs": [
    {
     "output_type": "stream",
     "name": "stdout",
     "text": [
      "Generating plot..please wait.\n"
     ]
    },
    {
     "output_type": "display_data",
     "data": {
      "application/vnd.plotly.v1+json": {
       "data": [
        {
         "customdata": [
          [
           54901,
           54902,
           4.15189
          ],
          [
           54902,
           54903,
           8.38919
          ],
          [
           54903,
           54904,
           7.844530000000001
          ],
          [
           54904,
           54905,
           3.5375900000000002
          ],
          [
           54905,
           54906,
           3.64716
          ],
          [
           54906,
           54907,
           3.0985400000000003
          ],
          [
           54907,
           54908,
           3.5866300000000004
          ],
          [
           54908,
           54909,
           5.55366
          ],
          [
           54909,
           54910,
           6.9615
          ],
          [
           54910,
           54911,
           5.84115
          ],
          [
           54912,
           54913,
           4.3613599999999995
          ],
          [
           54914,
           54915,
           4.39427
          ],
          [
           54915,
           54916,
           7.636939999999999
          ],
          [
           54916,
           54917,
           4.689
          ],
          [
           54917,
           54918,
           5.88877
          ],
          [
           54919,
           54920,
           3.4551199999999995
          ],
          [
           54920,
           54921,
           4.06572
          ],
          [
           54896,
           54897,
           3.3218400000000003
          ],
          [
           54898,
           54899,
           3.5396699999999996
          ],
          [
           54899,
           54900,
           4.07426
          ],
          [
           54900,
           54901,
           4.9566099999999995
          ]
         ],
         "error_x": {
          "array": [
           0.5,
           0.5,
           0.5,
           0.5,
           0.5,
           0.5,
           0.5,
           0.5,
           0.5,
           0.5,
           0.5,
           0.5,
           0.5,
           0.5,
           0.5,
           0.5,
           0.5,
           0.5,
           0.5,
           0.5,
           0.5
          ],
          "arrayminus": [
           0.5,
           0.5,
           0.5,
           0.5,
           0.5,
           0.5,
           0.5,
           0.5,
           0.5,
           0.5,
           0.5,
           0.5,
           0.5,
           0.5,
           0.5,
           0.5,
           0.5,
           0.5,
           0.5,
           0.5,
           0.5
          ],
          "symmetric": false,
          "type": "data"
         },
         "error_y": {
          "array": [
           68.9152,
           83.3747,
           81.2285,
           54.5469,
           64.9162,
           50.163999999999994,
           56.9856,
           74.2606,
           95.68930000000002,
           73.4441,
           78.2929,
           100.66799999999999,
           113.452,
           97.07620000000001,
           96.48339999999999,
           93.7965,
           103.113,
           50.9311,
           55.5972,
           68.1512,
           61.2579
          ],
          "symmetric": true,
          "type": "data"
         },
         "hovertemplate": "tstart: %{customdata[0]:.4f} - tend:%{customdata[1]:.4f}, flux: %{y:.2f} +/- %{error_y.array:.2f}, sqrts: %{customdata[2]:.4f}",
         "mode": "markers",
         "name": "flux",
         "x": [
          54901.5,
          54902.5,
          54903.5,
          54904.5,
          54905.5,
          54906.5,
          54907.5,
          54908.5,
          54909.5,
          54910.5,
          54912.5,
          54914.5,
          54915.5,
          54916.5,
          54917.5,
          54919.5,
          54920.5,
          54896.5,
          54898.5,
          54899.5,
          54900.5
         ],
         "y": [
          191.085,
          435.186,
          394.29,
          137.174,
          170.11599999999999,
          100.057,
          138.643,
          272.672,
          418.89099999999996,
          256.933,
          227.267,
          304.002,
          525.817,
          289.85,
          333.276,
          225.607,
          284.03,
          122.60700000000003,
          139.53799999999998,
          198.739,
          188.262
         ],
         "type": "scatter"
        },
        {
         "customdata": [
          [
           54891,
           54892,
           0
          ],
          [
           54892,
           54893,
           0.11748199999999999
          ],
          [
           54911,
           54912,
           1.75425
          ],
          [
           54913,
           54914,
           2.85147
          ],
          [
           54918,
           54919,
           2.71047
          ],
          [
           54893,
           54894,
           0
          ],
          [
           54894,
           54895,
           0
          ],
          [
           54895,
           54896,
           0
          ],
          [
           54897,
           54898,
           2.9866
          ]
         ],
         "error_x": {
          "array": [
           0.5,
           0.5,
           0.5,
           0.5,
           0.5,
           0.5,
           0.5,
           0.5,
           0.5
          ],
          "arrayminus": [
           0.5,
           0.5,
           0.5,
           0.5,
           0.5,
           0.5,
           0.5,
           0.5,
           0.5
          ],
          "symmetric": false,
          "type": "data"
         },
         "hovertemplate": "tstart: %{customdata[0]:.4f}, tend:%{customdata[1]:.4f}, flux_ul: %{y:.2f}, sqrts: %{customdata[2]:.4f}",
         "marker": {
          "size": 10,
          "symbol": "triangle-down"
         },
         "mode": "markers",
         "name": "flux_ul",
         "x": [
          54891.5,
          54892.5,
          54911.5,
          54913.5,
          54918.5,
          54893.5,
          54894.5,
          54895.5,
          54897.5
         ],
         "y": [
          65.4286,
          88.4117,
          266.085,
          298.91900000000004,
          338.005,
          42.3844,
          41.8241,
          36.8077,
          222.85700000000003
         ],
         "type": "scatter"
        }
       ],
       "layout": {
        "template": {
         "data": {
          "bar": [
           {
            "error_x": {
             "color": "#2a3f5f"
            },
            "error_y": {
             "color": "#2a3f5f"
            },
            "marker": {
             "line": {
              "color": "#E5ECF6",
              "width": 0.5
             },
             "pattern": {
              "fillmode": "overlay",
              "size": 10,
              "solidity": 0.2
             }
            },
            "type": "bar"
           }
          ],
          "barpolar": [
           {
            "marker": {
             "line": {
              "color": "#E5ECF6",
              "width": 0.5
             },
             "pattern": {
              "fillmode": "overlay",
              "size": 10,
              "solidity": 0.2
             }
            },
            "type": "barpolar"
           }
          ],
          "carpet": [
           {
            "aaxis": {
             "endlinecolor": "#2a3f5f",
             "gridcolor": "white",
             "linecolor": "white",
             "minorgridcolor": "white",
             "startlinecolor": "#2a3f5f"
            },
            "baxis": {
             "endlinecolor": "#2a3f5f",
             "gridcolor": "white",
             "linecolor": "white",
             "minorgridcolor": "white",
             "startlinecolor": "#2a3f5f"
            },
            "type": "carpet"
           }
          ],
          "choropleth": [
           {
            "colorbar": {
             "outlinewidth": 0,
             "ticks": ""
            },
            "type": "choropleth"
           }
          ],
          "contour": [
           {
            "colorbar": {
             "outlinewidth": 0,
             "ticks": ""
            },
            "colorscale": [
             [
              0,
              "#0d0887"
             ],
             [
              0.1111111111111111,
              "#46039f"
             ],
             [
              0.2222222222222222,
              "#7201a8"
             ],
             [
              0.3333333333333333,
              "#9c179e"
             ],
             [
              0.4444444444444444,
              "#bd3786"
             ],
             [
              0.5555555555555556,
              "#d8576b"
             ],
             [
              0.6666666666666666,
              "#ed7953"
             ],
             [
              0.7777777777777778,
              "#fb9f3a"
             ],
             [
              0.8888888888888888,
              "#fdca26"
             ],
             [
              1,
              "#f0f921"
             ]
            ],
            "type": "contour"
           }
          ],
          "contourcarpet": [
           {
            "colorbar": {
             "outlinewidth": 0,
             "ticks": ""
            },
            "type": "contourcarpet"
           }
          ],
          "heatmap": [
           {
            "colorbar": {
             "outlinewidth": 0,
             "ticks": ""
            },
            "colorscale": [
             [
              0,
              "#0d0887"
             ],
             [
              0.1111111111111111,
              "#46039f"
             ],
             [
              0.2222222222222222,
              "#7201a8"
             ],
             [
              0.3333333333333333,
              "#9c179e"
             ],
             [
              0.4444444444444444,
              "#bd3786"
             ],
             [
              0.5555555555555556,
              "#d8576b"
             ],
             [
              0.6666666666666666,
              "#ed7953"
             ],
             [
              0.7777777777777778,
              "#fb9f3a"
             ],
             [
              0.8888888888888888,
              "#fdca26"
             ],
             [
              1,
              "#f0f921"
             ]
            ],
            "type": "heatmap"
           }
          ],
          "heatmapgl": [
           {
            "colorbar": {
             "outlinewidth": 0,
             "ticks": ""
            },
            "colorscale": [
             [
              0,
              "#0d0887"
             ],
             [
              0.1111111111111111,
              "#46039f"
             ],
             [
              0.2222222222222222,
              "#7201a8"
             ],
             [
              0.3333333333333333,
              "#9c179e"
             ],
             [
              0.4444444444444444,
              "#bd3786"
             ],
             [
              0.5555555555555556,
              "#d8576b"
             ],
             [
              0.6666666666666666,
              "#ed7953"
             ],
             [
              0.7777777777777778,
              "#fb9f3a"
             ],
             [
              0.8888888888888888,
              "#fdca26"
             ],
             [
              1,
              "#f0f921"
             ]
            ],
            "type": "heatmapgl"
           }
          ],
          "histogram": [
           {
            "marker": {
             "pattern": {
              "fillmode": "overlay",
              "size": 10,
              "solidity": 0.2
             }
            },
            "type": "histogram"
           }
          ],
          "histogram2d": [
           {
            "colorbar": {
             "outlinewidth": 0,
             "ticks": ""
            },
            "colorscale": [
             [
              0,
              "#0d0887"
             ],
             [
              0.1111111111111111,
              "#46039f"
             ],
             [
              0.2222222222222222,
              "#7201a8"
             ],
             [
              0.3333333333333333,
              "#9c179e"
             ],
             [
              0.4444444444444444,
              "#bd3786"
             ],
             [
              0.5555555555555556,
              "#d8576b"
             ],
             [
              0.6666666666666666,
              "#ed7953"
             ],
             [
              0.7777777777777778,
              "#fb9f3a"
             ],
             [
              0.8888888888888888,
              "#fdca26"
             ],
             [
              1,
              "#f0f921"
             ]
            ],
            "type": "histogram2d"
           }
          ],
          "histogram2dcontour": [
           {
            "colorbar": {
             "outlinewidth": 0,
             "ticks": ""
            },
            "colorscale": [
             [
              0,
              "#0d0887"
             ],
             [
              0.1111111111111111,
              "#46039f"
             ],
             [
              0.2222222222222222,
              "#7201a8"
             ],
             [
              0.3333333333333333,
              "#9c179e"
             ],
             [
              0.4444444444444444,
              "#bd3786"
             ],
             [
              0.5555555555555556,
              "#d8576b"
             ],
             [
              0.6666666666666666,
              "#ed7953"
             ],
             [
              0.7777777777777778,
              "#fb9f3a"
             ],
             [
              0.8888888888888888,
              "#fdca26"
             ],
             [
              1,
              "#f0f921"
             ]
            ],
            "type": "histogram2dcontour"
           }
          ],
          "mesh3d": [
           {
            "colorbar": {
             "outlinewidth": 0,
             "ticks": ""
            },
            "type": "mesh3d"
           }
          ],
          "parcoords": [
           {
            "line": {
             "colorbar": {
              "outlinewidth": 0,
              "ticks": ""
             }
            },
            "type": "parcoords"
           }
          ],
          "pie": [
           {
            "automargin": true,
            "type": "pie"
           }
          ],
          "scatter": [
           {
            "marker": {
             "colorbar": {
              "outlinewidth": 0,
              "ticks": ""
             }
            },
            "type": "scatter"
           }
          ],
          "scatter3d": [
           {
            "line": {
             "colorbar": {
              "outlinewidth": 0,
              "ticks": ""
             }
            },
            "marker": {
             "colorbar": {
              "outlinewidth": 0,
              "ticks": ""
             }
            },
            "type": "scatter3d"
           }
          ],
          "scattercarpet": [
           {
            "marker": {
             "colorbar": {
              "outlinewidth": 0,
              "ticks": ""
             }
            },
            "type": "scattercarpet"
           }
          ],
          "scattergeo": [
           {
            "marker": {
             "colorbar": {
              "outlinewidth": 0,
              "ticks": ""
             }
            },
            "type": "scattergeo"
           }
          ],
          "scattergl": [
           {
            "marker": {
             "colorbar": {
              "outlinewidth": 0,
              "ticks": ""
             }
            },
            "type": "scattergl"
           }
          ],
          "scattermapbox": [
           {
            "marker": {
             "colorbar": {
              "outlinewidth": 0,
              "ticks": ""
             }
            },
            "type": "scattermapbox"
           }
          ],
          "scatterpolar": [
           {
            "marker": {
             "colorbar": {
              "outlinewidth": 0,
              "ticks": ""
             }
            },
            "type": "scatterpolar"
           }
          ],
          "scatterpolargl": [
           {
            "marker": {
             "colorbar": {
              "outlinewidth": 0,
              "ticks": ""
             }
            },
            "type": "scatterpolargl"
           }
          ],
          "scatterternary": [
           {
            "marker": {
             "colorbar": {
              "outlinewidth": 0,
              "ticks": ""
             }
            },
            "type": "scatterternary"
           }
          ],
          "surface": [
           {
            "colorbar": {
             "outlinewidth": 0,
             "ticks": ""
            },
            "colorscale": [
             [
              0,
              "#0d0887"
             ],
             [
              0.1111111111111111,
              "#46039f"
             ],
             [
              0.2222222222222222,
              "#7201a8"
             ],
             [
              0.3333333333333333,
              "#9c179e"
             ],
             [
              0.4444444444444444,
              "#bd3786"
             ],
             [
              0.5555555555555556,
              "#d8576b"
             ],
             [
              0.6666666666666666,
              "#ed7953"
             ],
             [
              0.7777777777777778,
              "#fb9f3a"
             ],
             [
              0.8888888888888888,
              "#fdca26"
             ],
             [
              1,
              "#f0f921"
             ]
            ],
            "type": "surface"
           }
          ],
          "table": [
           {
            "cells": {
             "fill": {
              "color": "#EBF0F8"
             },
             "line": {
              "color": "white"
             }
            },
            "header": {
             "fill": {
              "color": "#C8D4E3"
             },
             "line": {
              "color": "white"
             }
            },
            "type": "table"
           }
          ]
         },
         "layout": {
          "annotationdefaults": {
           "arrowcolor": "#2a3f5f",
           "arrowhead": 0,
           "arrowwidth": 1
          },
          "autotypenumbers": "strict",
          "coloraxis": {
           "colorbar": {
            "outlinewidth": 0,
            "ticks": ""
           }
          },
          "colorscale": {
           "diverging": [
            [
             0,
             "#8e0152"
            ],
            [
             0.1,
             "#c51b7d"
            ],
            [
             0.2,
             "#de77ae"
            ],
            [
             0.3,
             "#f1b6da"
            ],
            [
             0.4,
             "#fde0ef"
            ],
            [
             0.5,
             "#f7f7f7"
            ],
            [
             0.6,
             "#e6f5d0"
            ],
            [
             0.7,
             "#b8e186"
            ],
            [
             0.8,
             "#7fbc41"
            ],
            [
             0.9,
             "#4d9221"
            ],
            [
             1,
             "#276419"
            ]
           ],
           "sequential": [
            [
             0,
             "#0d0887"
            ],
            [
             0.1111111111111111,
             "#46039f"
            ],
            [
             0.2222222222222222,
             "#7201a8"
            ],
            [
             0.3333333333333333,
             "#9c179e"
            ],
            [
             0.4444444444444444,
             "#bd3786"
            ],
            [
             0.5555555555555556,
             "#d8576b"
            ],
            [
             0.6666666666666666,
             "#ed7953"
            ],
            [
             0.7777777777777778,
             "#fb9f3a"
            ],
            [
             0.8888888888888888,
             "#fdca26"
            ],
            [
             1,
             "#f0f921"
            ]
           ],
           "sequentialminus": [
            [
             0,
             "#0d0887"
            ],
            [
             0.1111111111111111,
             "#46039f"
            ],
            [
             0.2222222222222222,
             "#7201a8"
            ],
            [
             0.3333333333333333,
             "#9c179e"
            ],
            [
             0.4444444444444444,
             "#bd3786"
            ],
            [
             0.5555555555555556,
             "#d8576b"
            ],
            [
             0.6666666666666666,
             "#ed7953"
            ],
            [
             0.7777777777777778,
             "#fb9f3a"
            ],
            [
             0.8888888888888888,
             "#fdca26"
            ],
            [
             1,
             "#f0f921"
            ]
           ]
          },
          "colorway": [
           "#636efa",
           "#EF553B",
           "#00cc96",
           "#ab63fa",
           "#FFA15A",
           "#19d3f3",
           "#FF6692",
           "#B6E880",
           "#FF97FF",
           "#FECB52"
          ],
          "font": {
           "color": "#2a3f5f"
          },
          "geo": {
           "bgcolor": "white",
           "lakecolor": "white",
           "landcolor": "#E5ECF6",
           "showlakes": true,
           "showland": true,
           "subunitcolor": "white"
          },
          "hoverlabel": {
           "align": "left"
          },
          "hovermode": "closest",
          "mapbox": {
           "style": "light"
          },
          "paper_bgcolor": "white",
          "plot_bgcolor": "#E5ECF6",
          "polar": {
           "angularaxis": {
            "gridcolor": "white",
            "linecolor": "white",
            "ticks": ""
           },
           "bgcolor": "#E5ECF6",
           "radialaxis": {
            "gridcolor": "white",
            "linecolor": "white",
            "ticks": ""
           }
          },
          "scene": {
           "xaxis": {
            "backgroundcolor": "#E5ECF6",
            "gridcolor": "white",
            "gridwidth": 2,
            "linecolor": "white",
            "showbackground": true,
            "ticks": "",
            "zerolinecolor": "white"
           },
           "yaxis": {
            "backgroundcolor": "#E5ECF6",
            "gridcolor": "white",
            "gridwidth": 2,
            "linecolor": "white",
            "showbackground": true,
            "ticks": "",
            "zerolinecolor": "white"
           },
           "zaxis": {
            "backgroundcolor": "#E5ECF6",
            "gridcolor": "white",
            "gridwidth": 2,
            "linecolor": "white",
            "showbackground": true,
            "ticks": "",
            "zerolinecolor": "white"
           }
          },
          "shapedefaults": {
           "line": {
            "color": "#2a3f5f"
           }
          },
          "ternary": {
           "aaxis": {
            "gridcolor": "white",
            "linecolor": "white",
            "ticks": ""
           },
           "baxis": {
            "gridcolor": "white",
            "linecolor": "white",
            "ticks": ""
           },
           "bgcolor": "#E5ECF6",
           "caxis": {
            "gridcolor": "white",
            "linecolor": "white",
            "ticks": ""
           }
          },
          "title": {
           "x": 0.05
          },
          "xaxis": {
           "automargin": true,
           "gridcolor": "white",
           "linecolor": "white",
           "ticks": "",
           "title": {
            "standoff": 15
           },
           "zerolinecolor": "white",
           "zerolinewidth": 2
          },
          "yaxis": {
           "automargin": true,
           "gridcolor": "white",
           "linecolor": "white",
           "ticks": "",
           "title": {
            "standoff": 15
           },
           "zerolinecolor": "white",
           "zerolinewidth": 2
          }
         }
        },
        "xaxis": {
         "showline": true,
         "linecolor": "black",
         "title": {
          "text": "Time(MJD)"
         },
         "tickformat": "g"
        },
        "yaxis": {
         "showline": true,
         "linecolor": "black",
         "title": {
          "text": "$10^{-8} ph cm^{-2} s^{-1}$"
         }
        },
        "legend": {
         "font": {
          "size": 17
         },
         "orientation": "h",
         "yanchor": "bottom",
         "y": 1.02,
         "xanchor": "left"
        }
       },
       "config": {
        "plotlyServerURL": "https://plot.ly"
       }
      }
     },
     "metadata": {}
    }
   ],
   "metadata": {}
  },
  {
   "cell_type": "code",
   "execution_count": 29,
   "source": [
    "lightCurveData4 = ag.lightCurveMLE(\"PKS1510-089\", binsize=86400*4)"
   ],
   "outputs": [
    {
     "output_type": "stream",
     "name": "stdout",
     "text": [
      "Computing light curve bins..please wait.\n"
     ]
    },
    {
     "output_type": "stream",
     "name": "stderr",
     "text": [
      "100%|██████████| 33/33 [00:00<00:00, 50203.86it/s]\n"
     ]
    },
    {
     "output_type": "display_data",
     "data": {
      "application/vnd.jupyter.widget-view+json": {
       "version_major": 2,
       "version_minor": 0,
       "model_id": "ce443568781a4e0d9c88bb0209f88660"
      },
      "text/plain": [
       "Temporal bin loop:   0%|          | 0/8 [00:00<?, ?it/s]"
      ]
     },
     "metadata": {}
    },
    {
     "output_type": "stream",
     "name": "stdout",
     "text": [
      "Generating maps..please wait.\n"
     ]
    },
    {
     "output_type": "display_data",
     "data": {
      "application/vnd.jupyter.widget-view+json": {
       "version_major": 2,
       "version_minor": 0,
       "model_id": "8ad8b866c2b04567ace031e25607ee15"
      },
      "text/plain": [
       "Fov bins loop:   0%|          | 0/1 [00:00<?, ?it/s]"
      ]
     },
     "metadata": {}
    },
    {
     "output_type": "display_data",
     "data": {
      "application/vnd.jupyter.widget-view+json": {
       "version_major": 2,
       "version_minor": 0,
       "model_id": "e4cc3bc7dd9946b3818f6e7de8a13a2f"
      },
      "text/plain": [
       "Energy bins loop: 0it [00:00, ?it/s]"
      ]
     },
     "metadata": {}
    },
    {
     "output_type": "stream",
     "name": "stdout",
     "text": [
      "Generating maps..please wait.\n"
     ]
    },
    {
     "output_type": "display_data",
     "data": {
      "application/vnd.jupyter.widget-view+json": {
       "version_major": 2,
       "version_minor": 0,
       "model_id": "e54bcdc87e814bd5ae32ccc5a559ffa7"
      },
      "text/plain": [
       "Fov bins loop:   0%|          | 0/1 [00:00<?, ?it/s]"
      ]
     },
     "metadata": {}
    },
    {
     "output_type": "display_data",
     "data": {
      "application/vnd.jupyter.widget-view+json": {
       "version_major": 2,
       "version_minor": 0,
       "model_id": "fda2415948be45cda57dcbdf52dd6e47"
      },
      "text/plain": [
       "Energy bins loop: 0it [00:00, ?it/s]"
      ]
     },
     "metadata": {}
    },
    {
     "output_type": "stream",
     "name": "stdout",
     "text": [
      "Generating maps..please wait.\n"
     ]
    },
    {
     "output_type": "display_data",
     "data": {
      "application/vnd.jupyter.widget-view+json": {
       "version_major": 2,
       "version_minor": 0,
       "model_id": "4684a920de0a4d8fa1cbb6211c9fece4"
      },
      "text/plain": [
       "Fov bins loop:   0%|          | 0/1 [00:00<?, ?it/s]"
      ]
     },
     "metadata": {}
    },
    {
     "output_type": "display_data",
     "data": {
      "application/vnd.jupyter.widget-view+json": {
       "version_major": 2,
       "version_minor": 0,
       "model_id": "211a9a497740409f9384734cd859c011"
      },
      "text/plain": [
       "Energy bins loop: 0it [00:00, ?it/s]"
      ]
     },
     "metadata": {}
    },
    {
     "output_type": "stream",
     "name": "stdout",
     "text": [
      "Generating maps..please wait.\n"
     ]
    },
    {
     "output_type": "display_data",
     "data": {
      "application/vnd.jupyter.widget-view+json": {
       "version_major": 2,
       "version_minor": 0,
       "model_id": "17c0cf4d988c4c02b5467846bb6a0973"
      },
      "text/plain": [
       "Fov bins loop:   0%|          | 0/1 [00:00<?, ?it/s]"
      ]
     },
     "metadata": {}
    },
    {
     "output_type": "display_data",
     "data": {
      "application/vnd.jupyter.widget-view+json": {
       "version_major": 2,
       "version_minor": 0,
       "model_id": "1b36c8b15afe47dca9b5a62986493f81"
      },
      "text/plain": [
       "Energy bins loop: 0it [00:00, ?it/s]"
      ]
     },
     "metadata": {}
    },
    {
     "output_type": "stream",
     "name": "stdout",
     "text": [
      "Generating maps..please wait.\n"
     ]
    },
    {
     "output_type": "display_data",
     "data": {
      "application/vnd.jupyter.widget-view+json": {
       "version_major": 2,
       "version_minor": 0,
       "model_id": "5dd92a3ce40944da8a0bb0114e4ac41f"
      },
      "text/plain": [
       "Fov bins loop:   0%|          | 0/1 [00:00<?, ?it/s]"
      ]
     },
     "metadata": {}
    },
    {
     "output_type": "display_data",
     "data": {
      "application/vnd.jupyter.widget-view+json": {
       "version_major": 2,
       "version_minor": 0,
       "model_id": "b023808b20564154b2b3988117bbd4d7"
      },
      "text/plain": [
       "Energy bins loop: 0it [00:00, ?it/s]"
      ]
     },
     "metadata": {}
    },
    {
     "output_type": "stream",
     "name": "stdout",
     "text": [
      "Generating maps..please wait.\n"
     ]
    },
    {
     "output_type": "display_data",
     "data": {
      "application/vnd.jupyter.widget-view+json": {
       "version_major": 2,
       "version_minor": 0,
       "model_id": "85aa5e703ccb4e0182601c776cde2831"
      },
      "text/plain": [
       "Fov bins loop:   0%|          | 0/1 [00:00<?, ?it/s]"
      ]
     },
     "metadata": {}
    },
    {
     "output_type": "display_data",
     "data": {
      "application/vnd.jupyter.widget-view+json": {
       "version_major": 2,
       "version_minor": 0,
       "model_id": "2b9909dd2169447cbcff3dbf903e10c9"
      },
      "text/plain": [
       "Energy bins loop: 0it [00:00, ?it/s]"
      ]
     },
     "metadata": {}
    },
    {
     "output_type": "stream",
     "name": "stdout",
     "text": [
      "Generating maps..please wait.\n"
     ]
    },
    {
     "output_type": "display_data",
     "data": {
      "application/vnd.jupyter.widget-view+json": {
       "version_major": 2,
       "version_minor": 0,
       "model_id": "3109d96f7f934471842673913d36e4e9"
      },
      "text/plain": [
       "Fov bins loop:   0%|          | 0/1 [00:00<?, ?it/s]"
      ]
     },
     "metadata": {}
    },
    {
     "output_type": "display_data",
     "data": {
      "application/vnd.jupyter.widget-view+json": {
       "version_major": 2,
       "version_minor": 0,
       "model_id": "76b9f568d936444da194f9df596c84fe"
      },
      "text/plain": [
       "Energy bins loop: 0it [00:00, ?it/s]"
      ]
     },
     "metadata": {}
    },
    {
     "output_type": "stream",
     "name": "stdout",
     "text": [
      "2022-02-09 11:10:08,819 [WARNING ] [AGAnalysis] [LC] The last bin [165369600, 165715200] of the light curve analysis falls outside the range of the available data [.. , 165585534.0]. The binsize is reduced to 215934.0 seconds, the new bin is [165369600, 165585534.0]\n"
     ]
    },
    {
     "output_type": "stream",
     "name": "stderr",
     "text": [
      "100%|██████████| 4/4 [00:00<00:00, 11975.17it/s]"
     ]
    },
    {
     "output_type": "stream",
     "name": "stdout",
     "text": [
      "Generating maps..please wait.\n"
     ]
    },
    {
     "output_type": "stream",
     "name": "stderr",
     "text": [
      "\n"
     ]
    },
    {
     "output_type": "display_data",
     "data": {
      "application/vnd.jupyter.widget-view+json": {
       "version_major": 2,
       "version_minor": 0,
       "model_id": "fa9d886d4109466c969b7c139b6b7fe4"
      },
      "text/plain": [
       "Fov bins loop:   0%|          | 0/1 [00:00<?, ?it/s]"
      ]
     },
     "metadata": {}
    },
    {
     "output_type": "display_data",
     "data": {
      "application/vnd.jupyter.widget-view+json": {
       "version_major": 2,
       "version_minor": 0,
       "model_id": "a69f0b4f1e314b61bbfd0969ff91c393"
      },
      "text/plain": [
       "Energy bins loop: 0it [00:00, ?it/s]"
      ]
     },
     "metadata": {}
    }
   ],
   "metadata": {}
  },
  {
   "cell_type": "code",
   "execution_count": 30,
   "source": [
    "ag.displayLightCurve(\"mle\")"
   ],
   "outputs": [
    {
     "output_type": "stream",
     "name": "stdout",
     "text": [
      "Generating plot..please wait.\n"
     ]
    },
    {
     "output_type": "display_data",
     "data": {
      "application/vnd.plotly.v1+json": {
       "data": [
        {
         "customdata": [
          [
           54895,
           54899,
           3.92323
          ],
          [
           54899,
           54903,
           10.4299
          ],
          [
           54903,
           54907,
           9.14378
          ],
          [
           54907,
           54911,
           10.6899
          ],
          [
           54911,
           54915,
           6.95269
          ],
          [
           54915,
           54919,
           10.5426
          ],
          [
           54919,
           54921.49923611112,
           4.92347
          ]
         ],
         "error_x": {
          "array": [
           2,
           2,
           2,
           2,
           2,
           2,
           1.249618055560859
          ],
          "arrayminus": [
           2,
           2,
           2,
           2,
           2,
           2,
           1.249618055560859
          ],
          "symmetric": false,
          "type": "data"
         },
         "error_y": {
          "array": [
           23.1802,
           35.3902,
           32.8528,
           38.5323,
           39.9361,
           51.5428,
           64.0545
          ],
          "symmetric": true,
          "type": "data"
         },
         "hovertemplate": "tstart: %{customdata[0]:.4f} - tend:%{customdata[1]:.4f}, flux: %{y:.2f} +/- %{error_y.array:.2f}, sqrts: %{customdata[2]:.4f}",
         "mode": "markers",
         "name": "flux",
         "x": [
          54897,
          54901,
          54905,
          54909,
          54913,
          54917,
          54920.24961805556
         ],
         "y": [
          72.0431,
          249.58599999999998,
          203.25500000000002,
          269.08,
          196.946,
          348.161,
          223.607
         ],
         "type": "scatter"
        },
        {
         "customdata": [
          [
           54891,
           54895,
           0
          ]
         ],
         "error_x": {
          "array": [
           2
          ],
          "arrayminus": [
           2
          ],
          "symmetric": false,
          "type": "data"
         },
         "hovertemplate": "tstart: %{customdata[0]:.4f}, tend:%{customdata[1]:.4f}, flux_ul: %{y:.2f}, sqrts: %{customdata[2]:.4f}",
         "marker": {
          "size": 10,
          "symbol": "triangle-down"
         },
         "mode": "markers",
         "name": "flux_ul",
         "x": [
          54893
         ],
         "y": [
          17.642
         ],
         "type": "scatter"
        }
       ],
       "layout": {
        "template": {
         "data": {
          "bar": [
           {
            "error_x": {
             "color": "#2a3f5f"
            },
            "error_y": {
             "color": "#2a3f5f"
            },
            "marker": {
             "line": {
              "color": "#E5ECF6",
              "width": 0.5
             },
             "pattern": {
              "fillmode": "overlay",
              "size": 10,
              "solidity": 0.2
             }
            },
            "type": "bar"
           }
          ],
          "barpolar": [
           {
            "marker": {
             "line": {
              "color": "#E5ECF6",
              "width": 0.5
             },
             "pattern": {
              "fillmode": "overlay",
              "size": 10,
              "solidity": 0.2
             }
            },
            "type": "barpolar"
           }
          ],
          "carpet": [
           {
            "aaxis": {
             "endlinecolor": "#2a3f5f",
             "gridcolor": "white",
             "linecolor": "white",
             "minorgridcolor": "white",
             "startlinecolor": "#2a3f5f"
            },
            "baxis": {
             "endlinecolor": "#2a3f5f",
             "gridcolor": "white",
             "linecolor": "white",
             "minorgridcolor": "white",
             "startlinecolor": "#2a3f5f"
            },
            "type": "carpet"
           }
          ],
          "choropleth": [
           {
            "colorbar": {
             "outlinewidth": 0,
             "ticks": ""
            },
            "type": "choropleth"
           }
          ],
          "contour": [
           {
            "colorbar": {
             "outlinewidth": 0,
             "ticks": ""
            },
            "colorscale": [
             [
              0,
              "#0d0887"
             ],
             [
              0.1111111111111111,
              "#46039f"
             ],
             [
              0.2222222222222222,
              "#7201a8"
             ],
             [
              0.3333333333333333,
              "#9c179e"
             ],
             [
              0.4444444444444444,
              "#bd3786"
             ],
             [
              0.5555555555555556,
              "#d8576b"
             ],
             [
              0.6666666666666666,
              "#ed7953"
             ],
             [
              0.7777777777777778,
              "#fb9f3a"
             ],
             [
              0.8888888888888888,
              "#fdca26"
             ],
             [
              1,
              "#f0f921"
             ]
            ],
            "type": "contour"
           }
          ],
          "contourcarpet": [
           {
            "colorbar": {
             "outlinewidth": 0,
             "ticks": ""
            },
            "type": "contourcarpet"
           }
          ],
          "heatmap": [
           {
            "colorbar": {
             "outlinewidth": 0,
             "ticks": ""
            },
            "colorscale": [
             [
              0,
              "#0d0887"
             ],
             [
              0.1111111111111111,
              "#46039f"
             ],
             [
              0.2222222222222222,
              "#7201a8"
             ],
             [
              0.3333333333333333,
              "#9c179e"
             ],
             [
              0.4444444444444444,
              "#bd3786"
             ],
             [
              0.5555555555555556,
              "#d8576b"
             ],
             [
              0.6666666666666666,
              "#ed7953"
             ],
             [
              0.7777777777777778,
              "#fb9f3a"
             ],
             [
              0.8888888888888888,
              "#fdca26"
             ],
             [
              1,
              "#f0f921"
             ]
            ],
            "type": "heatmap"
           }
          ],
          "heatmapgl": [
           {
            "colorbar": {
             "outlinewidth": 0,
             "ticks": ""
            },
            "colorscale": [
             [
              0,
              "#0d0887"
             ],
             [
              0.1111111111111111,
              "#46039f"
             ],
             [
              0.2222222222222222,
              "#7201a8"
             ],
             [
              0.3333333333333333,
              "#9c179e"
             ],
             [
              0.4444444444444444,
              "#bd3786"
             ],
             [
              0.5555555555555556,
              "#d8576b"
             ],
             [
              0.6666666666666666,
              "#ed7953"
             ],
             [
              0.7777777777777778,
              "#fb9f3a"
             ],
             [
              0.8888888888888888,
              "#fdca26"
             ],
             [
              1,
              "#f0f921"
             ]
            ],
            "type": "heatmapgl"
           }
          ],
          "histogram": [
           {
            "marker": {
             "pattern": {
              "fillmode": "overlay",
              "size": 10,
              "solidity": 0.2
             }
            },
            "type": "histogram"
           }
          ],
          "histogram2d": [
           {
            "colorbar": {
             "outlinewidth": 0,
             "ticks": ""
            },
            "colorscale": [
             [
              0,
              "#0d0887"
             ],
             [
              0.1111111111111111,
              "#46039f"
             ],
             [
              0.2222222222222222,
              "#7201a8"
             ],
             [
              0.3333333333333333,
              "#9c179e"
             ],
             [
              0.4444444444444444,
              "#bd3786"
             ],
             [
              0.5555555555555556,
              "#d8576b"
             ],
             [
              0.6666666666666666,
              "#ed7953"
             ],
             [
              0.7777777777777778,
              "#fb9f3a"
             ],
             [
              0.8888888888888888,
              "#fdca26"
             ],
             [
              1,
              "#f0f921"
             ]
            ],
            "type": "histogram2d"
           }
          ],
          "histogram2dcontour": [
           {
            "colorbar": {
             "outlinewidth": 0,
             "ticks": ""
            },
            "colorscale": [
             [
              0,
              "#0d0887"
             ],
             [
              0.1111111111111111,
              "#46039f"
             ],
             [
              0.2222222222222222,
              "#7201a8"
             ],
             [
              0.3333333333333333,
              "#9c179e"
             ],
             [
              0.4444444444444444,
              "#bd3786"
             ],
             [
              0.5555555555555556,
              "#d8576b"
             ],
             [
              0.6666666666666666,
              "#ed7953"
             ],
             [
              0.7777777777777778,
              "#fb9f3a"
             ],
             [
              0.8888888888888888,
              "#fdca26"
             ],
             [
              1,
              "#f0f921"
             ]
            ],
            "type": "histogram2dcontour"
           }
          ],
          "mesh3d": [
           {
            "colorbar": {
             "outlinewidth": 0,
             "ticks": ""
            },
            "type": "mesh3d"
           }
          ],
          "parcoords": [
           {
            "line": {
             "colorbar": {
              "outlinewidth": 0,
              "ticks": ""
             }
            },
            "type": "parcoords"
           }
          ],
          "pie": [
           {
            "automargin": true,
            "type": "pie"
           }
          ],
          "scatter": [
           {
            "marker": {
             "colorbar": {
              "outlinewidth": 0,
              "ticks": ""
             }
            },
            "type": "scatter"
           }
          ],
          "scatter3d": [
           {
            "line": {
             "colorbar": {
              "outlinewidth": 0,
              "ticks": ""
             }
            },
            "marker": {
             "colorbar": {
              "outlinewidth": 0,
              "ticks": ""
             }
            },
            "type": "scatter3d"
           }
          ],
          "scattercarpet": [
           {
            "marker": {
             "colorbar": {
              "outlinewidth": 0,
              "ticks": ""
             }
            },
            "type": "scattercarpet"
           }
          ],
          "scattergeo": [
           {
            "marker": {
             "colorbar": {
              "outlinewidth": 0,
              "ticks": ""
             }
            },
            "type": "scattergeo"
           }
          ],
          "scattergl": [
           {
            "marker": {
             "colorbar": {
              "outlinewidth": 0,
              "ticks": ""
             }
            },
            "type": "scattergl"
           }
          ],
          "scattermapbox": [
           {
            "marker": {
             "colorbar": {
              "outlinewidth": 0,
              "ticks": ""
             }
            },
            "type": "scattermapbox"
           }
          ],
          "scatterpolar": [
           {
            "marker": {
             "colorbar": {
              "outlinewidth": 0,
              "ticks": ""
             }
            },
            "type": "scatterpolar"
           }
          ],
          "scatterpolargl": [
           {
            "marker": {
             "colorbar": {
              "outlinewidth": 0,
              "ticks": ""
             }
            },
            "type": "scatterpolargl"
           }
          ],
          "scatterternary": [
           {
            "marker": {
             "colorbar": {
              "outlinewidth": 0,
              "ticks": ""
             }
            },
            "type": "scatterternary"
           }
          ],
          "surface": [
           {
            "colorbar": {
             "outlinewidth": 0,
             "ticks": ""
            },
            "colorscale": [
             [
              0,
              "#0d0887"
             ],
             [
              0.1111111111111111,
              "#46039f"
             ],
             [
              0.2222222222222222,
              "#7201a8"
             ],
             [
              0.3333333333333333,
              "#9c179e"
             ],
             [
              0.4444444444444444,
              "#bd3786"
             ],
             [
              0.5555555555555556,
              "#d8576b"
             ],
             [
              0.6666666666666666,
              "#ed7953"
             ],
             [
              0.7777777777777778,
              "#fb9f3a"
             ],
             [
              0.8888888888888888,
              "#fdca26"
             ],
             [
              1,
              "#f0f921"
             ]
            ],
            "type": "surface"
           }
          ],
          "table": [
           {
            "cells": {
             "fill": {
              "color": "#EBF0F8"
             },
             "line": {
              "color": "white"
             }
            },
            "header": {
             "fill": {
              "color": "#C8D4E3"
             },
             "line": {
              "color": "white"
             }
            },
            "type": "table"
           }
          ]
         },
         "layout": {
          "annotationdefaults": {
           "arrowcolor": "#2a3f5f",
           "arrowhead": 0,
           "arrowwidth": 1
          },
          "autotypenumbers": "strict",
          "coloraxis": {
           "colorbar": {
            "outlinewidth": 0,
            "ticks": ""
           }
          },
          "colorscale": {
           "diverging": [
            [
             0,
             "#8e0152"
            ],
            [
             0.1,
             "#c51b7d"
            ],
            [
             0.2,
             "#de77ae"
            ],
            [
             0.3,
             "#f1b6da"
            ],
            [
             0.4,
             "#fde0ef"
            ],
            [
             0.5,
             "#f7f7f7"
            ],
            [
             0.6,
             "#e6f5d0"
            ],
            [
             0.7,
             "#b8e186"
            ],
            [
             0.8,
             "#7fbc41"
            ],
            [
             0.9,
             "#4d9221"
            ],
            [
             1,
             "#276419"
            ]
           ],
           "sequential": [
            [
             0,
             "#0d0887"
            ],
            [
             0.1111111111111111,
             "#46039f"
            ],
            [
             0.2222222222222222,
             "#7201a8"
            ],
            [
             0.3333333333333333,
             "#9c179e"
            ],
            [
             0.4444444444444444,
             "#bd3786"
            ],
            [
             0.5555555555555556,
             "#d8576b"
            ],
            [
             0.6666666666666666,
             "#ed7953"
            ],
            [
             0.7777777777777778,
             "#fb9f3a"
            ],
            [
             0.8888888888888888,
             "#fdca26"
            ],
            [
             1,
             "#f0f921"
            ]
           ],
           "sequentialminus": [
            [
             0,
             "#0d0887"
            ],
            [
             0.1111111111111111,
             "#46039f"
            ],
            [
             0.2222222222222222,
             "#7201a8"
            ],
            [
             0.3333333333333333,
             "#9c179e"
            ],
            [
             0.4444444444444444,
             "#bd3786"
            ],
            [
             0.5555555555555556,
             "#d8576b"
            ],
            [
             0.6666666666666666,
             "#ed7953"
            ],
            [
             0.7777777777777778,
             "#fb9f3a"
            ],
            [
             0.8888888888888888,
             "#fdca26"
            ],
            [
             1,
             "#f0f921"
            ]
           ]
          },
          "colorway": [
           "#636efa",
           "#EF553B",
           "#00cc96",
           "#ab63fa",
           "#FFA15A",
           "#19d3f3",
           "#FF6692",
           "#B6E880",
           "#FF97FF",
           "#FECB52"
          ],
          "font": {
           "color": "#2a3f5f"
          },
          "geo": {
           "bgcolor": "white",
           "lakecolor": "white",
           "landcolor": "#E5ECF6",
           "showlakes": true,
           "showland": true,
           "subunitcolor": "white"
          },
          "hoverlabel": {
           "align": "left"
          },
          "hovermode": "closest",
          "mapbox": {
           "style": "light"
          },
          "paper_bgcolor": "white",
          "plot_bgcolor": "#E5ECF6",
          "polar": {
           "angularaxis": {
            "gridcolor": "white",
            "linecolor": "white",
            "ticks": ""
           },
           "bgcolor": "#E5ECF6",
           "radialaxis": {
            "gridcolor": "white",
            "linecolor": "white",
            "ticks": ""
           }
          },
          "scene": {
           "xaxis": {
            "backgroundcolor": "#E5ECF6",
            "gridcolor": "white",
            "gridwidth": 2,
            "linecolor": "white",
            "showbackground": true,
            "ticks": "",
            "zerolinecolor": "white"
           },
           "yaxis": {
            "backgroundcolor": "#E5ECF6",
            "gridcolor": "white",
            "gridwidth": 2,
            "linecolor": "white",
            "showbackground": true,
            "ticks": "",
            "zerolinecolor": "white"
           },
           "zaxis": {
            "backgroundcolor": "#E5ECF6",
            "gridcolor": "white",
            "gridwidth": 2,
            "linecolor": "white",
            "showbackground": true,
            "ticks": "",
            "zerolinecolor": "white"
           }
          },
          "shapedefaults": {
           "line": {
            "color": "#2a3f5f"
           }
          },
          "ternary": {
           "aaxis": {
            "gridcolor": "white",
            "linecolor": "white",
            "ticks": ""
           },
           "baxis": {
            "gridcolor": "white",
            "linecolor": "white",
            "ticks": ""
           },
           "bgcolor": "#E5ECF6",
           "caxis": {
            "gridcolor": "white",
            "linecolor": "white",
            "ticks": ""
           }
          },
          "title": {
           "x": 0.05
          },
          "xaxis": {
           "automargin": true,
           "gridcolor": "white",
           "linecolor": "white",
           "ticks": "",
           "title": {
            "standoff": 15
           },
           "zerolinecolor": "white",
           "zerolinewidth": 2
          },
          "yaxis": {
           "automargin": true,
           "gridcolor": "white",
           "linecolor": "white",
           "ticks": "",
           "title": {
            "standoff": 15
           },
           "zerolinecolor": "white",
           "zerolinewidth": 2
          }
         }
        },
        "xaxis": {
         "showline": true,
         "linecolor": "black",
         "title": {
          "text": "Time(MJD)"
         },
         "tickformat": "g"
        },
        "yaxis": {
         "showline": true,
         "linecolor": "black",
         "title": {
          "text": "$10^{-8} ph cm^{-2} s^{-1}$"
         }
        },
        "legend": {
         "font": {
          "size": 17
         },
         "orientation": "h",
         "yanchor": "bottom",
         "y": 1.02,
         "xanchor": "left"
        }
       },
       "config": {
        "plotlyServerURL": "https://plot.ly"
       }
      }
     },
     "metadata": {}
    }
   ],
   "metadata": {}
  },
  {
   "cell_type": "code",
   "execution_count": 31,
   "source": [
    "ag.selectSources('name == \"PKS1510-089\"', show=True)"
   ],
   "outputs": [
    {
     "output_type": "stream",
     "name": "stdout",
     "text": [
      "\n",
      "-----------------------------------------------------------\u001b[1m\n",
      " Source name: PKS1510-089 (PointSource)\u001b[0m\u001b[1m => sqrt(ts): 20.0815\u001b[0m\n",
      "  * \u001b[1mSpectrum type\u001b[0m: PowerLaw\n",
      "  * \u001b[1mFree parameters\u001b[0m: flux pos\n",
      "  * \u001b[1mInitial source parameters\u001b[0m:\n",
      "\t- flux (ph/cm2s): 1.7293e-06 +/- 1.2311e-07\n",
      "\t- index : 2.1 +/- 0\n",
      "\t- Source position (l,b): (351.29, 40.13)\n",
      "\t- Distance from map center (deg): 0.0\n",
      "  * \u001b[1mLast MLE analysis\u001b[0m (2022-02-09 10:47:41.262727):\n",
      "\t- flux (ph/cm2s): 1.6004e-06 +/- 6.9527e-316\n",
      "\t- index : 2.1 +/- 6.92852e-310\n",
      "\t- upper limit(ph/cm2s): 1.83745e-06\n",
      "\t- ergLog(erg/cm2s): 2.58642e-10 +/- 1.12365e-319\n",
      "\t- galCoeff: [0.7, 0.7, 0.7, 0.7]\n",
      "\t- isoCoeff: [6.02924, 3.10287, 0.877702, 0.103418] +/- [0.314041, 0.158983, 0.0577251, 0.0235669]\n",
      "\t- exposure(cm2s): 358153000.0\n",
      "\t- exp-ratio: 0\n",
      "\t- L_peak: 351.29\n",
      "\t- B_peak: 40.13\n",
      "\t- Distance from start pos: 0\n",
      "\t- position:\n",
      "\t    - L: -1\n",
      "\t    - B: -1\n",
      "\t    - Distance from start pos: -1\n",
      "\t    - radius of circle: -1\n",
      "\t    - ellipse:\n",
      "\t\t  - a: -1\n",
      "\t\t  - b: -1\n",
      "\t\t  - phi: -1\n",
      "-----------------------------------------------------------\n"
     ]
    },
    {
     "output_type": "execute_result",
     "data": {
      "text/plain": [
       "[<agilepy.core.source.Source.PointSource at 0x7f9b58ce9f90>]"
      ]
     },
     "metadata": {},
     "execution_count": 31
    }
   ],
   "metadata": {}
  },
  {
   "cell_type": "markdown",
   "source": [
    "time_start_mjd time_end_mjd sqrt(ts) flux flux_err flux_ul gal gal_error iso iso_error l_peak b_peak dist_peak l b r ell_dist a b phi exposure ExpRatio counts counts_err Index Index_Err Par2 Par2_Err Par3 Par3_Err Erglog Erglog_Err Erglog_UL time_start_utc time_end_utc time_start_tt time_end_tt Fix index ULConfidenceLevel SrcLocConfLevel start_l start_b start_flux typefun par2 par3 galmode2 galmode2fit isomode2 isomode2fit edpcor fluxcor integratortype expratioEval expratio_minthr expratio_maxthr expratio_size Emin emax fovmin fovmax albedo binsize expstep phasecode"
   ],
   "metadata": {}
  },
  {
   "cell_type": "code",
   "execution_count": 32,
   "source": [
    "ag.displayGenericColumns(lightCurveData4, [\"ExpRatio\"], um=[\"\"])"
   ],
   "outputs": [
    {
     "output_type": "display_data",
     "data": {
      "application/vnd.plotly.v1+json": {
       "data": [
        {
         "customdata": [
          [
           54895,
           54899,
           3.92323
          ],
          [
           54899,
           54903,
           10.4299
          ],
          [
           54903,
           54907,
           9.14378
          ],
          [
           54907,
           54911,
           10.6899
          ],
          [
           54911,
           54915,
           6.95269
          ],
          [
           54915,
           54919,
           10.5426
          ],
          [
           54919,
           54921.49923611112,
           4.92347
          ]
         ],
         "error_x": {
          "array": [
           2,
           2,
           2,
           2,
           2,
           2,
           1.249618055560859
          ],
          "arrayminus": [
           2,
           2,
           2,
           2,
           2,
           2,
           1.249618055560859
          ],
          "symmetric": false,
          "type": "data"
         },
         "error_y": {
          "array": [
           23.1802,
           35.3902,
           32.8528,
           38.5323,
           39.9361,
           51.5428,
           64.0545
          ],
          "symmetric": true,
          "type": "data"
         },
         "hovertemplate": "tstart: %{customdata[0]:.4f} - tend:%{customdata[1]:.4f}, flux: %{y:.2f} +/- %{error_y.array:.2f}, sqrts: %{customdata[2]:.4f}",
         "mode": "markers",
         "name": "flux",
         "x": [
          54897,
          54901,
          54905,
          54909,
          54913,
          54917,
          54920.24961805556
         ],
         "y": [
          72.0431,
          249.58599999999998,
          203.25500000000002,
          269.08,
          196.946,
          348.161,
          223.607
         ],
         "type": "scatter",
         "xaxis": "x",
         "yaxis": "y"
        },
        {
         "customdata": [
          [
           54891,
           54895,
           0
          ]
         ],
         "error_x": {
          "array": [
           2
          ],
          "arrayminus": [
           2
          ],
          "symmetric": false,
          "type": "data"
         },
         "hovertemplate": "tstart: %{customdata[0]:.4f}, tend:%{customdata[1]:.4f}, flux_ul: %{y:.2f}, sqrts: %{customdata[2]:.4f}",
         "marker": {
          "size": 10,
          "symbol": "triangle-down"
         },
         "mode": "markers",
         "name": "flux_ul",
         "x": [
          54893
         ],
         "y": [
          17.642
         ],
         "type": "scatter",
         "xaxis": "x",
         "yaxis": "y"
        },
        {
         "name": "ExpRatio",
         "x": [
          54893,
          54897,
          54901,
          54905,
          54909,
          54913,
          54917,
          54920.24961805556
         ],
         "y": [
          0,
          0,
          0,
          0,
          0,
          0,
          3.2718599999999998,
          18.4414
         ],
         "type": "scatter",
         "xaxis": "x2",
         "yaxis": "y2"
        }
       ],
       "layout": {
        "template": {
         "data": {
          "bar": [
           {
            "error_x": {
             "color": "#2a3f5f"
            },
            "error_y": {
             "color": "#2a3f5f"
            },
            "marker": {
             "line": {
              "color": "#E5ECF6",
              "width": 0.5
             },
             "pattern": {
              "fillmode": "overlay",
              "size": 10,
              "solidity": 0.2
             }
            },
            "type": "bar"
           }
          ],
          "barpolar": [
           {
            "marker": {
             "line": {
              "color": "#E5ECF6",
              "width": 0.5
             },
             "pattern": {
              "fillmode": "overlay",
              "size": 10,
              "solidity": 0.2
             }
            },
            "type": "barpolar"
           }
          ],
          "carpet": [
           {
            "aaxis": {
             "endlinecolor": "#2a3f5f",
             "gridcolor": "white",
             "linecolor": "white",
             "minorgridcolor": "white",
             "startlinecolor": "#2a3f5f"
            },
            "baxis": {
             "endlinecolor": "#2a3f5f",
             "gridcolor": "white",
             "linecolor": "white",
             "minorgridcolor": "white",
             "startlinecolor": "#2a3f5f"
            },
            "type": "carpet"
           }
          ],
          "choropleth": [
           {
            "colorbar": {
             "outlinewidth": 0,
             "ticks": ""
            },
            "type": "choropleth"
           }
          ],
          "contour": [
           {
            "colorbar": {
             "outlinewidth": 0,
             "ticks": ""
            },
            "colorscale": [
             [
              0,
              "#0d0887"
             ],
             [
              0.1111111111111111,
              "#46039f"
             ],
             [
              0.2222222222222222,
              "#7201a8"
             ],
             [
              0.3333333333333333,
              "#9c179e"
             ],
             [
              0.4444444444444444,
              "#bd3786"
             ],
             [
              0.5555555555555556,
              "#d8576b"
             ],
             [
              0.6666666666666666,
              "#ed7953"
             ],
             [
              0.7777777777777778,
              "#fb9f3a"
             ],
             [
              0.8888888888888888,
              "#fdca26"
             ],
             [
              1,
              "#f0f921"
             ]
            ],
            "type": "contour"
           }
          ],
          "contourcarpet": [
           {
            "colorbar": {
             "outlinewidth": 0,
             "ticks": ""
            },
            "type": "contourcarpet"
           }
          ],
          "heatmap": [
           {
            "colorbar": {
             "outlinewidth": 0,
             "ticks": ""
            },
            "colorscale": [
             [
              0,
              "#0d0887"
             ],
             [
              0.1111111111111111,
              "#46039f"
             ],
             [
              0.2222222222222222,
              "#7201a8"
             ],
             [
              0.3333333333333333,
              "#9c179e"
             ],
             [
              0.4444444444444444,
              "#bd3786"
             ],
             [
              0.5555555555555556,
              "#d8576b"
             ],
             [
              0.6666666666666666,
              "#ed7953"
             ],
             [
              0.7777777777777778,
              "#fb9f3a"
             ],
             [
              0.8888888888888888,
              "#fdca26"
             ],
             [
              1,
              "#f0f921"
             ]
            ],
            "type": "heatmap"
           }
          ],
          "heatmapgl": [
           {
            "colorbar": {
             "outlinewidth": 0,
             "ticks": ""
            },
            "colorscale": [
             [
              0,
              "#0d0887"
             ],
             [
              0.1111111111111111,
              "#46039f"
             ],
             [
              0.2222222222222222,
              "#7201a8"
             ],
             [
              0.3333333333333333,
              "#9c179e"
             ],
             [
              0.4444444444444444,
              "#bd3786"
             ],
             [
              0.5555555555555556,
              "#d8576b"
             ],
             [
              0.6666666666666666,
              "#ed7953"
             ],
             [
              0.7777777777777778,
              "#fb9f3a"
             ],
             [
              0.8888888888888888,
              "#fdca26"
             ],
             [
              1,
              "#f0f921"
             ]
            ],
            "type": "heatmapgl"
           }
          ],
          "histogram": [
           {
            "marker": {
             "pattern": {
              "fillmode": "overlay",
              "size": 10,
              "solidity": 0.2
             }
            },
            "type": "histogram"
           }
          ],
          "histogram2d": [
           {
            "colorbar": {
             "outlinewidth": 0,
             "ticks": ""
            },
            "colorscale": [
             [
              0,
              "#0d0887"
             ],
             [
              0.1111111111111111,
              "#46039f"
             ],
             [
              0.2222222222222222,
              "#7201a8"
             ],
             [
              0.3333333333333333,
              "#9c179e"
             ],
             [
              0.4444444444444444,
              "#bd3786"
             ],
             [
              0.5555555555555556,
              "#d8576b"
             ],
             [
              0.6666666666666666,
              "#ed7953"
             ],
             [
              0.7777777777777778,
              "#fb9f3a"
             ],
             [
              0.8888888888888888,
              "#fdca26"
             ],
             [
              1,
              "#f0f921"
             ]
            ],
            "type": "histogram2d"
           }
          ],
          "histogram2dcontour": [
           {
            "colorbar": {
             "outlinewidth": 0,
             "ticks": ""
            },
            "colorscale": [
             [
              0,
              "#0d0887"
             ],
             [
              0.1111111111111111,
              "#46039f"
             ],
             [
              0.2222222222222222,
              "#7201a8"
             ],
             [
              0.3333333333333333,
              "#9c179e"
             ],
             [
              0.4444444444444444,
              "#bd3786"
             ],
             [
              0.5555555555555556,
              "#d8576b"
             ],
             [
              0.6666666666666666,
              "#ed7953"
             ],
             [
              0.7777777777777778,
              "#fb9f3a"
             ],
             [
              0.8888888888888888,
              "#fdca26"
             ],
             [
              1,
              "#f0f921"
             ]
            ],
            "type": "histogram2dcontour"
           }
          ],
          "mesh3d": [
           {
            "colorbar": {
             "outlinewidth": 0,
             "ticks": ""
            },
            "type": "mesh3d"
           }
          ],
          "parcoords": [
           {
            "line": {
             "colorbar": {
              "outlinewidth": 0,
              "ticks": ""
             }
            },
            "type": "parcoords"
           }
          ],
          "pie": [
           {
            "automargin": true,
            "type": "pie"
           }
          ],
          "scatter": [
           {
            "marker": {
             "colorbar": {
              "outlinewidth": 0,
              "ticks": ""
             }
            },
            "type": "scatter"
           }
          ],
          "scatter3d": [
           {
            "line": {
             "colorbar": {
              "outlinewidth": 0,
              "ticks": ""
             }
            },
            "marker": {
             "colorbar": {
              "outlinewidth": 0,
              "ticks": ""
             }
            },
            "type": "scatter3d"
           }
          ],
          "scattercarpet": [
           {
            "marker": {
             "colorbar": {
              "outlinewidth": 0,
              "ticks": ""
             }
            },
            "type": "scattercarpet"
           }
          ],
          "scattergeo": [
           {
            "marker": {
             "colorbar": {
              "outlinewidth": 0,
              "ticks": ""
             }
            },
            "type": "scattergeo"
           }
          ],
          "scattergl": [
           {
            "marker": {
             "colorbar": {
              "outlinewidth": 0,
              "ticks": ""
             }
            },
            "type": "scattergl"
           }
          ],
          "scattermapbox": [
           {
            "marker": {
             "colorbar": {
              "outlinewidth": 0,
              "ticks": ""
             }
            },
            "type": "scattermapbox"
           }
          ],
          "scatterpolar": [
           {
            "marker": {
             "colorbar": {
              "outlinewidth": 0,
              "ticks": ""
             }
            },
            "type": "scatterpolar"
           }
          ],
          "scatterpolargl": [
           {
            "marker": {
             "colorbar": {
              "outlinewidth": 0,
              "ticks": ""
             }
            },
            "type": "scatterpolargl"
           }
          ],
          "scatterternary": [
           {
            "marker": {
             "colorbar": {
              "outlinewidth": 0,
              "ticks": ""
             }
            },
            "type": "scatterternary"
           }
          ],
          "surface": [
           {
            "colorbar": {
             "outlinewidth": 0,
             "ticks": ""
            },
            "colorscale": [
             [
              0,
              "#0d0887"
             ],
             [
              0.1111111111111111,
              "#46039f"
             ],
             [
              0.2222222222222222,
              "#7201a8"
             ],
             [
              0.3333333333333333,
              "#9c179e"
             ],
             [
              0.4444444444444444,
              "#bd3786"
             ],
             [
              0.5555555555555556,
              "#d8576b"
             ],
             [
              0.6666666666666666,
              "#ed7953"
             ],
             [
              0.7777777777777778,
              "#fb9f3a"
             ],
             [
              0.8888888888888888,
              "#fdca26"
             ],
             [
              1,
              "#f0f921"
             ]
            ],
            "type": "surface"
           }
          ],
          "table": [
           {
            "cells": {
             "fill": {
              "color": "#EBF0F8"
             },
             "line": {
              "color": "white"
             }
            },
            "header": {
             "fill": {
              "color": "#C8D4E3"
             },
             "line": {
              "color": "white"
             }
            },
            "type": "table"
           }
          ]
         },
         "layout": {
          "annotationdefaults": {
           "arrowcolor": "#2a3f5f",
           "arrowhead": 0,
           "arrowwidth": 1
          },
          "autotypenumbers": "strict",
          "coloraxis": {
           "colorbar": {
            "outlinewidth": 0,
            "ticks": ""
           }
          },
          "colorscale": {
           "diverging": [
            [
             0,
             "#8e0152"
            ],
            [
             0.1,
             "#c51b7d"
            ],
            [
             0.2,
             "#de77ae"
            ],
            [
             0.3,
             "#f1b6da"
            ],
            [
             0.4,
             "#fde0ef"
            ],
            [
             0.5,
             "#f7f7f7"
            ],
            [
             0.6,
             "#e6f5d0"
            ],
            [
             0.7,
             "#b8e186"
            ],
            [
             0.8,
             "#7fbc41"
            ],
            [
             0.9,
             "#4d9221"
            ],
            [
             1,
             "#276419"
            ]
           ],
           "sequential": [
            [
             0,
             "#0d0887"
            ],
            [
             0.1111111111111111,
             "#46039f"
            ],
            [
             0.2222222222222222,
             "#7201a8"
            ],
            [
             0.3333333333333333,
             "#9c179e"
            ],
            [
             0.4444444444444444,
             "#bd3786"
            ],
            [
             0.5555555555555556,
             "#d8576b"
            ],
            [
             0.6666666666666666,
             "#ed7953"
            ],
            [
             0.7777777777777778,
             "#fb9f3a"
            ],
            [
             0.8888888888888888,
             "#fdca26"
            ],
            [
             1,
             "#f0f921"
            ]
           ],
           "sequentialminus": [
            [
             0,
             "#0d0887"
            ],
            [
             0.1111111111111111,
             "#46039f"
            ],
            [
             0.2222222222222222,
             "#7201a8"
            ],
            [
             0.3333333333333333,
             "#9c179e"
            ],
            [
             0.4444444444444444,
             "#bd3786"
            ],
            [
             0.5555555555555556,
             "#d8576b"
            ],
            [
             0.6666666666666666,
             "#ed7953"
            ],
            [
             0.7777777777777778,
             "#fb9f3a"
            ],
            [
             0.8888888888888888,
             "#fdca26"
            ],
            [
             1,
             "#f0f921"
            ]
           ]
          },
          "colorway": [
           "#636efa",
           "#EF553B",
           "#00cc96",
           "#ab63fa",
           "#FFA15A",
           "#19d3f3",
           "#FF6692",
           "#B6E880",
           "#FF97FF",
           "#FECB52"
          ],
          "font": {
           "color": "#2a3f5f"
          },
          "geo": {
           "bgcolor": "white",
           "lakecolor": "white",
           "landcolor": "#E5ECF6",
           "showlakes": true,
           "showland": true,
           "subunitcolor": "white"
          },
          "hoverlabel": {
           "align": "left"
          },
          "hovermode": "closest",
          "mapbox": {
           "style": "light"
          },
          "paper_bgcolor": "white",
          "plot_bgcolor": "#E5ECF6",
          "polar": {
           "angularaxis": {
            "gridcolor": "white",
            "linecolor": "white",
            "ticks": ""
           },
           "bgcolor": "#E5ECF6",
           "radialaxis": {
            "gridcolor": "white",
            "linecolor": "white",
            "ticks": ""
           }
          },
          "scene": {
           "xaxis": {
            "backgroundcolor": "#E5ECF6",
            "gridcolor": "white",
            "gridwidth": 2,
            "linecolor": "white",
            "showbackground": true,
            "ticks": "",
            "zerolinecolor": "white"
           },
           "yaxis": {
            "backgroundcolor": "#E5ECF6",
            "gridcolor": "white",
            "gridwidth": 2,
            "linecolor": "white",
            "showbackground": true,
            "ticks": "",
            "zerolinecolor": "white"
           },
           "zaxis": {
            "backgroundcolor": "#E5ECF6",
            "gridcolor": "white",
            "gridwidth": 2,
            "linecolor": "white",
            "showbackground": true,
            "ticks": "",
            "zerolinecolor": "white"
           }
          },
          "shapedefaults": {
           "line": {
            "color": "#2a3f5f"
           }
          },
          "ternary": {
           "aaxis": {
            "gridcolor": "white",
            "linecolor": "white",
            "ticks": ""
           },
           "baxis": {
            "gridcolor": "white",
            "linecolor": "white",
            "ticks": ""
           },
           "bgcolor": "#E5ECF6",
           "caxis": {
            "gridcolor": "white",
            "linecolor": "white",
            "ticks": ""
           }
          },
          "title": {
           "x": 0.05
          },
          "xaxis": {
           "automargin": true,
           "gridcolor": "white",
           "linecolor": "white",
           "ticks": "",
           "title": {
            "standoff": 15
           },
           "zerolinecolor": "white",
           "zerolinewidth": 2
          },
          "yaxis": {
           "automargin": true,
           "gridcolor": "white",
           "linecolor": "white",
           "ticks": "",
           "title": {
            "standoff": 15
           },
           "zerolinecolor": "white",
           "zerolinewidth": 2
          }
         }
        },
        "xaxis": {
         "anchor": "y",
         "domain": [
          0,
          1
         ],
         "matches": "x2",
         "showticklabels": true,
         "showline": true,
         "linecolor": "black",
         "title": {
          "text": "Time(MJD)"
         },
         "tickformat": "g"
        },
        "yaxis": {
         "anchor": "x",
         "domain": [
          0.575,
          1
         ],
         "showline": true,
         "linecolor": "black",
         "title": {
          "text": "cm^2 s sr"
         }
        },
        "xaxis2": {
         "anchor": "y2",
         "domain": [
          0,
          1
         ],
         "showline": true,
         "linecolor": "black",
         "title": {
          "text": "Time(MJD)"
         },
         "tickformat": "g",
         "showticklabels": true
        },
        "yaxis2": {
         "anchor": "x2",
         "domain": [
          0,
          0.425
         ],
         "showline": true,
         "linecolor": "black",
         "title": {
          "text": ""
         }
        },
        "height": 1000
       },
       "config": {
        "plotlyServerURL": "https://plot.ly"
       }
      }
     },
     "metadata": {}
    }
   ],
   "metadata": {}
  },
  {
   "cell_type": "markdown",
   "source": [
    "## Cleaning up"
   ],
   "metadata": {}
  },
  {
   "cell_type": "code",
   "execution_count": 33,
   "source": [
    "ag.deleteAnalysisDir()"
   ],
   "outputs": [
    {
     "output_type": "execute_result",
     "data": {
      "text/plain": [
       "True"
      ]
     },
     "metadata": {},
     "execution_count": 33
    }
   ],
   "metadata": {}
  },
  {
   "cell_type": "markdown",
   "source": [
    "# "
   ],
   "metadata": {}
  },
  {
   "cell_type": "markdown",
   "source": [
    "##### "
   ],
   "metadata": {}
  }
 ],
 "metadata": {
  "kernelspec": {
   "name": "python3",
   "display_name": "Python 3.7.6 64-bit ('agilepydev': conda)"
  },
  "language_info": {
   "codemirror_mode": {
    "name": "ipython",
    "version": 3
   },
   "file_extension": ".py",
   "mimetype": "text/x-python",
   "name": "python",
   "nbconvert_exporter": "python",
   "pygments_lexer": "ipython3",
   "version": "3.7.6"
  },
  "interpreter": {
   "hash": "5409c3e1903da67ab09041681933e7197a2db2605a48cadadc102950adcdd616"
  }
 },
 "nbformat": 4,
 "nbformat_minor": 4
}