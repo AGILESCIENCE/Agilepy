{
 "cells": [
  {
   "cell_type": "markdown",
   "source": [
    "# Dataset download via REST API Tutorial"
   ],
   "metadata": {}
  },
  {
   "cell_type": "code",
   "execution_count": null,
   "source": [
    "from agilepy.api.AGAnalysis import AGAnalysis"
   ],
   "outputs": [],
   "metadata": {}
  },
  {
   "cell_type": "code",
   "execution_count": null,
   "source": [
    "confFilePath = \"./agilepy_conf.yaml\""
   ],
   "outputs": [],
   "metadata": {}
  },
  {
   "cell_type": "code",
   "execution_count": null,
   "source": [
    "AGAnalysis.getConfiguration(\n",
    "    confFilePath = confFilePath,\n",
    "    evtfile=None,\n",
    "    logfile=None,\n",
    "    userestapi=True,\n",
    "    datapath=\"/home/antonio/test_rest\",\n",
    "    userName = \"antonio\",\n",
    "    sourceName = \"test_rest\",\n",
    "    tmin = 55551,\n",
    "    tmax = 55580,\n",
    "    timetype = \"MJD\",\n",
    "    glon = 86.11,\n",
    "    glat = -38.18,\n",
    "    outputDir = \"$HOME/agilepy_analysis\",\n",
    "    verboselvl = 2\n",
    ")"
   ],
   "outputs": [],
   "metadata": {}
  },
  {
   "cell_type": "code",
   "execution_count": null,
   "source": [
    "ag = AGAnalysis(confFilePath)"
   ],
   "outputs": [],
   "metadata": {}
  },
  {
   "cell_type": "code",
   "execution_count": null,
   "source": [
    "maplistfile = ag.generateMaps()"
   ],
   "outputs": [],
   "metadata": {}
  },
  {
   "cell_type": "code",
   "execution_count": null,
   "source": [
    "ag.displayCtsSkyMaps(smooth=3)\n"
   ],
   "outputs": [],
   "metadata": {}
  },
  {
   "cell_type": "code",
   "execution_count": null,
   "source": [],
   "outputs": [],
   "metadata": {}
  }
 ],
 "metadata": {
  "interpreter": {
   "hash": "5409c3e1903da67ab09041681933e7197a2db2605a48cadadc102950adcdd616"
  },
  "kernelspec": {
   "name": "python3",
   "display_name": "Python 3.7.6 64-bit ('agilepydev': conda)"
  },
  "language_info": {
   "codemirror_mode": {
    "name": "ipython",
    "version": 3
   },
   "file_extension": ".py",
   "mimetype": "text/x-python",
   "name": "python",
   "nbconvert_exporter": "python",
   "pygments_lexer": "ipython3",
   "version": "3.7.6"
  },
  "orig_nbformat": 4
 },
 "nbformat": 4,
 "nbformat_minor": 2
}