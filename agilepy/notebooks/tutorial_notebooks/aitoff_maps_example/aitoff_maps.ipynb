{
 "cells": [
  {
   "cell_type": "markdown",
   "source": [
    "# AITOFF maps\n",
    "## Prerequisities: in order to run this notebook you need the AGILE data."
   ],
   "metadata": {}
  },
  {
   "cell_type": "code",
   "execution_count": null,
   "source": [
    "from agilepy.api.AGAnalysis import AGAnalysis"
   ],
   "outputs": [],
   "metadata": {}
  },
  {
   "cell_type": "code",
   "execution_count": null,
   "source": [
    "%matplotlib widget"
   ],
   "outputs": [],
   "metadata": {}
  },
  {
   "cell_type": "markdown",
   "source": [
    "## Configuration file"
   ],
   "metadata": {}
  },
  {
   "cell_type": "code",
   "execution_count": null,
   "source": [
    "confFilePath = \"$HOME/agilepy_conf.yaml\""
   ],
   "outputs": [],
   "metadata": {}
  },
  {
   "cell_type": "code",
   "execution_count": null,
   "source": [
    "AGAnalysis.getConfiguration(\n",
    "    confFilePath = confFilePath,\n",
    "    evtfile=\"$AGILE/agilepy-test-data/test_dataset_agn/EVT/EVT.index\",\n",
    "    logfile=\"$AGILE/agilepy-test-data/test_dataset_agn/LOG/LOG.index\",\n",
    "    userName = \"user\",\n",
    "    sourceName = \"aitoff-tutorial\",\n",
    "    tmin = 55513.0,\n",
    "    tmax = 55520.0,\n",
    "    timetype = \"MJD\",\n",
    "    glon = 0,\n",
    "    glat = 0,\n",
    "    outputDir = \"$HOME/agilepy_analysis\",\n",
    "    verboselvl = 0,\n",
    "    userestapi=False\n",
    ")"
   ],
   "outputs": [],
   "metadata": {}
  },
  {
   "cell_type": "markdown",
   "source": [
    "## Obtaining the AGAnalysis object"
   ],
   "metadata": {}
  },
  {
   "cell_type": "code",
   "execution_count": null,
   "source": [
    "ag = AGAnalysis(\"$HOME/agilepy_conf.yaml\")"
   ],
   "outputs": [],
   "metadata": {}
  },
  {
   "cell_type": "markdown",
   "source": [
    "# Aitoff configurations and display"
   ],
   "metadata": {}
  },
  {
   "cell_type": "code",
   "execution_count": null,
   "source": [
    "ag.setOptions(proj=\"AIT\", fovradmax=60, albedorad=80, dq=0)"
   ],
   "outputs": [],
   "metadata": {}
  },
  {
   "cell_type": "code",
   "execution_count": null,
   "source": [
    "ag.setOptions(binsize=0.5, expstep=2, mapsize=360)"
   ],
   "outputs": [],
   "metadata": {}
  },
  {
   "cell_type": "code",
   "execution_count": null,
   "source": [
    "ag.printOptions()"
   ],
   "outputs": [],
   "metadata": {}
  },
  {
   "cell_type": "code",
   "execution_count": null,
   "source": [
    "maplistfile = ag.generateMaps()"
   ],
   "outputs": [],
   "metadata": {}
  },
  {
   "cell_type": "code",
   "execution_count": null,
   "source": [
    "ag.displayCtsSkyMaps(smooth=2, normType=\"sqrt\")"
   ],
   "outputs": [],
   "metadata": {
    "scrolled": false
   }
  },
  {
   "cell_type": "code",
   "execution_count": null,
   "source": [
    "ag.displayExpSkyMaps()"
   ],
   "outputs": [],
   "metadata": {
    "scrolled": false
   }
  },
  {
   "cell_type": "code",
   "execution_count": null,
   "source": [],
   "outputs": [],
   "metadata": {}
  }
 ],
 "metadata": {
  "kernelspec": {
   "name": "python3",
   "display_name": "Python 3.7.6 64-bit ('agilepydev': conda)"
  },
  "language_info": {
   "codemirror_mode": {
    "name": "ipython",
    "version": 3
   },
   "file_extension": ".py",
   "mimetype": "text/x-python",
   "name": "python",
   "nbconvert_exporter": "python",
   "pygments_lexer": "ipython3",
   "version": "3.7.6"
  },
  "interpreter": {
   "hash": "5409c3e1903da67ab09041681933e7197a2db2605a48cadadc102950adcdd616"
  }
 },
 "nbformat": 4,
 "nbformat_minor": 4
}