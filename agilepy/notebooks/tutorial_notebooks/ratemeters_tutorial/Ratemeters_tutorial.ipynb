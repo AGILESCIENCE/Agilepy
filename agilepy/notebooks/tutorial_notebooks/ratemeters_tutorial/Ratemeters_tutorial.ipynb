{
 "cells": [
  {
   "cell_type": "markdown",
   "id": "9e46ffd5",
   "metadata": {},
   "source": [
    "# Analysis of the AGILE Scientific Ratemeters\n",
    "The AGILE Scientific Ratemeter files contain the photon counts recorded by every AGILE instrument:\n",
    "- The Gamma-Ray Imaging Detector (GRID), with photon energy >50 MeV.\n",
    "- The Mini-Calorimeter (MCAL), energy band [0.4 - 100] MeV.\n",
    "- The SuperAGILE (SA), energy band [18 - 60] keV.\n",
    "- The 5 panels of the Anti-Coincidence System:\n",
    "    - The Top panel (AC0), energy band [50 - 200] keV.\n",
    "    - The 4 lateral panels (AC1, AC2, AC3, AC4), energy band [80 - 200] keV.\n",
    "\n",
    "The counts recorded are integrated in the energy range of the detector and in time bins of fixed width of 1.024 s, with the exception of the SuperAGILE ratemeters which use bins of 0.512 s.\n",
    "\n",
    "The ratemeter files (the so-called \"3913\" files) are provided in a compressed FITS Format optimized for data download from the satellite.\n",
    "One file was produced for every satellite contact.\n",
    "\n",
    "`Agilepy` implements a `AGRatemeters` class that reads the ratemeters files and extract the Ratemeters Light Curves.\n",
    "The Light Curves can be used to check for transient phenomena, and if the Burst Onest Time (`T0`) of a Burst is provided, the significance and duration of the Burst can be estimated.\n",
    "\n",
    "The Analysis of the Scientific Ratemeters follows these general steps:\n",
    "1. Prepare a `YAML` configuration file for `AGRatemeters`. You can do it manually or by using `AGRatemeters.getConfiguration()`.\n",
    "2. Define a `AGRatemeters` object, and read the 3913 file with `AGRatemeters.readRatemeters()`.\n",
    "3. You can plot the Light Curve with the `AGRatemeters.plotRatemeters()` function, perform a simple Aperture Photometry analysis with `AGRatemeters.analyseSignal()`, perform a basic estimation of the burst duration with `AGRatemeters.estimateDuration()`.\n",
    "\n",
    "In this notebook, we show examples for two GRBs.\n",
    "\n",
    "Note: each instrument is pointed in a different direction.\n",
    "In particular, AC4 is always pointed towards the Sun."
   ]
  },
  {
   "cell_type": "code",
   "execution_count": null,
   "id": "504eafad",
   "metadata": {},
   "outputs": [],
   "source": [
    "# Import the relevant classes\n",
    "import agilepy\n",
    "\n",
    "from agilepy.api.AGRatemeters import AGRatemeters"
   ]
  },
  {
   "cell_type": "markdown",
   "id": "2f4de2a5",
   "metadata": {},
   "source": [
    "## Example 1: GRB 221028A"
   ]
  },
  {
   "cell_type": "code",
   "execution_count": null,
   "id": "0f04327f",
   "metadata": {},
   "outputs": [],
   "source": [
    "# Prepare the YAML Configuration File.\n",
    "# You can create it manually or use AGRatemeters.getConfiguration()\n",
    "\n",
    "outputDir1    = \"/home/flareadvocate/workspace/shared_dir/\"\n",
    "confFilePath1 = \"/home/flareadvocate/workspace/shared_dir/tutorial_rm_GRB221018A.yaml\"\n",
    "\n",
    "AGRatemeters.getConfiguration(\n",
    "    confFilePath=confFilePath1,\n",
    "    outputDir=outputDir1,\n",
    "    userName=\"my-name\",\n",
    "    sourceName=\"rm-source\",\n",
    "    verboselvl=0,\n",
    "    filePath=\"$AGILE/agilepy-test-data/ratemeters/PKP080686_1_3913_000.lv1.cor.gz\",\n",
    "    timetype=\"isot\",\n",
    "    T0=\"2022-10-28T13:16:27\",\n",
    "    background_tmin=-50.0,\n",
    "    background_tmax=-20.0,\n",
    "    signal_tmin=-1.0,\n",
    "    signal_tmax=3.0\n",
    "    )"
   ]
  },
  {
   "cell_type": "markdown",
   "id": "5bde8073",
   "metadata": {},
   "source": [
    "The `YAML` file has the following sections and field:\n",
    "- `output`: common to all `agilepy` classes, sets the output fields.\n",
    "- `selection`: includes one argument used to read the data:\n",
    "    - `filePath`: path to the input file.\n",
    "- `analysis`: includes arguments for plots and further analyses:\n",
    "    - `timetype` and `T0`: Format and value of the Burst Oneset Time. It can be `TT` or `OBT` for AGILE seconds (TT seconds since `2004-01-01 00:00:00.000`), or a format acknowledged by the `astropy.time.Time` class. `T0` will be converted in AGILE seconds and used as reference time for plots and analyses.\n",
    "    - `background_tmin` and `background_tmax`: time range used for evaluation of the background, in seconds with respect to `T0`.\n",
    "    - `signal_tmin` and `signal_tmax`: time range used for evaluation of the signal, in seconds with respect to `T0`."
   ]
  },
  {
   "cell_type": "code",
   "execution_count": null,
   "id": "0fd5316e",
   "metadata": {},
   "outputs": [],
   "source": [
    "# Create the AGRatemeters object\n",
    "ag_rm1 = AGRatemeters(confFilePath1)"
   ]
  },
  {
   "cell_type": "code",
   "execution_count": null,
   "id": "0015c4e2",
   "metadata": {},
   "outputs": [],
   "source": [
    "# You can Use the setOptions() method to change the configuration, e.g.:\n",
    "ag_rm1.setOptions(background_tmin=-50.0, background_tmax=-10.0)\n",
    "\n",
    "# Check configuration.\n",
    "ag_rm1.printOptions()"
   ]
  },
  {
   "cell_type": "markdown",
   "id": "e4d82dcd",
   "metadata": {},
   "source": [
    "Read the Ratemeters with `AGRatemeters.readRatemeters(writeFiles)`.\n",
    "Optional aguments are:\n",
    "- `filePath`: if `None` (default), it will be read from the configuration. Otherwise, the function will read the file from the path provided explicitly.\n",
    "- `writeFiles`: if `True` (default), write the Light Curves as `.txt` files.\n",
    "\n",
    "The method will return a dictionary of tables, one per instrument, with the ratemeter Light Curve.\n",
    "They can be accessed using the instrument name as a key.\n",
    "The tables can also be accessed via the `AGRatemeters.ratemetersTables` property.\n",
    "\n",
    "Each Table has 3 columns:\n",
    "- `OBT`: detection time in AGILE seconds\n",
    "- `COUNTS`: counts measured\n",
    "- `COUNTS_D`: counts de-trended with a FFT algorithm to remove background modulation due to the orbital motion and spinning of the satellite."
   ]
  },
  {
   "cell_type": "code",
   "execution_count": null,
   "id": "d00dce96",
   "metadata": {},
   "outputs": [],
   "source": [
    "# Read the ratemeter file\n",
    "ratemeters_tables = ag_rm1.readRatemeters()"
   ]
  },
  {
   "cell_type": "code",
   "execution_count": null,
   "id": "e2f77e5b",
   "metadata": {},
   "outputs": [],
   "source": [
    "# The Light Curves are stored in Tables, and can be accessed via Dictionary\n",
    "print(ratemeters_tables.keys())\n",
    "\n",
    "# E.g. access the AC Top table\n",
    "display(ratemeters_tables['AC0'])\n",
    "\n",
    "# The Dictionary can be accessed also via property\n",
    "display(ag_rm1.ratemetersTables['MCAL'])"
   ]
  },
  {
   "cell_type": "markdown",
   "id": "e594dfce",
   "metadata": {},
   "source": [
    "Plot the Ratemeters with `AGRatemeters.plotRatemeters()`.\n",
    "The function has the following arguments:\n",
    "- `plotRange`: time limits of the plot in seconds with respect to `T0`.\n",
    "- `useDetrendedData`: if `True`, use the De-trended counts, if `False` the raw counts.\n",
    "- `plotInstruments`: list of instruments to plot in asingle plot. Possible values are \"AC0\",\"AC1\",\"AC2\",\"AC3\",\"AC4\",\"MCAL\",\"GRID\",\"SA\".\n",
    "    - Additionally, including \"2RM\" in the list will make a separate plot with AC0 and MCAL. \"3RM\" will make a separate plot with AC0, MCAL, SA. \"8RM\" will make a separate plot with all the ratemeters."
   ]
  },
  {
   "cell_type": "code",
   "execution_count": null,
   "id": "3ca710c8",
   "metadata": {},
   "outputs": [],
   "source": [
    "# Plot the Ratemeters\n",
    "plots = ag_rm1.plotRatemeters(plotRange=(-100,100), useDetrendedData=True, plotInstruments=[\"3RM\",\"GRID\",\"AC4\"])\n",
    "# This combination will produce two plots:\n",
    "# the \"3RM\" (SA, AC0, MCAL) + one with the instruments lsited explicitly (AC0, MCAL)\n",
    "\n",
    "# It returns the List of Plots saved.\n",
    "print(plots)"
   ]
  },
  {
   "cell_type": "code",
   "execution_count": null,
   "id": "c48610d9",
   "metadata": {},
   "outputs": [],
   "source": [
    "# The Raw Data can show the Orbital Modulation of the Background of each detector\n",
    "# Due to the satellite motion and spinning\n",
    "plots = ag_rm1.plotRatemeters(plotRange=(-200,200), useDetrendedData=False, plotInstruments=[\"2RM\"])\n",
    "\n",
    "# List of Plots\n",
    "print(plots)"
   ]
  },
  {
   "cell_type": "markdown",
   "id": "6dd705d3",
   "metadata": {},
   "source": [
    "A simple Aperture photometry analysis can be performed with `AGRatemeters.analyseSignal()`\n",
    "Optional arguments (with default values shown) are:\n",
    "- `backgroundRange=(None,None)`: Time Range for Background Estimation. If `None`, they are read from the configuration. \n",
    "- `signalRange=(None,None)`: Time Range for Signal Estimation. If `None`, they are read from the configuration.\n",
    "- `useDetrendedData=True`: boolean flag for the de-trended data.\n",
    "\n",
    "The method returns a table with the number of counts recorded in the Signal and Background intervals (ON and OFF), the duration of the intervals (which are always multiples of 0.512s for SuperAGILE and 1.024s for the other detectors), the estimation of the Background Rate in cts/s and the Li&Ma Significance."
   ]
  },
  {
   "cell_type": "code",
   "execution_count": null,
   "id": "05ad0e0b",
   "metadata": {},
   "outputs": [],
   "source": [
    "results = ag_rm1.analyseSignal(backgroundRange=(-20,-15), signalRange=(-1,3), useDetrendedData=True)\n",
    "display(results)"
   ]
  },
  {
   "cell_type": "markdown",
   "id": "6634cef5",
   "metadata": {},
   "source": [
    "A simple estimation of the Duration of the Burst can be performed with `AGRatemeters.estimateDuration()`.\n",
    "Its arguments are (with default values shown) are:\n",
    "- `dataRange`: Time Range for the Plot. Must include Background and Signal.\n",
    "- `backgroundRange=(None,None)`: Time Range for Background Estimation. If `None`, they are read from the configuration. \n",
    "- `signalRange=(None,None)`: Time Range for Signal Estimation. If `None`, they are read from the configuration.\n",
    "- `useDetrendedData=True`: boolean flag for the de-trended data.\n",
    "- `plotDuration`: If `True`, plot the Differential and Cumulative, Background-subtracted Light Curves.\n",
    "\n",
    "The plot include the Background-subtracted, differential and Cumulative Light Curves of SA, MCAL, AC0 (if activated).\n",
    "The red (blue) bands identify the background (signal) range, and the green lines the region where the signal is significantly rising."
   ]
  },
  {
   "cell_type": "code",
   "execution_count": null,
   "id": "f322bc60",
   "metadata": {
    "scrolled": false
   },
   "outputs": [],
   "source": [
    "results, plot = ag_rm1.estimateDuration(dataRange=(-50,50),backgroundRange=(-50,-10),signalRange=(-1,3),useDetrendedData=False)\n",
    "\n",
    "# The result is a dictionary for every instrument.\n",
    "# For every instrument, the arrays of counts are recorded, and also an estimate of the duration\n",
    "results_mcal = results['MCAL']\n",
    "print(results_mcal.keys())\n",
    "print(f\"Burst duration estimated from MCAL: {results_mcal['duration']:.4g}s\")\n",
    "results_ac0 = results['AC0']\n",
    "print(f\"Burst duration estimated from AC0: {results_ac0['duration']:.4g}s\")\n",
    "\n",
    "# Path of the saved Image\n",
    "print(plot)"
   ]
  },
  {
   "cell_type": "markdown",
   "id": "b4e6a5c5",
   "metadata": {},
   "source": [
    "## Example: GRB 231129C"
   ]
  },
  {
   "cell_type": "code",
   "execution_count": null,
   "id": "7424ba3a",
   "metadata": {},
   "outputs": [],
   "source": [
    "# Configuration\n",
    "outputDir2    = \"/home/flareadvocate/workspace/shared_dir/\"\n",
    "confFilePath2 = \"/home/flareadvocate/workspace/shared_dir/tutorial_rm_GRB231129C.yaml\"\n",
    "\n",
    "AGRatemeters.getConfiguration(\n",
    "    confFilePath=confFilePath2,\n",
    "    outputDir=outputDir2,\n",
    "    userName=\"my-name\",\n",
    "    sourceName=\"rm-source\",\n",
    "    verboselvl=0,\n",
    "    filePath=\"$AGILE/agilepy-test-data/ratemeters/PKP086465_1_3913_000.lv1.cor.gz\",\n",
    "    timetype=\"isot\",\n",
    "    T0=\"2023-11-29T19:10:18\",\n",
    "    background_tmin=-50.0,\n",
    "    background_tmax=-25.0,\n",
    "    signal_tmin=-2.0,\n",
    "    signal_tmax=10.0\n",
    "    )"
   ]
  },
  {
   "cell_type": "code",
   "execution_count": null,
   "id": "473fdf61",
   "metadata": {},
   "outputs": [],
   "source": [
    "# Create the AGRatemeters object\n",
    "ag_rm2 = AGRatemeters(confFilePath2)\n",
    "\n",
    "# Check Options\n",
    "ag_rm2.printOptions()"
   ]
  },
  {
   "cell_type": "code",
   "execution_count": null,
   "id": "b2809d73",
   "metadata": {},
   "outputs": [],
   "source": [
    "# Read ratemeters\n",
    "ratemeters = ag_rm2.readRatemeters()"
   ]
  },
  {
   "cell_type": "code",
   "execution_count": null,
   "id": "2fc0f7b5",
   "metadata": {},
   "outputs": [],
   "source": [
    "# Plot Light Curves\n",
    "plots = ag_rm2.plotRatemeters(plotRange=(-60,60), useDetrendedData=True, plotInstruments=[\"2RM\"])\n",
    "print(plots)"
   ]
  },
  {
   "cell_type": "code",
   "execution_count": null,
   "id": "562768b2",
   "metadata": {},
   "outputs": [],
   "source": [
    "# Aperture Photometry\n",
    "results = ag_rm2.analyseSignal(useDetrendedData=True)\n",
    "display(results)"
   ]
  },
  {
   "cell_type": "code",
   "execution_count": null,
   "id": "b6312d8a",
   "metadata": {},
   "outputs": [],
   "source": [
    "# Estimate Duration\n",
    "resultag_rm2.estimateDuration(dataRange=(-60,60), useDetrendedData=False)"
   ]
  },
  {
   "cell_type": "code",
   "execution_count": null,
   "id": "277881a0",
   "metadata": {},
   "outputs": [],
   "source": []
  }
 ],
 "metadata": {
  "kernelspec": {
   "display_name": "Python 3 (ipykernel)",
   "language": "python",
   "name": "python3"
  },
  "language_info": {
   "codemirror_mode": {
    "name": "ipython",
    "version": 3
   },
   "file_extension": ".py",
   "mimetype": "text/x-python",
   "name": "python",
   "nbconvert_exporter": "python",
   "pygments_lexer": "ipython3",
   "version": "3.8.13"
  }
 },
 "nbformat": 4,
 "nbformat_minor": 5
}
